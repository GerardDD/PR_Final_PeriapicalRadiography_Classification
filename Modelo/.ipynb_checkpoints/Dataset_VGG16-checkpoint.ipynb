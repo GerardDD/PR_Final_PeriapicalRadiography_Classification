{
 "cells": [
  {
   "cell_type": "code",
   "execution_count": 1,
   "id": "add92489",
   "metadata": {},
   "outputs": [],
   "source": [
    "import pickle\n",
    "import pandas as pd\n",
    "import numpy as np"
   ]
  },
  {
   "cell_type": "markdown",
   "id": "5a19822e",
   "metadata": {},
   "source": [
    "- Loading the serialized pretrained array with pickle"
   ]
  },
  {
   "cell_type": "code",
   "execution_count": 12,
   "id": "59d5251a",
   "metadata": {},
   "outputs": [],
   "source": [
    "con_imagen_arr = pickle.load(open('../Image_preprocessing/sin_imagen_pickle.txt','rb'))"
   ]
  },
  {
   "cell_type": "code",
   "execution_count": 13,
   "id": "c68ff645",
   "metadata": {},
   "outputs": [
    {
     "data": {
      "text/plain": [
       "list"
      ]
     },
     "execution_count": 13,
     "metadata": {},
     "output_type": "execute_result"
    }
   ],
   "source": [
    "type(con_imagen_arr)"
   ]
  },
  {
   "cell_type": "code",
   "execution_count": 18,
   "id": "986a0362",
   "metadata": {},
   "outputs": [
    {
     "data": {
      "text/plain": [
       "1000"
      ]
     },
     "execution_count": 18,
     "metadata": {},
     "output_type": "execute_result"
    }
   ],
   "source": [
    "len(con_imagen_arr[0][0])"
   ]
  },
  {
   "cell_type": "code",
   "execution_count": 25,
   "id": "a6943175",
   "metadata": {},
   "outputs": [
    {
     "data": {
      "text/plain": [
       "137"
      ]
     },
     "execution_count": 25,
     "metadata": {},
     "output_type": "execute_result"
    }
   ],
   "source": [
    "len(con_imagen_arr)"
   ]
  },
  {
   "cell_type": "markdown",
   "id": "e34b133e",
   "metadata": {},
   "source": [
    "- Create an empty dataframe with the right shape"
   ]
  },
  {
   "cell_type": "code",
   "execution_count": 36,
   "id": "4d0c8dac",
   "metadata": {},
   "outputs": [],
   "source": [
    "df = pd.DataFrame(\n",
    "    columns= range(0,len(con_imagen_arr[0][0])),\n",
    "    index= range(0,len(con_imagen_arr)))"
   ]
  },
  {
   "cell_type": "markdown",
   "id": "bb557ea3",
   "metadata": {},
   "source": [
    "- Fill it with the correspondant values "
   ]
  },
  {
   "cell_type": "code",
   "execution_count": 39,
   "id": "3bb69284",
   "metadata": {},
   "outputs": [],
   "source": [
    "pos = -1\n",
    "for i in con_imagen_arr:\n",
    "    for j in i:\n",
    "        col = 0\n",
    "        pos += 1\n",
    "        for z in j:\n",
    "            df.iloc[pos,col] = z\n",
    "            col += 1 "
   ]
  },
  {
   "cell_type": "code",
   "execution_count": 41,
   "id": "9861526a",
   "metadata": {},
   "outputs": [
    {
     "data": {
      "text/html": [
       "<div>\n",
       "<style scoped>\n",
       "    .dataframe tbody tr th:only-of-type {\n",
       "        vertical-align: middle;\n",
       "    }\n",
       "\n",
       "    .dataframe tbody tr th {\n",
       "        vertical-align: top;\n",
       "    }\n",
       "\n",
       "    .dataframe thead th {\n",
       "        text-align: right;\n",
       "    }\n",
       "</style>\n",
       "<table border=\"1\" class=\"dataframe\">\n",
       "  <thead>\n",
       "    <tr style=\"text-align: right;\">\n",
       "      <th></th>\n",
       "      <th>0</th>\n",
       "      <th>1</th>\n",
       "      <th>2</th>\n",
       "      <th>3</th>\n",
       "      <th>4</th>\n",
       "      <th>5</th>\n",
       "      <th>6</th>\n",
       "      <th>7</th>\n",
       "      <th>8</th>\n",
       "      <th>9</th>\n",
       "      <th>...</th>\n",
       "      <th>990</th>\n",
       "      <th>991</th>\n",
       "      <th>992</th>\n",
       "      <th>993</th>\n",
       "      <th>994</th>\n",
       "      <th>995</th>\n",
       "      <th>996</th>\n",
       "      <th>997</th>\n",
       "      <th>998</th>\n",
       "      <th>999</th>\n",
       "    </tr>\n",
       "  </thead>\n",
       "  <tbody>\n",
       "    <tr>\n",
       "      <th>132</th>\n",
       "      <td>2.22749e-06</td>\n",
       "      <td>9.23475e-06</td>\n",
       "      <td>3.03104e-06</td>\n",
       "      <td>3.51329e-06</td>\n",
       "      <td>7.04486e-05</td>\n",
       "      <td>6.70935e-06</td>\n",
       "      <td>1.64664e-06</td>\n",
       "      <td>9.74887e-06</td>\n",
       "      <td>4.69414e-06</td>\n",
       "      <td>2.724e-06</td>\n",
       "      <td>...</td>\n",
       "      <td>9.23232e-05</td>\n",
       "      <td>3.54687e-05</td>\n",
       "      <td>2.61628e-05</td>\n",
       "      <td>2.55689e-05</td>\n",
       "      <td>2.33466e-06</td>\n",
       "      <td>1.34557e-05</td>\n",
       "      <td>3.75104e-05</td>\n",
       "      <td>6.82913e-05</td>\n",
       "      <td>0.000152048</td>\n",
       "      <td>0.00423992</td>\n",
       "    </tr>\n",
       "    <tr>\n",
       "      <th>133</th>\n",
       "      <td>1.57043e-06</td>\n",
       "      <td>6.12419e-06</td>\n",
       "      <td>5.04084e-05</td>\n",
       "      <td>6.74646e-05</td>\n",
       "      <td>0.000184612</td>\n",
       "      <td>4.36904e-05</td>\n",
       "      <td>4.03727e-05</td>\n",
       "      <td>6.82969e-06</td>\n",
       "      <td>1.85772e-06</td>\n",
       "      <td>3.07638e-06</td>\n",
       "      <td>...</td>\n",
       "      <td>5.94528e-05</td>\n",
       "      <td>1.05382e-05</td>\n",
       "      <td>8.1238e-07</td>\n",
       "      <td>3.19288e-06</td>\n",
       "      <td>5.86627e-07</td>\n",
       "      <td>4.4224e-05</td>\n",
       "      <td>1.45065e-05</td>\n",
       "      <td>1.72947e-06</td>\n",
       "      <td>8.02672e-05</td>\n",
       "      <td>0.0153109</td>\n",
       "    </tr>\n",
       "    <tr>\n",
       "      <th>134</th>\n",
       "      <td>7.85128e-06</td>\n",
       "      <td>2.19827e-05</td>\n",
       "      <td>0.00010525</td>\n",
       "      <td>9.96328e-05</td>\n",
       "      <td>0.00031406</td>\n",
       "      <td>2.55351e-05</td>\n",
       "      <td>1.34386e-05</td>\n",
       "      <td>1.62882e-05</td>\n",
       "      <td>3.88615e-06</td>\n",
       "      <td>4.66133e-06</td>\n",
       "      <td>...</td>\n",
       "      <td>4.07781e-05</td>\n",
       "      <td>2.66251e-05</td>\n",
       "      <td>4.84803e-06</td>\n",
       "      <td>2.75066e-06</td>\n",
       "      <td>8.70553e-06</td>\n",
       "      <td>9.00733e-05</td>\n",
       "      <td>3.16406e-05</td>\n",
       "      <td>3.50219e-06</td>\n",
       "      <td>0.000139648</td>\n",
       "      <td>0.110339</td>\n",
       "    </tr>\n",
       "    <tr>\n",
       "      <th>135</th>\n",
       "      <td>7.00627e-06</td>\n",
       "      <td>3.99964e-05</td>\n",
       "      <td>9.4061e-05</td>\n",
       "      <td>8.96223e-05</td>\n",
       "      <td>0.000488085</td>\n",
       "      <td>6.51018e-05</td>\n",
       "      <td>3.9315e-05</td>\n",
       "      <td>9.98564e-05</td>\n",
       "      <td>2.56053e-05</td>\n",
       "      <td>3.39159e-05</td>\n",
       "      <td>...</td>\n",
       "      <td>2.12055e-05</td>\n",
       "      <td>0.000803646</td>\n",
       "      <td>6.54e-05</td>\n",
       "      <td>7.08151e-05</td>\n",
       "      <td>1.9545e-05</td>\n",
       "      <td>0.000124708</td>\n",
       "      <td>7.70214e-05</td>\n",
       "      <td>2.48256e-05</td>\n",
       "      <td>0.000611012</td>\n",
       "      <td>0.00167322</td>\n",
       "    </tr>\n",
       "    <tr>\n",
       "      <th>136</th>\n",
       "      <td>3.44514e-06</td>\n",
       "      <td>2.42358e-05</td>\n",
       "      <td>2.11264e-06</td>\n",
       "      <td>3.80529e-06</td>\n",
       "      <td>2.17266e-05</td>\n",
       "      <td>1.55879e-05</td>\n",
       "      <td>2.5726e-05</td>\n",
       "      <td>8.29498e-06</td>\n",
       "      <td>8.09476e-06</td>\n",
       "      <td>4.62476e-06</td>\n",
       "      <td>...</td>\n",
       "      <td>0.000700162</td>\n",
       "      <td>5.56676e-06</td>\n",
       "      <td>1.63588e-05</td>\n",
       "      <td>5.85391e-06</td>\n",
       "      <td>2.51435e-06</td>\n",
       "      <td>1.28169e-05</td>\n",
       "      <td>5.96037e-06</td>\n",
       "      <td>1.85783e-05</td>\n",
       "      <td>5.25219e-05</td>\n",
       "      <td>0.0657565</td>\n",
       "    </tr>\n",
       "  </tbody>\n",
       "</table>\n",
       "<p>5 rows × 1000 columns</p>\n",
       "</div>"
      ],
      "text/plain": [
       "             0            1            2            3            4    \\\n",
       "132  2.22749e-06  9.23475e-06  3.03104e-06  3.51329e-06  7.04486e-05   \n",
       "133  1.57043e-06  6.12419e-06  5.04084e-05  6.74646e-05  0.000184612   \n",
       "134  7.85128e-06  2.19827e-05   0.00010525  9.96328e-05   0.00031406   \n",
       "135  7.00627e-06  3.99964e-05   9.4061e-05  8.96223e-05  0.000488085   \n",
       "136  3.44514e-06  2.42358e-05  2.11264e-06  3.80529e-06  2.17266e-05   \n",
       "\n",
       "             5            6            7            8            9    ...  \\\n",
       "132  6.70935e-06  1.64664e-06  9.74887e-06  4.69414e-06    2.724e-06  ...   \n",
       "133  4.36904e-05  4.03727e-05  6.82969e-06  1.85772e-06  3.07638e-06  ...   \n",
       "134  2.55351e-05  1.34386e-05  1.62882e-05  3.88615e-06  4.66133e-06  ...   \n",
       "135  6.51018e-05   3.9315e-05  9.98564e-05  2.56053e-05  3.39159e-05  ...   \n",
       "136  1.55879e-05   2.5726e-05  8.29498e-06  8.09476e-06  4.62476e-06  ...   \n",
       "\n",
       "             990          991          992          993          994  \\\n",
       "132  9.23232e-05  3.54687e-05  2.61628e-05  2.55689e-05  2.33466e-06   \n",
       "133  5.94528e-05  1.05382e-05   8.1238e-07  3.19288e-06  5.86627e-07   \n",
       "134  4.07781e-05  2.66251e-05  4.84803e-06  2.75066e-06  8.70553e-06   \n",
       "135  2.12055e-05  0.000803646     6.54e-05  7.08151e-05   1.9545e-05   \n",
       "136  0.000700162  5.56676e-06  1.63588e-05  5.85391e-06  2.51435e-06   \n",
       "\n",
       "             995          996          997          998         999  \n",
       "132  1.34557e-05  3.75104e-05  6.82913e-05  0.000152048  0.00423992  \n",
       "133   4.4224e-05  1.45065e-05  1.72947e-06  8.02672e-05   0.0153109  \n",
       "134  9.00733e-05  3.16406e-05  3.50219e-06  0.000139648    0.110339  \n",
       "135  0.000124708  7.70214e-05  2.48256e-05  0.000611012  0.00167322  \n",
       "136  1.28169e-05  5.96037e-06  1.85783e-05  5.25219e-05   0.0657565  \n",
       "\n",
       "[5 rows x 1000 columns]"
      ]
     },
     "execution_count": 41,
     "metadata": {},
     "output_type": "execute_result"
    }
   ],
   "source": [
    "df.tail()"
   ]
  },
  {
   "cell_type": "code",
   "execution_count": null,
   "id": "20a1fdbc",
   "metadata": {},
   "outputs": [],
   "source": []
  }
 ],
 "metadata": {
  "kernelspec": {
   "display_name": "Python 3 (ipykernel)",
   "language": "python",
   "name": "python3"
  },
  "language_info": {
   "codemirror_mode": {
    "name": "ipython",
    "version": 3
   },
   "file_extension": ".py",
   "mimetype": "text/x-python",
   "name": "python",
   "nbconvert_exporter": "python",
   "pygments_lexer": "ipython3",
   "version": "3.9.7"
  }
 },
 "nbformat": 4,
 "nbformat_minor": 5
}
