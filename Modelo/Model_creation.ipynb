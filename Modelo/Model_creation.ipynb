{
 "cells": [
  {
   "cell_type": "code",
   "execution_count": 1,
   "id": "80d31a09",
   "metadata": {},
   "outputs": [
    {
     "name": "stderr",
     "output_type": "stream",
     "text": [
      "/Users/cnieto/opt/anaconda3/lib/python3.9/site-packages/sklearn/utils/deprecation.py:143: FutureWarning: The sklearn.utils.testing module is  deprecated in version 0.22 and will be removed in version 0.24. The corresponding classes / functions should instead be imported from sklearn.utils. Anything that cannot be imported from sklearn.utils is now part of the private API.\n",
      "  warnings.warn(message, FutureWarning)\n"
     ]
    }
   ],
   "source": [
    "import pandas as pd\n",
    "import numpy as np\n",
    "from sklearn.model_selection import train_test_split\n",
    "from sklearn.linear_model import LogisticRegression\n",
    "from sklearn.naive_bayes import GaussianNB\n",
    "from sklearn.metrics import confusion_matrix, classification_report\n",
    "from lazypredict.Supervised import LazyClassifier\n",
    "from sklearn.svm import NuSVC\n",
    "from sklearn.ensemble import ExtraTreesClassifier, RandomForestClassifier\n",
    "from sklearn.neighbors import NearestCentroid\n",
    "import category_encoders as ce\n",
    "from sklearn.metrics import auc, roc_curve\n",
    "import matplotlib.pyplot as plt"
   ]
  },
  {
   "cell_type": "code",
   "execution_count": 2,
   "id": "f2db473f",
   "metadata": {},
   "outputs": [],
   "source": [
    "df = pd.read_csv('dataset_final.csv')"
   ]
  },
  {
   "cell_type": "code",
   "execution_count": 3,
   "id": "e6021fb5",
   "metadata": {},
   "outputs": [],
   "source": [
    "model_collection = []"
   ]
  },
  {
   "cell_type": "code",
   "execution_count": 4,
   "id": "63d3fb11",
   "metadata": {},
   "outputs": [
    {
     "data": {
      "text/html": [
       "<div>\n",
       "<style scoped>\n",
       "    .dataframe tbody tr th:only-of-type {\n",
       "        vertical-align: middle;\n",
       "    }\n",
       "\n",
       "    .dataframe tbody tr th {\n",
       "        vertical-align: top;\n",
       "    }\n",
       "\n",
       "    .dataframe thead th {\n",
       "        text-align: right;\n",
       "    }\n",
       "</style>\n",
       "<table border=\"1\" class=\"dataframe\">\n",
       "  <thead>\n",
       "    <tr style=\"text-align: right;\">\n",
       "      <th></th>\n",
       "      <th>Unnamed: 0</th>\n",
       "      <th>0</th>\n",
       "      <th>1</th>\n",
       "      <th>2</th>\n",
       "      <th>3</th>\n",
       "      <th>4</th>\n",
       "      <th>5</th>\n",
       "      <th>6</th>\n",
       "      <th>7</th>\n",
       "      <th>8</th>\n",
       "      <th>...</th>\n",
       "      <th>991</th>\n",
       "      <th>992</th>\n",
       "      <th>993</th>\n",
       "      <th>994</th>\n",
       "      <th>995</th>\n",
       "      <th>996</th>\n",
       "      <th>997</th>\n",
       "      <th>998</th>\n",
       "      <th>999</th>\n",
       "      <th>Target</th>\n",
       "    </tr>\n",
       "  </thead>\n",
       "  <tbody>\n",
       "    <tr>\n",
       "      <th>0</th>\n",
       "      <td>0</td>\n",
       "      <td>0.00</td>\n",
       "      <td>0.00</td>\n",
       "      <td>0.00</td>\n",
       "      <td>0.00</td>\n",
       "      <td>0.00</td>\n",
       "      <td>0.00</td>\n",
       "      <td>0.00</td>\n",
       "      <td>0.00</td>\n",
       "      <td>0.00</td>\n",
       "      <td>...</td>\n",
       "      <td>0.00</td>\n",
       "      <td>0.00</td>\n",
       "      <td>0.00</td>\n",
       "      <td>0.00</td>\n",
       "      <td>0.00</td>\n",
       "      <td>0.00</td>\n",
       "      <td>0.00</td>\n",
       "      <td>0.00</td>\n",
       "      <td>0.01</td>\n",
       "      <td>0</td>\n",
       "    </tr>\n",
       "    <tr>\n",
       "      <th>1</th>\n",
       "      <td>1</td>\n",
       "      <td>0.00</td>\n",
       "      <td>0.00</td>\n",
       "      <td>0.00</td>\n",
       "      <td>0.00</td>\n",
       "      <td>0.00</td>\n",
       "      <td>0.00</td>\n",
       "      <td>0.00</td>\n",
       "      <td>0.00</td>\n",
       "      <td>0.00</td>\n",
       "      <td>...</td>\n",
       "      <td>0.00</td>\n",
       "      <td>0.00</td>\n",
       "      <td>0.00</td>\n",
       "      <td>0.00</td>\n",
       "      <td>0.00</td>\n",
       "      <td>0.00</td>\n",
       "      <td>0.00</td>\n",
       "      <td>0.00</td>\n",
       "      <td>0.00</td>\n",
       "      <td>0</td>\n",
       "    </tr>\n",
       "    <tr>\n",
       "      <th>2</th>\n",
       "      <td>2</td>\n",
       "      <td>0.00</td>\n",
       "      <td>0.00</td>\n",
       "      <td>0.00</td>\n",
       "      <td>0.00</td>\n",
       "      <td>0.00</td>\n",
       "      <td>0.00</td>\n",
       "      <td>0.00</td>\n",
       "      <td>0.00</td>\n",
       "      <td>0.00</td>\n",
       "      <td>...</td>\n",
       "      <td>0.03</td>\n",
       "      <td>0.00</td>\n",
       "      <td>0.00</td>\n",
       "      <td>0.00</td>\n",
       "      <td>0.00</td>\n",
       "      <td>0.00</td>\n",
       "      <td>0.00</td>\n",
       "      <td>0.00</td>\n",
       "      <td>0.00</td>\n",
       "      <td>0</td>\n",
       "    </tr>\n",
       "    <tr>\n",
       "      <th>3</th>\n",
       "      <td>3</td>\n",
       "      <td>0.00</td>\n",
       "      <td>0.00</td>\n",
       "      <td>0.00</td>\n",
       "      <td>0.00</td>\n",
       "      <td>0.00</td>\n",
       "      <td>0.00</td>\n",
       "      <td>0.00</td>\n",
       "      <td>0.00</td>\n",
       "      <td>0.00</td>\n",
       "      <td>...</td>\n",
       "      <td>0.00</td>\n",
       "      <td>0.00</td>\n",
       "      <td>0.00</td>\n",
       "      <td>0.00</td>\n",
       "      <td>0.00</td>\n",
       "      <td>0.00</td>\n",
       "      <td>0.00</td>\n",
       "      <td>0.00</td>\n",
       "      <td>0.03</td>\n",
       "      <td>0</td>\n",
       "    </tr>\n",
       "    <tr>\n",
       "      <th>4</th>\n",
       "      <td>4</td>\n",
       "      <td>0.00</td>\n",
       "      <td>0.00</td>\n",
       "      <td>0.00</td>\n",
       "      <td>0.00</td>\n",
       "      <td>0.00</td>\n",
       "      <td>0.00</td>\n",
       "      <td>0.00</td>\n",
       "      <td>0.00</td>\n",
       "      <td>0.00</td>\n",
       "      <td>...</td>\n",
       "      <td>0.00</td>\n",
       "      <td>0.00</td>\n",
       "      <td>0.00</td>\n",
       "      <td>0.00</td>\n",
       "      <td>0.00</td>\n",
       "      <td>0.00</td>\n",
       "      <td>0.00</td>\n",
       "      <td>0.00</td>\n",
       "      <td>0.00</td>\n",
       "      <td>0</td>\n",
       "    </tr>\n",
       "  </tbody>\n",
       "</table>\n",
       "<p>5 rows × 1002 columns</p>\n",
       "</div>"
      ],
      "text/plain": [
       "   Unnamed: 0    0    1    2    3    4    5    6    7    8  ...  991  992  \\\n",
       "0           0 0.00 0.00 0.00 0.00 0.00 0.00 0.00 0.00 0.00  ... 0.00 0.00   \n",
       "1           1 0.00 0.00 0.00 0.00 0.00 0.00 0.00 0.00 0.00  ... 0.00 0.00   \n",
       "2           2 0.00 0.00 0.00 0.00 0.00 0.00 0.00 0.00 0.00  ... 0.03 0.00   \n",
       "3           3 0.00 0.00 0.00 0.00 0.00 0.00 0.00 0.00 0.00  ... 0.00 0.00   \n",
       "4           4 0.00 0.00 0.00 0.00 0.00 0.00 0.00 0.00 0.00  ... 0.00 0.00   \n",
       "\n",
       "   993  994  995  996  997  998  999  Target  \n",
       "0 0.00 0.00 0.00 0.00 0.00 0.00 0.01       0  \n",
       "1 0.00 0.00 0.00 0.00 0.00 0.00 0.00       0  \n",
       "2 0.00 0.00 0.00 0.00 0.00 0.00 0.00       0  \n",
       "3 0.00 0.00 0.00 0.00 0.00 0.00 0.03       0  \n",
       "4 0.00 0.00 0.00 0.00 0.00 0.00 0.00       0  \n",
       "\n",
       "[5 rows x 1002 columns]"
      ]
     },
     "execution_count": 4,
     "metadata": {},
     "output_type": "execute_result"
    }
   ],
   "source": [
    "df.head()"
   ]
  },
  {
   "cell_type": "code",
   "execution_count": 5,
   "id": "2d88b5d5",
   "metadata": {},
   "outputs": [],
   "source": [
    "df.drop('Unnamed: 0',axis=1,inplace=True)"
   ]
  },
  {
   "cell_type": "code",
   "execution_count": 6,
   "id": "de48585b",
   "metadata": {},
   "outputs": [],
   "source": [
    "X = df.drop('Target',axis=1)\n",
    "y = df.Target"
   ]
  },
  {
   "cell_type": "code",
   "execution_count": 7,
   "id": "89a76deb",
   "metadata": {},
   "outputs": [],
   "source": [
    "X_train, X_test, y_train, y_test = train_test_split(X,y,test_size = 0.2)"
   ]
  },
  {
   "cell_type": "code",
   "execution_count": 8,
   "id": "26f1f06c",
   "metadata": {},
   "outputs": [],
   "source": [
    "model = LogisticRegression()"
   ]
  },
  {
   "cell_type": "code",
   "execution_count": 9,
   "id": "8825e366",
   "metadata": {},
   "outputs": [
    {
     "data": {
      "text/plain": [
       "LogisticRegression()"
      ]
     },
     "execution_count": 9,
     "metadata": {},
     "output_type": "execute_result"
    }
   ],
   "source": [
    "model.fit(X_train,y_train)"
   ]
  },
  {
   "cell_type": "code",
   "execution_count": 10,
   "id": "2eec556b",
   "metadata": {},
   "outputs": [],
   "source": [
    "model_collection.append(('original batch',model.fit(X_train,y_train),model.score(X_train,y_train),model.score(X_test,y_test)))\n"
   ]
  },
  {
   "cell_type": "code",
   "execution_count": 11,
   "id": "8176e502",
   "metadata": {},
   "outputs": [],
   "source": [
    "y_pred = model.predict(X_test)"
   ]
  },
  {
   "cell_type": "code",
   "execution_count": 12,
   "id": "be245f39",
   "metadata": {},
   "outputs": [
    {
     "data": {
      "text/plain": [
       "0.41509433962264153"
      ]
     },
     "execution_count": 12,
     "metadata": {},
     "output_type": "execute_result"
    }
   ],
   "source": [
    "model.score(X_test,y_test)"
   ]
  },
  {
   "cell_type": "code",
   "execution_count": 13,
   "id": "f679d30c",
   "metadata": {},
   "outputs": [
    {
     "name": "stdout",
     "output_type": "stream",
     "text": [
      "[[22  1]\n",
      " [30  0]]\n"
     ]
    }
   ],
   "source": [
    "print((confusion_matrix(y_test,y_pred)))"
   ]
  },
  {
   "cell_type": "code",
   "execution_count": 14,
   "id": "c4f4d66a",
   "metadata": {},
   "outputs": [
    {
     "name": "stdout",
     "output_type": "stream",
     "text": [
      "              precision    recall  f1-score   support\n",
      "\n",
      "           0       0.42      0.96      0.59        23\n",
      "           1       0.00      0.00      0.00        30\n",
      "\n",
      "    accuracy                           0.42        53\n",
      "   macro avg       0.21      0.48      0.29        53\n",
      "weighted avg       0.18      0.42      0.25        53\n",
      "\n"
     ]
    }
   ],
   "source": [
    "print(classification_report(y_test,y_pred))"
   ]
  },
  {
   "cell_type": "raw",
   "id": "477b6a88",
   "metadata": {},
   "source": [
    "THIS CODE DOES NOT WORK ON JUPYTER NOTEBOOK:\n",
    "clf = LazyClassifier(verbose=0,ignore_warnings=True, custom_metric=None)\n",
    "models,predictions = clf.fit(X_train, X_test, y_train, y_test)"
   ]
  },
  {
   "cell_type": "raw",
   "id": "cc1250e1",
   "metadata": {},
   "source": [
    "Results of the previous cell (top 5 models):\n",
    "\n",
    "                              Accuracy  Balanced Accuracy  ROC AUC  F1 Score  Time Taken\n",
    "Model                                                                                    \n",
    "NuSVC                              0.64               0.64     0.64      0.64        0.14\n",
    "ExtraTreesClassifier               0.62               0.63     0.63      0.61        0.29\n",
    "GaussianNB                         0.62               0.63     0.63      0.61        0.06\n",
    "RandomForestClassifier             0.62               0.63     0.63      0.61        0.42\n",
    "NearestCentroid                    0.62               0.63     0.63      0.61        0.05"
   ]
  },
  {
   "cell_type": "code",
   "execution_count": 15,
   "id": "c5dc80c4",
   "metadata": {},
   "outputs": [],
   "source": [
    "model = NuSVC()"
   ]
  },
  {
   "cell_type": "code",
   "execution_count": 16,
   "id": "9a01b970",
   "metadata": {},
   "outputs": [
    {
     "data": {
      "text/plain": [
       "NuSVC()"
      ]
     },
     "execution_count": 16,
     "metadata": {},
     "output_type": "execute_result"
    }
   ],
   "source": [
    "model.fit(X_train,y_train)"
   ]
  },
  {
   "cell_type": "code",
   "execution_count": 17,
   "id": "370eca2b",
   "metadata": {},
   "outputs": [],
   "source": [
    "model_collection.append(('original batch NuSVC',model.fit(X_train,y_train),\n",
    "                         model.score(X_train,y_train),model.score(X_test,y_test)))"
   ]
  },
  {
   "cell_type": "code",
   "execution_count": 18,
   "id": "f32591f9",
   "metadata": {},
   "outputs": [],
   "source": [
    "y_pred = model.predict(X_test)"
   ]
  },
  {
   "cell_type": "code",
   "execution_count": 19,
   "id": "3bc0174e",
   "metadata": {},
   "outputs": [
    {
     "data": {
      "text/plain": [
       "0.5283018867924528"
      ]
     },
     "execution_count": 19,
     "metadata": {},
     "output_type": "execute_result"
    }
   ],
   "source": [
    "model.score(X_test,y_test)"
   ]
  },
  {
   "cell_type": "code",
   "execution_count": 20,
   "id": "6a4b03cd",
   "metadata": {},
   "outputs": [
    {
     "name": "stdout",
     "output_type": "stream",
     "text": [
      "[[17  6]\n",
      " [19 11]]\n"
     ]
    }
   ],
   "source": [
    "print((confusion_matrix(y_test,y_pred)))"
   ]
  },
  {
   "cell_type": "code",
   "execution_count": 21,
   "id": "51df9fe9",
   "metadata": {},
   "outputs": [
    {
     "name": "stdout",
     "output_type": "stream",
     "text": [
      "              precision    recall  f1-score   support\n",
      "\n",
      "           0       0.47      0.74      0.58        23\n",
      "           1       0.65      0.37      0.47        30\n",
      "\n",
      "    accuracy                           0.53        53\n",
      "   macro avg       0.56      0.55      0.52        53\n",
      "weighted avg       0.57      0.53      0.52        53\n",
      "\n"
     ]
    }
   ],
   "source": [
    "print(classification_report(y_test,y_pred))"
   ]
  },
  {
   "cell_type": "markdown",
   "id": "f4918117",
   "metadata": {},
   "source": [
    "- Repeat for dataset of rotated images"
   ]
  },
  {
   "cell_type": "code",
   "execution_count": 22,
   "id": "19211286",
   "metadata": {},
   "outputs": [],
   "source": [
    "df = pd.read_csv('dataset_final_rotated.csv')"
   ]
  },
  {
   "cell_type": "code",
   "execution_count": 23,
   "id": "f3f98285",
   "metadata": {},
   "outputs": [
    {
     "data": {
      "text/html": [
       "<div>\n",
       "<style scoped>\n",
       "    .dataframe tbody tr th:only-of-type {\n",
       "        vertical-align: middle;\n",
       "    }\n",
       "\n",
       "    .dataframe tbody tr th {\n",
       "        vertical-align: top;\n",
       "    }\n",
       "\n",
       "    .dataframe thead th {\n",
       "        text-align: right;\n",
       "    }\n",
       "</style>\n",
       "<table border=\"1\" class=\"dataframe\">\n",
       "  <thead>\n",
       "    <tr style=\"text-align: right;\">\n",
       "      <th></th>\n",
       "      <th>Unnamed: 0</th>\n",
       "      <th>0</th>\n",
       "      <th>1</th>\n",
       "      <th>2</th>\n",
       "      <th>3</th>\n",
       "      <th>4</th>\n",
       "      <th>5</th>\n",
       "      <th>6</th>\n",
       "      <th>7</th>\n",
       "      <th>8</th>\n",
       "      <th>...</th>\n",
       "      <th>991</th>\n",
       "      <th>992</th>\n",
       "      <th>993</th>\n",
       "      <th>994</th>\n",
       "      <th>995</th>\n",
       "      <th>996</th>\n",
       "      <th>997</th>\n",
       "      <th>998</th>\n",
       "      <th>999</th>\n",
       "      <th>Target</th>\n",
       "    </tr>\n",
       "  </thead>\n",
       "  <tbody>\n",
       "    <tr>\n",
       "      <th>0</th>\n",
       "      <td>0</td>\n",
       "      <td>0.00</td>\n",
       "      <td>0.00</td>\n",
       "      <td>0.00</td>\n",
       "      <td>0.00</td>\n",
       "      <td>0.00</td>\n",
       "      <td>0.00</td>\n",
       "      <td>0.00</td>\n",
       "      <td>0.00</td>\n",
       "      <td>0.00</td>\n",
       "      <td>...</td>\n",
       "      <td>0.00</td>\n",
       "      <td>0.00</td>\n",
       "      <td>0.00</td>\n",
       "      <td>0.00</td>\n",
       "      <td>0.00</td>\n",
       "      <td>0.00</td>\n",
       "      <td>0.00</td>\n",
       "      <td>0.00</td>\n",
       "      <td>0.01</td>\n",
       "      <td>0</td>\n",
       "    </tr>\n",
       "    <tr>\n",
       "      <th>1</th>\n",
       "      <td>1</td>\n",
       "      <td>0.00</td>\n",
       "      <td>0.00</td>\n",
       "      <td>0.00</td>\n",
       "      <td>0.00</td>\n",
       "      <td>0.00</td>\n",
       "      <td>0.00</td>\n",
       "      <td>0.00</td>\n",
       "      <td>0.00</td>\n",
       "      <td>0.00</td>\n",
       "      <td>...</td>\n",
       "      <td>0.00</td>\n",
       "      <td>0.00</td>\n",
       "      <td>0.00</td>\n",
       "      <td>0.00</td>\n",
       "      <td>0.00</td>\n",
       "      <td>0.00</td>\n",
       "      <td>0.00</td>\n",
       "      <td>0.00</td>\n",
       "      <td>0.00</td>\n",
       "      <td>0</td>\n",
       "    </tr>\n",
       "    <tr>\n",
       "      <th>2</th>\n",
       "      <td>2</td>\n",
       "      <td>0.00</td>\n",
       "      <td>0.00</td>\n",
       "      <td>0.00</td>\n",
       "      <td>0.00</td>\n",
       "      <td>0.00</td>\n",
       "      <td>0.00</td>\n",
       "      <td>0.00</td>\n",
       "      <td>0.00</td>\n",
       "      <td>0.00</td>\n",
       "      <td>...</td>\n",
       "      <td>0.03</td>\n",
       "      <td>0.00</td>\n",
       "      <td>0.00</td>\n",
       "      <td>0.00</td>\n",
       "      <td>0.00</td>\n",
       "      <td>0.00</td>\n",
       "      <td>0.00</td>\n",
       "      <td>0.00</td>\n",
       "      <td>0.00</td>\n",
       "      <td>0</td>\n",
       "    </tr>\n",
       "    <tr>\n",
       "      <th>3</th>\n",
       "      <td>3</td>\n",
       "      <td>0.00</td>\n",
       "      <td>0.00</td>\n",
       "      <td>0.00</td>\n",
       "      <td>0.00</td>\n",
       "      <td>0.00</td>\n",
       "      <td>0.00</td>\n",
       "      <td>0.00</td>\n",
       "      <td>0.00</td>\n",
       "      <td>0.00</td>\n",
       "      <td>...</td>\n",
       "      <td>0.00</td>\n",
       "      <td>0.00</td>\n",
       "      <td>0.00</td>\n",
       "      <td>0.00</td>\n",
       "      <td>0.00</td>\n",
       "      <td>0.00</td>\n",
       "      <td>0.00</td>\n",
       "      <td>0.00</td>\n",
       "      <td>0.03</td>\n",
       "      <td>0</td>\n",
       "    </tr>\n",
       "    <tr>\n",
       "      <th>4</th>\n",
       "      <td>4</td>\n",
       "      <td>0.00</td>\n",
       "      <td>0.00</td>\n",
       "      <td>0.00</td>\n",
       "      <td>0.00</td>\n",
       "      <td>0.00</td>\n",
       "      <td>0.00</td>\n",
       "      <td>0.00</td>\n",
       "      <td>0.00</td>\n",
       "      <td>0.00</td>\n",
       "      <td>...</td>\n",
       "      <td>0.00</td>\n",
       "      <td>0.00</td>\n",
       "      <td>0.00</td>\n",
       "      <td>0.00</td>\n",
       "      <td>0.00</td>\n",
       "      <td>0.00</td>\n",
       "      <td>0.00</td>\n",
       "      <td>0.00</td>\n",
       "      <td>0.00</td>\n",
       "      <td>0</td>\n",
       "    </tr>\n",
       "  </tbody>\n",
       "</table>\n",
       "<p>5 rows × 1002 columns</p>\n",
       "</div>"
      ],
      "text/plain": [
       "   Unnamed: 0    0    1    2    3    4    5    6    7    8  ...  991  992  \\\n",
       "0           0 0.00 0.00 0.00 0.00 0.00 0.00 0.00 0.00 0.00  ... 0.00 0.00   \n",
       "1           1 0.00 0.00 0.00 0.00 0.00 0.00 0.00 0.00 0.00  ... 0.00 0.00   \n",
       "2           2 0.00 0.00 0.00 0.00 0.00 0.00 0.00 0.00 0.00  ... 0.03 0.00   \n",
       "3           3 0.00 0.00 0.00 0.00 0.00 0.00 0.00 0.00 0.00  ... 0.00 0.00   \n",
       "4           4 0.00 0.00 0.00 0.00 0.00 0.00 0.00 0.00 0.00  ... 0.00 0.00   \n",
       "\n",
       "   993  994  995  996  997  998  999  Target  \n",
       "0 0.00 0.00 0.00 0.00 0.00 0.00 0.01       0  \n",
       "1 0.00 0.00 0.00 0.00 0.00 0.00 0.00       0  \n",
       "2 0.00 0.00 0.00 0.00 0.00 0.00 0.00       0  \n",
       "3 0.00 0.00 0.00 0.00 0.00 0.00 0.03       0  \n",
       "4 0.00 0.00 0.00 0.00 0.00 0.00 0.00       0  \n",
       "\n",
       "[5 rows x 1002 columns]"
      ]
     },
     "execution_count": 23,
     "metadata": {},
     "output_type": "execute_result"
    }
   ],
   "source": [
    "df.head()"
   ]
  },
  {
   "cell_type": "code",
   "execution_count": 24,
   "id": "d91ee70c",
   "metadata": {},
   "outputs": [],
   "source": [
    "df.drop('Unnamed: 0',axis=1,inplace=True)"
   ]
  },
  {
   "cell_type": "code",
   "execution_count": 25,
   "id": "e7248afd",
   "metadata": {},
   "outputs": [],
   "source": [
    "X = df.drop('Target',axis=1)\n",
    "y = df.Target"
   ]
  },
  {
   "cell_type": "code",
   "execution_count": 26,
   "id": "15adb054",
   "metadata": {},
   "outputs": [],
   "source": [
    "X_train, X_test, y_train, y_test = train_test_split(X,y,test_size = 0.2)"
   ]
  },
  {
   "cell_type": "code",
   "execution_count": 27,
   "id": "fe226405",
   "metadata": {},
   "outputs": [],
   "source": [
    "model = LogisticRegression()"
   ]
  },
  {
   "cell_type": "code",
   "execution_count": 28,
   "id": "61d3fe59",
   "metadata": {},
   "outputs": [
    {
     "data": {
      "text/plain": [
       "LogisticRegression()"
      ]
     },
     "execution_count": 28,
     "metadata": {},
     "output_type": "execute_result"
    }
   ],
   "source": [
    "model.fit(X_train,y_train)"
   ]
  },
  {
   "cell_type": "code",
   "execution_count": 29,
   "id": "8176e502",
   "metadata": {},
   "outputs": [],
   "source": [
    "y_pred = model.predict(X_test)"
   ]
  },
  {
   "cell_type": "code",
   "execution_count": 30,
   "id": "be245f39",
   "metadata": {},
   "outputs": [
    {
     "data": {
      "text/plain": [
       "0.4339622641509434"
      ]
     },
     "execution_count": 30,
     "metadata": {},
     "output_type": "execute_result"
    }
   ],
   "source": [
    "model.score(X_test,y_test)"
   ]
  },
  {
   "cell_type": "code",
   "execution_count": 31,
   "id": "f679d30c",
   "metadata": {},
   "outputs": [
    {
     "name": "stdout",
     "output_type": "stream",
     "text": [
      "[[ 6 30]\n",
      " [ 0 17]]\n"
     ]
    }
   ],
   "source": [
    "print((confusion_matrix(y_test,y_pred)))"
   ]
  },
  {
   "cell_type": "code",
   "execution_count": 32,
   "id": "c4f4d66a",
   "metadata": {},
   "outputs": [
    {
     "name": "stdout",
     "output_type": "stream",
     "text": [
      "              precision    recall  f1-score   support\n",
      "\n",
      "           0       1.00      0.17      0.29        36\n",
      "           1       0.36      1.00      0.53        17\n",
      "\n",
      "    accuracy                           0.43        53\n",
      "   macro avg       0.68      0.58      0.41        53\n",
      "weighted avg       0.80      0.43      0.36        53\n",
      "\n"
     ]
    }
   ],
   "source": [
    "print(classification_report(y_test,y_pred))"
   ]
  },
  {
   "cell_type": "code",
   "execution_count": 33,
   "id": "67be45c4",
   "metadata": {},
   "outputs": [],
   "source": [
    "model = NuSVC(probability=True)"
   ]
  },
  {
   "cell_type": "code",
   "execution_count": 34,
   "id": "7fb7e9aa",
   "metadata": {},
   "outputs": [
    {
     "data": {
      "text/plain": [
       "NuSVC(probability=True)"
      ]
     },
     "execution_count": 34,
     "metadata": {},
     "output_type": "execute_result"
    }
   ],
   "source": [
    "model.fit(X_train,y_train)"
   ]
  },
  {
   "cell_type": "code",
   "execution_count": 35,
   "id": "2b5d19a3",
   "metadata": {},
   "outputs": [],
   "source": [
    "model_collection.append(('rotated batch',model.fit(X_train,y_train),\n",
    "                         model.score(X_train,y_train),model.score(X_test,y_test)\n",
    "                         ))"
   ]
  },
  {
   "cell_type": "code",
   "execution_count": 36,
   "id": "a93a6139",
   "metadata": {},
   "outputs": [],
   "source": [
    "y_pred = model.predict(X_test)"
   ]
  },
  {
   "cell_type": "code",
   "execution_count": 37,
   "id": "7b0f4486",
   "metadata": {},
   "outputs": [
    {
     "data": {
      "text/plain": [
       "0.6037735849056604"
      ]
     },
     "execution_count": 37,
     "metadata": {},
     "output_type": "execute_result"
    }
   ],
   "source": [
    "model.score(X_test,y_test)"
   ]
  },
  {
   "cell_type": "code",
   "execution_count": 38,
   "id": "834fbaeb",
   "metadata": {},
   "outputs": [
    {
     "name": "stdout",
     "output_type": "stream",
     "text": [
      "[[21 15]\n",
      " [ 6 11]]\n"
     ]
    }
   ],
   "source": [
    "print((confusion_matrix(y_test,y_pred)))"
   ]
  },
  {
   "cell_type": "code",
   "execution_count": 39,
   "id": "3da5ae64",
   "metadata": {},
   "outputs": [
    {
     "name": "stdout",
     "output_type": "stream",
     "text": [
      "              precision    recall  f1-score   support\n",
      "\n",
      "           0       0.78      0.58      0.67        36\n",
      "           1       0.42      0.65      0.51        17\n",
      "\n",
      "    accuracy                           0.60        53\n",
      "   macro avg       0.60      0.62      0.59        53\n",
      "weighted avg       0.66      0.60      0.62        53\n",
      "\n"
     ]
    }
   ],
   "source": [
    "print(classification_report(y_test,y_pred))"
   ]
  },
  {
   "cell_type": "code",
   "execution_count": 40,
   "id": "023103dd",
   "metadata": {},
   "outputs": [
    {
     "data": {
      "text/plain": [
       "[<matplotlib.lines.Line2D at 0x7fdabf11ed60>]"
      ]
     },
     "execution_count": 40,
     "metadata": {},
     "output_type": "execute_result"
    },
    {
     "data": {
      "image/png": "[encoded data removed]",
      "text/plain": [
       "<Figure size 432x288 with 1 Axes>"
      ]
     },
     "metadata": {
      "needs_background": "light"
     },
     "output_type": "display_data"
    }
   ],
   "source": [
    "p = model.predict_proba(X_test)\n",
    "fpr, tpr, th = roc_curve(y_test, p[:,1])\n",
    "plt.plot(fpr, tpr)\n",
    "plt.plot([0,1],[0,1], c='r', linestyle='--')"
   ]
  },
  {
   "cell_type": "markdown",
   "id": "05e43bf2",
   "metadata": {},
   "source": [
    "- We load the dataset that includes age and sex for each image"
   ]
  },
  {
   "cell_type": "code",
   "execution_count": 41,
   "id": "979b4336",
   "metadata": {},
   "outputs": [],
   "source": [
    "df = pd.read_csv('df_agesex.csv')"
   ]
  },
  {
   "cell_type": "code",
   "execution_count": 42,
   "id": "53c54377",
   "metadata": {},
   "outputs": [
    {
     "data": {
      "text/html": [
       "<div>\n",
       "<style scoped>\n",
       "    .dataframe tbody tr th:only-of-type {\n",
       "        vertical-align: middle;\n",
       "    }\n",
       "\n",
       "    .dataframe tbody tr th {\n",
       "        vertical-align: top;\n",
       "    }\n",
       "\n",
       "    .dataframe thead th {\n",
       "        text-align: right;\n",
       "    }\n",
       "</style>\n",
       "<table border=\"1\" class=\"dataframe\">\n",
       "  <thead>\n",
       "    <tr style=\"text-align: right;\">\n",
       "      <th></th>\n",
       "      <th>Unnamed: 0</th>\n",
       "      <th>0</th>\n",
       "      <th>1</th>\n",
       "      <th>2</th>\n",
       "      <th>3</th>\n",
       "      <th>4</th>\n",
       "      <th>5</th>\n",
       "      <th>6</th>\n",
       "      <th>7</th>\n",
       "      <th>8</th>\n",
       "      <th>...</th>\n",
       "      <th>993</th>\n",
       "      <th>994</th>\n",
       "      <th>995</th>\n",
       "      <th>996</th>\n",
       "      <th>997</th>\n",
       "      <th>998</th>\n",
       "      <th>999</th>\n",
       "      <th>1000</th>\n",
       "      <th>1001</th>\n",
       "      <th>Target</th>\n",
       "    </tr>\n",
       "  </thead>\n",
       "  <tbody>\n",
       "    <tr>\n",
       "      <th>0</th>\n",
       "      <td>0</td>\n",
       "      <td>0.00</td>\n",
       "      <td>0.00</td>\n",
       "      <td>0.00</td>\n",
       "      <td>0.00</td>\n",
       "      <td>0.00</td>\n",
       "      <td>0.00</td>\n",
       "      <td>0.00</td>\n",
       "      <td>0.00</td>\n",
       "      <td>0.00</td>\n",
       "      <td>...</td>\n",
       "      <td>0.00</td>\n",
       "      <td>0.00</td>\n",
       "      <td>0.00</td>\n",
       "      <td>0.00</td>\n",
       "      <td>0.00</td>\n",
       "      <td>0.00</td>\n",
       "      <td>0.01</td>\n",
       "      <td>56</td>\n",
       "      <td>F</td>\n",
       "      <td>0</td>\n",
       "    </tr>\n",
       "    <tr>\n",
       "      <th>1</th>\n",
       "      <td>1</td>\n",
       "      <td>0.00</td>\n",
       "      <td>0.00</td>\n",
       "      <td>0.00</td>\n",
       "      <td>0.00</td>\n",
       "      <td>0.00</td>\n",
       "      <td>0.00</td>\n",
       "      <td>0.00</td>\n",
       "      <td>0.00</td>\n",
       "      <td>0.00</td>\n",
       "      <td>...</td>\n",
       "      <td>0.00</td>\n",
       "      <td>0.00</td>\n",
       "      <td>0.00</td>\n",
       "      <td>0.00</td>\n",
       "      <td>0.00</td>\n",
       "      <td>0.00</td>\n",
       "      <td>0.00</td>\n",
       "      <td>36</td>\n",
       "      <td>M</td>\n",
       "      <td>0</td>\n",
       "    </tr>\n",
       "    <tr>\n",
       "      <th>2</th>\n",
       "      <td>2</td>\n",
       "      <td>0.00</td>\n",
       "      <td>0.00</td>\n",
       "      <td>0.00</td>\n",
       "      <td>0.00</td>\n",
       "      <td>0.00</td>\n",
       "      <td>0.00</td>\n",
       "      <td>0.00</td>\n",
       "      <td>0.00</td>\n",
       "      <td>0.00</td>\n",
       "      <td>...</td>\n",
       "      <td>0.00</td>\n",
       "      <td>0.00</td>\n",
       "      <td>0.00</td>\n",
       "      <td>0.00</td>\n",
       "      <td>0.00</td>\n",
       "      <td>0.00</td>\n",
       "      <td>0.00</td>\n",
       "      <td>51</td>\n",
       "      <td>M</td>\n",
       "      <td>0</td>\n",
       "    </tr>\n",
       "    <tr>\n",
       "      <th>3</th>\n",
       "      <td>3</td>\n",
       "      <td>0.00</td>\n",
       "      <td>0.00</td>\n",
       "      <td>0.00</td>\n",
       "      <td>0.00</td>\n",
       "      <td>0.00</td>\n",
       "      <td>0.00</td>\n",
       "      <td>0.00</td>\n",
       "      <td>0.00</td>\n",
       "      <td>0.00</td>\n",
       "      <td>...</td>\n",
       "      <td>0.00</td>\n",
       "      <td>0.00</td>\n",
       "      <td>0.00</td>\n",
       "      <td>0.00</td>\n",
       "      <td>0.00</td>\n",
       "      <td>0.00</td>\n",
       "      <td>0.03</td>\n",
       "      <td>62</td>\n",
       "      <td>F</td>\n",
       "      <td>0</td>\n",
       "    </tr>\n",
       "    <tr>\n",
       "      <th>4</th>\n",
       "      <td>4</td>\n",
       "      <td>0.00</td>\n",
       "      <td>0.00</td>\n",
       "      <td>0.00</td>\n",
       "      <td>0.00</td>\n",
       "      <td>0.00</td>\n",
       "      <td>0.00</td>\n",
       "      <td>0.00</td>\n",
       "      <td>0.00</td>\n",
       "      <td>0.00</td>\n",
       "      <td>...</td>\n",
       "      <td>0.00</td>\n",
       "      <td>0.00</td>\n",
       "      <td>0.00</td>\n",
       "      <td>0.00</td>\n",
       "      <td>0.00</td>\n",
       "      <td>0.00</td>\n",
       "      <td>0.00</td>\n",
       "      <td>41</td>\n",
       "      <td>M</td>\n",
       "      <td>0</td>\n",
       "    </tr>\n",
       "    <tr>\n",
       "      <th>...</th>\n",
       "      <td>...</td>\n",
       "      <td>...</td>\n",
       "      <td>...</td>\n",
       "      <td>...</td>\n",
       "      <td>...</td>\n",
       "      <td>...</td>\n",
       "      <td>...</td>\n",
       "      <td>...</td>\n",
       "      <td>...</td>\n",
       "      <td>...</td>\n",
       "      <td>...</td>\n",
       "      <td>...</td>\n",
       "      <td>...</td>\n",
       "      <td>...</td>\n",
       "      <td>...</td>\n",
       "      <td>...</td>\n",
       "      <td>...</td>\n",
       "      <td>...</td>\n",
       "      <td>...</td>\n",
       "      <td>...</td>\n",
       "      <td>...</td>\n",
       "    </tr>\n",
       "    <tr>\n",
       "      <th>257</th>\n",
       "      <td>120</td>\n",
       "      <td>0.00</td>\n",
       "      <td>0.00</td>\n",
       "      <td>0.00</td>\n",
       "      <td>0.00</td>\n",
       "      <td>0.00</td>\n",
       "      <td>0.00</td>\n",
       "      <td>0.00</td>\n",
       "      <td>0.00</td>\n",
       "      <td>0.00</td>\n",
       "      <td>...</td>\n",
       "      <td>0.00</td>\n",
       "      <td>0.00</td>\n",
       "      <td>0.00</td>\n",
       "      <td>0.00</td>\n",
       "      <td>0.00</td>\n",
       "      <td>0.00</td>\n",
       "      <td>0.00</td>\n",
       "      <td>29</td>\n",
       "      <td>F</td>\n",
       "      <td>1</td>\n",
       "    </tr>\n",
       "    <tr>\n",
       "      <th>258</th>\n",
       "      <td>121</td>\n",
       "      <td>0.00</td>\n",
       "      <td>0.00</td>\n",
       "      <td>0.00</td>\n",
       "      <td>0.00</td>\n",
       "      <td>0.00</td>\n",
       "      <td>0.00</td>\n",
       "      <td>0.00</td>\n",
       "      <td>0.00</td>\n",
       "      <td>0.00</td>\n",
       "      <td>...</td>\n",
       "      <td>0.00</td>\n",
       "      <td>0.00</td>\n",
       "      <td>0.00</td>\n",
       "      <td>0.00</td>\n",
       "      <td>0.00</td>\n",
       "      <td>0.00</td>\n",
       "      <td>0.01</td>\n",
       "      <td>44</td>\n",
       "      <td>F</td>\n",
       "      <td>1</td>\n",
       "    </tr>\n",
       "    <tr>\n",
       "      <th>259</th>\n",
       "      <td>122</td>\n",
       "      <td>0.00</td>\n",
       "      <td>0.00</td>\n",
       "      <td>0.00</td>\n",
       "      <td>0.00</td>\n",
       "      <td>0.00</td>\n",
       "      <td>0.00</td>\n",
       "      <td>0.00</td>\n",
       "      <td>0.00</td>\n",
       "      <td>0.00</td>\n",
       "      <td>...</td>\n",
       "      <td>0.00</td>\n",
       "      <td>0.00</td>\n",
       "      <td>0.00</td>\n",
       "      <td>0.00</td>\n",
       "      <td>0.00</td>\n",
       "      <td>0.00</td>\n",
       "      <td>0.01</td>\n",
       "      <td>37</td>\n",
       "      <td>M</td>\n",
       "      <td>1</td>\n",
       "    </tr>\n",
       "    <tr>\n",
       "      <th>260</th>\n",
       "      <td>123</td>\n",
       "      <td>0.00</td>\n",
       "      <td>0.00</td>\n",
       "      <td>0.00</td>\n",
       "      <td>0.00</td>\n",
       "      <td>0.00</td>\n",
       "      <td>0.00</td>\n",
       "      <td>0.00</td>\n",
       "      <td>0.00</td>\n",
       "      <td>0.00</td>\n",
       "      <td>...</td>\n",
       "      <td>0.00</td>\n",
       "      <td>0.00</td>\n",
       "      <td>0.00</td>\n",
       "      <td>0.00</td>\n",
       "      <td>0.00</td>\n",
       "      <td>0.00</td>\n",
       "      <td>0.03</td>\n",
       "      <td>46</td>\n",
       "      <td>F</td>\n",
       "      <td>1</td>\n",
       "    </tr>\n",
       "    <tr>\n",
       "      <th>261</th>\n",
       "      <td>124</td>\n",
       "      <td>0.00</td>\n",
       "      <td>0.00</td>\n",
       "      <td>0.00</td>\n",
       "      <td>0.00</td>\n",
       "      <td>0.00</td>\n",
       "      <td>0.00</td>\n",
       "      <td>0.00</td>\n",
       "      <td>0.00</td>\n",
       "      <td>0.00</td>\n",
       "      <td>...</td>\n",
       "      <td>0.00</td>\n",
       "      <td>0.00</td>\n",
       "      <td>0.00</td>\n",
       "      <td>0.00</td>\n",
       "      <td>0.00</td>\n",
       "      <td>0.00</td>\n",
       "      <td>0.00</td>\n",
       "      <td>54</td>\n",
       "      <td>M</td>\n",
       "      <td>1</td>\n",
       "    </tr>\n",
       "  </tbody>\n",
       "</table>\n",
       "<p>262 rows × 1004 columns</p>\n",
       "</div>"
      ],
      "text/plain": [
       "     Unnamed: 0    0    1    2    3    4    5    6    7    8  ...  993  994  \\\n",
       "0             0 0.00 0.00 0.00 0.00 0.00 0.00 0.00 0.00 0.00  ... 0.00 0.00   \n",
       "1             1 0.00 0.00 0.00 0.00 0.00 0.00 0.00 0.00 0.00  ... 0.00 0.00   \n",
       "2             2 0.00 0.00 0.00 0.00 0.00 0.00 0.00 0.00 0.00  ... 0.00 0.00   \n",
       "3             3 0.00 0.00 0.00 0.00 0.00 0.00 0.00 0.00 0.00  ... 0.00 0.00   \n",
       "4             4 0.00 0.00 0.00 0.00 0.00 0.00 0.00 0.00 0.00  ... 0.00 0.00   \n",
       "..          ...  ...  ...  ...  ...  ...  ...  ...  ...  ...  ...  ...  ...   \n",
       "257         120 0.00 0.00 0.00 0.00 0.00 0.00 0.00 0.00 0.00  ... 0.00 0.00   \n",
       "258         121 0.00 0.00 0.00 0.00 0.00 0.00 0.00 0.00 0.00  ... 0.00 0.00   \n",
       "259         122 0.00 0.00 0.00 0.00 0.00 0.00 0.00 0.00 0.00  ... 0.00 0.00   \n",
       "260         123 0.00 0.00 0.00 0.00 0.00 0.00 0.00 0.00 0.00  ... 0.00 0.00   \n",
       "261         124 0.00 0.00 0.00 0.00 0.00 0.00 0.00 0.00 0.00  ... 0.00 0.00   \n",
       "\n",
       "     995  996  997  998  999  1000  1001  Target  \n",
       "0   0.00 0.00 0.00 0.00 0.01    56     F       0  \n",
       "1   0.00 0.00 0.00 0.00 0.00    36     M       0  \n",
       "2   0.00 0.00 0.00 0.00 0.00    51     M       0  \n",
       "3   0.00 0.00 0.00 0.00 0.03    62     F       0  \n",
       "4   0.00 0.00 0.00 0.00 0.00    41     M       0  \n",
       "..   ...  ...  ...  ...  ...   ...   ...     ...  \n",
       "257 0.00 0.00 0.00 0.00 0.00    29     F       1  \n",
       "258 0.00 0.00 0.00 0.00 0.01    44     F       1  \n",
       "259 0.00 0.00 0.00 0.00 0.01    37     M       1  \n",
       "260 0.00 0.00 0.00 0.00 0.03    46     F       1  \n",
       "261 0.00 0.00 0.00 0.00 0.00    54     M       1  \n",
       "\n",
       "[262 rows x 1004 columns]"
      ]
     },
     "execution_count": 42,
     "metadata": {},
     "output_type": "execute_result"
    }
   ],
   "source": [
    "df"
   ]
  },
  {
   "cell_type": "code",
   "execution_count": 43,
   "id": "6768f047",
   "metadata": {},
   "outputs": [],
   "source": [
    "import seaborn as sns"
   ]
  },
  {
   "cell_type": "code",
   "execution_count": 44,
   "id": "cc1a3269",
   "metadata": {},
   "outputs": [],
   "source": [
    "df.drop('Unnamed: 0',axis=1,inplace=True)"
   ]
  },
  {
   "cell_type": "code",
   "execution_count": 45,
   "id": "9ce23f4f",
   "metadata": {},
   "outputs": [],
   "source": [
    "df.rename(columns={'1000':'age', '1001':'sex'},inplace=True)"
   ]
  },
  {
   "cell_type": "code",
   "execution_count": 46,
   "id": "da9d894a",
   "metadata": {},
   "outputs": [
    {
     "data": {
      "text/plain": [
       "<AxesSubplot:xlabel='sex', ylabel='count'>"
      ]
     },
     "execution_count": 46,
     "metadata": {},
     "output_type": "execute_result"
    },
    {
     "data": {
      "image/png": "[encoded data removed]",
      "text/plain": [
       "<Figure size 432x288 with 1 Axes>"
      ]
     },
     "metadata": {
      "needs_background": "light"
     },
     "output_type": "display_data"
    }
   ],
   "source": [
    "sns.countplot(data=df, x='sex')"
   ]
  },
  {
   "cell_type": "code",
   "execution_count": 47,
   "id": "5662a895",
   "metadata": {},
   "outputs": [
    {
     "data": {
      "text/plain": [
       "999    29\n",
       "46     12\n",
       "41     12\n",
       "54     11\n",
       "49     10\n",
       "40     10\n",
       "45      8\n",
       "43      8\n",
       "66      8\n",
       "61      8\n",
       "56      7\n",
       "64      7\n",
       "53      6\n",
       "55      6\n",
       "30      6\n",
       "32      6\n",
       "59      6\n",
       "57      5\n",
       "36      5\n",
       "52      5\n",
       "44      5\n",
       "34      5\n",
       "42      4\n",
       "29      4\n",
       "38      4\n",
       "35      4\n",
       "47      4\n",
       "69      4\n",
       "62      4\n",
       "51      4\n",
       "31      3\n",
       "70      3\n",
       "33      3\n",
       "65      3\n",
       "60      3\n",
       "58      3\n",
       "50      3\n",
       "39      2\n",
       "63      2\n",
       "37      2\n",
       "67      2\n",
       "48      2\n",
       "72      2\n",
       "73      2\n",
       "28      2\n",
       "24      2\n",
       "22      1\n",
       "21      1\n",
       "75      1\n",
       "23      1\n",
       "25      1\n",
       "12      1\n",
       "Name: age, dtype: int64"
      ]
     },
     "execution_count": 47,
     "metadata": {},
     "output_type": "execute_result"
    }
   ],
   "source": [
    "df['age'].value_counts()"
   ]
  },
  {
   "cell_type": "code",
   "execution_count": 48,
   "id": "0f1ee4a4",
   "metadata": {},
   "outputs": [
    {
     "data": {
      "text/plain": [
       "0.11450381679389313"
      ]
     },
     "execution_count": 48,
     "metadata": {},
     "output_type": "execute_result"
    }
   ],
   "source": [
    "len(df[(df['age'] == 999) | (df['sex'] == 'U')]) / len(df)"
   ]
  },
  {
   "cell_type": "markdown",
   "id": "b2db2cec",
   "metadata": {},
   "source": [
    "- since the percentage is moderatly low, we drop rows with unknown sex and age"
   ]
  },
  {
   "cell_type": "code",
   "execution_count": 49,
   "id": "18d6fbc3",
   "metadata": {},
   "outputs": [],
   "source": [
    "df.drop(df[(df['age'] == 999) | (df['sex'] == 'U')].index, axis=0,inplace=True)"
   ]
  },
  {
   "cell_type": "code",
   "execution_count": 50,
   "id": "1115a15f",
   "metadata": {},
   "outputs": [
    {
     "data": {
      "text/plain": [
       "<AxesSubplot:xlabel='Target', ylabel='count'>"
      ]
     },
     "execution_count": 50,
     "metadata": {},
     "output_type": "execute_result"
    },
    {
     "data": {
      "image/png": "[encoded data removed]",
      "text/plain": [
       "<Figure size 432x288 with 1 Axes>"
      ]
     },
     "metadata": {
      "needs_background": "light"
     },
     "output_type": "display_data"
    }
   ],
   "source": [
    "sns.countplot(data=df,x='Target')"
   ]
  },
  {
   "cell_type": "markdown",
   "id": "b89e031f",
   "metadata": {},
   "source": [
    "- Target variable is still pretty balanced"
   ]
  },
  {
   "cell_type": "markdown",
   "id": "4be8b12f",
   "metadata": {},
   "source": [
    "- We proceed to encode sex feature"
   ]
  },
  {
   "cell_type": "code",
   "execution_count": 51,
   "id": "dd8dce96",
   "metadata": {},
   "outputs": [],
   "source": [
    "encoder = ce.BinaryEncoder()"
   ]
  },
  {
   "cell_type": "code",
   "execution_count": 52,
   "id": "b95170c9",
   "metadata": {},
   "outputs": [
    {
     "data": {
      "text/html": [
       "<div>\n",
       "<style scoped>\n",
       "    .dataframe tbody tr th:only-of-type {\n",
       "        vertical-align: middle;\n",
       "    }\n",
       "\n",
       "    .dataframe tbody tr th {\n",
       "        vertical-align: top;\n",
       "    }\n",
       "\n",
       "    .dataframe thead th {\n",
       "        text-align: right;\n",
       "    }\n",
       "</style>\n",
       "<table border=\"1\" class=\"dataframe\">\n",
       "  <thead>\n",
       "    <tr style=\"text-align: right;\">\n",
       "      <th></th>\n",
       "      <th>sex_0</th>\n",
       "      <th>sex_1</th>\n",
       "    </tr>\n",
       "  </thead>\n",
       "  <tbody>\n",
       "    <tr>\n",
       "      <th>0</th>\n",
       "      <td>0</td>\n",
       "      <td>1</td>\n",
       "    </tr>\n",
       "    <tr>\n",
       "      <th>1</th>\n",
       "      <td>1</td>\n",
       "      <td>0</td>\n",
       "    </tr>\n",
       "    <tr>\n",
       "      <th>2</th>\n",
       "      <td>1</td>\n",
       "      <td>0</td>\n",
       "    </tr>\n",
       "    <tr>\n",
       "      <th>3</th>\n",
       "      <td>0</td>\n",
       "      <td>1</td>\n",
       "    </tr>\n",
       "    <tr>\n",
       "      <th>4</th>\n",
       "      <td>1</td>\n",
       "      <td>0</td>\n",
       "    </tr>\n",
       "    <tr>\n",
       "      <th>...</th>\n",
       "      <td>...</td>\n",
       "      <td>...</td>\n",
       "    </tr>\n",
       "    <tr>\n",
       "      <th>257</th>\n",
       "      <td>0</td>\n",
       "      <td>1</td>\n",
       "    </tr>\n",
       "    <tr>\n",
       "      <th>258</th>\n",
       "      <td>0</td>\n",
       "      <td>1</td>\n",
       "    </tr>\n",
       "    <tr>\n",
       "      <th>259</th>\n",
       "      <td>1</td>\n",
       "      <td>0</td>\n",
       "    </tr>\n",
       "    <tr>\n",
       "      <th>260</th>\n",
       "      <td>0</td>\n",
       "      <td>1</td>\n",
       "    </tr>\n",
       "    <tr>\n",
       "      <th>261</th>\n",
       "      <td>1</td>\n",
       "      <td>0</td>\n",
       "    </tr>\n",
       "  </tbody>\n",
       "</table>\n",
       "<p>232 rows × 2 columns</p>\n",
       "</div>"
      ],
      "text/plain": [
       "     sex_0  sex_1\n",
       "0        0      1\n",
       "1        1      0\n",
       "2        1      0\n",
       "3        0      1\n",
       "4        1      0\n",
       "..     ...    ...\n",
       "257      0      1\n",
       "258      0      1\n",
       "259      1      0\n",
       "260      0      1\n",
       "261      1      0\n",
       "\n",
       "[232 rows x 2 columns]"
      ]
     },
     "execution_count": 52,
     "metadata": {},
     "output_type": "execute_result"
    }
   ],
   "source": [
    "encoder.fit_transform(df['sex'])"
   ]
  },
  {
   "cell_type": "code",
   "execution_count": 53,
   "id": "8b9f05e0",
   "metadata": {},
   "outputs": [],
   "source": [
    "df['sex_0'] = encoder.fit_transform(df['sex'])['sex_0']"
   ]
  },
  {
   "cell_type": "code",
   "execution_count": 54,
   "id": "4a93898e",
   "metadata": {},
   "outputs": [],
   "source": [
    "df['sex_1'] = encoder.fit_transform(df['sex'])['sex_1']"
   ]
  },
  {
   "cell_type": "code",
   "execution_count": 55,
   "id": "dbde3971",
   "metadata": {},
   "outputs": [],
   "source": [
    "X = df.drop(['Target','sex'],axis=1)\n",
    "y = df.Target"
   ]
  },
  {
   "cell_type": "code",
   "execution_count": 56,
   "id": "73dae51c",
   "metadata": {},
   "outputs": [],
   "source": [
    "X_train, X_test, y_train, y_test = train_test_split(X,y,test_size = 0.2)"
   ]
  },
  {
   "cell_type": "code",
   "execution_count": 57,
   "id": "14557a37",
   "metadata": {},
   "outputs": [],
   "source": [
    "model = NuSVC(probability=True)"
   ]
  },
  {
   "cell_type": "code",
   "execution_count": 58,
   "id": "8f285c9c",
   "metadata": {},
   "outputs": [
    {
     "data": {
      "text/plain": [
       "NuSVC(probability=True)"
      ]
     },
     "execution_count": 58,
     "metadata": {},
     "output_type": "execute_result"
    }
   ],
   "source": [
    "model.fit(X_train,y_train)"
   ]
  },
  {
   "cell_type": "code",
   "execution_count": 59,
   "id": "ebcffa02",
   "metadata": {},
   "outputs": [],
   "source": [
    "model_collection.append(('sex-age original batch',model.fit(X_train,y_train),\n",
    "                         model.score(X_train,y_train),model.score(X_test,y_test)\n",
    "                         ))"
   ]
  },
  {
   "cell_type": "code",
   "execution_count": 60,
   "id": "cea065d6",
   "metadata": {},
   "outputs": [],
   "source": [
    "y_pred = model.predict(X_test)"
   ]
  },
  {
   "cell_type": "code",
   "execution_count": 61,
   "id": "9a482a26",
   "metadata": {},
   "outputs": [
    {
     "data": {
      "text/plain": [
       "0.46808510638297873"
      ]
     },
     "execution_count": 61,
     "metadata": {},
     "output_type": "execute_result"
    }
   ],
   "source": [
    "model.score(X_test,y_test)"
   ]
  },
  {
   "cell_type": "code",
   "execution_count": 62,
   "id": "b42be726",
   "metadata": {},
   "outputs": [
    {
     "name": "stdout",
     "output_type": "stream",
     "text": [
      "[[15  8]\n",
      " [17  7]]\n"
     ]
    }
   ],
   "source": [
    "print((confusion_matrix(y_test,y_pred)))"
   ]
  },
  {
   "cell_type": "code",
   "execution_count": 63,
   "id": "f70b501e",
   "metadata": {},
   "outputs": [
    {
     "name": "stdout",
     "output_type": "stream",
     "text": [
      "              precision    recall  f1-score   support\n",
      "\n",
      "           0       0.47      0.65      0.55        23\n",
      "           1       0.47      0.29      0.36        24\n",
      "\n",
      "    accuracy                           0.47        47\n",
      "   macro avg       0.47      0.47      0.45        47\n",
      "weighted avg       0.47      0.47      0.45        47\n",
      "\n"
     ]
    }
   ],
   "source": [
    "print(classification_report(y_test,y_pred))"
   ]
  },
  {
   "cell_type": "code",
   "execution_count": 64,
   "id": "62f7e194",
   "metadata": {},
   "outputs": [
    {
     "data": {
      "text/plain": [
       "[<matplotlib.lines.Line2D at 0x7fdac1054970>]"
      ]
     },
     "execution_count": 64,
     "metadata": {},
     "output_type": "execute_result"
    },
    {
     "data": {
      "image/png": "[encoded data removed]",
      "text/plain": [
       "<Figure size 432x288 with 1 Axes>"
      ]
     },
     "metadata": {
      "needs_background": "light"
     },
     "output_type": "display_data"
    }
   ],
   "source": [
    "p = model.predict_proba(X_test)\n",
    "fpr, tpr, th = roc_curve(y_test, p[:,1])\n",
    "plt.plot(fpr, tpr)\n",
    "plt.plot([0,1],[0,1], c='r', linestyle='--')"
   ]
  },
  {
   "cell_type": "markdown",
   "id": "570bce7b",
   "metadata": {},
   "source": [
    "- Model for cropped images"
   ]
  },
  {
   "cell_type": "code",
   "execution_count": 65,
   "id": "dc78ce10",
   "metadata": {},
   "outputs": [],
   "source": [
    "df = pd.read_csv('df_cropped.csv')"
   ]
  },
  {
   "cell_type": "code",
   "execution_count": 66,
   "id": "eb838169",
   "metadata": {},
   "outputs": [],
   "source": [
    "df.drop('Unnamed: 0',axis=1,inplace=True)"
   ]
  },
  {
   "cell_type": "code",
   "execution_count": 67,
   "id": "73c49ff4",
   "metadata": {},
   "outputs": [],
   "source": [
    "df.rename(columns={'1000':'age', '1001':'sex'},inplace=True)"
   ]
  },
  {
   "cell_type": "code",
   "execution_count": 68,
   "id": "6d913889",
   "metadata": {},
   "outputs": [],
   "source": [
    "df_origin = df.copy()"
   ]
  },
  {
   "cell_type": "code",
   "execution_count": 69,
   "id": "f56a3bfe",
   "metadata": {},
   "outputs": [],
   "source": [
    "df.drop(df[(df['age'] == 999) | (df['sex'] == 'U')].index, axis=0,inplace=True)"
   ]
  },
  {
   "cell_type": "code",
   "execution_count": 70,
   "id": "11208d6f",
   "metadata": {},
   "outputs": [],
   "source": [
    "encoder = ce.BinaryEncoder()"
   ]
  },
  {
   "cell_type": "code",
   "execution_count": 71,
   "id": "cfc7fffc",
   "metadata": {},
   "outputs": [],
   "source": [
    "df['sex_0'] = encoder.fit_transform(df['sex'])['sex_0']"
   ]
  },
  {
   "cell_type": "code",
   "execution_count": 72,
   "id": "d5b9e676",
   "metadata": {},
   "outputs": [],
   "source": [
    "df['sex_1'] = encoder.fit_transform(df['sex'])['sex_1']"
   ]
  },
  {
   "cell_type": "code",
   "execution_count": 73,
   "id": "cf5f92e2",
   "metadata": {},
   "outputs": [],
   "source": [
    "X = df.drop(['Target','sex'],axis=1)\n",
    "y = df.Target"
   ]
  },
  {
   "cell_type": "code",
   "execution_count": 74,
   "id": "e398bb43",
   "metadata": {},
   "outputs": [],
   "source": [
    "X_train, X_test, y_train, y_test = train_test_split(X,y,test_size = 0.2)"
   ]
  },
  {
   "cell_type": "code",
   "execution_count": 75,
   "id": "b7cb4628",
   "metadata": {},
   "outputs": [],
   "source": [
    "model = NuSVC(probability=True)"
   ]
  },
  {
   "cell_type": "code",
   "execution_count": 76,
   "id": "70b7acfc",
   "metadata": {},
   "outputs": [
    {
     "data": {
      "text/plain": [
       "NuSVC(probability=True)"
      ]
     },
     "execution_count": 76,
     "metadata": {},
     "output_type": "execute_result"
    }
   ],
   "source": [
    "model.fit(X_train,y_train)"
   ]
  },
  {
   "cell_type": "code",
   "execution_count": 77,
   "id": "83220cd9",
   "metadata": {},
   "outputs": [],
   "source": [
    "model_collection.append(('cropped original batch',model.fit(X_train,y_train),\n",
    "                         model.score(X_train,y_train),model.score(X_test,y_test)\n",
    "                         ))"
   ]
  },
  {
   "cell_type": "code",
   "execution_count": 78,
   "id": "9ab2d5df",
   "metadata": {},
   "outputs": [],
   "source": [
    "y_pred = model.predict(X_test)"
   ]
  },
  {
   "cell_type": "code",
   "execution_count": 79,
   "id": "80d49d0a",
   "metadata": {},
   "outputs": [
    {
     "data": {
      "text/plain": [
       "0.5531914893617021"
      ]
     },
     "execution_count": 79,
     "metadata": {},
     "output_type": "execute_result"
    }
   ],
   "source": [
    "model.score(X_test,y_test)"
   ]
  },
  {
   "cell_type": "code",
   "execution_count": 80,
   "id": "1a9102a9",
   "metadata": {},
   "outputs": [
    {
     "name": "stdout",
     "output_type": "stream",
     "text": [
      "[[16  7]\n",
      " [14 10]]\n"
     ]
    }
   ],
   "source": [
    "print((confusion_matrix(y_test,y_pred)))"
   ]
  },
  {
   "cell_type": "code",
   "execution_count": 81,
   "id": "9e1ef167",
   "metadata": {},
   "outputs": [
    {
     "name": "stdout",
     "output_type": "stream",
     "text": [
      "              precision    recall  f1-score   support\n",
      "\n",
      "           0       0.53      0.70      0.60        23\n",
      "           1       0.59      0.42      0.49        24\n",
      "\n",
      "    accuracy                           0.55        47\n",
      "   macro avg       0.56      0.56      0.55        47\n",
      "weighted avg       0.56      0.55      0.54        47\n",
      "\n"
     ]
    }
   ],
   "source": [
    "print(classification_report(y_test,y_pred))"
   ]
  },
  {
   "cell_type": "code",
   "execution_count": 82,
   "id": "03db1d05",
   "metadata": {},
   "outputs": [
    {
     "data": {
      "text/plain": [
       "[<matplotlib.lines.Line2D at 0x7fdac175e070>]"
      ]
     },
     "execution_count": 82,
     "metadata": {},
     "output_type": "execute_result"
    },
    {
     "data": {
      "image/png": "[encoded data removed]",
      "text/plain": [
       "<Figure size 432x288 with 1 Axes>"
      ]
     },
     "metadata": {
      "needs_background": "light"
     },
     "output_type": "display_data"
    }
   ],
   "source": [
    "p = model.predict_proba(X_test)\n",
    "fpr, tpr, th = roc_curve(y_test, p[:,1])\n",
    "plt.plot(fpr, tpr)\n",
    "plt.plot([0,1],[0,1], c='r', linestyle='--')"
   ]
  },
  {
   "cell_type": "markdown",
   "id": "30968c9a",
   "metadata": {},
   "source": [
    "- model for cropped images without age and sex features"
   ]
  },
  {
   "cell_type": "code",
   "execution_count": 83,
   "id": "194b6ed5",
   "metadata": {},
   "outputs": [],
   "source": [
    "X = df.drop(['Target','sex','sex_0','sex_1','age'],axis=1)\n",
    "y = df.Target"
   ]
  },
  {
   "cell_type": "code",
   "execution_count": 84,
   "id": "446e1e0c",
   "metadata": {},
   "outputs": [],
   "source": [
    "X_train, X_test, y_train, y_test = train_test_split(X,y,test_size = 0.2)"
   ]
  },
  {
   "cell_type": "code",
   "execution_count": 85,
   "id": "0e05c0b8",
   "metadata": {},
   "outputs": [
    {
     "data": {
      "text/plain": [
       "NuSVC(probability=True)"
      ]
     },
     "execution_count": 85,
     "metadata": {},
     "output_type": "execute_result"
    }
   ],
   "source": [
    "model = NuSVC(probability=True)\n",
    "model.fit(X_train, y_train)"
   ]
  },
  {
   "cell_type": "code",
   "execution_count": 86,
   "id": "7c95b450",
   "metadata": {},
   "outputs": [],
   "source": [
    "model_collection.append(('cropped no sex-age original batch',model.fit(X_train,y_train),\n",
    "                         model.score(X_train,y_train),model.score(X_test,y_test)\n",
    "                         ))"
   ]
  },
  {
   "cell_type": "code",
   "execution_count": 87,
   "id": "8036718b",
   "metadata": {},
   "outputs": [],
   "source": [
    "y_pred = model.predict(X_test)"
   ]
  },
  {
   "cell_type": "code",
   "execution_count": 88,
   "id": "3284436a",
   "metadata": {},
   "outputs": [
    {
     "data": {
      "text/plain": [
       "0.5106382978723404"
      ]
     },
     "execution_count": 88,
     "metadata": {},
     "output_type": "execute_result"
    }
   ],
   "source": [
    "model.score(X_test,y_test)"
   ]
  },
  {
   "cell_type": "code",
   "execution_count": 89,
   "id": "ba1cf313",
   "metadata": {},
   "outputs": [
    {
     "name": "stdout",
     "output_type": "stream",
     "text": [
      "[[12 14]\n",
      " [ 9 12]]\n"
     ]
    }
   ],
   "source": [
    "print((confusion_matrix(y_test,y_pred)))"
   ]
  },
  {
   "cell_type": "code",
   "execution_count": 90,
   "id": "649e8327",
   "metadata": {},
   "outputs": [
    {
     "name": "stdout",
     "output_type": "stream",
     "text": [
      "              precision    recall  f1-score   support\n",
      "\n",
      "           0       0.57      0.46      0.51        26\n",
      "           1       0.46      0.57      0.51        21\n",
      "\n",
      "    accuracy                           0.51        47\n",
      "   macro avg       0.52      0.52      0.51        47\n",
      "weighted avg       0.52      0.51      0.51        47\n",
      "\n"
     ]
    }
   ],
   "source": [
    "print(classification_report(y_test,y_pred))"
   ]
  },
  {
   "cell_type": "code",
   "execution_count": 91,
   "id": "b4e84696",
   "metadata": {},
   "outputs": [
    {
     "data": {
      "text/plain": [
       "[<matplotlib.lines.Line2D at 0x7fdac17dc970>]"
      ]
     },
     "execution_count": 91,
     "metadata": {},
     "output_type": "execute_result"
    },
    {
     "data": {
      "image/png": "[encoded data removed]",
      "text/plain": [
       "<Figure size 432x288 with 1 Axes>"
      ]
     },
     "metadata": {
      "needs_background": "light"
     },
     "output_type": "display_data"
    }
   ],
   "source": [
    "p = model.predict_proba(X_test)\n",
    "fpr, tpr, th = roc_curve(y_test, p[:,1])\n",
    "plt.plot(fpr, tpr)\n",
    "plt.plot([0,1],[0,1], c='r', linestyle='--')"
   ]
  },
  {
   "cell_type": "markdown",
   "id": "33c5f297",
   "metadata": {},
   "source": [
    "- cropped images not including age and sex, and without dropping rows"
   ]
  },
  {
   "cell_type": "code",
   "execution_count": 92,
   "id": "2aba3037",
   "metadata": {},
   "outputs": [],
   "source": [
    "X = df_origin.drop(['Target','sex','age'],axis=1)\n",
    "y = df_origin.Target"
   ]
  },
  {
   "cell_type": "code",
   "execution_count": 93,
   "id": "88249a19",
   "metadata": {},
   "outputs": [],
   "source": [
    "X_train, X_test, y_train, y_test = train_test_split(X,y,test_size = 0.2)"
   ]
  },
  {
   "cell_type": "code",
   "execution_count": 94,
   "id": "18977699",
   "metadata": {},
   "outputs": [
    {
     "data": {
      "text/plain": [
       "NuSVC(probability=True)"
      ]
     },
     "execution_count": 94,
     "metadata": {},
     "output_type": "execute_result"
    }
   ],
   "source": [
    "model = NuSVC(probability=True)\n",
    "model.fit(X_train, y_train)"
   ]
  },
  {
   "cell_type": "code",
   "execution_count": 95,
   "id": "d942e573",
   "metadata": {},
   "outputs": [],
   "source": [
    "model_collection.append(('cropped NO age-sex full row original batch',\n",
    "                         model.fit(X_train,y_train),\n",
    "                         model.score(X_train,y_train),\n",
    "                         model.score(X_test,y_test)\n",
    "                         ))"
   ]
  },
  {
   "cell_type": "code",
   "execution_count": 96,
   "id": "b5d3d368",
   "metadata": {},
   "outputs": [],
   "source": [
    "y_pred = model.predict(X_test)"
   ]
  },
  {
   "cell_type": "code",
   "execution_count": 97,
   "id": "a867907e",
   "metadata": {},
   "outputs": [
    {
     "data": {
      "text/plain": [
       "0.9760765550239234"
      ]
     },
     "execution_count": 97,
     "metadata": {},
     "output_type": "execute_result"
    }
   ],
   "source": [
    "model.score(X_train,y_train)"
   ]
  },
  {
   "cell_type": "code",
   "execution_count": 98,
   "id": "198a240e",
   "metadata": {},
   "outputs": [
    {
     "data": {
      "text/plain": [
       "0.49056603773584906"
      ]
     },
     "execution_count": 98,
     "metadata": {},
     "output_type": "execute_result"
    }
   ],
   "source": [
    "model.score(X_test,y_test)"
   ]
  },
  {
   "cell_type": "code",
   "execution_count": 99,
   "id": "3c090bab",
   "metadata": {},
   "outputs": [
    {
     "name": "stdout",
     "output_type": "stream",
     "text": [
      "[[ 8 16]\n",
      " [11 18]]\n"
     ]
    }
   ],
   "source": [
    "print((confusion_matrix(y_test,y_pred)))"
   ]
  },
  {
   "cell_type": "code",
   "execution_count": 100,
   "id": "f19ea995",
   "metadata": {},
   "outputs": [
    {
     "name": "stdout",
     "output_type": "stream",
     "text": [
      "              precision    recall  f1-score   support\n",
      "\n",
      "           0       0.42      0.33      0.37        24\n",
      "           1       0.53      0.62      0.57        29\n",
      "\n",
      "    accuracy                           0.49        53\n",
      "   macro avg       0.48      0.48      0.47        53\n",
      "weighted avg       0.48      0.49      0.48        53\n",
      "\n"
     ]
    }
   ],
   "source": [
    "print(classification_report(y_test,y_pred))"
   ]
  },
  {
   "cell_type": "code",
   "execution_count": 101,
   "id": "6ea73fc4",
   "metadata": {},
   "outputs": [
    {
     "data": {
      "text/plain": [
       "[<matplotlib.lines.Line2D at 0x7fdac1aa7520>]"
      ]
     },
     "execution_count": 101,
     "metadata": {},
     "output_type": "execute_result"
    },
    {
     "data": {
      "image/png": "[encoded data removed]",
      "text/plain": [
       "<Figure size 432x288 with 1 Axes>"
      ]
     },
     "metadata": {
      "needs_background": "light"
     },
     "output_type": "display_data"
    }
   ],
   "source": [
    "p = model.predict_proba(X_test)\n",
    "fpr, tpr, th = roc_curve(y_test, p[:,1])\n",
    "plt.plot(fpr, tpr)\n",
    "plt.plot([0,1],[0,1], c='r', linestyle='--')"
   ]
  },
  {
   "cell_type": "markdown",
   "id": "f202e513",
   "metadata": {},
   "source": [
    "- Added new batch of xrays"
   ]
  },
  {
   "cell_type": "code",
   "execution_count": 102,
   "id": "826baa1b",
   "metadata": {},
   "outputs": [],
   "source": [
    "df = pd.read_csv('df_cropped_2.csv')"
   ]
  },
  {
   "cell_type": "code",
   "execution_count": 103,
   "id": "60adae6a",
   "metadata": {},
   "outputs": [],
   "source": [
    "df.drop('Unnamed: 0',axis=1,inplace=True)\n",
    "df.rename(columns={'1000':'age', '1001':'sex'},inplace=True)"
   ]
  },
  {
   "cell_type": "code",
   "execution_count": 104,
   "id": "665b9669",
   "metadata": {},
   "outputs": [],
   "source": [
    "df_origin = df.copy()"
   ]
  },
  {
   "cell_type": "code",
   "execution_count": 105,
   "id": "0d4e49d2",
   "metadata": {},
   "outputs": [],
   "source": [
    "df.drop(df[(df['age'] == 999) | (df['sex'] == 'U')].index, axis=0,inplace=True)"
   ]
  },
  {
   "cell_type": "code",
   "execution_count": 106,
   "id": "b785ebd8",
   "metadata": {},
   "outputs": [],
   "source": [
    "encoder = ce.BinaryEncoder()"
   ]
  },
  {
   "cell_type": "code",
   "execution_count": 107,
   "id": "b773cb3b",
   "metadata": {},
   "outputs": [],
   "source": [
    "df['sex_0'] = encoder.fit_transform(df['sex'])['sex_0']"
   ]
  },
  {
   "cell_type": "code",
   "execution_count": 108,
   "id": "34c33c32",
   "metadata": {},
   "outputs": [],
   "source": [
    "df['sex_1'] = encoder.fit_transform(df['sex'])['sex_1']"
   ]
  },
  {
   "cell_type": "code",
   "execution_count": 109,
   "id": "47778ea3",
   "metadata": {},
   "outputs": [],
   "source": [
    "X = df.drop(['Target','sex','age'],axis=1)\n",
    "y = df.Target"
   ]
  },
  {
   "cell_type": "code",
   "execution_count": 110,
   "id": "f99b32e2",
   "metadata": {},
   "outputs": [],
   "source": [
    "X_train, X_test, y_train, y_test = train_test_split(X,y,test_size = 0.2)"
   ]
  },
  {
   "cell_type": "code",
   "execution_count": 111,
   "id": "a9a65b51",
   "metadata": {},
   "outputs": [
    {
     "data": {
      "text/plain": [
       "152    0\n",
       "285    1\n",
       "107    0\n",
       "147    0\n",
       "219    1\n",
       "      ..\n",
       "352    1\n",
       "31     0\n",
       "104    0\n",
       "332    1\n",
       "193    1\n",
       "Name: Target, Length: 284, dtype: int64"
      ]
     },
     "execution_count": 111,
     "metadata": {},
     "output_type": "execute_result"
    }
   ],
   "source": [
    "y_train"
   ]
  },
  {
   "cell_type": "code",
   "execution_count": 112,
   "id": "6f893f82",
   "metadata": {},
   "outputs": [],
   "source": [
    "model = NuSVC(probability=True)"
   ]
  },
  {
   "cell_type": "code",
   "execution_count": 113,
   "id": "455e3cc4",
   "metadata": {},
   "outputs": [
    {
     "data": {
      "text/plain": [
       "NuSVC(probability=True)"
      ]
     },
     "execution_count": 113,
     "metadata": {},
     "output_type": "execute_result"
    }
   ],
   "source": [
    "model.fit(X_train,y_train)"
   ]
  },
  {
   "cell_type": "code",
   "execution_count": 114,
   "id": "82b739d2",
   "metadata": {},
   "outputs": [],
   "source": [
    "model_collection.append(('cropped new batch',model.fit(X_train,y_train),\n",
    "                         model.score(X_train,y_train),model.score(X_test,y_test)\n",
    "                         ))"
   ]
  },
  {
   "cell_type": "code",
   "execution_count": 115,
   "id": "bacd0dd4",
   "metadata": {},
   "outputs": [],
   "source": [
    "y_pred = model.predict(X_test)"
   ]
  },
  {
   "cell_type": "code",
   "execution_count": 116,
   "id": "ee2f8666",
   "metadata": {},
   "outputs": [
    {
     "data": {
      "text/plain": [
       "0.6056338028169014"
      ]
     },
     "execution_count": 116,
     "metadata": {},
     "output_type": "execute_result"
    }
   ],
   "source": [
    "model.score(X_test,y_test)"
   ]
  },
  {
   "cell_type": "code",
   "execution_count": 117,
   "id": "38b0e42a",
   "metadata": {},
   "outputs": [
    {
     "name": "stdout",
     "output_type": "stream",
     "text": [
      "[[16 16]\n",
      " [12 27]]\n"
     ]
    }
   ],
   "source": [
    "print((confusion_matrix(y_test,y_pred)))"
   ]
  },
  {
   "cell_type": "code",
   "execution_count": 118,
   "id": "317a3f9c",
   "metadata": {},
   "outputs": [
    {
     "name": "stdout",
     "output_type": "stream",
     "text": [
      "              precision    recall  f1-score   support\n",
      "\n",
      "           0       0.57      0.50      0.53        32\n",
      "           1       0.63      0.69      0.66        39\n",
      "\n",
      "    accuracy                           0.61        71\n",
      "   macro avg       0.60      0.60      0.60        71\n",
      "weighted avg       0.60      0.61      0.60        71\n",
      "\n"
     ]
    }
   ],
   "source": [
    "print(classification_report(y_test,y_pred))"
   ]
  },
  {
   "cell_type": "code",
   "execution_count": 119,
   "id": "c01c2ec3",
   "metadata": {},
   "outputs": [
    {
     "data": {
      "text/plain": [
       "[<matplotlib.lines.Line2D at 0x7fdac0c05e50>]"
      ]
     },
     "execution_count": 119,
     "metadata": {},
     "output_type": "execute_result"
    },
    {
     "data": {
      "image/png": "[encoded data removed]",
      "text/plain": [
       "<Figure size 432x288 with 1 Axes>"
      ]
     },
     "metadata": {
      "needs_background": "light"
     },
     "output_type": "display_data"
    }
   ],
   "source": [
    "p = model.predict_proba(X_test)\n",
    "fpr, tpr, th = roc_curve(y_test, p[:,1])\n",
    "plt.plot(fpr, tpr)\n",
    "plt.plot([0,1],[0,1], c='r', linestyle='--')"
   ]
  },
  {
   "cell_type": "markdown",
   "id": "2cc73f86",
   "metadata": {},
   "source": [
    "- model for cropped images without age and sex features"
   ]
  },
  {
   "cell_type": "code",
   "execution_count": 120,
   "id": "f94d34f6",
   "metadata": {},
   "outputs": [],
   "source": [
    "X = df.drop(['Target','sex','age','sex_0','sex_1'],axis=1)\n",
    "y = df.Target"
   ]
  },
  {
   "cell_type": "code",
   "execution_count": 121,
   "id": "711a5f2c",
   "metadata": {},
   "outputs": [],
   "source": [
    "X_train, X_test, y_train, y_test = train_test_split(X,y,test_size = 0.2)"
   ]
  },
  {
   "cell_type": "code",
   "execution_count": 122,
   "id": "260ea059",
   "metadata": {},
   "outputs": [
    {
     "data": {
      "text/plain": [
       "NuSVC(probability=True)"
      ]
     },
     "execution_count": 122,
     "metadata": {},
     "output_type": "execute_result"
    }
   ],
   "source": [
    "model = NuSVC(probability=True)\n",
    "model.fit(X_train, y_train)"
   ]
  },
  {
   "cell_type": "code",
   "execution_count": 123,
   "id": "d4e26c07",
   "metadata": {},
   "outputs": [],
   "source": [
    "model_collection.append(('cropped NO age-sex new batch',model.fit(X_train,y_train),\n",
    "                         model.score(X_train,y_train),model.score(X_test,y_test)\n",
    "                         ))"
   ]
  },
  {
   "cell_type": "code",
   "execution_count": 124,
   "id": "9cea6c81",
   "metadata": {},
   "outputs": [],
   "source": [
    "y_pred = model.predict(X_test)"
   ]
  },
  {
   "cell_type": "code",
   "execution_count": 125,
   "id": "67a19070",
   "metadata": {},
   "outputs": [
    {
     "data": {
      "text/plain": [
       "0.954225352112676"
      ]
     },
     "execution_count": 125,
     "metadata": {},
     "output_type": "execute_result"
    }
   ],
   "source": [
    "model.score(X_train,y_train)"
   ]
  },
  {
   "cell_type": "code",
   "execution_count": 126,
   "id": "623aac43",
   "metadata": {},
   "outputs": [
    {
     "data": {
      "text/plain": [
       "0.5352112676056338"
      ]
     },
     "execution_count": 126,
     "metadata": {},
     "output_type": "execute_result"
    }
   ],
   "source": [
    "model.score(X_test,y_test)"
   ]
  },
  {
   "cell_type": "code",
   "execution_count": 127,
   "id": "e188ded4",
   "metadata": {},
   "outputs": [
    {
     "name": "stdout",
     "output_type": "stream",
     "text": [
      "[[14 18]\n",
      " [15 24]]\n"
     ]
    }
   ],
   "source": [
    "print((confusion_matrix(y_test,y_pred)))"
   ]
  },
  {
   "cell_type": "code",
   "execution_count": 128,
   "id": "db4d1798",
   "metadata": {},
   "outputs": [
    {
     "name": "stdout",
     "output_type": "stream",
     "text": [
      "              precision    recall  f1-score   support\n",
      "\n",
      "           0       0.48      0.44      0.46        32\n",
      "           1       0.57      0.62      0.59        39\n",
      "\n",
      "    accuracy                           0.54        71\n",
      "   macro avg       0.53      0.53      0.53        71\n",
      "weighted avg       0.53      0.54      0.53        71\n",
      "\n"
     ]
    }
   ],
   "source": [
    "print(classification_report(y_test,y_pred))"
   ]
  },
  {
   "cell_type": "code",
   "execution_count": 129,
   "id": "b93aae3c",
   "metadata": {},
   "outputs": [
    {
     "data": {
      "text/plain": [
       "[<matplotlib.lines.Line2D at 0x7fdac1a0db20>]"
      ]
     },
     "execution_count": 129,
     "metadata": {},
     "output_type": "execute_result"
    },
    {
     "data": {
      "image/png": "[encoded data removed]",
      "text/plain": [
       "<Figure size 432x288 with 1 Axes>"
      ]
     },
     "metadata": {
      "needs_background": "light"
     },
     "output_type": "display_data"
    }
   ],
   "source": [
    "p = model.predict_proba(X_test)\n",
    "fpr, tpr, th = roc_curve(y_test, p[:,1])\n",
    "plt.plot(fpr, tpr)\n",
    "plt.plot([0,1],[0,1], c='r', linestyle='--')"
   ]
  },
  {
   "cell_type": "markdown",
   "id": "410cba1e",
   "metadata": {},
   "source": [
    "- cropped images not including age and sex, and without dropping rows"
   ]
  },
  {
   "cell_type": "code",
   "execution_count": 130,
   "id": "63ae980e",
   "metadata": {},
   "outputs": [],
   "source": [
    "X = df_origin.drop(['Target','sex','age'],axis=1)\n",
    "y = df_origin.Target"
   ]
  },
  {
   "cell_type": "code",
   "execution_count": 131,
   "id": "fea04ebe",
   "metadata": {},
   "outputs": [],
   "source": [
    "X_train, X_test, y_train, y_test = train_test_split(X,y,test_size = 0.2)"
   ]
  },
  {
   "cell_type": "code",
   "execution_count": 132,
   "id": "33025b44",
   "metadata": {},
   "outputs": [
    {
     "data": {
      "text/plain": [
       "NuSVC()"
      ]
     },
     "execution_count": 132,
     "metadata": {},
     "output_type": "execute_result"
    }
   ],
   "source": [
    "model = NuSVC()\n",
    "model.fit(X_train, y_train)"
   ]
  },
  {
   "cell_type": "code",
   "execution_count": 133,
   "id": "5a7b4bc3",
   "metadata": {},
   "outputs": [],
   "source": [
    "model_collection.append(('cropped NO age-sex full rows new batch',model.fit(X_train,y_train),\n",
    "                         model.score(X_train,y_train),model.score(X_test,y_test)\n",
    "                         ))"
   ]
  },
  {
   "cell_type": "code",
   "execution_count": 134,
   "id": "1a11fbb4",
   "metadata": {},
   "outputs": [],
   "source": [
    "y_pred = model.predict(X_test)"
   ]
  },
  {
   "cell_type": "code",
   "execution_count": 135,
   "id": "b5cb68d5",
   "metadata": {},
   "outputs": [
    {
     "data": {
      "text/plain": [
       "0.9676375404530745"
      ]
     },
     "execution_count": 135,
     "metadata": {},
     "output_type": "execute_result"
    }
   ],
   "source": [
    "model.score(X_train,y_train)"
   ]
  },
  {
   "cell_type": "code",
   "execution_count": 136,
   "id": "561193be",
   "metadata": {},
   "outputs": [
    {
     "data": {
      "text/plain": [
       "0.6153846153846154"
      ]
     },
     "execution_count": 136,
     "metadata": {},
     "output_type": "execute_result"
    }
   ],
   "source": [
    "model.score(X_test,y_test)"
   ]
  },
  {
   "cell_type": "code",
   "execution_count": 137,
   "id": "75ab015d",
   "metadata": {},
   "outputs": [
    {
     "name": "stdout",
     "output_type": "stream",
     "text": [
      "[[25 16]\n",
      " [14 23]]\n"
     ]
    }
   ],
   "source": [
    "print((confusion_matrix(y_test,y_pred)))"
   ]
  },
  {
   "cell_type": "code",
   "execution_count": 138,
   "id": "a1c5151a",
   "metadata": {},
   "outputs": [
    {
     "name": "stdout",
     "output_type": "stream",
     "text": [
      "              precision    recall  f1-score   support\n",
      "\n",
      "           0       0.64      0.61      0.62        41\n",
      "           1       0.59      0.62      0.61        37\n",
      "\n",
      "    accuracy                           0.62        78\n",
      "   macro avg       0.62      0.62      0.62        78\n",
      "weighted avg       0.62      0.62      0.62        78\n",
      "\n"
     ]
    }
   ],
   "source": [
    "print(classification_report(y_test,y_pred))"
   ]
  },
  {
   "cell_type": "markdown",
   "id": "c92a167c",
   "metadata": {},
   "source": [
    "- separated by sex"
   ]
  },
  {
   "cell_type": "code",
   "execution_count": 139,
   "id": "e1214536",
   "metadata": {},
   "outputs": [],
   "source": [
    "df_f = df_origin[df_origin.sex=='F']\n",
    "df_m = df_origin[df_origin.sex=='M']"
   ]
  },
  {
   "cell_type": "code",
   "execution_count": 140,
   "id": "6a4895d4",
   "metadata": {},
   "outputs": [],
   "source": [
    "X = df_f.drop(['Target','sex','age'],axis=1)\n",
    "y = df_f.Target\n",
    "X_train, X_test, y_train, y_test = train_test_split(X,y,test_size = 0.2)\n",
    "model = NuSVC(probability=True)\n",
    "model.fit(X_train, y_train)\n",
    "model_collection.append(('female dataframe new batch',model.fit(X_train,y_train),\n",
    "                         model.score(X_train,y_train),model.score(X_test,y_test)))\n",
    "y_pred = model.predict(X_test)\n"
   ]
  },
  {
   "cell_type": "code",
   "execution_count": 141,
   "id": "1cb1e045",
   "metadata": {},
   "outputs": [
    {
     "data": {
      "text/plain": [
       "0.9671052631578947"
      ]
     },
     "execution_count": 141,
     "metadata": {},
     "output_type": "execute_result"
    }
   ],
   "source": [
    "model.score(X_train,y_train)"
   ]
  },
  {
   "cell_type": "code",
   "execution_count": 142,
   "id": "eba94792",
   "metadata": {},
   "outputs": [
    {
     "data": {
      "text/plain": [
       "0.5789473684210527"
      ]
     },
     "execution_count": 142,
     "metadata": {},
     "output_type": "execute_result"
    }
   ],
   "source": [
    "model.score(X_test,y_test)"
   ]
  },
  {
   "cell_type": "code",
   "execution_count": 143,
   "id": "0e2c8048",
   "metadata": {},
   "outputs": [
    {
     "name": "stdout",
     "output_type": "stream",
     "text": [
      "[[11  7]\n",
      " [ 9 11]]\n"
     ]
    }
   ],
   "source": [
    "print((confusion_matrix(y_test,y_pred)))"
   ]
  },
  {
   "cell_type": "code",
   "execution_count": 144,
   "id": "a253397b",
   "metadata": {},
   "outputs": [
    {
     "name": "stdout",
     "output_type": "stream",
     "text": [
      "              precision    recall  f1-score   support\n",
      "\n",
      "           0       0.55      0.61      0.58        18\n",
      "           1       0.61      0.55      0.58        20\n",
      "\n",
      "    accuracy                           0.58        38\n",
      "   macro avg       0.58      0.58      0.58        38\n",
      "weighted avg       0.58      0.58      0.58        38\n",
      "\n"
     ]
    }
   ],
   "source": [
    "print(classification_report(y_test,y_pred))"
   ]
  },
  {
   "cell_type": "code",
   "execution_count": 145,
   "id": "110a5b3c",
   "metadata": {},
   "outputs": [],
   "source": [
    "p = model.predict_proba(X_test)"
   ]
  },
  {
   "cell_type": "code",
   "execution_count": 146,
   "id": "6d2d1142",
   "metadata": {},
   "outputs": [],
   "source": [
    "fpr, tpr, th = roc_curve(y_test, p[:,1])"
   ]
  },
  {
   "cell_type": "code",
   "execution_count": 147,
   "id": "5ea26deb",
   "metadata": {},
   "outputs": [
    {
     "data": {
      "text/plain": [
       "[<matplotlib.lines.Line2D at 0x7fdaa38446d0>]"
      ]
     },
     "execution_count": 147,
     "metadata": {},
     "output_type": "execute_result"
    },
    {
     "data": {
      "image/png": "[encoded data removed]",
      "text/plain": [
       "<Figure size 432x288 with 1 Axes>"
      ]
     },
     "metadata": {
      "needs_background": "light"
     },
     "output_type": "display_data"
    }
   ],
   "source": [
    "import matplotlib.pyplot as plt\n",
    "plt.plot(fpr, tpr)\n",
    "plt.plot([0,1],[0,1], c='r', linestyle='--')"
   ]
  },
  {
   "cell_type": "code",
   "execution_count": 148,
   "id": "bc0e7e4f",
   "metadata": {},
   "outputs": [
    {
     "data": {
      "text/plain": [
       "0.5222222222222223"
      ]
     },
     "execution_count": 148,
     "metadata": {},
     "output_type": "execute_result"
    }
   ],
   "source": [
    "auc(fpr, tpr)"
   ]
  },
  {
   "cell_type": "code",
   "execution_count": 149,
   "id": "c6c525f9",
   "metadata": {},
   "outputs": [],
   "source": [
    "X = df_m.drop(['Target','sex','age'],axis=1)\n",
    "y = df_m.Target\n",
    "X_train, X_test, y_train, y_test = train_test_split(X,y,test_size = 0.2)\n",
    "model = NuSVC(probability=True)\n",
    "model.fit(X_train, y_train)\n",
    "model_collection.append(('male dataframe new batch',model.fit(X_train,y_train),\n",
    "                         model.score(X_train,y_train),model.score(X_test,y_test)))\n",
    "y_pred = model.predict(X_test)"
   ]
  },
  {
   "cell_type": "code",
   "execution_count": 150,
   "id": "6807e2ce",
   "metadata": {},
   "outputs": [
    {
     "data": {
      "text/plain": [
       "0.9785714285714285"
      ]
     },
     "execution_count": 150,
     "metadata": {},
     "output_type": "execute_result"
    }
   ],
   "source": [
    "model.score(X_train,y_train)"
   ]
  },
  {
   "cell_type": "code",
   "execution_count": 151,
   "id": "8a338a6d",
   "metadata": {},
   "outputs": [
    {
     "data": {
      "text/plain": [
       "0.5"
      ]
     },
     "execution_count": 151,
     "metadata": {},
     "output_type": "execute_result"
    }
   ],
   "source": [
    "model.score(X_test,y_test)"
   ]
  },
  {
   "cell_type": "code",
   "execution_count": 152,
   "id": "dcbf5821",
   "metadata": {},
   "outputs": [
    {
     "name": "stdout",
     "output_type": "stream",
     "text": [
      "[[9 9]\n",
      " [9 9]]\n"
     ]
    }
   ],
   "source": [
    "print((confusion_matrix(y_test,y_pred)))"
   ]
  },
  {
   "cell_type": "code",
   "execution_count": 153,
   "id": "83030eb0",
   "metadata": {},
   "outputs": [
    {
     "name": "stdout",
     "output_type": "stream",
     "text": [
      "              precision    recall  f1-score   support\n",
      "\n",
      "           0       0.50      0.50      0.50        18\n",
      "           1       0.50      0.50      0.50        18\n",
      "\n",
      "    accuracy                           0.50        36\n",
      "   macro avg       0.50      0.50      0.50        36\n",
      "weighted avg       0.50      0.50      0.50        36\n",
      "\n"
     ]
    }
   ],
   "source": [
    "print(classification_report(y_test,y_pred))"
   ]
  },
  {
   "cell_type": "code",
   "execution_count": 154,
   "id": "96b71b85",
   "metadata": {},
   "outputs": [
    {
     "data": {
      "text/plain": [
       "[<matplotlib.lines.Line2D at 0x7fdaa386beb0>]"
      ]
     },
     "execution_count": 154,
     "metadata": {},
     "output_type": "execute_result"
    },
    {
     "data": {
      "image/png": "[encoded data removed]",
      "text/plain": [
       "<Figure size 432x288 with 1 Axes>"
      ]
     },
     "metadata": {
      "needs_background": "light"
     },
     "output_type": "display_data"
    }
   ],
   "source": [
    "p = model.predict_proba(X_test)\n",
    "fpr, tpr, th = roc_curve(y_test, p[:,1])\n",
    "plt.plot(fpr, tpr)\n",
    "plt.plot([0,1],[0,1], c='r', linestyle='--')"
   ]
  },
  {
   "cell_type": "code",
   "execution_count": 155,
   "id": "39ff263e",
   "metadata": {},
   "outputs": [
    {
     "data": {
      "text/plain": [
       "0.6358024691358024"
      ]
     },
     "execution_count": 155,
     "metadata": {},
     "output_type": "execute_result"
    }
   ],
   "source": [
    "auc(fpr, tpr)"
   ]
  },
  {
   "cell_type": "markdown",
   "id": "ff0053a5",
   "metadata": {},
   "source": [
    "- separated by sex and including age"
   ]
  },
  {
   "cell_type": "code",
   "execution_count": 156,
   "id": "ebea8eec",
   "metadata": {},
   "outputs": [],
   "source": [
    "df_f.drop(df_f[df_f.age == 999].index,axis=0,inplace=True)"
   ]
  },
  {
   "cell_type": "code",
   "execution_count": 157,
   "id": "1813e26d",
   "metadata": {},
   "outputs": [],
   "source": [
    "df_m.drop(df_m[df_m.age == 999].index,axis=0,inplace=True)"
   ]
  },
  {
   "cell_type": "code",
   "execution_count": 158,
   "id": "ef812033",
   "metadata": {},
   "outputs": [],
   "source": [
    "X = df_f.drop(['Target','sex','age'],axis=1)\n",
    "y = df_f.Target\n",
    "X_train, X_test, y_train, y_test = train_test_split(X,y,test_size = 0.2)\n",
    "model = NuSVC(probability=True)\n",
    "model.fit(X_train, y_train)\n",
    "model_collection.append(('female dataframe age new batch',model.fit(X_train,y_train),\n",
    "                         model.score(X_train,y_train),model.score(X_test,y_test)))\n",
    "y_pred = model.predict(X_test)"
   ]
  },
  {
   "cell_type": "code",
   "execution_count": 159,
   "id": "3f9e2df5",
   "metadata": {},
   "outputs": [
    {
     "data": {
      "text/plain": [
       "0.9864864864864865"
      ]
     },
     "execution_count": 159,
     "metadata": {},
     "output_type": "execute_result"
    }
   ],
   "source": [
    "model.score(X_train,y_train)"
   ]
  },
  {
   "cell_type": "code",
   "execution_count": 160,
   "id": "3724088d",
   "metadata": {},
   "outputs": [
    {
     "data": {
      "text/plain": [
       "0.5405405405405406"
      ]
     },
     "execution_count": 160,
     "metadata": {},
     "output_type": "execute_result"
    }
   ],
   "source": [
    "model.score(X_test,y_test)"
   ]
  },
  {
   "cell_type": "code",
   "execution_count": 161,
   "id": "74490cdc",
   "metadata": {},
   "outputs": [
    {
     "name": "stdout",
     "output_type": "stream",
     "text": [
      "[[ 6  8]\n",
      " [ 9 14]]\n"
     ]
    }
   ],
   "source": [
    "print((confusion_matrix(y_test,y_pred)))"
   ]
  },
  {
   "cell_type": "code",
   "execution_count": 162,
   "id": "8f8b947e",
   "metadata": {},
   "outputs": [
    {
     "name": "stdout",
     "output_type": "stream",
     "text": [
      "              precision    recall  f1-score   support\n",
      "\n",
      "           0       0.40      0.43      0.41        14\n",
      "           1       0.64      0.61      0.62        23\n",
      "\n",
      "    accuracy                           0.54        37\n",
      "   macro avg       0.52      0.52      0.52        37\n",
      "weighted avg       0.55      0.54      0.54        37\n",
      "\n"
     ]
    }
   ],
   "source": [
    "print(classification_report(y_test,y_pred))"
   ]
  },
  {
   "cell_type": "code",
   "execution_count": 163,
   "id": "5378f816",
   "metadata": {},
   "outputs": [
    {
     "data": {
      "text/plain": [
       "[<matplotlib.lines.Line2D at 0x7fdaa3fba8e0>]"
      ]
     },
     "execution_count": 163,
     "metadata": {},
     "output_type": "execute_result"
    },
    {
     "data": {
      "image/png": "[encoded data removed]",
      "text/plain": [
       "<Figure size 432x288 with 1 Axes>"
      ]
     },
     "metadata": {
      "needs_background": "light"
     },
     "output_type": "display_data"
    }
   ],
   "source": [
    "p = model.predict_proba(X_test)\n",
    "fpr, tpr, th = roc_curve(y_test, p[:,1])\n",
    "plt.plot(fpr, tpr)\n",
    "plt.plot([0,1],[0,1], c='r', linestyle='--')"
   ]
  },
  {
   "cell_type": "code",
   "execution_count": 164,
   "id": "9f0fccaa",
   "metadata": {},
   "outputs": [],
   "source": [
    "X = df_m.drop(['Target','sex','age'],axis=1)\n",
    "y = df_m.Target\n",
    "X_train, X_test, y_train, y_test = train_test_split(X,y,test_size = 0.2)\n",
    "model = NuSVC(probability=True)\n",
    "model.fit(X_train, y_train)\n",
    "model_collection.append(('male dataframe age new batch',model.fit(X_train,y_train),\n",
    "                         model.score(X_train,y_train),model.score(X_test,y_test)))\n",
    "y_pred = model.predict(X_test)"
   ]
  },
  {
   "cell_type": "code",
   "execution_count": 165,
   "id": "1d22b38e",
   "metadata": {},
   "outputs": [
    {
     "data": {
      "text/plain": [
       "0.9632352941176471"
      ]
     },
     "execution_count": 165,
     "metadata": {},
     "output_type": "execute_result"
    }
   ],
   "source": [
    "model.score(X_train,y_train)"
   ]
  },
  {
   "cell_type": "code",
   "execution_count": 166,
   "id": "0b22bed5",
   "metadata": {},
   "outputs": [
    {
     "data": {
      "text/plain": [
       "0.5294117647058824"
      ]
     },
     "execution_count": 166,
     "metadata": {},
     "output_type": "execute_result"
    }
   ],
   "source": [
    "model.score(X_test,y_test)"
   ]
  },
  {
   "cell_type": "code",
   "execution_count": 167,
   "id": "d31645f2",
   "metadata": {},
   "outputs": [
    {
     "name": "stdout",
     "output_type": "stream",
     "text": [
      "[[10  7]\n",
      " [ 9  8]]\n"
     ]
    }
   ],
   "source": [
    "print((confusion_matrix(y_test,y_pred)))"
   ]
  },
  {
   "cell_type": "code",
   "execution_count": 168,
   "id": "0ab3972d",
   "metadata": {},
   "outputs": [
    {
     "name": "stdout",
     "output_type": "stream",
     "text": [
      "              precision    recall  f1-score   support\n",
      "\n",
      "           0       0.53      0.59      0.56        17\n",
      "           1       0.53      0.47      0.50        17\n",
      "\n",
      "    accuracy                           0.53        34\n",
      "   macro avg       0.53      0.53      0.53        34\n",
      "weighted avg       0.53      0.53      0.53        34\n",
      "\n"
     ]
    }
   ],
   "source": [
    "print(classification_report(y_test,y_pred))"
   ]
  },
  {
   "cell_type": "code",
   "execution_count": 169,
   "id": "b6137aa0",
   "metadata": {},
   "outputs": [
    {
     "data": {
      "text/plain": [
       "[<matplotlib.lines.Line2D at 0x7fdaa41bff70>]"
      ]
     },
     "execution_count": 169,
     "metadata": {},
     "output_type": "execute_result"
    },
    {
     "data": {
      "image/png": "[encoded data removed]",
      "text/plain": [
       "<Figure size 432x288 with 1 Axes>"
      ]
     },
     "metadata": {
      "needs_background": "light"
     },
     "output_type": "display_data"
    }
   ],
   "source": [
    "p = model.predict_proba(X_test)\n",
    "fpr, tpr, th = roc_curve(y_test, p[:,1])\n",
    "plt.plot(fpr, tpr)\n",
    "plt.plot([0,1],[0,1], c='r', linestyle='--')"
   ]
  },
  {
   "cell_type": "markdown",
   "id": "3af8d240",
   "metadata": {},
   "source": [
    "- uncensored dataframe"
   ]
  },
  {
   "cell_type": "code",
   "execution_count": 170,
   "id": "fb0b7d43",
   "metadata": {},
   "outputs": [],
   "source": [
    "df = pd.read_csv('df_unCens.csv')"
   ]
  },
  {
   "cell_type": "code",
   "execution_count": 171,
   "id": "13d978b2",
   "metadata": {},
   "outputs": [
    {
     "data": {
      "text/html": [
       "<div>\n",
       "<style scoped>\n",
       "    .dataframe tbody tr th:only-of-type {\n",
       "        vertical-align: middle;\n",
       "    }\n",
       "\n",
       "    .dataframe tbody tr th {\n",
       "        vertical-align: top;\n",
       "    }\n",
       "\n",
       "    .dataframe thead th {\n",
       "        text-align: right;\n",
       "    }\n",
       "</style>\n",
       "<table border=\"1\" class=\"dataframe\">\n",
       "  <thead>\n",
       "    <tr style=\"text-align: right;\">\n",
       "      <th></th>\n",
       "      <th>Unnamed: 0</th>\n",
       "      <th>0</th>\n",
       "      <th>1</th>\n",
       "      <th>2</th>\n",
       "      <th>3</th>\n",
       "      <th>4</th>\n",
       "      <th>5</th>\n",
       "      <th>6</th>\n",
       "      <th>7</th>\n",
       "      <th>8</th>\n",
       "      <th>...</th>\n",
       "      <th>993</th>\n",
       "      <th>994</th>\n",
       "      <th>995</th>\n",
       "      <th>996</th>\n",
       "      <th>997</th>\n",
       "      <th>998</th>\n",
       "      <th>999</th>\n",
       "      <th>1000</th>\n",
       "      <th>1001</th>\n",
       "      <th>Target</th>\n",
       "    </tr>\n",
       "  </thead>\n",
       "  <tbody>\n",
       "    <tr>\n",
       "      <th>0</th>\n",
       "      <td>0</td>\n",
       "      <td>0.00</td>\n",
       "      <td>0.00</td>\n",
       "      <td>0.00</td>\n",
       "      <td>0.00</td>\n",
       "      <td>0.00</td>\n",
       "      <td>0.00</td>\n",
       "      <td>0.00</td>\n",
       "      <td>0.00</td>\n",
       "      <td>0.00</td>\n",
       "      <td>...</td>\n",
       "      <td>0.00</td>\n",
       "      <td>0.00</td>\n",
       "      <td>0.00</td>\n",
       "      <td>0.00</td>\n",
       "      <td>0.00</td>\n",
       "      <td>0.00</td>\n",
       "      <td>0.00</td>\n",
       "      <td>56</td>\n",
       "      <td>F</td>\n",
       "      <td>0</td>\n",
       "    </tr>\n",
       "    <tr>\n",
       "      <th>1</th>\n",
       "      <td>1</td>\n",
       "      <td>0.00</td>\n",
       "      <td>0.00</td>\n",
       "      <td>0.00</td>\n",
       "      <td>0.00</td>\n",
       "      <td>0.00</td>\n",
       "      <td>0.00</td>\n",
       "      <td>0.00</td>\n",
       "      <td>0.00</td>\n",
       "      <td>0.00</td>\n",
       "      <td>...</td>\n",
       "      <td>0.00</td>\n",
       "      <td>0.00</td>\n",
       "      <td>0.00</td>\n",
       "      <td>0.00</td>\n",
       "      <td>0.00</td>\n",
       "      <td>0.00</td>\n",
       "      <td>0.52</td>\n",
       "      <td>58</td>\n",
       "      <td>M</td>\n",
       "      <td>0</td>\n",
       "    </tr>\n",
       "    <tr>\n",
       "      <th>2</th>\n",
       "      <td>2</td>\n",
       "      <td>0.00</td>\n",
       "      <td>0.00</td>\n",
       "      <td>0.00</td>\n",
       "      <td>0.00</td>\n",
       "      <td>0.00</td>\n",
       "      <td>0.00</td>\n",
       "      <td>0.00</td>\n",
       "      <td>0.00</td>\n",
       "      <td>0.00</td>\n",
       "      <td>...</td>\n",
       "      <td>0.00</td>\n",
       "      <td>0.00</td>\n",
       "      <td>0.00</td>\n",
       "      <td>0.00</td>\n",
       "      <td>0.00</td>\n",
       "      <td>0.00</td>\n",
       "      <td>0.01</td>\n",
       "      <td>45</td>\n",
       "      <td>M</td>\n",
       "      <td>0</td>\n",
       "    </tr>\n",
       "    <tr>\n",
       "      <th>3</th>\n",
       "      <td>3</td>\n",
       "      <td>0.00</td>\n",
       "      <td>0.00</td>\n",
       "      <td>0.00</td>\n",
       "      <td>0.00</td>\n",
       "      <td>0.00</td>\n",
       "      <td>0.00</td>\n",
       "      <td>0.00</td>\n",
       "      <td>0.00</td>\n",
       "      <td>0.00</td>\n",
       "      <td>...</td>\n",
       "      <td>0.00</td>\n",
       "      <td>0.00</td>\n",
       "      <td>0.00</td>\n",
       "      <td>0.00</td>\n",
       "      <td>0.00</td>\n",
       "      <td>0.00</td>\n",
       "      <td>0.06</td>\n",
       "      <td>59</td>\n",
       "      <td>M</td>\n",
       "      <td>0</td>\n",
       "    </tr>\n",
       "    <tr>\n",
       "      <th>4</th>\n",
       "      <td>4</td>\n",
       "      <td>0.00</td>\n",
       "      <td>0.00</td>\n",
       "      <td>0.01</td>\n",
       "      <td>0.05</td>\n",
       "      <td>0.02</td>\n",
       "      <td>0.01</td>\n",
       "      <td>0.02</td>\n",
       "      <td>0.00</td>\n",
       "      <td>0.00</td>\n",
       "      <td>...</td>\n",
       "      <td>0.00</td>\n",
       "      <td>0.00</td>\n",
       "      <td>0.00</td>\n",
       "      <td>0.00</td>\n",
       "      <td>0.00</td>\n",
       "      <td>0.00</td>\n",
       "      <td>0.01</td>\n",
       "      <td>55</td>\n",
       "      <td>F</td>\n",
       "      <td>0</td>\n",
       "    </tr>\n",
       "  </tbody>\n",
       "</table>\n",
       "<p>5 rows × 1004 columns</p>\n",
       "</div>"
      ],
      "text/plain": [
       "   Unnamed: 0    0    1    2    3    4    5    6    7    8  ...  993  994  \\\n",
       "0           0 0.00 0.00 0.00 0.00 0.00 0.00 0.00 0.00 0.00  ... 0.00 0.00   \n",
       "1           1 0.00 0.00 0.00 0.00 0.00 0.00 0.00 0.00 0.00  ... 0.00 0.00   \n",
       "2           2 0.00 0.00 0.00 0.00 0.00 0.00 0.00 0.00 0.00  ... 0.00 0.00   \n",
       "3           3 0.00 0.00 0.00 0.00 0.00 0.00 0.00 0.00 0.00  ... 0.00 0.00   \n",
       "4           4 0.00 0.00 0.01 0.05 0.02 0.01 0.02 0.00 0.00  ... 0.00 0.00   \n",
       "\n",
       "   995  996  997  998  999  1000  1001  Target  \n",
       "0 0.00 0.00 0.00 0.00 0.00    56     F       0  \n",
       "1 0.00 0.00 0.00 0.00 0.52    58     M       0  \n",
       "2 0.00 0.00 0.00 0.00 0.01    45     M       0  \n",
       "3 0.00 0.00 0.00 0.00 0.06    59     M       0  \n",
       "4 0.00 0.00 0.00 0.00 0.01    55     F       0  \n",
       "\n",
       "[5 rows x 1004 columns]"
      ]
     },
     "execution_count": 171,
     "metadata": {},
     "output_type": "execute_result"
    }
   ],
   "source": [
    "df.head()"
   ]
  },
  {
   "cell_type": "code",
   "execution_count": 172,
   "id": "ea27a877",
   "metadata": {},
   "outputs": [],
   "source": [
    "df.drop('Unnamed: 0',axis=1,inplace=True)\n",
    "df.rename(columns={'1000':'age', '1001':'sex'},inplace=True)"
   ]
  },
  {
   "cell_type": "code",
   "execution_count": 173,
   "id": "e516253d",
   "metadata": {},
   "outputs": [],
   "source": [
    "df_origin = df.copy()"
   ]
  },
  {
   "cell_type": "code",
   "execution_count": 174,
   "id": "7e2af5c7",
   "metadata": {},
   "outputs": [],
   "source": [
    "df.drop(df[(df['age'] == 999) | (df['sex'] == 'U')].index, axis=0,inplace=True)"
   ]
  },
  {
   "cell_type": "code",
   "execution_count": 175,
   "id": "ae82cb11",
   "metadata": {},
   "outputs": [],
   "source": [
    "encoder = ce.BinaryEncoder()"
   ]
  },
  {
   "cell_type": "code",
   "execution_count": 176,
   "id": "3e0e849c",
   "metadata": {},
   "outputs": [],
   "source": [
    "df['sex_0'] = encoder.fit_transform(df['sex'])['sex_0']"
   ]
  },
  {
   "cell_type": "code",
   "execution_count": 177,
   "id": "6bee04e5",
   "metadata": {},
   "outputs": [],
   "source": [
    "df['sex_1'] = encoder.fit_transform(df['sex'])['sex_1']"
   ]
  },
  {
   "cell_type": "code",
   "execution_count": 178,
   "id": "85ee0b0b",
   "metadata": {},
   "outputs": [],
   "source": [
    "X = df.drop(['Target','sex'],axis=1)\n",
    "y = df.Target"
   ]
  },
  {
   "cell_type": "code",
   "execution_count": 179,
   "id": "66299d77",
   "metadata": {},
   "outputs": [],
   "source": [
    "X_train, X_test, y_train, y_test = train_test_split(X,y,test_size = 0.2)"
   ]
  },
  {
   "cell_type": "code",
   "execution_count": 180,
   "id": "5541feed",
   "metadata": {},
   "outputs": [],
   "source": [
    "model = NuSVC(probability=True)"
   ]
  },
  {
   "cell_type": "code",
   "execution_count": 181,
   "id": "e7bd17a1",
   "metadata": {},
   "outputs": [
    {
     "data": {
      "text/plain": [
       "NuSVC(probability=True)"
      ]
     },
     "execution_count": 181,
     "metadata": {},
     "output_type": "execute_result"
    }
   ],
   "source": [
    "model.fit(X_train, y_train)"
   ]
  },
  {
   "cell_type": "code",
   "execution_count": 182,
   "id": "e9e879b6",
   "metadata": {},
   "outputs": [],
   "source": [
    "model_collection.append(('uncens agesex full batch',model.fit(X_train,y_train),\n",
    "                         model.score(X_train,y_train),model.score(X_test,y_test)\n",
    "                         ))"
   ]
  },
  {
   "cell_type": "code",
   "execution_count": 183,
   "id": "81167c92",
   "metadata": {},
   "outputs": [],
   "source": [
    "y_pred = model.predict(X_test)"
   ]
  },
  {
   "cell_type": "code",
   "execution_count": 184,
   "id": "a6c24891",
   "metadata": {},
   "outputs": [
    {
     "data": {
      "text/plain": [
       "0.5809859154929577"
      ]
     },
     "execution_count": 184,
     "metadata": {},
     "output_type": "execute_result"
    }
   ],
   "source": [
    "model.score(X_train,y_train)"
   ]
  },
  {
   "cell_type": "code",
   "execution_count": 185,
   "id": "4579426b",
   "metadata": {},
   "outputs": [
    {
     "data": {
      "text/plain": [
       "0.49295774647887325"
      ]
     },
     "execution_count": 185,
     "metadata": {},
     "output_type": "execute_result"
    }
   ],
   "source": [
    "model.score(X_test,y_test)"
   ]
  },
  {
   "cell_type": "code",
   "execution_count": 186,
   "id": "c82f77f9",
   "metadata": {},
   "outputs": [
    {
     "name": "stdout",
     "output_type": "stream",
     "text": [
      "[[16 20]\n",
      " [16 19]]\n"
     ]
    }
   ],
   "source": [
    "print((confusion_matrix(y_test,y_pred)))"
   ]
  },
  {
   "cell_type": "code",
   "execution_count": 187,
   "id": "54fdafb9",
   "metadata": {},
   "outputs": [
    {
     "name": "stdout",
     "output_type": "stream",
     "text": [
      "              precision    recall  f1-score   support\n",
      "\n",
      "           0       0.50      0.44      0.47        36\n",
      "           1       0.49      0.54      0.51        35\n",
      "\n",
      "    accuracy                           0.49        71\n",
      "   macro avg       0.49      0.49      0.49        71\n",
      "weighted avg       0.49      0.49      0.49        71\n",
      "\n"
     ]
    }
   ],
   "source": [
    "print(classification_report(y_test,y_pred))"
   ]
  },
  {
   "cell_type": "code",
   "execution_count": 188,
   "id": "db3f6aff",
   "metadata": {
    "scrolled": true
   },
   "outputs": [
    {
     "data": {
      "text/plain": [
       "[<matplotlib.lines.Line2D at 0x7fdaa43d37c0>]"
      ]
     },
     "execution_count": 188,
     "metadata": {},
     "output_type": "execute_result"
    },
    {
     "data": {
      "image/png": "[encoded data removed]",
      "text/plain": [
       "<Figure size 432x288 with 1 Axes>"
      ]
     },
     "metadata": {
      "needs_background": "light"
     },
     "output_type": "display_data"
    }
   ],
   "source": [
    "p = model.predict_proba(X_test)\n",
    "fpr, tpr, th = roc_curve(y_test, p[:,1])\n",
    "plt.plot(fpr, tpr)\n",
    "plt.plot([0,1],[0,1], c='r', linestyle='--')"
   ]
  },
  {
   "cell_type": "code",
   "execution_count": 189,
   "id": "fb0b7d43",
   "metadata": {},
   "outputs": [],
   "source": [
    "df = pd.read_csv('df_rotated_unCens.csv')"
   ]
  },
  {
   "cell_type": "code",
   "execution_count": 190,
   "id": "13d978b2",
   "metadata": {},
   "outputs": [
    {
     "data": {
      "text/html": [
       "<div>\n",
       "<style scoped>\n",
       "    .dataframe tbody tr th:only-of-type {\n",
       "        vertical-align: middle;\n",
       "    }\n",
       "\n",
       "    .dataframe tbody tr th {\n",
       "        vertical-align: top;\n",
       "    }\n",
       "\n",
       "    .dataframe thead th {\n",
       "        text-align: right;\n",
       "    }\n",
       "</style>\n",
       "<table border=\"1\" class=\"dataframe\">\n",
       "  <thead>\n",
       "    <tr style=\"text-align: right;\">\n",
       "      <th></th>\n",
       "      <th>Unnamed: 0</th>\n",
       "      <th>0</th>\n",
       "      <th>1</th>\n",
       "      <th>2</th>\n",
       "      <th>3</th>\n",
       "      <th>4</th>\n",
       "      <th>5</th>\n",
       "      <th>6</th>\n",
       "      <th>7</th>\n",
       "      <th>8</th>\n",
       "      <th>...</th>\n",
       "      <th>993</th>\n",
       "      <th>994</th>\n",
       "      <th>995</th>\n",
       "      <th>996</th>\n",
       "      <th>997</th>\n",
       "      <th>998</th>\n",
       "      <th>999</th>\n",
       "      <th>1000</th>\n",
       "      <th>1001</th>\n",
       "      <th>Target</th>\n",
       "    </tr>\n",
       "  </thead>\n",
       "  <tbody>\n",
       "    <tr>\n",
       "      <th>0</th>\n",
       "      <td>0</td>\n",
       "      <td>0.00</td>\n",
       "      <td>0.00</td>\n",
       "      <td>0.00</td>\n",
       "      <td>0.00</td>\n",
       "      <td>0.00</td>\n",
       "      <td>0.00</td>\n",
       "      <td>0.00</td>\n",
       "      <td>0.00</td>\n",
       "      <td>0.00</td>\n",
       "      <td>...</td>\n",
       "      <td>0.00</td>\n",
       "      <td>0.00</td>\n",
       "      <td>0.00</td>\n",
       "      <td>0.00</td>\n",
       "      <td>0.00</td>\n",
       "      <td>0.00</td>\n",
       "      <td>0.00</td>\n",
       "      <td>42</td>\n",
       "      <td>F</td>\n",
       "      <td>0</td>\n",
       "    </tr>\n",
       "    <tr>\n",
       "      <th>1</th>\n",
       "      <td>1</td>\n",
       "      <td>0.00</td>\n",
       "      <td>0.00</td>\n",
       "      <td>0.00</td>\n",
       "      <td>0.00</td>\n",
       "      <td>0.00</td>\n",
       "      <td>0.02</td>\n",
       "      <td>0.01</td>\n",
       "      <td>0.00</td>\n",
       "      <td>0.00</td>\n",
       "      <td>...</td>\n",
       "      <td>0.00</td>\n",
       "      <td>0.00</td>\n",
       "      <td>0.00</td>\n",
       "      <td>0.00</td>\n",
       "      <td>0.00</td>\n",
       "      <td>0.00</td>\n",
       "      <td>0.00</td>\n",
       "      <td>62</td>\n",
       "      <td>M</td>\n",
       "      <td>0</td>\n",
       "    </tr>\n",
       "    <tr>\n",
       "      <th>2</th>\n",
       "      <td>2</td>\n",
       "      <td>0.00</td>\n",
       "      <td>0.00</td>\n",
       "      <td>0.00</td>\n",
       "      <td>0.00</td>\n",
       "      <td>0.00</td>\n",
       "      <td>0.00</td>\n",
       "      <td>0.00</td>\n",
       "      <td>0.00</td>\n",
       "      <td>0.00</td>\n",
       "      <td>...</td>\n",
       "      <td>0.00</td>\n",
       "      <td>0.00</td>\n",
       "      <td>0.00</td>\n",
       "      <td>0.00</td>\n",
       "      <td>0.00</td>\n",
       "      <td>0.00</td>\n",
       "      <td>0.00</td>\n",
       "      <td>41</td>\n",
       "      <td>M</td>\n",
       "      <td>0</td>\n",
       "    </tr>\n",
       "    <tr>\n",
       "      <th>3</th>\n",
       "      <td>3</td>\n",
       "      <td>0.00</td>\n",
       "      <td>0.00</td>\n",
       "      <td>0.00</td>\n",
       "      <td>0.00</td>\n",
       "      <td>0.00</td>\n",
       "      <td>0.00</td>\n",
       "      <td>0.00</td>\n",
       "      <td>0.00</td>\n",
       "      <td>0.00</td>\n",
       "      <td>...</td>\n",
       "      <td>0.00</td>\n",
       "      <td>0.00</td>\n",
       "      <td>0.00</td>\n",
       "      <td>0.00</td>\n",
       "      <td>0.00</td>\n",
       "      <td>0.00</td>\n",
       "      <td>0.00</td>\n",
       "      <td>999</td>\n",
       "      <td>U</td>\n",
       "      <td>0</td>\n",
       "    </tr>\n",
       "    <tr>\n",
       "      <th>4</th>\n",
       "      <td>4</td>\n",
       "      <td>0.00</td>\n",
       "      <td>0.00</td>\n",
       "      <td>0.00</td>\n",
       "      <td>0.00</td>\n",
       "      <td>0.00</td>\n",
       "      <td>0.00</td>\n",
       "      <td>0.00</td>\n",
       "      <td>0.00</td>\n",
       "      <td>0.00</td>\n",
       "      <td>...</td>\n",
       "      <td>0.00</td>\n",
       "      <td>0.00</td>\n",
       "      <td>0.00</td>\n",
       "      <td>0.00</td>\n",
       "      <td>0.00</td>\n",
       "      <td>0.00</td>\n",
       "      <td>0.00</td>\n",
       "      <td>49</td>\n",
       "      <td>F</td>\n",
       "      <td>0</td>\n",
       "    </tr>\n",
       "  </tbody>\n",
       "</table>\n",
       "<p>5 rows × 1004 columns</p>\n",
       "</div>"
      ],
      "text/plain": [
       "   Unnamed: 0    0    1    2    3    4    5    6    7    8  ...  993  994  \\\n",
       "0           0 0.00 0.00 0.00 0.00 0.00 0.00 0.00 0.00 0.00  ... 0.00 0.00   \n",
       "1           1 0.00 0.00 0.00 0.00 0.00 0.02 0.01 0.00 0.00  ... 0.00 0.00   \n",
       "2           2 0.00 0.00 0.00 0.00 0.00 0.00 0.00 0.00 0.00  ... 0.00 0.00   \n",
       "3           3 0.00 0.00 0.00 0.00 0.00 0.00 0.00 0.00 0.00  ... 0.00 0.00   \n",
       "4           4 0.00 0.00 0.00 0.00 0.00 0.00 0.00 0.00 0.00  ... 0.00 0.00   \n",
       "\n",
       "   995  996  997  998  999  1000  1001  Target  \n",
       "0 0.00 0.00 0.00 0.00 0.00    42     F       0  \n",
       "1 0.00 0.00 0.00 0.00 0.00    62     M       0  \n",
       "2 0.00 0.00 0.00 0.00 0.00    41     M       0  \n",
       "3 0.00 0.00 0.00 0.00 0.00   999     U       0  \n",
       "4 0.00 0.00 0.00 0.00 0.00    49     F       0  \n",
       "\n",
       "[5 rows x 1004 columns]"
      ]
     },
     "execution_count": 190,
     "metadata": {},
     "output_type": "execute_result"
    }
   ],
   "source": [
    "df.head()"
   ]
  },
  {
   "cell_type": "code",
   "execution_count": 191,
   "id": "ea27a877",
   "metadata": {},
   "outputs": [],
   "source": [
    "df.drop('Unnamed: 0',axis=1,inplace=True)\n",
    "df.rename(columns={'1000':'age', '1001':'sex'},inplace=True)"
   ]
  },
  {
   "cell_type": "code",
   "execution_count": 192,
   "id": "e516253d",
   "metadata": {},
   "outputs": [],
   "source": [
    "df_origin = df.copy()"
   ]
  },
  {
   "cell_type": "code",
   "execution_count": 193,
   "id": "7e2af5c7",
   "metadata": {},
   "outputs": [],
   "source": [
    "df.drop(df[(df['age'] == 999) | (df['sex'] == 'U')].index, axis=0,inplace=True)"
   ]
  },
  {
   "cell_type": "code",
   "execution_count": 194,
   "id": "ae82cb11",
   "metadata": {},
   "outputs": [],
   "source": [
    "encoder = ce.BinaryEncoder()"
   ]
  },
  {
   "cell_type": "code",
   "execution_count": 195,
   "id": "3e0e849c",
   "metadata": {},
   "outputs": [],
   "source": [
    "df['sex_0'] = encoder.fit_transform(df['sex'])['sex_0']"
   ]
  },
  {
   "cell_type": "code",
   "execution_count": 196,
   "id": "6bee04e5",
   "metadata": {},
   "outputs": [],
   "source": [
    "df['sex_1'] = encoder.fit_transform(df['sex'])['sex_1']"
   ]
  },
  {
   "cell_type": "code",
   "execution_count": 197,
   "id": "85ee0b0b",
   "metadata": {},
   "outputs": [],
   "source": [
    "X = df.drop(['Target','sex'],axis=1)\n",
    "y = df.Target"
   ]
  },
  {
   "cell_type": "code",
   "execution_count": 198,
   "id": "66299d77",
   "metadata": {},
   "outputs": [],
   "source": [
    "X_train, X_test, y_train, y_test = train_test_split(X,y,test_size = 0.2)"
   ]
  },
  {
   "cell_type": "code",
   "execution_count": 199,
   "id": "5541feed",
   "metadata": {},
   "outputs": [],
   "source": [
    "model = NuSVC(probability=True)"
   ]
  },
  {
   "cell_type": "code",
   "execution_count": 200,
   "id": "e7bd17a1",
   "metadata": {},
   "outputs": [
    {
     "data": {
      "text/plain": [
       "NuSVC(probability=True)"
      ]
     },
     "execution_count": 200,
     "metadata": {},
     "output_type": "execute_result"
    }
   ],
   "source": [
    "model.fit(X_train, y_train)"
   ]
  },
  {
   "cell_type": "code",
   "execution_count": 201,
   "id": "e9e879b6",
   "metadata": {},
   "outputs": [],
   "source": [
    "model_collection.append(('uncens rotated agesex full batch',model.fit(X_train,y_train),\n",
    "                         model.score(X_train,y_train),model.score(X_test,y_test)\n",
    "                         ))"
   ]
  },
  {
   "cell_type": "code",
   "execution_count": 202,
   "id": "81167c92",
   "metadata": {},
   "outputs": [],
   "source": [
    "y_pred = model.predict(X_test)"
   ]
  },
  {
   "cell_type": "code",
   "execution_count": 203,
   "id": "a6c24891",
   "metadata": {},
   "outputs": [
    {
     "data": {
      "text/plain": [
       "0.573943661971831"
      ]
     },
     "execution_count": 203,
     "metadata": {},
     "output_type": "execute_result"
    }
   ],
   "source": [
    "model.score(X_train,y_train)"
   ]
  },
  {
   "cell_type": "code",
   "execution_count": 204,
   "id": "4579426b",
   "metadata": {},
   "outputs": [
    {
     "data": {
      "text/plain": [
       "0.4788732394366197"
      ]
     },
     "execution_count": 204,
     "metadata": {},
     "output_type": "execute_result"
    }
   ],
   "source": [
    "model.score(X_test,y_test)"
   ]
  },
  {
   "cell_type": "code",
   "execution_count": 205,
   "id": "c82f77f9",
   "metadata": {},
   "outputs": [
    {
     "name": "stdout",
     "output_type": "stream",
     "text": [
      "[[ 9 24]\n",
      " [13 25]]\n"
     ]
    }
   ],
   "source": [
    "print((confusion_matrix(y_test,y_pred)))"
   ]
  },
  {
   "cell_type": "code",
   "execution_count": 206,
   "id": "54fdafb9",
   "metadata": {},
   "outputs": [
    {
     "name": "stdout",
     "output_type": "stream",
     "text": [
      "              precision    recall  f1-score   support\n",
      "\n",
      "           0       0.41      0.27      0.33        33\n",
      "           1       0.51      0.66      0.57        38\n",
      "\n",
      "    accuracy                           0.48        71\n",
      "   macro avg       0.46      0.47      0.45        71\n",
      "weighted avg       0.46      0.48      0.46        71\n",
      "\n"
     ]
    }
   ],
   "source": [
    "print(classification_report(y_test,y_pred))"
   ]
  },
  {
   "cell_type": "code",
   "execution_count": 207,
   "id": "db3f6aff",
   "metadata": {},
   "outputs": [
    {
     "data": {
      "text/plain": [
       "[<matplotlib.lines.Line2D at 0x7fdaa3b7a6d0>]"
      ]
     },
     "execution_count": 207,
     "metadata": {},
     "output_type": "execute_result"
    },
    {
     "data": {
      "image/png": "[encoded data removed]",
      "text/plain": [
       "<Figure size 432x288 with 1 Axes>"
      ]
     },
     "metadata": {
      "needs_background": "light"
     },
     "output_type": "display_data"
    }
   ],
   "source": [
    "p = model.predict_proba(X_test)\n",
    "fpr, tpr, th = roc_curve(y_test, p[:,1])\n",
    "plt.plot(fpr, tpr)\n",
    "plt.plot([0,1],[0,1], c='r', linestyle='--')"
   ]
  },
  {
   "cell_type": "code",
   "execution_count": 208,
   "id": "2a8088b4",
   "metadata": {},
   "outputs": [],
   "source": [
    "models_df = pd.DataFrame(\n",
    "    columns= ['name','model','train score','test score'],\n",
    "    index= range(0,len(model_collection)))"
   ]
  },
  {
   "cell_type": "code",
   "execution_count": 209,
   "id": "5d6d9afc",
   "metadata": {},
   "outputs": [],
   "source": [
    "pos = 0\n",
    "for i in model_collection:\n",
    "    models_df.loc[pos,'name'] = i[0]\n",
    "    models_df.loc[pos,'model'] = i[1]\n",
    "    models_df.loc[pos,'train score'] = i[2]\n",
    "    models_df.loc[pos,'test score'] = i[3]\n",
    "    pos += 1"
   ]
  },
  {
   "cell_type": "code",
   "execution_count": 210,
   "id": "d7dd9c60",
   "metadata": {},
   "outputs": [
    {
     "data": {
      "text/html": [
       "<div>\n",
       "<style scoped>\n",
       "    .dataframe tbody tr th:only-of-type {\n",
       "        vertical-align: middle;\n",
       "    }\n",
       "\n",
       "    .dataframe tbody tr th {\n",
       "        vertical-align: top;\n",
       "    }\n",
       "\n",
       "    .dataframe thead th {\n",
       "        text-align: right;\n",
       "    }\n",
       "</style>\n",
       "<table border=\"1\" class=\"dataframe\">\n",
       "  <thead>\n",
       "    <tr style=\"text-align: right;\">\n",
       "      <th></th>\n",
       "      <th>name</th>\n",
       "      <th>model</th>\n",
       "      <th>train score</th>\n",
       "      <th>test score</th>\n",
       "    </tr>\n",
       "  </thead>\n",
       "  <tbody>\n",
       "    <tr>\n",
       "      <th>9</th>\n",
       "      <td>cropped NO age-sex full rows new batch</td>\n",
       "      <td>NuSVC()</td>\n",
       "      <td>0.97</td>\n",
       "      <td>0.62</td>\n",
       "    </tr>\n",
       "    <tr>\n",
       "      <th>7</th>\n",
       "      <td>cropped new batch</td>\n",
       "      <td>NuSVC(probability=True)</td>\n",
       "      <td>0.93</td>\n",
       "      <td>0.61</td>\n",
       "    </tr>\n",
       "    <tr>\n",
       "      <th>2</th>\n",
       "      <td>rotated batch</td>\n",
       "      <td>NuSVC(probability=True)</td>\n",
       "      <td>0.99</td>\n",
       "      <td>0.60</td>\n",
       "    </tr>\n",
       "    <tr>\n",
       "      <th>10</th>\n",
       "      <td>female dataframe new batch</td>\n",
       "      <td>NuSVC(probability=True)</td>\n",
       "      <td>0.97</td>\n",
       "      <td>0.58</td>\n",
       "    </tr>\n",
       "    <tr>\n",
       "      <th>4</th>\n",
       "      <td>cropped original batch</td>\n",
       "      <td>NuSVC(probability=True)</td>\n",
       "      <td>0.57</td>\n",
       "      <td>0.55</td>\n",
       "    </tr>\n",
       "    <tr>\n",
       "      <th>12</th>\n",
       "      <td>female dataframe age new batch</td>\n",
       "      <td>NuSVC(probability=True)</td>\n",
       "      <td>0.99</td>\n",
       "      <td>0.54</td>\n",
       "    </tr>\n",
       "    <tr>\n",
       "      <th>8</th>\n",
       "      <td>cropped NO age-sex new batch</td>\n",
       "      <td>NuSVC(probability=True)</td>\n",
       "      <td>0.95</td>\n",
       "      <td>0.54</td>\n",
       "    </tr>\n",
       "    <tr>\n",
       "      <th>13</th>\n",
       "      <td>male dataframe age new batch</td>\n",
       "      <td>NuSVC(probability=True)</td>\n",
       "      <td>0.96</td>\n",
       "      <td>0.53</td>\n",
       "    </tr>\n",
       "    <tr>\n",
       "      <th>1</th>\n",
       "      <td>original batch NuSVC</td>\n",
       "      <td>NuSVC()</td>\n",
       "      <td>0.99</td>\n",
       "      <td>0.53</td>\n",
       "    </tr>\n",
       "    <tr>\n",
       "      <th>5</th>\n",
       "      <td>cropped no sex-age original batch</td>\n",
       "      <td>NuSVC(probability=True)</td>\n",
       "      <td>0.97</td>\n",
       "      <td>0.51</td>\n",
       "    </tr>\n",
       "    <tr>\n",
       "      <th>11</th>\n",
       "      <td>male dataframe new batch</td>\n",
       "      <td>NuSVC(probability=True)</td>\n",
       "      <td>0.98</td>\n",
       "      <td>0.50</td>\n",
       "    </tr>\n",
       "    <tr>\n",
       "      <th>14</th>\n",
       "      <td>uncens agesex full batch</td>\n",
       "      <td>NuSVC(probability=True)</td>\n",
       "      <td>0.58</td>\n",
       "      <td>0.49</td>\n",
       "    </tr>\n",
       "    <tr>\n",
       "      <th>6</th>\n",
       "      <td>cropped NO age-sex full row original batch</td>\n",
       "      <td>NuSVC(probability=True)</td>\n",
       "      <td>0.98</td>\n",
       "      <td>0.49</td>\n",
       "    </tr>\n",
       "    <tr>\n",
       "      <th>15</th>\n",
       "      <td>uncens rotated agesex full batch</td>\n",
       "      <td>NuSVC(probability=True)</td>\n",
       "      <td>0.57</td>\n",
       "      <td>0.48</td>\n",
       "    </tr>\n",
       "    <tr>\n",
       "      <th>3</th>\n",
       "      <td>sex-age original batch</td>\n",
       "      <td>NuSVC(probability=True)</td>\n",
       "      <td>0.46</td>\n",
       "      <td>0.47</td>\n",
       "    </tr>\n",
       "    <tr>\n",
       "      <th>0</th>\n",
       "      <td>original batch</td>\n",
       "      <td>LogisticRegression()</td>\n",
       "      <td>0.55</td>\n",
       "      <td>0.42</td>\n",
       "    </tr>\n",
       "  </tbody>\n",
       "</table>\n",
       "</div>"
      ],
      "text/plain": [
       "                                          name                    model  \\\n",
       "9       cropped NO age-sex full rows new batch                  NuSVC()   \n",
       "7                            cropped new batch  NuSVC(probability=True)   \n",
       "2                                rotated batch  NuSVC(probability=True)   \n",
       "10                  female dataframe new batch  NuSVC(probability=True)   \n",
       "4                       cropped original batch  NuSVC(probability=True)   \n",
       "12              female dataframe age new batch  NuSVC(probability=True)   \n",
       "8                 cropped NO age-sex new batch  NuSVC(probability=True)   \n",
       "13                male dataframe age new batch  NuSVC(probability=True)   \n",
       "1                         original batch NuSVC                  NuSVC()   \n",
       "5            cropped no sex-age original batch  NuSVC(probability=True)   \n",
       "11                    male dataframe new batch  NuSVC(probability=True)   \n",
       "14                    uncens agesex full batch  NuSVC(probability=True)   \n",
       "6   cropped NO age-sex full row original batch  NuSVC(probability=True)   \n",
       "15            uncens rotated agesex full batch  NuSVC(probability=True)   \n",
       "3                       sex-age original batch  NuSVC(probability=True)   \n",
       "0                               original batch     LogisticRegression()   \n",
       "\n",
       "   train score test score  \n",
       "9         0.97       0.62  \n",
       "7         0.93       0.61  \n",
       "2         0.99       0.60  \n",
       "10        0.97       0.58  \n",
       "4         0.57       0.55  \n",
       "12        0.99       0.54  \n",
       "8         0.95       0.54  \n",
       "13        0.96       0.53  \n",
       "1         0.99       0.53  \n",
       "5         0.97       0.51  \n",
       "11        0.98       0.50  \n",
       "14        0.58       0.49  \n",
       "6         0.98       0.49  \n",
       "15        0.57       0.48  \n",
       "3         0.46       0.47  \n",
       "0         0.55       0.42  "
      ]
     },
     "execution_count": 210,
     "metadata": {},
     "output_type": "execute_result"
    }
   ],
   "source": [
    "models_df.sort_values('test score',ascending=False)"
   ]
  },
  {
   "cell_type": "code",
   "execution_count": 211,
   "id": "fbd553df",
   "metadata": {},
   "outputs": [],
   "source": [
    "from sklearn.preprocessing import KBinsDiscretizer"
   ]
  },
  {
   "cell_type": "code",
   "execution_count": 212,
   "id": "53bc9797",
   "metadata": {},
   "outputs": [],
   "source": [
    "kdisc = KBinsDiscretizer(n_bins=7, encode='ordinal')"
   ]
  },
  {
   "cell_type": "code",
   "execution_count": 213,
   "id": "756fad49",
   "metadata": {},
   "outputs": [],
   "source": [
    "df['age_bin'] = kdisc.fit_transform(df[['age']])"
   ]
  },
  {
   "cell_type": "code",
   "execution_count": 214,
   "id": "a76acb7a",
   "metadata": {},
   "outputs": [
    {
     "data": {
      "text/plain": [
       "0     2.00\n",
       "1     5.00\n",
       "2     2.00\n",
       "4     3.00\n",
       "5     4.00\n",
       "      ... \n",
       "382   3.00\n",
       "383   6.00\n",
       "384   5.00\n",
       "385   1.00\n",
       "386   4.00\n",
       "Name: age_bin, Length: 355, dtype: float64"
      ]
     },
     "execution_count": 214,
     "metadata": {},
     "output_type": "execute_result"
    }
   ],
   "source": [
    "df.age_bin"
   ]
  },
  {
   "cell_type": "code",
   "execution_count": 215,
   "id": "85ee0b0b",
   "metadata": {},
   "outputs": [],
   "source": [
    "X = df.drop(['Target','sex','age'],axis=1)\n",
    "y = df.Target"
   ]
  },
  {
   "cell_type": "code",
   "execution_count": 216,
   "id": "66299d77",
   "metadata": {},
   "outputs": [],
   "source": [
    "X_train, X_test, y_train, y_test = train_test_split(X,y,test_size = 0.2)"
   ]
  },
  {
   "cell_type": "code",
   "execution_count": 217,
   "id": "5541feed",
   "metadata": {},
   "outputs": [],
   "source": [
    "model = NuSVC(probability=True)"
   ]
  },
  {
   "cell_type": "code",
   "execution_count": 218,
   "id": "e7bd17a1",
   "metadata": {},
   "outputs": [
    {
     "data": {
      "text/plain": [
       "NuSVC(probability=True)"
      ]
     },
     "execution_count": 218,
     "metadata": {},
     "output_type": "execute_result"
    }
   ],
   "source": [
    "model.fit(X_train, y_train)"
   ]
  },
  {
   "cell_type": "code",
   "execution_count": 219,
   "id": "e9e879b6",
   "metadata": {},
   "outputs": [],
   "source": [
    "model_collection.append(('uncens rotated discretized age full batch',model.fit(X_train,y_train),\n",
    "                         model.score(X_train,y_train),model.score(X_test,y_test)\n",
    "                         ))"
   ]
  },
  {
   "cell_type": "code",
   "execution_count": 220,
   "id": "81167c92",
   "metadata": {},
   "outputs": [],
   "source": [
    "y_pred = model.predict(X_test)"
   ]
  },
  {
   "cell_type": "code",
   "execution_count": 221,
   "id": "a6c24891",
   "metadata": {},
   "outputs": [
    {
     "data": {
      "text/plain": [
       "0.9190140845070423"
      ]
     },
     "execution_count": 221,
     "metadata": {},
     "output_type": "execute_result"
    }
   ],
   "source": [
    "model.score(X_train,y_train)"
   ]
  },
  {
   "cell_type": "code",
   "execution_count": 222,
   "id": "4579426b",
   "metadata": {},
   "outputs": [
    {
     "data": {
      "text/plain": [
       "0.5633802816901409"
      ]
     },
     "execution_count": 222,
     "metadata": {},
     "output_type": "execute_result"
    }
   ],
   "source": [
    "model.score(X_test,y_test)"
   ]
  },
  {
   "cell_type": "code",
   "execution_count": 223,
   "id": "c82f77f9",
   "metadata": {},
   "outputs": [
    {
     "name": "stdout",
     "output_type": "stream",
     "text": [
      "[[16 19]\n",
      " [12 24]]\n"
     ]
    }
   ],
   "source": [
    "print((confusion_matrix(y_test,y_pred)))"
   ]
  },
  {
   "cell_type": "code",
   "execution_count": 224,
   "id": "54fdafb9",
   "metadata": {},
   "outputs": [
    {
     "name": "stdout",
     "output_type": "stream",
     "text": [
      "              precision    recall  f1-score   support\n",
      "\n",
      "           0       0.57      0.46      0.51        35\n",
      "           1       0.56      0.67      0.61        36\n",
      "\n",
      "    accuracy                           0.56        71\n",
      "   macro avg       0.56      0.56      0.56        71\n",
      "weighted avg       0.56      0.56      0.56        71\n",
      "\n"
     ]
    }
   ],
   "source": [
    "print(classification_report(y_test,y_pred))"
   ]
  },
  {
   "cell_type": "code",
   "execution_count": 225,
   "id": "db3f6aff",
   "metadata": {},
   "outputs": [
    {
     "data": {
      "text/plain": [
       "[<matplotlib.lines.Line2D at 0x7fdaa40bd820>]"
      ]
     },
     "execution_count": 225,
     "metadata": {},
     "output_type": "execute_result"
    },
    {
     "data": {
      "image/png": "[encoded data removed]",
      "text/plain": [
       "<Figure size 432x288 with 1 Axes>"
      ]
     },
     "metadata": {
      "needs_background": "light"
     },
     "output_type": "display_data"
    }
   ],
   "source": [
    "p = model.predict_proba(X_test)\n",
    "fpr, tpr, th = roc_curve(y_test, p[:,1])\n",
    "plt.plot(fpr, tpr)\n",
    "plt.plot([0,1],[0,1], c='r', linestyle='--')"
   ]
  },
  {
   "cell_type": "code",
   "execution_count": null,
   "id": "f4f6e07c",
   "metadata": {},
   "outputs": [],
   "source": []
  }
 ],
 "metadata": {
  "kernelspec": {
   "display_name": "Python 3 (ipykernel)",
   "language": "python",
   "name": "python3"
  },
  "language_info": {
   "codemirror_mode": {
    "name": "ipython",
    "version": 3
   },
   "file_extension": ".py",
   "mimetype": "text/x-python",
   "name": "python",
   "nbconvert_exporter": "python",
   "pygments_lexer": "ipython3",
   "version": "3.9.7"
  }
 },
 "nbformat": 4,
 "nbformat_minor": 5
}
