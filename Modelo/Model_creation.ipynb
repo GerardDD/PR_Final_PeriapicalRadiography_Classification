{
 "cells": [
  {
   "cell_type": "code",
   "execution_count": 1,
   "id": "80d31a09",
   "metadata": {},
   "outputs": [
    {
     "name": "stderr",
     "output_type": "stream",
     "text": [
      "/Users/cnieto/opt/anaconda3/lib/python3.9/site-packages/sklearn/utils/deprecation.py:143: FutureWarning: The sklearn.utils.testing module is  deprecated in version 0.22 and will be removed in version 0.24. The corresponding classes / functions should instead be imported from sklearn.utils. Anything that cannot be imported from sklearn.utils is now part of the private API.\n",
      "  warnings.warn(message, FutureWarning)\n"
     ]
    }
   ],
   "source": [
    "import pandas as pd\n",
    "import numpy as np\n",
    "from sklearn.model_selection import train_test_split\n",
    "from sklearn.linear_model import LogisticRegression\n",
    "from sklearn.naive_bayes import GaussianNB\n",
    "from sklearn.metrics import confusion_matrix, classification_report\n",
    "from lazypredict.Supervised import LazyClassifier\n",
    "from sklearn.svm import NuSVC\n",
    "from sklearn.ensemble import ExtraTreesClassifier, RandomForestClassifier\n",
    "from sklearn.neighbors import NearestCentroid\n",
    "import category_encoders as ce\n",
    "from sklearn.metrics import auc, roc_curve\n",
    "import matplotlib.pyplot as plt"
   ]
  },
  {
   "cell_type": "code",
   "execution_count": 2,
   "id": "f2db473f",
   "metadata": {},
   "outputs": [],
   "source": [
    "df = pd.read_csv('dataset_final.csv')"
   ]
  },
  {
   "cell_type": "code",
   "execution_count": 3,
   "id": "e6021fb5",
   "metadata": {},
   "outputs": [],
   "source": [
    "model_collection = []"
   ]
  },
  {
   "cell_type": "code",
   "execution_count": 4,
   "id": "63d3fb11",
   "metadata": {},
   "outputs": [
    {
     "data": {
      "text/html": [
       "<div>\n",
       "<style scoped>\n",
       "    .dataframe tbody tr th:only-of-type {\n",
       "        vertical-align: middle;\n",
       "    }\n",
       "\n",
       "    .dataframe tbody tr th {\n",
       "        vertical-align: top;\n",
       "    }\n",
       "\n",
       "    .dataframe thead th {\n",
       "        text-align: right;\n",
       "    }\n",
       "</style>\n",
       "<table border=\"1\" class=\"dataframe\">\n",
       "  <thead>\n",
       "    <tr style=\"text-align: right;\">\n",
       "      <th></th>\n",
       "      <th>Unnamed: 0</th>\n",
       "      <th>0</th>\n",
       "      <th>1</th>\n",
       "      <th>2</th>\n",
       "      <th>3</th>\n",
       "      <th>4</th>\n",
       "      <th>5</th>\n",
       "      <th>6</th>\n",
       "      <th>7</th>\n",
       "      <th>8</th>\n",
       "      <th>...</th>\n",
       "      <th>991</th>\n",
       "      <th>992</th>\n",
       "      <th>993</th>\n",
       "      <th>994</th>\n",
       "      <th>995</th>\n",
       "      <th>996</th>\n",
       "      <th>997</th>\n",
       "      <th>998</th>\n",
       "      <th>999</th>\n",
       "      <th>Target</th>\n",
       "    </tr>\n",
       "  </thead>\n",
       "  <tbody>\n",
       "    <tr>\n",
       "      <th>0</th>\n",
       "      <td>0</td>\n",
       "      <td>0.00</td>\n",
       "      <td>0.00</td>\n",
       "      <td>0.00</td>\n",
       "      <td>0.00</td>\n",
       "      <td>0.00</td>\n",
       "      <td>0.00</td>\n",
       "      <td>0.00</td>\n",
       "      <td>0.00</td>\n",
       "      <td>0.00</td>\n",
       "      <td>...</td>\n",
       "      <td>0.00</td>\n",
       "      <td>0.00</td>\n",
       "      <td>0.00</td>\n",
       "      <td>0.00</td>\n",
       "      <td>0.00</td>\n",
       "      <td>0.00</td>\n",
       "      <td>0.00</td>\n",
       "      <td>0.00</td>\n",
       "      <td>0.01</td>\n",
       "      <td>0</td>\n",
       "    </tr>\n",
       "    <tr>\n",
       "      <th>1</th>\n",
       "      <td>1</td>\n",
       "      <td>0.00</td>\n",
       "      <td>0.00</td>\n",
       "      <td>0.00</td>\n",
       "      <td>0.00</td>\n",
       "      <td>0.00</td>\n",
       "      <td>0.00</td>\n",
       "      <td>0.00</td>\n",
       "      <td>0.00</td>\n",
       "      <td>0.00</td>\n",
       "      <td>...</td>\n",
       "      <td>0.00</td>\n",
       "      <td>0.00</td>\n",
       "      <td>0.00</td>\n",
       "      <td>0.00</td>\n",
       "      <td>0.00</td>\n",
       "      <td>0.00</td>\n",
       "      <td>0.00</td>\n",
       "      <td>0.00</td>\n",
       "      <td>0.00</td>\n",
       "      <td>0</td>\n",
       "    </tr>\n",
       "    <tr>\n",
       "      <th>2</th>\n",
       "      <td>2</td>\n",
       "      <td>0.00</td>\n",
       "      <td>0.00</td>\n",
       "      <td>0.00</td>\n",
       "      <td>0.00</td>\n",
       "      <td>0.00</td>\n",
       "      <td>0.00</td>\n",
       "      <td>0.00</td>\n",
       "      <td>0.00</td>\n",
       "      <td>0.00</td>\n",
       "      <td>...</td>\n",
       "      <td>0.03</td>\n",
       "      <td>0.00</td>\n",
       "      <td>0.00</td>\n",
       "      <td>0.00</td>\n",
       "      <td>0.00</td>\n",
       "      <td>0.00</td>\n",
       "      <td>0.00</td>\n",
       "      <td>0.00</td>\n",
       "      <td>0.00</td>\n",
       "      <td>0</td>\n",
       "    </tr>\n",
       "    <tr>\n",
       "      <th>3</th>\n",
       "      <td>3</td>\n",
       "      <td>0.00</td>\n",
       "      <td>0.00</td>\n",
       "      <td>0.00</td>\n",
       "      <td>0.00</td>\n",
       "      <td>0.00</td>\n",
       "      <td>0.00</td>\n",
       "      <td>0.00</td>\n",
       "      <td>0.00</td>\n",
       "      <td>0.00</td>\n",
       "      <td>...</td>\n",
       "      <td>0.00</td>\n",
       "      <td>0.00</td>\n",
       "      <td>0.00</td>\n",
       "      <td>0.00</td>\n",
       "      <td>0.00</td>\n",
       "      <td>0.00</td>\n",
       "      <td>0.00</td>\n",
       "      <td>0.00</td>\n",
       "      <td>0.03</td>\n",
       "      <td>0</td>\n",
       "    </tr>\n",
       "    <tr>\n",
       "      <th>4</th>\n",
       "      <td>4</td>\n",
       "      <td>0.00</td>\n",
       "      <td>0.00</td>\n",
       "      <td>0.00</td>\n",
       "      <td>0.00</td>\n",
       "      <td>0.00</td>\n",
       "      <td>0.00</td>\n",
       "      <td>0.00</td>\n",
       "      <td>0.00</td>\n",
       "      <td>0.00</td>\n",
       "      <td>...</td>\n",
       "      <td>0.00</td>\n",
       "      <td>0.00</td>\n",
       "      <td>0.00</td>\n",
       "      <td>0.00</td>\n",
       "      <td>0.00</td>\n",
       "      <td>0.00</td>\n",
       "      <td>0.00</td>\n",
       "      <td>0.00</td>\n",
       "      <td>0.00</td>\n",
       "      <td>0</td>\n",
       "    </tr>\n",
       "  </tbody>\n",
       "</table>\n",
       "<p>5 rows × 1002 columns</p>\n",
       "</div>"
      ],
      "text/plain": [
       "   Unnamed: 0    0    1    2    3    4    5    6    7    8  ...  991  992  \\\n",
       "0           0 0.00 0.00 0.00 0.00 0.00 0.00 0.00 0.00 0.00  ... 0.00 0.00   \n",
       "1           1 0.00 0.00 0.00 0.00 0.00 0.00 0.00 0.00 0.00  ... 0.00 0.00   \n",
       "2           2 0.00 0.00 0.00 0.00 0.00 0.00 0.00 0.00 0.00  ... 0.03 0.00   \n",
       "3           3 0.00 0.00 0.00 0.00 0.00 0.00 0.00 0.00 0.00  ... 0.00 0.00   \n",
       "4           4 0.00 0.00 0.00 0.00 0.00 0.00 0.00 0.00 0.00  ... 0.00 0.00   \n",
       "\n",
       "   993  994  995  996  997  998  999  Target  \n",
       "0 0.00 0.00 0.00 0.00 0.00 0.00 0.01       0  \n",
       "1 0.00 0.00 0.00 0.00 0.00 0.00 0.00       0  \n",
       "2 0.00 0.00 0.00 0.00 0.00 0.00 0.00       0  \n",
       "3 0.00 0.00 0.00 0.00 0.00 0.00 0.03       0  \n",
       "4 0.00 0.00 0.00 0.00 0.00 0.00 0.00       0  \n",
       "\n",
       "[5 rows x 1002 columns]"
      ]
     },
     "execution_count": 4,
     "metadata": {},
     "output_type": "execute_result"
    }
   ],
   "source": [
    "df.head()"
   ]
  },
  {
   "cell_type": "code",
   "execution_count": 5,
   "id": "2d88b5d5",
   "metadata": {},
   "outputs": [],
   "source": [
    "df.drop('Unnamed: 0',axis=1,inplace=True)"
   ]
  },
  {
   "cell_type": "code",
   "execution_count": 6,
   "id": "de48585b",
   "metadata": {},
   "outputs": [],
   "source": [
    "X = df.drop('Target',axis=1)\n",
    "y = df.Target"
   ]
  },
  {
   "cell_type": "code",
   "execution_count": 7,
   "id": "89a76deb",
   "metadata": {},
   "outputs": [],
   "source": [
    "X_train, X_test, y_train, y_test = train_test_split(X,y,test_size = 0.2)"
   ]
  },
  {
   "cell_type": "code",
   "execution_count": 8,
   "id": "26f1f06c",
   "metadata": {},
   "outputs": [],
   "source": [
    "model = LogisticRegression()"
   ]
  },
  {
   "cell_type": "code",
   "execution_count": 9,
   "id": "8825e366",
   "metadata": {},
   "outputs": [
    {
     "data": {
      "text/plain": [
       "LogisticRegression()"
      ]
     },
     "execution_count": 9,
     "metadata": {},
     "output_type": "execute_result"
    }
   ],
   "source": [
    "model.fit(X_train,y_train)"
   ]
  },
  {
   "cell_type": "code",
   "execution_count": 10,
   "id": "2eec556b",
   "metadata": {},
   "outputs": [],
   "source": [
    "model_collection.append(('original batch',model.fit(X_train,y_train),model.score(X_train,y_train),model.score(X_test,y_test)))\n"
   ]
  },
  {
   "cell_type": "code",
   "execution_count": 11,
   "id": "8176e502",
   "metadata": {},
   "outputs": [],
   "source": [
    "y_pred = model.predict(X_test)"
   ]
  },
  {
   "cell_type": "code",
   "execution_count": 12,
   "id": "be245f39",
   "metadata": {},
   "outputs": [
    {
     "data": {
      "text/plain": [
       "0.39622641509433965"
      ]
     },
     "execution_count": 12,
     "metadata": {},
     "output_type": "execute_result"
    }
   ],
   "source": [
    "model.score(X_test,y_test)"
   ]
  },
  {
   "cell_type": "code",
   "execution_count": 13,
   "id": "f679d30c",
   "metadata": {},
   "outputs": [
    {
     "name": "stdout",
     "output_type": "stream",
     "text": [
      "[[ 4 31]\n",
      " [ 1 17]]\n"
     ]
    }
   ],
   "source": [
    "print((confusion_matrix(y_test,y_pred)))"
   ]
  },
  {
   "cell_type": "code",
   "execution_count": 14,
   "id": "c4f4d66a",
   "metadata": {},
   "outputs": [
    {
     "name": "stdout",
     "output_type": "stream",
     "text": [
      "              precision    recall  f1-score   support\n",
      "\n",
      "           0       0.80      0.11      0.20        35\n",
      "           1       0.35      0.94      0.52        18\n",
      "\n",
      "    accuracy                           0.40        53\n",
      "   macro avg       0.58      0.53      0.36        53\n",
      "weighted avg       0.65      0.40      0.31        53\n",
      "\n"
     ]
    }
   ],
   "source": [
    "print(classification_report(y_test,y_pred))"
   ]
  },
  {
   "cell_type": "raw",
   "id": "477b6a88",
   "metadata": {},
   "source": [
    "THIS CODE DOES NOT WORK ON JUPYTER NOTEBOOK:\n",
    "clf = LazyClassifier(verbose=0,ignore_warnings=True, custom_metric=None)\n",
    "models,predictions = clf.fit(X_train, X_test, y_train, y_test)"
   ]
  },
  {
   "cell_type": "raw",
   "id": "cc1250e1",
   "metadata": {},
   "source": [
    "Results of the previous cell (top 5 models):\n",
    "\n",
    "                              Accuracy  Balanced Accuracy  ROC AUC  F1 Score  Time Taken\n",
    "Model                                                                                    \n",
    "NuSVC                              0.64               0.64     0.64      0.64        0.14\n",
    "ExtraTreesClassifier               0.62               0.63     0.63      0.61        0.29\n",
    "GaussianNB                         0.62               0.63     0.63      0.61        0.06\n",
    "RandomForestClassifier             0.62               0.63     0.63      0.61        0.42\n",
    "NearestCentroid                    0.62               0.63     0.63      0.61        0.05"
   ]
  },
  {
   "cell_type": "code",
   "execution_count": 15,
   "id": "c5dc80c4",
   "metadata": {},
   "outputs": [],
   "source": [
    "model = NuSVC(probability=True)"
   ]
  },
  {
   "cell_type": "code",
   "execution_count": 16,
   "id": "9a01b970",
   "metadata": {},
   "outputs": [
    {
     "data": {
      "text/plain": [
       "NuSVC(probability=True)"
      ]
     },
     "execution_count": 16,
     "metadata": {},
     "output_type": "execute_result"
    }
   ],
   "source": [
    "model.fit(X_train,y_train)"
   ]
  },
  {
   "cell_type": "code",
   "execution_count": 17,
   "id": "370eca2b",
   "metadata": {},
   "outputs": [],
   "source": [
    "model_collection.append(('original batch NuSVC',model.fit(X_train,y_train),\n",
    "                         model.score(X_train,y_train),model.score(X_test,y_test)))"
   ]
  },
  {
   "cell_type": "code",
   "execution_count": 18,
   "id": "f32591f9",
   "metadata": {},
   "outputs": [],
   "source": [
    "y_pred = model.predict(X_test)"
   ]
  },
  {
   "cell_type": "code",
   "execution_count": 19,
   "id": "3bc0174e",
   "metadata": {},
   "outputs": [
    {
     "data": {
      "text/plain": [
       "0.660377358490566"
      ]
     },
     "execution_count": 19,
     "metadata": {},
     "output_type": "execute_result"
    }
   ],
   "source": [
    "model.score(X_test,y_test)"
   ]
  },
  {
   "cell_type": "code",
   "execution_count": 20,
   "id": "6a4b03cd",
   "metadata": {},
   "outputs": [
    {
     "name": "stdout",
     "output_type": "stream",
     "text": [
      "[[26  9]\n",
      " [ 9  9]]\n"
     ]
    }
   ],
   "source": [
    "print((confusion_matrix(y_test,y_pred)))"
   ]
  },
  {
   "cell_type": "code",
   "execution_count": 21,
   "id": "51df9fe9",
   "metadata": {},
   "outputs": [
    {
     "name": "stdout",
     "output_type": "stream",
     "text": [
      "              precision    recall  f1-score   support\n",
      "\n",
      "           0       0.74      0.74      0.74        35\n",
      "           1       0.50      0.50      0.50        18\n",
      "\n",
      "    accuracy                           0.66        53\n",
      "   macro avg       0.62      0.62      0.62        53\n",
      "weighted avg       0.66      0.66      0.66        53\n",
      "\n"
     ]
    }
   ],
   "source": [
    "print(classification_report(y_test,y_pred))"
   ]
  },
  {
   "cell_type": "markdown",
   "id": "f4918117",
   "metadata": {},
   "source": [
    "- Repeat for dataset of rotated images"
   ]
  },
  {
   "cell_type": "code",
   "execution_count": 22,
   "id": "19211286",
   "metadata": {},
   "outputs": [],
   "source": [
    "df = pd.read_csv('dataset_final_rotated.csv')"
   ]
  },
  {
   "cell_type": "code",
   "execution_count": 23,
   "id": "f3f98285",
   "metadata": {},
   "outputs": [
    {
     "data": {
      "text/html": [
       "<div>\n",
       "<style scoped>\n",
       "    .dataframe tbody tr th:only-of-type {\n",
       "        vertical-align: middle;\n",
       "    }\n",
       "\n",
       "    .dataframe tbody tr th {\n",
       "        vertical-align: top;\n",
       "    }\n",
       "\n",
       "    .dataframe thead th {\n",
       "        text-align: right;\n",
       "    }\n",
       "</style>\n",
       "<table border=\"1\" class=\"dataframe\">\n",
       "  <thead>\n",
       "    <tr style=\"text-align: right;\">\n",
       "      <th></th>\n",
       "      <th>Unnamed: 0</th>\n",
       "      <th>0</th>\n",
       "      <th>1</th>\n",
       "      <th>2</th>\n",
       "      <th>3</th>\n",
       "      <th>4</th>\n",
       "      <th>5</th>\n",
       "      <th>6</th>\n",
       "      <th>7</th>\n",
       "      <th>8</th>\n",
       "      <th>...</th>\n",
       "      <th>991</th>\n",
       "      <th>992</th>\n",
       "      <th>993</th>\n",
       "      <th>994</th>\n",
       "      <th>995</th>\n",
       "      <th>996</th>\n",
       "      <th>997</th>\n",
       "      <th>998</th>\n",
       "      <th>999</th>\n",
       "      <th>Target</th>\n",
       "    </tr>\n",
       "  </thead>\n",
       "  <tbody>\n",
       "    <tr>\n",
       "      <th>0</th>\n",
       "      <td>0</td>\n",
       "      <td>0.00</td>\n",
       "      <td>0.00</td>\n",
       "      <td>0.00</td>\n",
       "      <td>0.00</td>\n",
       "      <td>0.00</td>\n",
       "      <td>0.00</td>\n",
       "      <td>0.00</td>\n",
       "      <td>0.00</td>\n",
       "      <td>0.00</td>\n",
       "      <td>...</td>\n",
       "      <td>0.00</td>\n",
       "      <td>0.00</td>\n",
       "      <td>0.00</td>\n",
       "      <td>0.00</td>\n",
       "      <td>0.00</td>\n",
       "      <td>0.00</td>\n",
       "      <td>0.00</td>\n",
       "      <td>0.00</td>\n",
       "      <td>0.01</td>\n",
       "      <td>0</td>\n",
       "    </tr>\n",
       "    <tr>\n",
       "      <th>1</th>\n",
       "      <td>1</td>\n",
       "      <td>0.00</td>\n",
       "      <td>0.00</td>\n",
       "      <td>0.00</td>\n",
       "      <td>0.00</td>\n",
       "      <td>0.00</td>\n",
       "      <td>0.00</td>\n",
       "      <td>0.00</td>\n",
       "      <td>0.00</td>\n",
       "      <td>0.00</td>\n",
       "      <td>...</td>\n",
       "      <td>0.00</td>\n",
       "      <td>0.00</td>\n",
       "      <td>0.00</td>\n",
       "      <td>0.00</td>\n",
       "      <td>0.00</td>\n",
       "      <td>0.00</td>\n",
       "      <td>0.00</td>\n",
       "      <td>0.00</td>\n",
       "      <td>0.00</td>\n",
       "      <td>0</td>\n",
       "    </tr>\n",
       "    <tr>\n",
       "      <th>2</th>\n",
       "      <td>2</td>\n",
       "      <td>0.00</td>\n",
       "      <td>0.00</td>\n",
       "      <td>0.00</td>\n",
       "      <td>0.00</td>\n",
       "      <td>0.00</td>\n",
       "      <td>0.00</td>\n",
       "      <td>0.00</td>\n",
       "      <td>0.00</td>\n",
       "      <td>0.00</td>\n",
       "      <td>...</td>\n",
       "      <td>0.03</td>\n",
       "      <td>0.00</td>\n",
       "      <td>0.00</td>\n",
       "      <td>0.00</td>\n",
       "      <td>0.00</td>\n",
       "      <td>0.00</td>\n",
       "      <td>0.00</td>\n",
       "      <td>0.00</td>\n",
       "      <td>0.00</td>\n",
       "      <td>0</td>\n",
       "    </tr>\n",
       "    <tr>\n",
       "      <th>3</th>\n",
       "      <td>3</td>\n",
       "      <td>0.00</td>\n",
       "      <td>0.00</td>\n",
       "      <td>0.00</td>\n",
       "      <td>0.00</td>\n",
       "      <td>0.00</td>\n",
       "      <td>0.00</td>\n",
       "      <td>0.00</td>\n",
       "      <td>0.00</td>\n",
       "      <td>0.00</td>\n",
       "      <td>...</td>\n",
       "      <td>0.00</td>\n",
       "      <td>0.00</td>\n",
       "      <td>0.00</td>\n",
       "      <td>0.00</td>\n",
       "      <td>0.00</td>\n",
       "      <td>0.00</td>\n",
       "      <td>0.00</td>\n",
       "      <td>0.00</td>\n",
       "      <td>0.03</td>\n",
       "      <td>0</td>\n",
       "    </tr>\n",
       "    <tr>\n",
       "      <th>4</th>\n",
       "      <td>4</td>\n",
       "      <td>0.00</td>\n",
       "      <td>0.00</td>\n",
       "      <td>0.00</td>\n",
       "      <td>0.00</td>\n",
       "      <td>0.00</td>\n",
       "      <td>0.00</td>\n",
       "      <td>0.00</td>\n",
       "      <td>0.00</td>\n",
       "      <td>0.00</td>\n",
       "      <td>...</td>\n",
       "      <td>0.00</td>\n",
       "      <td>0.00</td>\n",
       "      <td>0.00</td>\n",
       "      <td>0.00</td>\n",
       "      <td>0.00</td>\n",
       "      <td>0.00</td>\n",
       "      <td>0.00</td>\n",
       "      <td>0.00</td>\n",
       "      <td>0.00</td>\n",
       "      <td>0</td>\n",
       "    </tr>\n",
       "  </tbody>\n",
       "</table>\n",
       "<p>5 rows × 1002 columns</p>\n",
       "</div>"
      ],
      "text/plain": [
       "   Unnamed: 0    0    1    2    3    4    5    6    7    8  ...  991  992  \\\n",
       "0           0 0.00 0.00 0.00 0.00 0.00 0.00 0.00 0.00 0.00  ... 0.00 0.00   \n",
       "1           1 0.00 0.00 0.00 0.00 0.00 0.00 0.00 0.00 0.00  ... 0.00 0.00   \n",
       "2           2 0.00 0.00 0.00 0.00 0.00 0.00 0.00 0.00 0.00  ... 0.03 0.00   \n",
       "3           3 0.00 0.00 0.00 0.00 0.00 0.00 0.00 0.00 0.00  ... 0.00 0.00   \n",
       "4           4 0.00 0.00 0.00 0.00 0.00 0.00 0.00 0.00 0.00  ... 0.00 0.00   \n",
       "\n",
       "   993  994  995  996  997  998  999  Target  \n",
       "0 0.00 0.00 0.00 0.00 0.00 0.00 0.01       0  \n",
       "1 0.00 0.00 0.00 0.00 0.00 0.00 0.00       0  \n",
       "2 0.00 0.00 0.00 0.00 0.00 0.00 0.00       0  \n",
       "3 0.00 0.00 0.00 0.00 0.00 0.00 0.03       0  \n",
       "4 0.00 0.00 0.00 0.00 0.00 0.00 0.00       0  \n",
       "\n",
       "[5 rows x 1002 columns]"
      ]
     },
     "execution_count": 23,
     "metadata": {},
     "output_type": "execute_result"
    }
   ],
   "source": [
    "df.head()"
   ]
  },
  {
   "cell_type": "code",
   "execution_count": 24,
   "id": "d91ee70c",
   "metadata": {},
   "outputs": [],
   "source": [
    "df.drop('Unnamed: 0',axis=1,inplace=True)"
   ]
  },
  {
   "cell_type": "code",
   "execution_count": 25,
   "id": "e7248afd",
   "metadata": {},
   "outputs": [],
   "source": [
    "X = df.drop('Target',axis=1)\n",
    "y = df.Target"
   ]
  },
  {
   "cell_type": "code",
   "execution_count": 26,
   "id": "15adb054",
   "metadata": {},
   "outputs": [],
   "source": [
    "X_train, X_test, y_train, y_test = train_test_split(X,y,test_size = 0.2)"
   ]
  },
  {
   "cell_type": "code",
   "execution_count": 27,
   "id": "fe226405",
   "metadata": {},
   "outputs": [],
   "source": [
    "model = LogisticRegression()"
   ]
  },
  {
   "cell_type": "code",
   "execution_count": 28,
   "id": "61d3fe59",
   "metadata": {},
   "outputs": [
    {
     "data": {
      "text/plain": [
       "LogisticRegression()"
      ]
     },
     "execution_count": 28,
     "metadata": {},
     "output_type": "execute_result"
    }
   ],
   "source": [
    "model.fit(X_train,y_train)"
   ]
  },
  {
   "cell_type": "code",
   "execution_count": 29,
   "id": "89e87a39",
   "metadata": {},
   "outputs": [],
   "source": [
    "y_pred = model.predict(X_test)"
   ]
  },
  {
   "cell_type": "code",
   "execution_count": 30,
   "id": "69ee651d",
   "metadata": {},
   "outputs": [
    {
     "data": {
      "text/plain": [
       "0.49056603773584906"
      ]
     },
     "execution_count": 30,
     "metadata": {},
     "output_type": "execute_result"
    }
   ],
   "source": [
    "model.score(X_test,y_test)"
   ]
  },
  {
   "cell_type": "code",
   "execution_count": 31,
   "id": "16b3b81a",
   "metadata": {},
   "outputs": [
    {
     "name": "stdout",
     "output_type": "stream",
     "text": [
      "[[25  0]\n",
      " [27  1]]\n"
     ]
    }
   ],
   "source": [
    "print((confusion_matrix(y_test,y_pred)))"
   ]
  },
  {
   "cell_type": "code",
   "execution_count": 32,
   "id": "69816435",
   "metadata": {},
   "outputs": [
    {
     "name": "stdout",
     "output_type": "stream",
     "text": [
      "              precision    recall  f1-score   support\n",
      "\n",
      "           0       0.48      1.00      0.65        25\n",
      "           1       1.00      0.04      0.07        28\n",
      "\n",
      "    accuracy                           0.49        53\n",
      "   macro avg       0.74      0.52      0.36        53\n",
      "weighted avg       0.76      0.49      0.34        53\n",
      "\n"
     ]
    }
   ],
   "source": [
    "print(classification_report(y_test,y_pred))"
   ]
  },
  {
   "cell_type": "code",
   "execution_count": 33,
   "id": "67be45c4",
   "metadata": {},
   "outputs": [],
   "source": [
    "model = NuSVC(probability=True)"
   ]
  },
  {
   "cell_type": "code",
   "execution_count": 34,
   "id": "7fb7e9aa",
   "metadata": {},
   "outputs": [
    {
     "data": {
      "text/plain": [
       "NuSVC(probability=True)"
      ]
     },
     "execution_count": 34,
     "metadata": {},
     "output_type": "execute_result"
    }
   ],
   "source": [
    "model.fit(X_train,y_train)"
   ]
  },
  {
   "cell_type": "code",
   "execution_count": 35,
   "id": "2b5d19a3",
   "metadata": {},
   "outputs": [],
   "source": [
    "model_collection.append(('rotated batch',model.fit(X_train,y_train),\n",
    "                         model.score(X_train,y_train),model.score(X_test,y_test)\n",
    "                         ))"
   ]
  },
  {
   "cell_type": "code",
   "execution_count": 36,
   "id": "a93a6139",
   "metadata": {},
   "outputs": [],
   "source": [
    "y_pred = model.predict(X_test)"
   ]
  },
  {
   "cell_type": "code",
   "execution_count": 37,
   "id": "7b0f4486",
   "metadata": {},
   "outputs": [
    {
     "data": {
      "text/plain": [
       "0.5849056603773585"
      ]
     },
     "execution_count": 37,
     "metadata": {},
     "output_type": "execute_result"
    }
   ],
   "source": [
    "model.score(X_test,y_test)"
   ]
  },
  {
   "cell_type": "code",
   "execution_count": 38,
   "id": "834fbaeb",
   "metadata": {},
   "outputs": [
    {
     "name": "stdout",
     "output_type": "stream",
     "text": [
      "[[16  9]\n",
      " [13 15]]\n"
     ]
    }
   ],
   "source": [
    "print((confusion_matrix(y_test,y_pred)))"
   ]
  },
  {
   "cell_type": "code",
   "execution_count": 39,
   "id": "3da5ae64",
   "metadata": {},
   "outputs": [
    {
     "name": "stdout",
     "output_type": "stream",
     "text": [
      "              precision    recall  f1-score   support\n",
      "\n",
      "           0       0.55      0.64      0.59        25\n",
      "           1       0.62      0.54      0.58        28\n",
      "\n",
      "    accuracy                           0.58        53\n",
      "   macro avg       0.59      0.59      0.58        53\n",
      "weighted avg       0.59      0.58      0.58        53\n",
      "\n"
     ]
    }
   ],
   "source": [
    "print(classification_report(y_test,y_pred))"
   ]
  },
  {
   "cell_type": "code",
   "execution_count": 40,
   "id": "023103dd",
   "metadata": {},
   "outputs": [
    {
     "data": {
      "text/plain": [
       "[<matplotlib.lines.Line2D at 0x7fb14c9ba370>]"
      ]
     },
     "execution_count": 40,
     "metadata": {},
     "output_type": "execute_result"
    },
    {
     "data": {
      "image/png": "[encoded data removed]",
      "text/plain": [
       "<Figure size 432x288 with 1 Axes>"
      ]
     },
     "metadata": {
      "needs_background": "light"
     },
     "output_type": "display_data"
    }
   ],
   "source": [
    "p = model.predict_proba(X_test)\n",
    "fpr, tpr, th = roc_curve(y_test, p[:,1])\n",
    "plt.plot(fpr, tpr)\n",
    "plt.plot([0,1],[0,1], c='r', linestyle='--')"
   ]
  },
  {
   "cell_type": "markdown",
   "id": "05e43bf2",
   "metadata": {},
   "source": [
    "- We load the dataset that includes age and sex for each image"
   ]
  },
  {
   "cell_type": "code",
   "execution_count": 41,
   "id": "979b4336",
   "metadata": {},
   "outputs": [],
   "source": [
    "df = pd.read_csv('df_agesex.csv')"
   ]
  },
  {
   "cell_type": "code",
   "execution_count": 42,
   "id": "53c54377",
   "metadata": {},
   "outputs": [
    {
     "data": {
      "text/html": [
       "<div>\n",
       "<style scoped>\n",
       "    .dataframe tbody tr th:only-of-type {\n",
       "        vertical-align: middle;\n",
       "    }\n",
       "\n",
       "    .dataframe tbody tr th {\n",
       "        vertical-align: top;\n",
       "    }\n",
       "\n",
       "    .dataframe thead th {\n",
       "        text-align: right;\n",
       "    }\n",
       "</style>\n",
       "<table border=\"1\" class=\"dataframe\">\n",
       "  <thead>\n",
       "    <tr style=\"text-align: right;\">\n",
       "      <th></th>\n",
       "      <th>Unnamed: 0</th>\n",
       "      <th>0</th>\n",
       "      <th>1</th>\n",
       "      <th>2</th>\n",
       "      <th>3</th>\n",
       "      <th>4</th>\n",
       "      <th>5</th>\n",
       "      <th>6</th>\n",
       "      <th>7</th>\n",
       "      <th>8</th>\n",
       "      <th>...</th>\n",
       "      <th>993</th>\n",
       "      <th>994</th>\n",
       "      <th>995</th>\n",
       "      <th>996</th>\n",
       "      <th>997</th>\n",
       "      <th>998</th>\n",
       "      <th>999</th>\n",
       "      <th>1000</th>\n",
       "      <th>1001</th>\n",
       "      <th>Target</th>\n",
       "    </tr>\n",
       "  </thead>\n",
       "  <tbody>\n",
       "    <tr>\n",
       "      <th>0</th>\n",
       "      <td>0</td>\n",
       "      <td>0.00</td>\n",
       "      <td>0.00</td>\n",
       "      <td>0.00</td>\n",
       "      <td>0.00</td>\n",
       "      <td>0.00</td>\n",
       "      <td>0.00</td>\n",
       "      <td>0.00</td>\n",
       "      <td>0.00</td>\n",
       "      <td>0.00</td>\n",
       "      <td>...</td>\n",
       "      <td>0.00</td>\n",
       "      <td>0.00</td>\n",
       "      <td>0.00</td>\n",
       "      <td>0.00</td>\n",
       "      <td>0.00</td>\n",
       "      <td>0.00</td>\n",
       "      <td>0.01</td>\n",
       "      <td>56</td>\n",
       "      <td>F</td>\n",
       "      <td>0</td>\n",
       "    </tr>\n",
       "    <tr>\n",
       "      <th>1</th>\n",
       "      <td>1</td>\n",
       "      <td>0.00</td>\n",
       "      <td>0.00</td>\n",
       "      <td>0.00</td>\n",
       "      <td>0.00</td>\n",
       "      <td>0.00</td>\n",
       "      <td>0.00</td>\n",
       "      <td>0.00</td>\n",
       "      <td>0.00</td>\n",
       "      <td>0.00</td>\n",
       "      <td>...</td>\n",
       "      <td>0.00</td>\n",
       "      <td>0.00</td>\n",
       "      <td>0.00</td>\n",
       "      <td>0.00</td>\n",
       "      <td>0.00</td>\n",
       "      <td>0.00</td>\n",
       "      <td>0.00</td>\n",
       "      <td>36</td>\n",
       "      <td>M</td>\n",
       "      <td>0</td>\n",
       "    </tr>\n",
       "    <tr>\n",
       "      <th>2</th>\n",
       "      <td>2</td>\n",
       "      <td>0.00</td>\n",
       "      <td>0.00</td>\n",
       "      <td>0.00</td>\n",
       "      <td>0.00</td>\n",
       "      <td>0.00</td>\n",
       "      <td>0.00</td>\n",
       "      <td>0.00</td>\n",
       "      <td>0.00</td>\n",
       "      <td>0.00</td>\n",
       "      <td>...</td>\n",
       "      <td>0.00</td>\n",
       "      <td>0.00</td>\n",
       "      <td>0.00</td>\n",
       "      <td>0.00</td>\n",
       "      <td>0.00</td>\n",
       "      <td>0.00</td>\n",
       "      <td>0.00</td>\n",
       "      <td>51</td>\n",
       "      <td>M</td>\n",
       "      <td>0</td>\n",
       "    </tr>\n",
       "    <tr>\n",
       "      <th>3</th>\n",
       "      <td>3</td>\n",
       "      <td>0.00</td>\n",
       "      <td>0.00</td>\n",
       "      <td>0.00</td>\n",
       "      <td>0.00</td>\n",
       "      <td>0.00</td>\n",
       "      <td>0.00</td>\n",
       "      <td>0.00</td>\n",
       "      <td>0.00</td>\n",
       "      <td>0.00</td>\n",
       "      <td>...</td>\n",
       "      <td>0.00</td>\n",
       "      <td>0.00</td>\n",
       "      <td>0.00</td>\n",
       "      <td>0.00</td>\n",
       "      <td>0.00</td>\n",
       "      <td>0.00</td>\n",
       "      <td>0.03</td>\n",
       "      <td>62</td>\n",
       "      <td>F</td>\n",
       "      <td>0</td>\n",
       "    </tr>\n",
       "    <tr>\n",
       "      <th>4</th>\n",
       "      <td>4</td>\n",
       "      <td>0.00</td>\n",
       "      <td>0.00</td>\n",
       "      <td>0.00</td>\n",
       "      <td>0.00</td>\n",
       "      <td>0.00</td>\n",
       "      <td>0.00</td>\n",
       "      <td>0.00</td>\n",
       "      <td>0.00</td>\n",
       "      <td>0.00</td>\n",
       "      <td>...</td>\n",
       "      <td>0.00</td>\n",
       "      <td>0.00</td>\n",
       "      <td>0.00</td>\n",
       "      <td>0.00</td>\n",
       "      <td>0.00</td>\n",
       "      <td>0.00</td>\n",
       "      <td>0.00</td>\n",
       "      <td>41</td>\n",
       "      <td>M</td>\n",
       "      <td>0</td>\n",
       "    </tr>\n",
       "    <tr>\n",
       "      <th>...</th>\n",
       "      <td>...</td>\n",
       "      <td>...</td>\n",
       "      <td>...</td>\n",
       "      <td>...</td>\n",
       "      <td>...</td>\n",
       "      <td>...</td>\n",
       "      <td>...</td>\n",
       "      <td>...</td>\n",
       "      <td>...</td>\n",
       "      <td>...</td>\n",
       "      <td>...</td>\n",
       "      <td>...</td>\n",
       "      <td>...</td>\n",
       "      <td>...</td>\n",
       "      <td>...</td>\n",
       "      <td>...</td>\n",
       "      <td>...</td>\n",
       "      <td>...</td>\n",
       "      <td>...</td>\n",
       "      <td>...</td>\n",
       "      <td>...</td>\n",
       "    </tr>\n",
       "    <tr>\n",
       "      <th>257</th>\n",
       "      <td>120</td>\n",
       "      <td>0.00</td>\n",
       "      <td>0.00</td>\n",
       "      <td>0.00</td>\n",
       "      <td>0.00</td>\n",
       "      <td>0.00</td>\n",
       "      <td>0.00</td>\n",
       "      <td>0.00</td>\n",
       "      <td>0.00</td>\n",
       "      <td>0.00</td>\n",
       "      <td>...</td>\n",
       "      <td>0.00</td>\n",
       "      <td>0.00</td>\n",
       "      <td>0.00</td>\n",
       "      <td>0.00</td>\n",
       "      <td>0.00</td>\n",
       "      <td>0.00</td>\n",
       "      <td>0.00</td>\n",
       "      <td>29</td>\n",
       "      <td>F</td>\n",
       "      <td>1</td>\n",
       "    </tr>\n",
       "    <tr>\n",
       "      <th>258</th>\n",
       "      <td>121</td>\n",
       "      <td>0.00</td>\n",
       "      <td>0.00</td>\n",
       "      <td>0.00</td>\n",
       "      <td>0.00</td>\n",
       "      <td>0.00</td>\n",
       "      <td>0.00</td>\n",
       "      <td>0.00</td>\n",
       "      <td>0.00</td>\n",
       "      <td>0.00</td>\n",
       "      <td>...</td>\n",
       "      <td>0.00</td>\n",
       "      <td>0.00</td>\n",
       "      <td>0.00</td>\n",
       "      <td>0.00</td>\n",
       "      <td>0.00</td>\n",
       "      <td>0.00</td>\n",
       "      <td>0.01</td>\n",
       "      <td>44</td>\n",
       "      <td>F</td>\n",
       "      <td>1</td>\n",
       "    </tr>\n",
       "    <tr>\n",
       "      <th>259</th>\n",
       "      <td>122</td>\n",
       "      <td>0.00</td>\n",
       "      <td>0.00</td>\n",
       "      <td>0.00</td>\n",
       "      <td>0.00</td>\n",
       "      <td>0.00</td>\n",
       "      <td>0.00</td>\n",
       "      <td>0.00</td>\n",
       "      <td>0.00</td>\n",
       "      <td>0.00</td>\n",
       "      <td>...</td>\n",
       "      <td>0.00</td>\n",
       "      <td>0.00</td>\n",
       "      <td>0.00</td>\n",
       "      <td>0.00</td>\n",
       "      <td>0.00</td>\n",
       "      <td>0.00</td>\n",
       "      <td>0.01</td>\n",
       "      <td>37</td>\n",
       "      <td>M</td>\n",
       "      <td>1</td>\n",
       "    </tr>\n",
       "    <tr>\n",
       "      <th>260</th>\n",
       "      <td>123</td>\n",
       "      <td>0.00</td>\n",
       "      <td>0.00</td>\n",
       "      <td>0.00</td>\n",
       "      <td>0.00</td>\n",
       "      <td>0.00</td>\n",
       "      <td>0.00</td>\n",
       "      <td>0.00</td>\n",
       "      <td>0.00</td>\n",
       "      <td>0.00</td>\n",
       "      <td>...</td>\n",
       "      <td>0.00</td>\n",
       "      <td>0.00</td>\n",
       "      <td>0.00</td>\n",
       "      <td>0.00</td>\n",
       "      <td>0.00</td>\n",
       "      <td>0.00</td>\n",
       "      <td>0.03</td>\n",
       "      <td>46</td>\n",
       "      <td>F</td>\n",
       "      <td>1</td>\n",
       "    </tr>\n",
       "    <tr>\n",
       "      <th>261</th>\n",
       "      <td>124</td>\n",
       "      <td>0.00</td>\n",
       "      <td>0.00</td>\n",
       "      <td>0.00</td>\n",
       "      <td>0.00</td>\n",
       "      <td>0.00</td>\n",
       "      <td>0.00</td>\n",
       "      <td>0.00</td>\n",
       "      <td>0.00</td>\n",
       "      <td>0.00</td>\n",
       "      <td>...</td>\n",
       "      <td>0.00</td>\n",
       "      <td>0.00</td>\n",
       "      <td>0.00</td>\n",
       "      <td>0.00</td>\n",
       "      <td>0.00</td>\n",
       "      <td>0.00</td>\n",
       "      <td>0.00</td>\n",
       "      <td>54</td>\n",
       "      <td>M</td>\n",
       "      <td>1</td>\n",
       "    </tr>\n",
       "  </tbody>\n",
       "</table>\n",
       "<p>262 rows × 1004 columns</p>\n",
       "</div>"
      ],
      "text/plain": [
       "     Unnamed: 0    0    1    2    3    4    5    6    7    8  ...  993  994  \\\n",
       "0             0 0.00 0.00 0.00 0.00 0.00 0.00 0.00 0.00 0.00  ... 0.00 0.00   \n",
       "1             1 0.00 0.00 0.00 0.00 0.00 0.00 0.00 0.00 0.00  ... 0.00 0.00   \n",
       "2             2 0.00 0.00 0.00 0.00 0.00 0.00 0.00 0.00 0.00  ... 0.00 0.00   \n",
       "3             3 0.00 0.00 0.00 0.00 0.00 0.00 0.00 0.00 0.00  ... 0.00 0.00   \n",
       "4             4 0.00 0.00 0.00 0.00 0.00 0.00 0.00 0.00 0.00  ... 0.00 0.00   \n",
       "..          ...  ...  ...  ...  ...  ...  ...  ...  ...  ...  ...  ...  ...   \n",
       "257         120 0.00 0.00 0.00 0.00 0.00 0.00 0.00 0.00 0.00  ... 0.00 0.00   \n",
       "258         121 0.00 0.00 0.00 0.00 0.00 0.00 0.00 0.00 0.00  ... 0.00 0.00   \n",
       "259         122 0.00 0.00 0.00 0.00 0.00 0.00 0.00 0.00 0.00  ... 0.00 0.00   \n",
       "260         123 0.00 0.00 0.00 0.00 0.00 0.00 0.00 0.00 0.00  ... 0.00 0.00   \n",
       "261         124 0.00 0.00 0.00 0.00 0.00 0.00 0.00 0.00 0.00  ... 0.00 0.00   \n",
       "\n",
       "     995  996  997  998  999  1000  1001  Target  \n",
       "0   0.00 0.00 0.00 0.00 0.01    56     F       0  \n",
       "1   0.00 0.00 0.00 0.00 0.00    36     M       0  \n",
       "2   0.00 0.00 0.00 0.00 0.00    51     M       0  \n",
       "3   0.00 0.00 0.00 0.00 0.03    62     F       0  \n",
       "4   0.00 0.00 0.00 0.00 0.00    41     M       0  \n",
       "..   ...  ...  ...  ...  ...   ...   ...     ...  \n",
       "257 0.00 0.00 0.00 0.00 0.00    29     F       1  \n",
       "258 0.00 0.00 0.00 0.00 0.01    44     F       1  \n",
       "259 0.00 0.00 0.00 0.00 0.01    37     M       1  \n",
       "260 0.00 0.00 0.00 0.00 0.03    46     F       1  \n",
       "261 0.00 0.00 0.00 0.00 0.00    54     M       1  \n",
       "\n",
       "[262 rows x 1004 columns]"
      ]
     },
     "execution_count": 42,
     "metadata": {},
     "output_type": "execute_result"
    }
   ],
   "source": [
    "df"
   ]
  },
  {
   "cell_type": "code",
   "execution_count": 43,
   "id": "6768f047",
   "metadata": {},
   "outputs": [],
   "source": [
    "import seaborn as sns"
   ]
  },
  {
   "cell_type": "code",
   "execution_count": 44,
   "id": "cc1a3269",
   "metadata": {},
   "outputs": [],
   "source": [
    "df.drop('Unnamed: 0',axis=1,inplace=True)"
   ]
  },
  {
   "cell_type": "code",
   "execution_count": 45,
   "id": "9ce23f4f",
   "metadata": {},
   "outputs": [],
   "source": [
    "df.rename(columns={'1000':'age', '1001':'sex'},inplace=True)"
   ]
  },
  {
   "cell_type": "code",
   "execution_count": 46,
   "id": "da9d894a",
   "metadata": {},
   "outputs": [
    {
     "data": {
      "text/plain": [
       "<AxesSubplot:xlabel='sex', ylabel='count'>"
      ]
     },
     "execution_count": 46,
     "metadata": {},
     "output_type": "execute_result"
    },
    {
     "data": {
      "image/png": "[encoded data removed]",
      "text/plain": [
       "<Figure size 432x288 with 1 Axes>"
      ]
     },
     "metadata": {
      "needs_background": "light"
     },
     "output_type": "display_data"
    }
   ],
   "source": [
    "sns.countplot(data=df, x='sex')"
   ]
  },
  {
   "cell_type": "code",
   "execution_count": 47,
   "id": "5662a895",
   "metadata": {},
   "outputs": [
    {
     "data": {
      "text/plain": [
       "999    29\n",
       "46     12\n",
       "41     12\n",
       "54     11\n",
       "49     10\n",
       "40     10\n",
       "45      8\n",
       "43      8\n",
       "66      8\n",
       "61      8\n",
       "56      7\n",
       "64      7\n",
       "53      6\n",
       "55      6\n",
       "30      6\n",
       "32      6\n",
       "59      6\n",
       "57      5\n",
       "36      5\n",
       "52      5\n",
       "44      5\n",
       "34      5\n",
       "42      4\n",
       "29      4\n",
       "38      4\n",
       "35      4\n",
       "47      4\n",
       "69      4\n",
       "62      4\n",
       "51      4\n",
       "31      3\n",
       "70      3\n",
       "33      3\n",
       "65      3\n",
       "60      3\n",
       "58      3\n",
       "50      3\n",
       "39      2\n",
       "63      2\n",
       "37      2\n",
       "67      2\n",
       "48      2\n",
       "72      2\n",
       "73      2\n",
       "28      2\n",
       "24      2\n",
       "22      1\n",
       "21      1\n",
       "75      1\n",
       "23      1\n",
       "25      1\n",
       "12      1\n",
       "Name: age, dtype: int64"
      ]
     },
     "execution_count": 47,
     "metadata": {},
     "output_type": "execute_result"
    }
   ],
   "source": [
    "df['age'].value_counts()"
   ]
  },
  {
   "cell_type": "code",
   "execution_count": 48,
   "id": "0f1ee4a4",
   "metadata": {},
   "outputs": [
    {
     "data": {
      "text/plain": [
       "0.11450381679389313"
      ]
     },
     "execution_count": 48,
     "metadata": {},
     "output_type": "execute_result"
    }
   ],
   "source": [
    "len(df[(df['age'] == 999) | (df['sex'] == 'U')]) / len(df)"
   ]
  },
  {
   "cell_type": "markdown",
   "id": "b2db2cec",
   "metadata": {},
   "source": [
    "- since the percentage is moderatly low, we drop rows with unknown sex and age"
   ]
  },
  {
   "cell_type": "code",
   "execution_count": 49,
   "id": "18d6fbc3",
   "metadata": {},
   "outputs": [],
   "source": [
    "df.drop(df[(df['age'] == 999) | (df['sex'] == 'U')].index, axis=0,inplace=True)"
   ]
  },
  {
   "cell_type": "code",
   "execution_count": 50,
   "id": "1115a15f",
   "metadata": {},
   "outputs": [
    {
     "data": {
      "text/plain": [
       "<AxesSubplot:xlabel='Target', ylabel='count'>"
      ]
     },
     "execution_count": 50,
     "metadata": {},
     "output_type": "execute_result"
    },
    {
     "data": {
      "image/png": "[encoded data removed]",
      "text/plain": [
       "<Figure size 432x288 with 1 Axes>"
      ]
     },
     "metadata": {
      "needs_background": "light"
     },
     "output_type": "display_data"
    }
   ],
   "source": [
    "sns.countplot(data=df,x='Target')"
   ]
  },
  {
   "cell_type": "markdown",
   "id": "b89e031f",
   "metadata": {},
   "source": [
    "- Target variable is still pretty balanced"
   ]
  },
  {
   "cell_type": "markdown",
   "id": "4be8b12f",
   "metadata": {},
   "source": [
    "- We proceed to encode sex feature"
   ]
  },
  {
   "cell_type": "code",
   "execution_count": 51,
   "id": "dd8dce96",
   "metadata": {},
   "outputs": [],
   "source": [
    "encoder = ce.BinaryEncoder()"
   ]
  },
  {
   "cell_type": "code",
   "execution_count": 52,
   "id": "b95170c9",
   "metadata": {},
   "outputs": [
    {
     "data": {
      "text/html": [
       "<div>\n",
       "<style scoped>\n",
       "    .dataframe tbody tr th:only-of-type {\n",
       "        vertical-align: middle;\n",
       "    }\n",
       "\n",
       "    .dataframe tbody tr th {\n",
       "        vertical-align: top;\n",
       "    }\n",
       "\n",
       "    .dataframe thead th {\n",
       "        text-align: right;\n",
       "    }\n",
       "</style>\n",
       "<table border=\"1\" class=\"dataframe\">\n",
       "  <thead>\n",
       "    <tr style=\"text-align: right;\">\n",
       "      <th></th>\n",
       "      <th>sex_0</th>\n",
       "      <th>sex_1</th>\n",
       "    </tr>\n",
       "  </thead>\n",
       "  <tbody>\n",
       "    <tr>\n",
       "      <th>0</th>\n",
       "      <td>0</td>\n",
       "      <td>1</td>\n",
       "    </tr>\n",
       "    <tr>\n",
       "      <th>1</th>\n",
       "      <td>1</td>\n",
       "      <td>0</td>\n",
       "    </tr>\n",
       "    <tr>\n",
       "      <th>2</th>\n",
       "      <td>1</td>\n",
       "      <td>0</td>\n",
       "    </tr>\n",
       "    <tr>\n",
       "      <th>3</th>\n",
       "      <td>0</td>\n",
       "      <td>1</td>\n",
       "    </tr>\n",
       "    <tr>\n",
       "      <th>4</th>\n",
       "      <td>1</td>\n",
       "      <td>0</td>\n",
       "    </tr>\n",
       "    <tr>\n",
       "      <th>...</th>\n",
       "      <td>...</td>\n",
       "      <td>...</td>\n",
       "    </tr>\n",
       "    <tr>\n",
       "      <th>257</th>\n",
       "      <td>0</td>\n",
       "      <td>1</td>\n",
       "    </tr>\n",
       "    <tr>\n",
       "      <th>258</th>\n",
       "      <td>0</td>\n",
       "      <td>1</td>\n",
       "    </tr>\n",
       "    <tr>\n",
       "      <th>259</th>\n",
       "      <td>1</td>\n",
       "      <td>0</td>\n",
       "    </tr>\n",
       "    <tr>\n",
       "      <th>260</th>\n",
       "      <td>0</td>\n",
       "      <td>1</td>\n",
       "    </tr>\n",
       "    <tr>\n",
       "      <th>261</th>\n",
       "      <td>1</td>\n",
       "      <td>0</td>\n",
       "    </tr>\n",
       "  </tbody>\n",
       "</table>\n",
       "<p>232 rows × 2 columns</p>\n",
       "</div>"
      ],
      "text/plain": [
       "     sex_0  sex_1\n",
       "0        0      1\n",
       "1        1      0\n",
       "2        1      0\n",
       "3        0      1\n",
       "4        1      0\n",
       "..     ...    ...\n",
       "257      0      1\n",
       "258      0      1\n",
       "259      1      0\n",
       "260      0      1\n",
       "261      1      0\n",
       "\n",
       "[232 rows x 2 columns]"
      ]
     },
     "execution_count": 52,
     "metadata": {},
     "output_type": "execute_result"
    }
   ],
   "source": [
    "encoder.fit_transform(df['sex'])"
   ]
  },
  {
   "cell_type": "code",
   "execution_count": 53,
   "id": "8b9f05e0",
   "metadata": {},
   "outputs": [],
   "source": [
    "df['sex_0'] = encoder.fit_transform(df['sex'])['sex_0']"
   ]
  },
  {
   "cell_type": "code",
   "execution_count": 54,
   "id": "4a93898e",
   "metadata": {},
   "outputs": [],
   "source": [
    "df['sex_1'] = encoder.fit_transform(df['sex'])['sex_1']"
   ]
  },
  {
   "cell_type": "code",
   "execution_count": 55,
   "id": "dbde3971",
   "metadata": {},
   "outputs": [],
   "source": [
    "X = df.drop(['Target','sex'],axis=1)\n",
    "y = df.Target"
   ]
  },
  {
   "cell_type": "code",
   "execution_count": 56,
   "id": "73dae51c",
   "metadata": {},
   "outputs": [],
   "source": [
    "X_train, X_test, y_train, y_test = train_test_split(X,y,test_size = 0.2)"
   ]
  },
  {
   "cell_type": "code",
   "execution_count": 57,
   "id": "14557a37",
   "metadata": {},
   "outputs": [],
   "source": [
    "model = NuSVC(probability=True)"
   ]
  },
  {
   "cell_type": "code",
   "execution_count": 58,
   "id": "8f285c9c",
   "metadata": {},
   "outputs": [
    {
     "data": {
      "text/plain": [
       "NuSVC(probability=True)"
      ]
     },
     "execution_count": 58,
     "metadata": {},
     "output_type": "execute_result"
    }
   ],
   "source": [
    "model.fit(X_train,y_train)"
   ]
  },
  {
   "cell_type": "code",
   "execution_count": 59,
   "id": "ebcffa02",
   "metadata": {},
   "outputs": [],
   "source": [
    "model_collection.append(('sex-age original batch',model.fit(X_train,y_train),\n",
    "                         model.score(X_train,y_train),model.score(X_test,y_test)\n",
    "                         ))"
   ]
  },
  {
   "cell_type": "code",
   "execution_count": 60,
   "id": "cea065d6",
   "metadata": {},
   "outputs": [],
   "source": [
    "y_pred = model.predict(X_test)"
   ]
  },
  {
   "cell_type": "code",
   "execution_count": 61,
   "id": "9a482a26",
   "metadata": {},
   "outputs": [
    {
     "data": {
      "text/plain": [
       "0.574468085106383"
      ]
     },
     "execution_count": 61,
     "metadata": {},
     "output_type": "execute_result"
    }
   ],
   "source": [
    "model.score(X_test,y_test)"
   ]
  },
  {
   "cell_type": "code",
   "execution_count": 62,
   "id": "b42be726",
   "metadata": {},
   "outputs": [
    {
     "name": "stdout",
     "output_type": "stream",
     "text": [
      "[[14 12]\n",
      " [ 8 13]]\n"
     ]
    }
   ],
   "source": [
    "print((confusion_matrix(y_test,y_pred)))"
   ]
  },
  {
   "cell_type": "code",
   "execution_count": 63,
   "id": "f70b501e",
   "metadata": {},
   "outputs": [
    {
     "name": "stdout",
     "output_type": "stream",
     "text": [
      "              precision    recall  f1-score   support\n",
      "\n",
      "           0       0.64      0.54      0.58        26\n",
      "           1       0.52      0.62      0.57        21\n",
      "\n",
      "    accuracy                           0.57        47\n",
      "   macro avg       0.58      0.58      0.57        47\n",
      "weighted avg       0.58      0.57      0.58        47\n",
      "\n"
     ]
    }
   ],
   "source": [
    "print(classification_report(y_test,y_pred))"
   ]
  },
  {
   "cell_type": "code",
   "execution_count": 64,
   "id": "62f7e194",
   "metadata": {},
   "outputs": [
    {
     "data": {
      "text/plain": [
       "[<matplotlib.lines.Line2D at 0x7fb14cd81040>]"
      ]
     },
     "execution_count": 64,
     "metadata": {},
     "output_type": "execute_result"
    },
    {
     "data": {
      "image/png": "[encoded data removed]",
      "text/plain": [
       "<Figure size 432x288 with 1 Axes>"
      ]
     },
     "metadata": {
      "needs_background": "light"
     },
     "output_type": "display_data"
    }
   ],
   "source": [
    "p = model.predict_proba(X_test)\n",
    "fpr, tpr, th = roc_curve(y_test, p[:,1])\n",
    "plt.plot(fpr, tpr)\n",
    "plt.plot([0,1],[0,1], c='r', linestyle='--')"
   ]
  },
  {
   "cell_type": "markdown",
   "id": "570bce7b",
   "metadata": {},
   "source": [
    "- Model for cropped images"
   ]
  },
  {
   "cell_type": "code",
   "execution_count": 65,
   "id": "dc78ce10",
   "metadata": {},
   "outputs": [],
   "source": [
    "df = pd.read_csv('df_cropped.csv')"
   ]
  },
  {
   "cell_type": "code",
   "execution_count": 66,
   "id": "eb838169",
   "metadata": {},
   "outputs": [],
   "source": [
    "df.drop('Unnamed: 0',axis=1,inplace=True)"
   ]
  },
  {
   "cell_type": "code",
   "execution_count": 67,
   "id": "73c49ff4",
   "metadata": {},
   "outputs": [],
   "source": [
    "df.rename(columns={'1000':'age', '1001':'sex'},inplace=True)"
   ]
  },
  {
   "cell_type": "code",
   "execution_count": 68,
   "id": "6d913889",
   "metadata": {},
   "outputs": [],
   "source": [
    "df_origin = df.copy()"
   ]
  },
  {
   "cell_type": "code",
   "execution_count": 69,
   "id": "f56a3bfe",
   "metadata": {},
   "outputs": [],
   "source": [
    "df.drop(df[(df['age'] == 999) | (df['sex'] == 'U')].index, axis=0,inplace=True)"
   ]
  },
  {
   "cell_type": "code",
   "execution_count": 70,
   "id": "11208d6f",
   "metadata": {},
   "outputs": [],
   "source": [
    "encoder = ce.BinaryEncoder()"
   ]
  },
  {
   "cell_type": "code",
   "execution_count": 71,
   "id": "cfc7fffc",
   "metadata": {},
   "outputs": [],
   "source": [
    "df['sex_0'] = encoder.fit_transform(df['sex'])['sex_0']"
   ]
  },
  {
   "cell_type": "code",
   "execution_count": 72,
   "id": "d5b9e676",
   "metadata": {},
   "outputs": [],
   "source": [
    "df['sex_1'] = encoder.fit_transform(df['sex'])['sex_1']"
   ]
  },
  {
   "cell_type": "code",
   "execution_count": 73,
   "id": "cf5f92e2",
   "metadata": {},
   "outputs": [],
   "source": [
    "X = df.drop(['Target','sex'],axis=1)\n",
    "y = df.Target"
   ]
  },
  {
   "cell_type": "code",
   "execution_count": 74,
   "id": "e398bb43",
   "metadata": {},
   "outputs": [],
   "source": [
    "X_train, X_test, y_train, y_test = train_test_split(X,y,test_size = 0.2)"
   ]
  },
  {
   "cell_type": "code",
   "execution_count": 75,
   "id": "b7cb4628",
   "metadata": {},
   "outputs": [],
   "source": [
    "model = NuSVC(probability=True)"
   ]
  },
  {
   "cell_type": "code",
   "execution_count": 76,
   "id": "70b7acfc",
   "metadata": {},
   "outputs": [
    {
     "data": {
      "text/plain": [
       "NuSVC(probability=True)"
      ]
     },
     "execution_count": 76,
     "metadata": {},
     "output_type": "execute_result"
    }
   ],
   "source": [
    "model.fit(X_train,y_train)"
   ]
  },
  {
   "cell_type": "code",
   "execution_count": 77,
   "id": "83220cd9",
   "metadata": {},
   "outputs": [],
   "source": [
    "model_collection.append(('cropped original batch',model.fit(X_train,y_train),\n",
    "                         model.score(X_train,y_train),model.score(X_test,y_test)\n",
    "                         ))"
   ]
  },
  {
   "cell_type": "code",
   "execution_count": 78,
   "id": "9ab2d5df",
   "metadata": {},
   "outputs": [],
   "source": [
    "y_pred = model.predict(X_test)"
   ]
  },
  {
   "cell_type": "code",
   "execution_count": 79,
   "id": "80d49d0a",
   "metadata": {},
   "outputs": [
    {
     "data": {
      "text/plain": [
       "0.40425531914893614"
      ]
     },
     "execution_count": 79,
     "metadata": {},
     "output_type": "execute_result"
    }
   ],
   "source": [
    "model.score(X_test,y_test)"
   ]
  },
  {
   "cell_type": "code",
   "execution_count": 80,
   "id": "1a9102a9",
   "metadata": {},
   "outputs": [
    {
     "name": "stdout",
     "output_type": "stream",
     "text": [
      "[[10 16]\n",
      " [12  9]]\n"
     ]
    }
   ],
   "source": [
    "print((confusion_matrix(y_test,y_pred)))"
   ]
  },
  {
   "cell_type": "code",
   "execution_count": 81,
   "id": "9e1ef167",
   "metadata": {},
   "outputs": [
    {
     "name": "stdout",
     "output_type": "stream",
     "text": [
      "              precision    recall  f1-score   support\n",
      "\n",
      "           0       0.45      0.38      0.42        26\n",
      "           1       0.36      0.43      0.39        21\n",
      "\n",
      "    accuracy                           0.40        47\n",
      "   macro avg       0.41      0.41      0.40        47\n",
      "weighted avg       0.41      0.40      0.41        47\n",
      "\n"
     ]
    }
   ],
   "source": [
    "print(classification_report(y_test,y_pred))"
   ]
  },
  {
   "cell_type": "code",
   "execution_count": 82,
   "id": "03db1d05",
   "metadata": {},
   "outputs": [
    {
     "data": {
      "text/plain": [
       "[<matplotlib.lines.Line2D at 0x7fb14e7e2850>]"
      ]
     },
     "execution_count": 82,
     "metadata": {},
     "output_type": "execute_result"
    },
    {
     "data": {
      "image/png": "[encoded data removed]",
      "text/plain": [
       "<Figure size 432x288 with 1 Axes>"
      ]
     },
     "metadata": {
      "needs_background": "light"
     },
     "output_type": "display_data"
    }
   ],
   "source": [
    "p = model.predict_proba(X_test)\n",
    "fpr, tpr, th = roc_curve(y_test, p[:,1])\n",
    "plt.plot(fpr, tpr)\n",
    "plt.plot([0,1],[0,1], c='r', linestyle='--')"
   ]
  },
  {
   "cell_type": "markdown",
   "id": "30968c9a",
   "metadata": {},
   "source": [
    "- model for cropped images without age and sex features"
   ]
  },
  {
   "cell_type": "code",
   "execution_count": 83,
   "id": "194b6ed5",
   "metadata": {},
   "outputs": [],
   "source": [
    "X = df.drop(['Target','sex','sex_0','sex_1','age'],axis=1)\n",
    "y = df.Target"
   ]
  },
  {
   "cell_type": "code",
   "execution_count": 84,
   "id": "446e1e0c",
   "metadata": {},
   "outputs": [],
   "source": [
    "X_train, X_test, y_train, y_test = train_test_split(X,y,test_size = 0.2)"
   ]
  },
  {
   "cell_type": "code",
   "execution_count": 85,
   "id": "0e05c0b8",
   "metadata": {},
   "outputs": [
    {
     "data": {
      "text/plain": [
       "NuSVC(probability=True)"
      ]
     },
     "execution_count": 85,
     "metadata": {},
     "output_type": "execute_result"
    }
   ],
   "source": [
    "model = NuSVC(probability=True)\n",
    "model.fit(X_train, y_train)"
   ]
  },
  {
   "cell_type": "code",
   "execution_count": 86,
   "id": "7c95b450",
   "metadata": {},
   "outputs": [],
   "source": [
    "model_collection.append(('cropped no sex-age original batch',model.fit(X_train,y_train),\n",
    "                         model.score(X_train,y_train),model.score(X_test,y_test)\n",
    "                         ))"
   ]
  },
  {
   "cell_type": "code",
   "execution_count": 87,
   "id": "8036718b",
   "metadata": {},
   "outputs": [],
   "source": [
    "y_pred = model.predict(X_test)"
   ]
  },
  {
   "cell_type": "code",
   "execution_count": 88,
   "id": "3284436a",
   "metadata": {},
   "outputs": [
    {
     "data": {
      "text/plain": [
       "0.5106382978723404"
      ]
     },
     "execution_count": 88,
     "metadata": {},
     "output_type": "execute_result"
    }
   ],
   "source": [
    "model.score(X_test,y_test)"
   ]
  },
  {
   "cell_type": "code",
   "execution_count": 89,
   "id": "ba1cf313",
   "metadata": {},
   "outputs": [
    {
     "name": "stdout",
     "output_type": "stream",
     "text": [
      "[[15  7]\n",
      " [16  9]]\n"
     ]
    }
   ],
   "source": [
    "print((confusion_matrix(y_test,y_pred)))"
   ]
  },
  {
   "cell_type": "code",
   "execution_count": 90,
   "id": "649e8327",
   "metadata": {},
   "outputs": [
    {
     "name": "stdout",
     "output_type": "stream",
     "text": [
      "              precision    recall  f1-score   support\n",
      "\n",
      "           0       0.48      0.68      0.57        22\n",
      "           1       0.56      0.36      0.44        25\n",
      "\n",
      "    accuracy                           0.51        47\n",
      "   macro avg       0.52      0.52      0.50        47\n",
      "weighted avg       0.53      0.51      0.50        47\n",
      "\n"
     ]
    }
   ],
   "source": [
    "print(classification_report(y_test,y_pred))"
   ]
  },
  {
   "cell_type": "code",
   "execution_count": 91,
   "id": "b4e84696",
   "metadata": {},
   "outputs": [
    {
     "data": {
      "text/plain": [
       "[<matplotlib.lines.Line2D at 0x7fb14e9fd760>]"
      ]
     },
     "execution_count": 91,
     "metadata": {},
     "output_type": "execute_result"
    },
    {
     "data": {
      "image/png": "[encoded data removed]",
      "text/plain": [
       "<Figure size 432x288 with 1 Axes>"
      ]
     },
     "metadata": {
      "needs_background": "light"
     },
     "output_type": "display_data"
    }
   ],
   "source": [
    "p = model.predict_proba(X_test)\n",
    "fpr, tpr, th = roc_curve(y_test, p[:,1])\n",
    "plt.plot(fpr, tpr)\n",
    "plt.plot([0,1],[0,1], c='r', linestyle='--')"
   ]
  },
  {
   "cell_type": "markdown",
   "id": "33c5f297",
   "metadata": {},
   "source": [
    "- cropped images not including age and sex, and without dropping rows"
   ]
  },
  {
   "cell_type": "code",
   "execution_count": 92,
   "id": "2aba3037",
   "metadata": {},
   "outputs": [],
   "source": [
    "X = df_origin.drop(['Target','sex','age'],axis=1)\n",
    "y = df_origin.Target"
   ]
  },
  {
   "cell_type": "code",
   "execution_count": 93,
   "id": "88249a19",
   "metadata": {},
   "outputs": [],
   "source": [
    "X_train, X_test, y_train, y_test = train_test_split(X,y,test_size = 0.2)"
   ]
  },
  {
   "cell_type": "code",
   "execution_count": 94,
   "id": "18977699",
   "metadata": {},
   "outputs": [
    {
     "data": {
      "text/plain": [
       "NuSVC(probability=True)"
      ]
     },
     "execution_count": 94,
     "metadata": {},
     "output_type": "execute_result"
    }
   ],
   "source": [
    "model = NuSVC(probability=True)\n",
    "model.fit(X_train, y_train)"
   ]
  },
  {
   "cell_type": "code",
   "execution_count": 95,
   "id": "d942e573",
   "metadata": {},
   "outputs": [],
   "source": [
    "model_collection.append(('cropped NO age-sex full row original batch',\n",
    "                         model.fit(X_train,y_train),\n",
    "                         model.score(X_train,y_train),\n",
    "                         model.score(X_test,y_test)\n",
    "                         ))"
   ]
  },
  {
   "cell_type": "code",
   "execution_count": 96,
   "id": "b5d3d368",
   "metadata": {},
   "outputs": [],
   "source": [
    "y_pred = model.predict(X_test)"
   ]
  },
  {
   "cell_type": "code",
   "execution_count": 97,
   "id": "a867907e",
   "metadata": {},
   "outputs": [
    {
     "data": {
      "text/plain": [
       "0.9712918660287081"
      ]
     },
     "execution_count": 97,
     "metadata": {},
     "output_type": "execute_result"
    }
   ],
   "source": [
    "model.score(X_train,y_train)"
   ]
  },
  {
   "cell_type": "code",
   "execution_count": 98,
   "id": "198a240e",
   "metadata": {},
   "outputs": [
    {
     "data": {
      "text/plain": [
       "0.4528301886792453"
      ]
     },
     "execution_count": 98,
     "metadata": {},
     "output_type": "execute_result"
    }
   ],
   "source": [
    "model.score(X_test,y_test)"
   ]
  },
  {
   "cell_type": "code",
   "execution_count": 99,
   "id": "3c090bab",
   "metadata": {},
   "outputs": [
    {
     "name": "stdout",
     "output_type": "stream",
     "text": [
      "[[16 18]\n",
      " [11  8]]\n"
     ]
    }
   ],
   "source": [
    "print((confusion_matrix(y_test,y_pred)))"
   ]
  },
  {
   "cell_type": "code",
   "execution_count": 100,
   "id": "f19ea995",
   "metadata": {},
   "outputs": [
    {
     "name": "stdout",
     "output_type": "stream",
     "text": [
      "              precision    recall  f1-score   support\n",
      "\n",
      "           0       0.59      0.47      0.52        34\n",
      "           1       0.31      0.42      0.36        19\n",
      "\n",
      "    accuracy                           0.45        53\n",
      "   macro avg       0.45      0.45      0.44        53\n",
      "weighted avg       0.49      0.45      0.46        53\n",
      "\n"
     ]
    }
   ],
   "source": [
    "print(classification_report(y_test,y_pred))"
   ]
  },
  {
   "cell_type": "code",
   "execution_count": 101,
   "id": "6ea73fc4",
   "metadata": {},
   "outputs": [
    {
     "data": {
      "text/plain": [
       "[<matplotlib.lines.Line2D at 0x7fb14f2eda30>]"
      ]
     },
     "execution_count": 101,
     "metadata": {},
     "output_type": "execute_result"
    },
    {
     "data": {
      "image/png": "[encoded data removed]",
      "text/plain": [
       "<Figure size 432x288 with 1 Axes>"
      ]
     },
     "metadata": {
      "needs_background": "light"
     },
     "output_type": "display_data"
    }
   ],
   "source": [
    "p = model.predict_proba(X_test)\n",
    "fpr, tpr, th = roc_curve(y_test, p[:,1])\n",
    "plt.plot(fpr, tpr)\n",
    "plt.plot([0,1],[0,1], c='r', linestyle='--')"
   ]
  },
  {
   "cell_type": "markdown",
   "id": "f202e513",
   "metadata": {},
   "source": [
    "- Added new batch of xrays"
   ]
  },
  {
   "cell_type": "code",
   "execution_count": 102,
   "id": "826baa1b",
   "metadata": {},
   "outputs": [],
   "source": [
    "df = pd.read_csv('df_cropped_2.csv')"
   ]
  },
  {
   "cell_type": "code",
   "execution_count": 103,
   "id": "60adae6a",
   "metadata": {},
   "outputs": [],
   "source": [
    "df.drop('Unnamed: 0',axis=1,inplace=True)\n",
    "df.rename(columns={'1000':'age', '1001':'sex'},inplace=True)"
   ]
  },
  {
   "cell_type": "code",
   "execution_count": 104,
   "id": "665b9669",
   "metadata": {},
   "outputs": [],
   "source": [
    "df_origin = df.copy()"
   ]
  },
  {
   "cell_type": "code",
   "execution_count": 105,
   "id": "0d4e49d2",
   "metadata": {},
   "outputs": [],
   "source": [
    "df.drop(df[(df['age'] == 999) | (df['sex'] == 'U')].index, axis=0,inplace=True)"
   ]
  },
  {
   "cell_type": "code",
   "execution_count": 106,
   "id": "b785ebd8",
   "metadata": {},
   "outputs": [],
   "source": [
    "encoder = ce.BinaryEncoder()"
   ]
  },
  {
   "cell_type": "code",
   "execution_count": 107,
   "id": "b773cb3b",
   "metadata": {},
   "outputs": [],
   "source": [
    "df['sex_0'] = encoder.fit_transform(df['sex'])['sex_0']"
   ]
  },
  {
   "cell_type": "code",
   "execution_count": 108,
   "id": "34c33c32",
   "metadata": {},
   "outputs": [],
   "source": [
    "df['sex_1'] = encoder.fit_transform(df['sex'])['sex_1']"
   ]
  },
  {
   "cell_type": "code",
   "execution_count": 109,
   "id": "47778ea3",
   "metadata": {},
   "outputs": [],
   "source": [
    "X = df.drop(['Target','sex','age'],axis=1)\n",
    "y = df.Target"
   ]
  },
  {
   "cell_type": "code",
   "execution_count": 110,
   "id": "f99b32e2",
   "metadata": {},
   "outputs": [],
   "source": [
    "X_train, X_test, y_train, y_test = train_test_split(X,y,test_size = 0.2)"
   ]
  },
  {
   "cell_type": "code",
   "execution_count": 111,
   "id": "a9a65b51",
   "metadata": {},
   "outputs": [
    {
     "data": {
      "text/plain": [
       "301    1\n",
       "142    0\n",
       "48     0\n",
       "358    1\n",
       "112    0\n",
       "      ..\n",
       "235    1\n",
       "293    1\n",
       "297    1\n",
       "165    0\n",
       "104    0\n",
       "Name: Target, Length: 284, dtype: int64"
      ]
     },
     "execution_count": 111,
     "metadata": {},
     "output_type": "execute_result"
    }
   ],
   "source": [
    "y_train"
   ]
  },
  {
   "cell_type": "code",
   "execution_count": 112,
   "id": "6f893f82",
   "metadata": {},
   "outputs": [],
   "source": [
    "model = NuSVC(probability=True)"
   ]
  },
  {
   "cell_type": "code",
   "execution_count": 113,
   "id": "455e3cc4",
   "metadata": {},
   "outputs": [
    {
     "data": {
      "text/plain": [
       "NuSVC(probability=True)"
      ]
     },
     "execution_count": 113,
     "metadata": {},
     "output_type": "execute_result"
    }
   ],
   "source": [
    "model.fit(X_train,y_train)"
   ]
  },
  {
   "cell_type": "code",
   "execution_count": 114,
   "id": "82b739d2",
   "metadata": {},
   "outputs": [],
   "source": [
    "model_collection.append(('cropped new batch',model.fit(X_train,y_train),\n",
    "                         model.score(X_train,y_train),model.score(X_test,y_test)\n",
    "                         ))"
   ]
  },
  {
   "cell_type": "code",
   "execution_count": 115,
   "id": "bacd0dd4",
   "metadata": {},
   "outputs": [],
   "source": [
    "y_pred = model.predict(X_test)"
   ]
  },
  {
   "cell_type": "code",
   "execution_count": 116,
   "id": "ee2f8666",
   "metadata": {},
   "outputs": [
    {
     "data": {
      "text/plain": [
       "0.4225352112676056"
      ]
     },
     "execution_count": 116,
     "metadata": {},
     "output_type": "execute_result"
    }
   ],
   "source": [
    "model.score(X_test,y_test)"
   ]
  },
  {
   "cell_type": "code",
   "execution_count": 117,
   "id": "38b0e42a",
   "metadata": {},
   "outputs": [
    {
     "name": "stdout",
     "output_type": "stream",
     "text": [
      "[[14 29]\n",
      " [12 16]]\n"
     ]
    }
   ],
   "source": [
    "print((confusion_matrix(y_test,y_pred)))"
   ]
  },
  {
   "cell_type": "code",
   "execution_count": 118,
   "id": "317a3f9c",
   "metadata": {},
   "outputs": [
    {
     "name": "stdout",
     "output_type": "stream",
     "text": [
      "              precision    recall  f1-score   support\n",
      "\n",
      "           0       0.54      0.33      0.41        43\n",
      "           1       0.36      0.57      0.44        28\n",
      "\n",
      "    accuracy                           0.42        71\n",
      "   macro avg       0.45      0.45      0.42        71\n",
      "weighted avg       0.47      0.42      0.42        71\n",
      "\n"
     ]
    }
   ],
   "source": [
    "print(classification_report(y_test,y_pred))"
   ]
  },
  {
   "cell_type": "code",
   "execution_count": 119,
   "id": "c01c2ec3",
   "metadata": {},
   "outputs": [
    {
     "data": {
      "text/plain": [
       "[<matplotlib.lines.Line2D at 0x7fb14f2900a0>]"
      ]
     },
     "execution_count": 119,
     "metadata": {},
     "output_type": "execute_result"
    },
    {
     "data": {
      "image/png": "[encoded data removed]",
      "text/plain": [
       "<Figure size 432x288 with 1 Axes>"
      ]
     },
     "metadata": {
      "needs_background": "light"
     },
     "output_type": "display_data"
    }
   ],
   "source": [
    "p = model.predict_proba(X_test)\n",
    "fpr, tpr, th = roc_curve(y_test, p[:,1])\n",
    "plt.plot(fpr, tpr)\n",
    "plt.plot([0,1],[0,1], c='r', linestyle='--')"
   ]
  },
  {
   "cell_type": "markdown",
   "id": "2cc73f86",
   "metadata": {},
   "source": [
    "- model for cropped images without age and sex features"
   ]
  },
  {
   "cell_type": "code",
   "execution_count": 120,
   "id": "f94d34f6",
   "metadata": {},
   "outputs": [],
   "source": [
    "X = df.drop(['Target','sex','age','sex_0','sex_1'],axis=1)\n",
    "y = df.Target"
   ]
  },
  {
   "cell_type": "code",
   "execution_count": 121,
   "id": "711a5f2c",
   "metadata": {},
   "outputs": [],
   "source": [
    "X_train, X_test, y_train, y_test = train_test_split(X,y,test_size = 0.2)"
   ]
  },
  {
   "cell_type": "code",
   "execution_count": 122,
   "id": "260ea059",
   "metadata": {},
   "outputs": [
    {
     "data": {
      "text/plain": [
       "NuSVC(probability=True)"
      ]
     },
     "execution_count": 122,
     "metadata": {},
     "output_type": "execute_result"
    }
   ],
   "source": [
    "model = NuSVC(probability=True)\n",
    "model.fit(X_train, y_train)"
   ]
  },
  {
   "cell_type": "code",
   "execution_count": 123,
   "id": "d4e26c07",
   "metadata": {},
   "outputs": [],
   "source": [
    "model_collection.append(('cropped NO age-sex new batch',model.fit(X_train,y_train),\n",
    "                         model.score(X_train,y_train),model.score(X_test,y_test)\n",
    "                         ))"
   ]
  },
  {
   "cell_type": "code",
   "execution_count": 124,
   "id": "9cea6c81",
   "metadata": {},
   "outputs": [],
   "source": [
    "y_pred = model.predict(X_test)"
   ]
  },
  {
   "cell_type": "code",
   "execution_count": 125,
   "id": "67a19070",
   "metadata": {},
   "outputs": [
    {
     "data": {
      "text/plain": [
       "0.9683098591549296"
      ]
     },
     "execution_count": 125,
     "metadata": {},
     "output_type": "execute_result"
    }
   ],
   "source": [
    "model.score(X_train,y_train)"
   ]
  },
  {
   "cell_type": "code",
   "execution_count": 126,
   "id": "623aac43",
   "metadata": {},
   "outputs": [
    {
     "data": {
      "text/plain": [
       "0.5774647887323944"
      ]
     },
     "execution_count": 126,
     "metadata": {},
     "output_type": "execute_result"
    }
   ],
   "source": [
    "model.score(X_test,y_test)"
   ]
  },
  {
   "cell_type": "code",
   "execution_count": 127,
   "id": "e188ded4",
   "metadata": {},
   "outputs": [
    {
     "name": "stdout",
     "output_type": "stream",
     "text": [
      "[[18 20]\n",
      " [10 23]]\n"
     ]
    }
   ],
   "source": [
    "print((confusion_matrix(y_test,y_pred)))"
   ]
  },
  {
   "cell_type": "code",
   "execution_count": 128,
   "id": "db4d1798",
   "metadata": {},
   "outputs": [
    {
     "name": "stdout",
     "output_type": "stream",
     "text": [
      "              precision    recall  f1-score   support\n",
      "\n",
      "           0       0.64      0.47      0.55        38\n",
      "           1       0.53      0.70      0.61        33\n",
      "\n",
      "    accuracy                           0.58        71\n",
      "   macro avg       0.59      0.59      0.58        71\n",
      "weighted avg       0.59      0.58      0.57        71\n",
      "\n"
     ]
    }
   ],
   "source": [
    "print(classification_report(y_test,y_pred))"
   ]
  },
  {
   "cell_type": "code",
   "execution_count": 129,
   "id": "b93aae3c",
   "metadata": {},
   "outputs": [
    {
     "data": {
      "text/plain": [
       "[<matplotlib.lines.Line2D at 0x7fb130d3ef40>]"
      ]
     },
     "execution_count": 129,
     "metadata": {},
     "output_type": "execute_result"
    },
    {
     "data": {
      "image/png": "[encoded data removed]",
      "text/plain": [
       "<Figure size 432x288 with 1 Axes>"
      ]
     },
     "metadata": {
      "needs_background": "light"
     },
     "output_type": "display_data"
    }
   ],
   "source": [
    "p = model.predict_proba(X_test)\n",
    "fpr, tpr, th = roc_curve(y_test, p[:,1])\n",
    "plt.plot(fpr, tpr)\n",
    "plt.plot([0,1],[0,1], c='r', linestyle='--')"
   ]
  },
  {
   "cell_type": "markdown",
   "id": "410cba1e",
   "metadata": {},
   "source": [
    "- cropped images not including age and sex, and without dropping rows"
   ]
  },
  {
   "cell_type": "code",
   "execution_count": 130,
   "id": "63ae980e",
   "metadata": {},
   "outputs": [],
   "source": [
    "X = df_origin.drop(['Target','sex','age'],axis=1)\n",
    "y = df_origin.Target"
   ]
  },
  {
   "cell_type": "code",
   "execution_count": 131,
   "id": "fea04ebe",
   "metadata": {},
   "outputs": [],
   "source": [
    "X_train, X_test, y_train, y_test = train_test_split(X,y,test_size = 0.2)"
   ]
  },
  {
   "cell_type": "code",
   "execution_count": 132,
   "id": "33025b44",
   "metadata": {},
   "outputs": [
    {
     "data": {
      "text/plain": [
       "NuSVC(probability=True)"
      ]
     },
     "execution_count": 132,
     "metadata": {},
     "output_type": "execute_result"
    }
   ],
   "source": [
    "model = NuSVC(probability=True)\n",
    "model.fit(X_train, y_train)"
   ]
  },
  {
   "cell_type": "code",
   "execution_count": 133,
   "id": "5a7b4bc3",
   "metadata": {},
   "outputs": [],
   "source": [
    "model_collection.append(('cropped NO age-sex full rows new batch',model.fit(X_train,y_train),\n",
    "                         model.score(X_train,y_train),model.score(X_test,y_test)\n",
    "                         ))"
   ]
  },
  {
   "cell_type": "code",
   "execution_count": 134,
   "id": "1a11fbb4",
   "metadata": {},
   "outputs": [],
   "source": [
    "y_pred = model.predict(X_test)"
   ]
  },
  {
   "cell_type": "code",
   "execution_count": 135,
   "id": "b5cb68d5",
   "metadata": {},
   "outputs": [
    {
     "data": {
      "text/plain": [
       "0.9741100323624595"
      ]
     },
     "execution_count": 135,
     "metadata": {},
     "output_type": "execute_result"
    }
   ],
   "source": [
    "model.score(X_train,y_train)"
   ]
  },
  {
   "cell_type": "code",
   "execution_count": 136,
   "id": "561193be",
   "metadata": {},
   "outputs": [
    {
     "data": {
      "text/plain": [
       "0.5384615384615384"
      ]
     },
     "execution_count": 136,
     "metadata": {},
     "output_type": "execute_result"
    }
   ],
   "source": [
    "model.score(X_test,y_test)"
   ]
  },
  {
   "cell_type": "code",
   "execution_count": 137,
   "id": "75ab015d",
   "metadata": {},
   "outputs": [
    {
     "name": "stdout",
     "output_type": "stream",
     "text": [
      "[[21 22]\n",
      " [14 21]]\n"
     ]
    }
   ],
   "source": [
    "print((confusion_matrix(y_test,y_pred)))"
   ]
  },
  {
   "cell_type": "code",
   "execution_count": 138,
   "id": "a1c5151a",
   "metadata": {},
   "outputs": [
    {
     "name": "stdout",
     "output_type": "stream",
     "text": [
      "              precision    recall  f1-score   support\n",
      "\n",
      "           0       0.60      0.49      0.54        43\n",
      "           1       0.49      0.60      0.54        35\n",
      "\n",
      "    accuracy                           0.54        78\n",
      "   macro avg       0.54      0.54      0.54        78\n",
      "weighted avg       0.55      0.54      0.54        78\n",
      "\n"
     ]
    }
   ],
   "source": [
    "print(classification_report(y_test,y_pred))"
   ]
  },
  {
   "cell_type": "markdown",
   "id": "c92a167c",
   "metadata": {},
   "source": [
    "- separated by sex"
   ]
  },
  {
   "cell_type": "code",
   "execution_count": 139,
   "id": "e1214536",
   "metadata": {},
   "outputs": [],
   "source": [
    "df_f = df_origin[df_origin.sex=='F']\n",
    "df_m = df_origin[df_origin.sex=='M']"
   ]
  },
  {
   "cell_type": "code",
   "execution_count": 140,
   "id": "6a4895d4",
   "metadata": {},
   "outputs": [],
   "source": [
    "X = df_f.drop(['Target','sex','age'],axis=1)\n",
    "y = df_f.Target\n",
    "X_train, X_test, y_train, y_test = train_test_split(X,y,test_size = 0.2)\n",
    "model = NuSVC(probability=True)\n",
    "model.fit(X_train, y_train)\n",
    "model_collection.append(('female dataframe new batch',model.fit(X_train,y_train),\n",
    "                         model.score(X_train,y_train),model.score(X_test,y_test)))\n",
    "y_pred = model.predict(X_test)\n"
   ]
  },
  {
   "cell_type": "code",
   "execution_count": 141,
   "id": "1cb1e045",
   "metadata": {},
   "outputs": [
    {
     "data": {
      "text/plain": [
       "0.9802631578947368"
      ]
     },
     "execution_count": 141,
     "metadata": {},
     "output_type": "execute_result"
    }
   ],
   "source": [
    "model.score(X_train,y_train)"
   ]
  },
  {
   "cell_type": "code",
   "execution_count": 142,
   "id": "eba94792",
   "metadata": {},
   "outputs": [
    {
     "data": {
      "text/plain": [
       "0.6842105263157895"
      ]
     },
     "execution_count": 142,
     "metadata": {},
     "output_type": "execute_result"
    }
   ],
   "source": [
    "model.score(X_test,y_test)"
   ]
  },
  {
   "cell_type": "code",
   "execution_count": 143,
   "id": "0e2c8048",
   "metadata": {},
   "outputs": [
    {
     "name": "stdout",
     "output_type": "stream",
     "text": [
      "[[11  5]\n",
      " [ 7 15]]\n"
     ]
    }
   ],
   "source": [
    "print((confusion_matrix(y_test,y_pred)))"
   ]
  },
  {
   "cell_type": "code",
   "execution_count": 144,
   "id": "a253397b",
   "metadata": {},
   "outputs": [
    {
     "name": "stdout",
     "output_type": "stream",
     "text": [
      "              precision    recall  f1-score   support\n",
      "\n",
      "           0       0.61      0.69      0.65        16\n",
      "           1       0.75      0.68      0.71        22\n",
      "\n",
      "    accuracy                           0.68        38\n",
      "   macro avg       0.68      0.68      0.68        38\n",
      "weighted avg       0.69      0.68      0.69        38\n",
      "\n"
     ]
    }
   ],
   "source": [
    "print(classification_report(y_test,y_pred))"
   ]
  },
  {
   "cell_type": "code",
   "execution_count": 145,
   "id": "110a5b3c",
   "metadata": {},
   "outputs": [],
   "source": [
    "p = model.predict_proba(X_test)"
   ]
  },
  {
   "cell_type": "code",
   "execution_count": 146,
   "id": "6d2d1142",
   "metadata": {},
   "outputs": [],
   "source": [
    "fpr, tpr, th = roc_curve(y_test, p[:,1])"
   ]
  },
  {
   "cell_type": "code",
   "execution_count": 147,
   "id": "5ea26deb",
   "metadata": {},
   "outputs": [
    {
     "data": {
      "text/plain": [
       "[<matplotlib.lines.Line2D at 0x7fb130fcea90>]"
      ]
     },
     "execution_count": 147,
     "metadata": {},
     "output_type": "execute_result"
    },
    {
     "data": {
      "image/png": "[encoded data removed]",
      "text/plain": [
       "<Figure size 432x288 with 1 Axes>"
      ]
     },
     "metadata": {
      "needs_background": "light"
     },
     "output_type": "display_data"
    }
   ],
   "source": [
    "import matplotlib.pyplot as plt\n",
    "plt.plot(fpr, tpr)\n",
    "plt.plot([0,1],[0,1], c='r', linestyle='--')"
   ]
  },
  {
   "cell_type": "code",
   "execution_count": 148,
   "id": "bc0e7e4f",
   "metadata": {},
   "outputs": [
    {
     "data": {
      "text/plain": [
       "0.2826704545454545"
      ]
     },
     "execution_count": 148,
     "metadata": {},
     "output_type": "execute_result"
    }
   ],
   "source": [
    "auc(fpr, tpr)"
   ]
  },
  {
   "cell_type": "code",
   "execution_count": 149,
   "id": "c6c525f9",
   "metadata": {},
   "outputs": [],
   "source": [
    "X = df_m.drop(['Target','sex','age'],axis=1)\n",
    "y = df_m.Target\n",
    "X_train, X_test, y_train, y_test = train_test_split(X,y,test_size = 0.2)\n",
    "model = NuSVC(probability=True)\n",
    "model.fit(X_train, y_train)\n",
    "model_collection.append(('male dataframe new batch',model.fit(X_train,y_train),\n",
    "                         model.score(X_train,y_train),model.score(X_test,y_test)))\n",
    "y_pred = model.predict(X_test)"
   ]
  },
  {
   "cell_type": "code",
   "execution_count": 150,
   "id": "6807e2ce",
   "metadata": {},
   "outputs": [
    {
     "data": {
      "text/plain": [
       "0.9642857142857143"
      ]
     },
     "execution_count": 150,
     "metadata": {},
     "output_type": "execute_result"
    }
   ],
   "source": [
    "model.score(X_train,y_train)"
   ]
  },
  {
   "cell_type": "code",
   "execution_count": 151,
   "id": "8a338a6d",
   "metadata": {},
   "outputs": [
    {
     "data": {
      "text/plain": [
       "0.3611111111111111"
      ]
     },
     "execution_count": 151,
     "metadata": {},
     "output_type": "execute_result"
    }
   ],
   "source": [
    "model.score(X_test,y_test)"
   ]
  },
  {
   "cell_type": "code",
   "execution_count": 152,
   "id": "dcbf5821",
   "metadata": {},
   "outputs": [
    {
     "name": "stdout",
     "output_type": "stream",
     "text": [
      "[[ 8  9]\n",
      " [14  5]]\n"
     ]
    }
   ],
   "source": [
    "print((confusion_matrix(y_test,y_pred)))"
   ]
  },
  {
   "cell_type": "code",
   "execution_count": 153,
   "id": "83030eb0",
   "metadata": {},
   "outputs": [
    {
     "name": "stdout",
     "output_type": "stream",
     "text": [
      "              precision    recall  f1-score   support\n",
      "\n",
      "           0       0.36      0.47      0.41        17\n",
      "           1       0.36      0.26      0.30        19\n",
      "\n",
      "    accuracy                           0.36        36\n",
      "   macro avg       0.36      0.37      0.36        36\n",
      "weighted avg       0.36      0.36      0.35        36\n",
      "\n"
     ]
    }
   ],
   "source": [
    "print(classification_report(y_test,y_pred))"
   ]
  },
  {
   "cell_type": "code",
   "execution_count": 154,
   "id": "96b71b85",
   "metadata": {},
   "outputs": [
    {
     "data": {
      "text/plain": [
       "[<matplotlib.lines.Line2D at 0x7fb131096400>]"
      ]
     },
     "execution_count": 154,
     "metadata": {},
     "output_type": "execute_result"
    },
    {
     "data": {
      "image/png": "[encoded data removed]",
      "text/plain": [
       "<Figure size 432x288 with 1 Axes>"
      ]
     },
     "metadata": {
      "needs_background": "light"
     },
     "output_type": "display_data"
    }
   ],
   "source": [
    "p = model.predict_proba(X_test)\n",
    "fpr, tpr, th = roc_curve(y_test, p[:,1])\n",
    "plt.plot(fpr, tpr)\n",
    "plt.plot([0,1],[0,1], c='r', linestyle='--')"
   ]
  },
  {
   "cell_type": "code",
   "execution_count": 155,
   "id": "39ff263e",
   "metadata": {},
   "outputs": [
    {
     "data": {
      "text/plain": [
       "0.37306501547987614"
      ]
     },
     "execution_count": 155,
     "metadata": {},
     "output_type": "execute_result"
    }
   ],
   "source": [
    "auc(fpr, tpr)"
   ]
  },
  {
   "cell_type": "markdown",
   "id": "ff0053a5",
   "metadata": {},
   "source": [
    "- separated by sex and including age"
   ]
  },
  {
   "cell_type": "code",
   "execution_count": 156,
   "id": "ebea8eec",
   "metadata": {},
   "outputs": [],
   "source": [
    "df_f.drop(df_f[df_f.age == 999].index,axis=0,inplace=True)"
   ]
  },
  {
   "cell_type": "code",
   "execution_count": 157,
   "id": "1813e26d",
   "metadata": {},
   "outputs": [],
   "source": [
    "df_m.drop(df_m[df_m.age == 999].index,axis=0,inplace=True)"
   ]
  },
  {
   "cell_type": "code",
   "execution_count": 158,
   "id": "ef812033",
   "metadata": {},
   "outputs": [],
   "source": [
    "X = df_f.drop(['Target','sex','age'],axis=1)\n",
    "y = df_f.Target\n",
    "X_train, X_test, y_train, y_test = train_test_split(X,y,test_size = 0.2)\n",
    "model = NuSVC(probability=True)\n",
    "model.fit(X_train, y_train)\n",
    "model_collection.append(('female dataframe age new batch',model.fit(X_train,y_train),\n",
    "                         model.score(X_train,y_train),model.score(X_test,y_test)))\n",
    "y_pred = model.predict(X_test)"
   ]
  },
  {
   "cell_type": "code",
   "execution_count": 159,
   "id": "3f9e2df5",
   "metadata": {},
   "outputs": [
    {
     "data": {
      "text/plain": [
       "0.972972972972973"
      ]
     },
     "execution_count": 159,
     "metadata": {},
     "output_type": "execute_result"
    }
   ],
   "source": [
    "model.score(X_train,y_train)"
   ]
  },
  {
   "cell_type": "code",
   "execution_count": 160,
   "id": "3724088d",
   "metadata": {},
   "outputs": [
    {
     "data": {
      "text/plain": [
       "0.4594594594594595"
      ]
     },
     "execution_count": 160,
     "metadata": {},
     "output_type": "execute_result"
    }
   ],
   "source": [
    "model.score(X_test,y_test)"
   ]
  },
  {
   "cell_type": "code",
   "execution_count": 161,
   "id": "74490cdc",
   "metadata": {},
   "outputs": [
    {
     "name": "stdout",
     "output_type": "stream",
     "text": [
      "[[ 6 14]\n",
      " [ 6 11]]\n"
     ]
    }
   ],
   "source": [
    "print((confusion_matrix(y_test,y_pred)))"
   ]
  },
  {
   "cell_type": "code",
   "execution_count": 162,
   "id": "8f8b947e",
   "metadata": {},
   "outputs": [
    {
     "name": "stdout",
     "output_type": "stream",
     "text": [
      "              precision    recall  f1-score   support\n",
      "\n",
      "           0       0.50      0.30      0.37        20\n",
      "           1       0.44      0.65      0.52        17\n",
      "\n",
      "    accuracy                           0.46        37\n",
      "   macro avg       0.47      0.47      0.45        37\n",
      "weighted avg       0.47      0.46      0.44        37\n",
      "\n"
     ]
    }
   ],
   "source": [
    "print(classification_report(y_test,y_pred))"
   ]
  },
  {
   "cell_type": "code",
   "execution_count": 163,
   "id": "5378f816",
   "metadata": {},
   "outputs": [
    {
     "data": {
      "text/plain": [
       "[<matplotlib.lines.Line2D at 0x7fb131b8bd60>]"
      ]
     },
     "execution_count": 163,
     "metadata": {},
     "output_type": "execute_result"
    },
    {
     "data": {
      "image/png": "[encoded data removed]",
      "text/plain": [
       "<Figure size 432x288 with 1 Axes>"
      ]
     },
     "metadata": {
      "needs_background": "light"
     },
     "output_type": "display_data"
    }
   ],
   "source": [
    "p = model.predict_proba(X_test)\n",
    "fpr, tpr, th = roc_curve(y_test, p[:,1])\n",
    "plt.plot(fpr, tpr)\n",
    "plt.plot([0,1],[0,1], c='r', linestyle='--')"
   ]
  },
  {
   "cell_type": "code",
   "execution_count": 164,
   "id": "9f0fccaa",
   "metadata": {},
   "outputs": [],
   "source": [
    "X = df_m.drop(['Target','sex','age'],axis=1)\n",
    "y = df_m.Target\n",
    "X_train, X_test, y_train, y_test = train_test_split(X,y,test_size = 0.2)\n",
    "model = NuSVC(probability=True)\n",
    "model.fit(X_train, y_train)\n",
    "model_collection.append(('male dataframe age new batch',model.fit(X_train,y_train),\n",
    "                         model.score(X_train,y_train),model.score(X_test,y_test)))\n",
    "y_pred = model.predict(X_test)"
   ]
  },
  {
   "cell_type": "code",
   "execution_count": 165,
   "id": "1d22b38e",
   "metadata": {},
   "outputs": [
    {
     "data": {
      "text/plain": [
       "0.9705882352941176"
      ]
     },
     "execution_count": 165,
     "metadata": {},
     "output_type": "execute_result"
    }
   ],
   "source": [
    "model.score(X_train,y_train)"
   ]
  },
  {
   "cell_type": "code",
   "execution_count": 166,
   "id": "0b22bed5",
   "metadata": {},
   "outputs": [
    {
     "data": {
      "text/plain": [
       "0.6470588235294118"
      ]
     },
     "execution_count": 166,
     "metadata": {},
     "output_type": "execute_result"
    }
   ],
   "source": [
    "model.score(X_test,y_test)"
   ]
  },
  {
   "cell_type": "code",
   "execution_count": 167,
   "id": "d31645f2",
   "metadata": {},
   "outputs": [
    {
     "name": "stdout",
     "output_type": "stream",
     "text": [
      "[[ 7  8]\n",
      " [ 4 15]]\n"
     ]
    }
   ],
   "source": [
    "print((confusion_matrix(y_test,y_pred)))"
   ]
  },
  {
   "cell_type": "code",
   "execution_count": 168,
   "id": "0ab3972d",
   "metadata": {},
   "outputs": [
    {
     "name": "stdout",
     "output_type": "stream",
     "text": [
      "              precision    recall  f1-score   support\n",
      "\n",
      "           0       0.64      0.47      0.54        15\n",
      "           1       0.65      0.79      0.71        19\n",
      "\n",
      "    accuracy                           0.65        34\n",
      "   macro avg       0.64      0.63      0.63        34\n",
      "weighted avg       0.65      0.65      0.64        34\n",
      "\n"
     ]
    }
   ],
   "source": [
    "print(classification_report(y_test,y_pred))"
   ]
  },
  {
   "cell_type": "code",
   "execution_count": 169,
   "id": "b6137aa0",
   "metadata": {},
   "outputs": [
    {
     "data": {
      "text/plain": [
       "[<matplotlib.lines.Line2D at 0x7fb131d55220>]"
      ]
     },
     "execution_count": 169,
     "metadata": {},
     "output_type": "execute_result"
    },
    {
     "data": {
      "image/png": "[encoded data removed]",
      "text/plain": [
       "<Figure size 432x288 with 1 Axes>"
      ]
     },
     "metadata": {
      "needs_background": "light"
     },
     "output_type": "display_data"
    }
   ],
   "source": [
    "p = model.predict_proba(X_test)\n",
    "fpr, tpr, th = roc_curve(y_test, p[:,1])\n",
    "plt.plot(fpr, tpr)\n",
    "plt.plot([0,1],[0,1], c='r', linestyle='--')"
   ]
  },
  {
   "cell_type": "markdown",
   "id": "3af8d240",
   "metadata": {},
   "source": [
    "- uncensored dataframe"
   ]
  },
  {
   "cell_type": "code",
   "execution_count": 170,
   "id": "fb0b7d43",
   "metadata": {},
   "outputs": [],
   "source": [
    "df = pd.read_csv('df_unCens.csv')"
   ]
  },
  {
   "cell_type": "code",
   "execution_count": 171,
   "id": "13d978b2",
   "metadata": {},
   "outputs": [
    {
     "data": {
      "text/html": [
       "<div>\n",
       "<style scoped>\n",
       "    .dataframe tbody tr th:only-of-type {\n",
       "        vertical-align: middle;\n",
       "    }\n",
       "\n",
       "    .dataframe tbody tr th {\n",
       "        vertical-align: top;\n",
       "    }\n",
       "\n",
       "    .dataframe thead th {\n",
       "        text-align: right;\n",
       "    }\n",
       "</style>\n",
       "<table border=\"1\" class=\"dataframe\">\n",
       "  <thead>\n",
       "    <tr style=\"text-align: right;\">\n",
       "      <th></th>\n",
       "      <th>Unnamed: 0</th>\n",
       "      <th>0</th>\n",
       "      <th>1</th>\n",
       "      <th>2</th>\n",
       "      <th>3</th>\n",
       "      <th>4</th>\n",
       "      <th>5</th>\n",
       "      <th>6</th>\n",
       "      <th>7</th>\n",
       "      <th>8</th>\n",
       "      <th>...</th>\n",
       "      <th>993</th>\n",
       "      <th>994</th>\n",
       "      <th>995</th>\n",
       "      <th>996</th>\n",
       "      <th>997</th>\n",
       "      <th>998</th>\n",
       "      <th>999</th>\n",
       "      <th>1000</th>\n",
       "      <th>1001</th>\n",
       "      <th>Target</th>\n",
       "    </tr>\n",
       "  </thead>\n",
       "  <tbody>\n",
       "    <tr>\n",
       "      <th>0</th>\n",
       "      <td>0</td>\n",
       "      <td>0.00</td>\n",
       "      <td>0.00</td>\n",
       "      <td>0.00</td>\n",
       "      <td>0.00</td>\n",
       "      <td>0.00</td>\n",
       "      <td>0.00</td>\n",
       "      <td>0.00</td>\n",
       "      <td>0.00</td>\n",
       "      <td>0.00</td>\n",
       "      <td>...</td>\n",
       "      <td>0.00</td>\n",
       "      <td>0.00</td>\n",
       "      <td>0.00</td>\n",
       "      <td>0.00</td>\n",
       "      <td>0.00</td>\n",
       "      <td>0.00</td>\n",
       "      <td>0.00</td>\n",
       "      <td>56</td>\n",
       "      <td>F</td>\n",
       "      <td>0</td>\n",
       "    </tr>\n",
       "    <tr>\n",
       "      <th>1</th>\n",
       "      <td>1</td>\n",
       "      <td>0.00</td>\n",
       "      <td>0.00</td>\n",
       "      <td>0.00</td>\n",
       "      <td>0.00</td>\n",
       "      <td>0.00</td>\n",
       "      <td>0.00</td>\n",
       "      <td>0.00</td>\n",
       "      <td>0.00</td>\n",
       "      <td>0.00</td>\n",
       "      <td>...</td>\n",
       "      <td>0.00</td>\n",
       "      <td>0.00</td>\n",
       "      <td>0.00</td>\n",
       "      <td>0.00</td>\n",
       "      <td>0.00</td>\n",
       "      <td>0.00</td>\n",
       "      <td>0.52</td>\n",
       "      <td>58</td>\n",
       "      <td>M</td>\n",
       "      <td>0</td>\n",
       "    </tr>\n",
       "    <tr>\n",
       "      <th>2</th>\n",
       "      <td>2</td>\n",
       "      <td>0.00</td>\n",
       "      <td>0.00</td>\n",
       "      <td>0.00</td>\n",
       "      <td>0.00</td>\n",
       "      <td>0.00</td>\n",
       "      <td>0.00</td>\n",
       "      <td>0.00</td>\n",
       "      <td>0.00</td>\n",
       "      <td>0.00</td>\n",
       "      <td>...</td>\n",
       "      <td>0.00</td>\n",
       "      <td>0.00</td>\n",
       "      <td>0.00</td>\n",
       "      <td>0.00</td>\n",
       "      <td>0.00</td>\n",
       "      <td>0.00</td>\n",
       "      <td>0.01</td>\n",
       "      <td>45</td>\n",
       "      <td>M</td>\n",
       "      <td>0</td>\n",
       "    </tr>\n",
       "    <tr>\n",
       "      <th>3</th>\n",
       "      <td>3</td>\n",
       "      <td>0.00</td>\n",
       "      <td>0.00</td>\n",
       "      <td>0.00</td>\n",
       "      <td>0.00</td>\n",
       "      <td>0.00</td>\n",
       "      <td>0.00</td>\n",
       "      <td>0.00</td>\n",
       "      <td>0.00</td>\n",
       "      <td>0.00</td>\n",
       "      <td>...</td>\n",
       "      <td>0.00</td>\n",
       "      <td>0.00</td>\n",
       "      <td>0.00</td>\n",
       "      <td>0.00</td>\n",
       "      <td>0.00</td>\n",
       "      <td>0.00</td>\n",
       "      <td>0.06</td>\n",
       "      <td>59</td>\n",
       "      <td>M</td>\n",
       "      <td>0</td>\n",
       "    </tr>\n",
       "    <tr>\n",
       "      <th>4</th>\n",
       "      <td>4</td>\n",
       "      <td>0.00</td>\n",
       "      <td>0.00</td>\n",
       "      <td>0.01</td>\n",
       "      <td>0.05</td>\n",
       "      <td>0.02</td>\n",
       "      <td>0.01</td>\n",
       "      <td>0.02</td>\n",
       "      <td>0.00</td>\n",
       "      <td>0.00</td>\n",
       "      <td>...</td>\n",
       "      <td>0.00</td>\n",
       "      <td>0.00</td>\n",
       "      <td>0.00</td>\n",
       "      <td>0.00</td>\n",
       "      <td>0.00</td>\n",
       "      <td>0.00</td>\n",
       "      <td>0.01</td>\n",
       "      <td>55</td>\n",
       "      <td>F</td>\n",
       "      <td>0</td>\n",
       "    </tr>\n",
       "  </tbody>\n",
       "</table>\n",
       "<p>5 rows × 1004 columns</p>\n",
       "</div>"
      ],
      "text/plain": [
       "   Unnamed: 0    0    1    2    3    4    5    6    7    8  ...  993  994  \\\n",
       "0           0 0.00 0.00 0.00 0.00 0.00 0.00 0.00 0.00 0.00  ... 0.00 0.00   \n",
       "1           1 0.00 0.00 0.00 0.00 0.00 0.00 0.00 0.00 0.00  ... 0.00 0.00   \n",
       "2           2 0.00 0.00 0.00 0.00 0.00 0.00 0.00 0.00 0.00  ... 0.00 0.00   \n",
       "3           3 0.00 0.00 0.00 0.00 0.00 0.00 0.00 0.00 0.00  ... 0.00 0.00   \n",
       "4           4 0.00 0.00 0.01 0.05 0.02 0.01 0.02 0.00 0.00  ... 0.00 0.00   \n",
       "\n",
       "   995  996  997  998  999  1000  1001  Target  \n",
       "0 0.00 0.00 0.00 0.00 0.00    56     F       0  \n",
       "1 0.00 0.00 0.00 0.00 0.52    58     M       0  \n",
       "2 0.00 0.00 0.00 0.00 0.01    45     M       0  \n",
       "3 0.00 0.00 0.00 0.00 0.06    59     M       0  \n",
       "4 0.00 0.00 0.00 0.00 0.01    55     F       0  \n",
       "\n",
       "[5 rows x 1004 columns]"
      ]
     },
     "execution_count": 171,
     "metadata": {},
     "output_type": "execute_result"
    }
   ],
   "source": [
    "df.head()"
   ]
  },
  {
   "cell_type": "code",
   "execution_count": 172,
   "id": "ea27a877",
   "metadata": {},
   "outputs": [],
   "source": [
    "df.drop('Unnamed: 0',axis=1,inplace=True)\n",
    "df.rename(columns={'1000':'age', '1001':'sex'},inplace=True)"
   ]
  },
  {
   "cell_type": "code",
   "execution_count": 173,
   "id": "e516253d",
   "metadata": {},
   "outputs": [],
   "source": [
    "df_origin = df.copy()"
   ]
  },
  {
   "cell_type": "code",
   "execution_count": 174,
   "id": "7e2af5c7",
   "metadata": {},
   "outputs": [],
   "source": [
    "df.drop(df[(df['age'] == 999) | (df['sex'] == 'U')].index, axis=0,inplace=True)"
   ]
  },
  {
   "cell_type": "code",
   "execution_count": 175,
   "id": "ae82cb11",
   "metadata": {},
   "outputs": [],
   "source": [
    "encoder = ce.BinaryEncoder()"
   ]
  },
  {
   "cell_type": "code",
   "execution_count": 176,
   "id": "3e0e849c",
   "metadata": {},
   "outputs": [],
   "source": [
    "df['sex_0'] = encoder.fit_transform(df['sex'])['sex_0']"
   ]
  },
  {
   "cell_type": "code",
   "execution_count": 177,
   "id": "6bee04e5",
   "metadata": {},
   "outputs": [],
   "source": [
    "df['sex_1'] = encoder.fit_transform(df['sex'])['sex_1']"
   ]
  },
  {
   "cell_type": "code",
   "execution_count": 178,
   "id": "85ee0b0b",
   "metadata": {},
   "outputs": [],
   "source": [
    "X = df.drop(['Target','sex'],axis=1)\n",
    "y = df.Target"
   ]
  },
  {
   "cell_type": "code",
   "execution_count": 179,
   "id": "66299d77",
   "metadata": {},
   "outputs": [],
   "source": [
    "X_train, X_test, y_train, y_test = train_test_split(X,y,test_size = 0.2)"
   ]
  },
  {
   "cell_type": "code",
   "execution_count": 180,
   "id": "5541feed",
   "metadata": {},
   "outputs": [],
   "source": [
    "model = RandomForestClassifier(criterion='gini',n_estimators=200)"
   ]
  },
  {
   "cell_type": "code",
   "execution_count": 181,
   "id": "e7bd17a1",
   "metadata": {},
   "outputs": [
    {
     "data": {
      "text/plain": [
       "RandomForestClassifier(n_estimators=200)"
      ]
     },
     "execution_count": 181,
     "metadata": {},
     "output_type": "execute_result"
    }
   ],
   "source": [
    "model.fit(X_train, y_train)"
   ]
  },
  {
   "cell_type": "code",
   "execution_count": 182,
   "id": "e9e879b6",
   "metadata": {},
   "outputs": [],
   "source": [
    "model_collection.append(('uncens agesex full batch',model.fit(X_train,y_train),\n",
    "                         model.score(X_train,y_train),model.score(X_test,y_test)\n",
    "                         ))"
   ]
  },
  {
   "cell_type": "code",
   "execution_count": 183,
   "id": "81167c92",
   "metadata": {},
   "outputs": [],
   "source": [
    "y_pred = model.predict(X_test)"
   ]
  },
  {
   "cell_type": "code",
   "execution_count": 184,
   "id": "a6c24891",
   "metadata": {},
   "outputs": [
    {
     "data": {
      "text/plain": [
       "1.0"
      ]
     },
     "execution_count": 184,
     "metadata": {},
     "output_type": "execute_result"
    }
   ],
   "source": [
    "model.score(X_train,y_train)"
   ]
  },
  {
   "cell_type": "code",
   "execution_count": 185,
   "id": "4579426b",
   "metadata": {},
   "outputs": [
    {
     "data": {
      "text/plain": [
       "0.4788732394366197"
      ]
     },
     "execution_count": 185,
     "metadata": {},
     "output_type": "execute_result"
    }
   ],
   "source": [
    "model.score(X_test,y_test)"
   ]
  },
  {
   "cell_type": "code",
   "execution_count": 186,
   "id": "c82f77f9",
   "metadata": {},
   "outputs": [
    {
     "name": "stdout",
     "output_type": "stream",
     "text": [
      "[[16 24]\n",
      " [13 18]]\n"
     ]
    }
   ],
   "source": [
    "print((confusion_matrix(y_test,y_pred)))"
   ]
  },
  {
   "cell_type": "code",
   "execution_count": 187,
   "id": "54fdafb9",
   "metadata": {},
   "outputs": [
    {
     "name": "stdout",
     "output_type": "stream",
     "text": [
      "              precision    recall  f1-score   support\n",
      "\n",
      "           0       0.55      0.40      0.46        40\n",
      "           1       0.43      0.58      0.49        31\n",
      "\n",
      "    accuracy                           0.48        71\n",
      "   macro avg       0.49      0.49      0.48        71\n",
      "weighted avg       0.50      0.48      0.48        71\n",
      "\n"
     ]
    }
   ],
   "source": [
    "print(classification_report(y_test,y_pred))"
   ]
  },
  {
   "cell_type": "code",
   "execution_count": 188,
   "id": "db3f6aff",
   "metadata": {
    "scrolled": true
   },
   "outputs": [
    {
     "data": {
      "image/png": "[encoded data removed]",
      "text/plain": [
       "<Figure size 432x288 with 1 Axes>"
      ]
     },
     "metadata": {
      "needs_background": "light"
     },
     "output_type": "display_data"
    }
   ],
   "source": [
    "p = model.predict_proba(X_test)\n",
    "fpr, tpr, th = roc_curve(y_test, p[:,1])\n",
    "plt.plot(fpr, tpr)\n",
    "plt.plot([0,1],[0,1], c='r', linestyle='--')\n",
    "plt.title(f'VGG16 ROC (RandomForestClassifier) auc: {round(auc(fpr, tpr),3)}')\n",
    "plt.savefig('ROC_randomforest_vgg16.png')"
   ]
  },
  {
   "cell_type": "code",
   "execution_count": 189,
   "id": "066d092b",
   "metadata": {},
   "outputs": [],
   "source": [
    "df = pd.read_csv('df_rotated_unCens.csv')"
   ]
  },
  {
   "cell_type": "code",
   "execution_count": 190,
   "id": "c70e938c",
   "metadata": {},
   "outputs": [
    {
     "data": {
      "text/html": [
       "<div>\n",
       "<style scoped>\n",
       "    .dataframe tbody tr th:only-of-type {\n",
       "        vertical-align: middle;\n",
       "    }\n",
       "\n",
       "    .dataframe tbody tr th {\n",
       "        vertical-align: top;\n",
       "    }\n",
       "\n",
       "    .dataframe thead th {\n",
       "        text-align: right;\n",
       "    }\n",
       "</style>\n",
       "<table border=\"1\" class=\"dataframe\">\n",
       "  <thead>\n",
       "    <tr style=\"text-align: right;\">\n",
       "      <th></th>\n",
       "      <th>Unnamed: 0</th>\n",
       "      <th>0</th>\n",
       "      <th>1</th>\n",
       "      <th>2</th>\n",
       "      <th>3</th>\n",
       "      <th>4</th>\n",
       "      <th>5</th>\n",
       "      <th>6</th>\n",
       "      <th>7</th>\n",
       "      <th>8</th>\n",
       "      <th>...</th>\n",
       "      <th>993</th>\n",
       "      <th>994</th>\n",
       "      <th>995</th>\n",
       "      <th>996</th>\n",
       "      <th>997</th>\n",
       "      <th>998</th>\n",
       "      <th>999</th>\n",
       "      <th>1000</th>\n",
       "      <th>1001</th>\n",
       "      <th>Target</th>\n",
       "    </tr>\n",
       "  </thead>\n",
       "  <tbody>\n",
       "    <tr>\n",
       "      <th>0</th>\n",
       "      <td>0</td>\n",
       "      <td>0.00</td>\n",
       "      <td>0.00</td>\n",
       "      <td>0.00</td>\n",
       "      <td>0.00</td>\n",
       "      <td>0.00</td>\n",
       "      <td>0.00</td>\n",
       "      <td>0.00</td>\n",
       "      <td>0.00</td>\n",
       "      <td>0.00</td>\n",
       "      <td>...</td>\n",
       "      <td>0.00</td>\n",
       "      <td>0.00</td>\n",
       "      <td>0.00</td>\n",
       "      <td>0.00</td>\n",
       "      <td>0.00</td>\n",
       "      <td>0.00</td>\n",
       "      <td>0.00</td>\n",
       "      <td>42</td>\n",
       "      <td>F</td>\n",
       "      <td>0</td>\n",
       "    </tr>\n",
       "    <tr>\n",
       "      <th>1</th>\n",
       "      <td>1</td>\n",
       "      <td>0.00</td>\n",
       "      <td>0.00</td>\n",
       "      <td>0.00</td>\n",
       "      <td>0.00</td>\n",
       "      <td>0.00</td>\n",
       "      <td>0.02</td>\n",
       "      <td>0.01</td>\n",
       "      <td>0.00</td>\n",
       "      <td>0.00</td>\n",
       "      <td>...</td>\n",
       "      <td>0.00</td>\n",
       "      <td>0.00</td>\n",
       "      <td>0.00</td>\n",
       "      <td>0.00</td>\n",
       "      <td>0.00</td>\n",
       "      <td>0.00</td>\n",
       "      <td>0.00</td>\n",
       "      <td>62</td>\n",
       "      <td>M</td>\n",
       "      <td>0</td>\n",
       "    </tr>\n",
       "    <tr>\n",
       "      <th>2</th>\n",
       "      <td>2</td>\n",
       "      <td>0.00</td>\n",
       "      <td>0.00</td>\n",
       "      <td>0.00</td>\n",
       "      <td>0.00</td>\n",
       "      <td>0.00</td>\n",
       "      <td>0.00</td>\n",
       "      <td>0.00</td>\n",
       "      <td>0.00</td>\n",
       "      <td>0.00</td>\n",
       "      <td>...</td>\n",
       "      <td>0.00</td>\n",
       "      <td>0.00</td>\n",
       "      <td>0.00</td>\n",
       "      <td>0.00</td>\n",
       "      <td>0.00</td>\n",
       "      <td>0.00</td>\n",
       "      <td>0.00</td>\n",
       "      <td>41</td>\n",
       "      <td>M</td>\n",
       "      <td>0</td>\n",
       "    </tr>\n",
       "    <tr>\n",
       "      <th>3</th>\n",
       "      <td>3</td>\n",
       "      <td>0.00</td>\n",
       "      <td>0.00</td>\n",
       "      <td>0.00</td>\n",
       "      <td>0.00</td>\n",
       "      <td>0.00</td>\n",
       "      <td>0.00</td>\n",
       "      <td>0.00</td>\n",
       "      <td>0.00</td>\n",
       "      <td>0.00</td>\n",
       "      <td>...</td>\n",
       "      <td>0.00</td>\n",
       "      <td>0.00</td>\n",
       "      <td>0.00</td>\n",
       "      <td>0.00</td>\n",
       "      <td>0.00</td>\n",
       "      <td>0.00</td>\n",
       "      <td>0.00</td>\n",
       "      <td>999</td>\n",
       "      <td>U</td>\n",
       "      <td>0</td>\n",
       "    </tr>\n",
       "    <tr>\n",
       "      <th>4</th>\n",
       "      <td>4</td>\n",
       "      <td>0.00</td>\n",
       "      <td>0.00</td>\n",
       "      <td>0.00</td>\n",
       "      <td>0.00</td>\n",
       "      <td>0.00</td>\n",
       "      <td>0.00</td>\n",
       "      <td>0.00</td>\n",
       "      <td>0.00</td>\n",
       "      <td>0.00</td>\n",
       "      <td>...</td>\n",
       "      <td>0.00</td>\n",
       "      <td>0.00</td>\n",
       "      <td>0.00</td>\n",
       "      <td>0.00</td>\n",
       "      <td>0.00</td>\n",
       "      <td>0.00</td>\n",
       "      <td>0.00</td>\n",
       "      <td>49</td>\n",
       "      <td>F</td>\n",
       "      <td>0</td>\n",
       "    </tr>\n",
       "  </tbody>\n",
       "</table>\n",
       "<p>5 rows × 1004 columns</p>\n",
       "</div>"
      ],
      "text/plain": [
       "   Unnamed: 0    0    1    2    3    4    5    6    7    8  ...  993  994  \\\n",
       "0           0 0.00 0.00 0.00 0.00 0.00 0.00 0.00 0.00 0.00  ... 0.00 0.00   \n",
       "1           1 0.00 0.00 0.00 0.00 0.00 0.02 0.01 0.00 0.00  ... 0.00 0.00   \n",
       "2           2 0.00 0.00 0.00 0.00 0.00 0.00 0.00 0.00 0.00  ... 0.00 0.00   \n",
       "3           3 0.00 0.00 0.00 0.00 0.00 0.00 0.00 0.00 0.00  ... 0.00 0.00   \n",
       "4           4 0.00 0.00 0.00 0.00 0.00 0.00 0.00 0.00 0.00  ... 0.00 0.00   \n",
       "\n",
       "   995  996  997  998  999  1000  1001  Target  \n",
       "0 0.00 0.00 0.00 0.00 0.00    42     F       0  \n",
       "1 0.00 0.00 0.00 0.00 0.00    62     M       0  \n",
       "2 0.00 0.00 0.00 0.00 0.00    41     M       0  \n",
       "3 0.00 0.00 0.00 0.00 0.00   999     U       0  \n",
       "4 0.00 0.00 0.00 0.00 0.00    49     F       0  \n",
       "\n",
       "[5 rows x 1004 columns]"
      ]
     },
     "execution_count": 190,
     "metadata": {},
     "output_type": "execute_result"
    }
   ],
   "source": [
    "df.head()"
   ]
  },
  {
   "cell_type": "code",
   "execution_count": 191,
   "id": "2d67353b",
   "metadata": {},
   "outputs": [],
   "source": [
    "df.drop('Unnamed: 0',axis=1,inplace=True)\n",
    "df.rename(columns={'1000':'age', '1001':'sex'},inplace=True)"
   ]
  },
  {
   "cell_type": "code",
   "execution_count": 192,
   "id": "a40dcbe7",
   "metadata": {},
   "outputs": [],
   "source": [
    "df_origin = df.copy()"
   ]
  },
  {
   "cell_type": "code",
   "execution_count": 193,
   "id": "39213b53",
   "metadata": {},
   "outputs": [],
   "source": [
    "df.drop(df[(df['age'] == 999) | (df['sex'] == 'U')].index, axis=0,inplace=True)"
   ]
  },
  {
   "cell_type": "code",
   "execution_count": 194,
   "id": "1c8d1692",
   "metadata": {},
   "outputs": [],
   "source": [
    "encoder = ce.BinaryEncoder()"
   ]
  },
  {
   "cell_type": "code",
   "execution_count": 195,
   "id": "680ed300",
   "metadata": {},
   "outputs": [],
   "source": [
    "df['sex_0'] = encoder.fit_transform(df['sex'])['sex_0']"
   ]
  },
  {
   "cell_type": "code",
   "execution_count": 196,
   "id": "c6b57466",
   "metadata": {},
   "outputs": [],
   "source": [
    "df['sex_1'] = encoder.fit_transform(df['sex'])['sex_1']"
   ]
  },
  {
   "cell_type": "code",
   "execution_count": 197,
   "id": "033beb62",
   "metadata": {},
   "outputs": [],
   "source": [
    "X = df.drop(['Target','sex'],axis=1)\n",
    "y = df.Target"
   ]
  },
  {
   "cell_type": "code",
   "execution_count": 198,
   "id": "abf5fa9e",
   "metadata": {},
   "outputs": [],
   "source": [
    "X_train, X_test, y_train, y_test = train_test_split(X,y,test_size = 0.2)"
   ]
  },
  {
   "cell_type": "code",
   "execution_count": 199,
   "id": "0114429a",
   "metadata": {},
   "outputs": [],
   "source": [
    "model = NuSVC(probability=True)"
   ]
  },
  {
   "cell_type": "code",
   "execution_count": 200,
   "id": "299f1e37",
   "metadata": {},
   "outputs": [
    {
     "data": {
      "text/plain": [
       "NuSVC(probability=True)"
      ]
     },
     "execution_count": 200,
     "metadata": {},
     "output_type": "execute_result"
    }
   ],
   "source": [
    "model.fit(X_train, y_train)"
   ]
  },
  {
   "cell_type": "code",
   "execution_count": 201,
   "id": "bffb1a83",
   "metadata": {},
   "outputs": [],
   "source": [
    "model_collection.append(('uncens rotated agesex full batch',model.fit(X_train,y_train),\n",
    "                         model.score(X_train,y_train),model.score(X_test,y_test)\n",
    "                         ))"
   ]
  },
  {
   "cell_type": "code",
   "execution_count": 202,
   "id": "7fd4a109",
   "metadata": {},
   "outputs": [],
   "source": [
    "y_pred = model.predict(X_test)"
   ]
  },
  {
   "cell_type": "code",
   "execution_count": 203,
   "id": "a6c24891",
   "metadata": {},
   "outputs": [
    {
     "data": {
      "text/plain": [
       "0.5492957746478874"
      ]
     },
     "execution_count": 203,
     "metadata": {},
     "output_type": "execute_result"
    }
   ],
   "source": [
    "model.score(X_train,y_train)"
   ]
  },
  {
   "cell_type": "code",
   "execution_count": 204,
   "id": "4579426b",
   "metadata": {},
   "outputs": [
    {
     "data": {
      "text/plain": [
       "0.5492957746478874"
      ]
     },
     "execution_count": 204,
     "metadata": {},
     "output_type": "execute_result"
    }
   ],
   "source": [
    "model.score(X_test,y_test)"
   ]
  },
  {
   "cell_type": "code",
   "execution_count": 205,
   "id": "c82f77f9",
   "metadata": {},
   "outputs": [
    {
     "name": "stdout",
     "output_type": "stream",
     "text": [
      "[[23 16]\n",
      " [16 16]]\n"
     ]
    }
   ],
   "source": [
    "print((confusion_matrix(y_test,y_pred)))"
   ]
  },
  {
   "cell_type": "code",
   "execution_count": 206,
   "id": "54fdafb9",
   "metadata": {},
   "outputs": [
    {
     "name": "stdout",
     "output_type": "stream",
     "text": [
      "              precision    recall  f1-score   support\n",
      "\n",
      "           0       0.59      0.59      0.59        39\n",
      "           1       0.50      0.50      0.50        32\n",
      "\n",
      "    accuracy                           0.55        71\n",
      "   macro avg       0.54      0.54      0.54        71\n",
      "weighted avg       0.55      0.55      0.55        71\n",
      "\n"
     ]
    }
   ],
   "source": [
    "print(classification_report(y_test,y_pred))"
   ]
  },
  {
   "cell_type": "code",
   "execution_count": 207,
   "id": "db3f6aff",
   "metadata": {},
   "outputs": [
    {
     "data": {
      "text/plain": [
       "[<matplotlib.lines.Line2D at 0x7fb1329e8370>]"
      ]
     },
     "execution_count": 207,
     "metadata": {},
     "output_type": "execute_result"
    },
    {
     "data": {
      "image/png": "[encoded data removed]",
      "text/plain": [
       "<Figure size 432x288 with 1 Axes>"
      ]
     },
     "metadata": {
      "needs_background": "light"
     },
     "output_type": "display_data"
    }
   ],
   "source": [
    "p = model.predict_proba(X_test)\n",
    "fpr, tpr, th = roc_curve(y_test, p[:,1])\n",
    "plt.plot(fpr, tpr)\n",
    "plt.plot([0,1],[0,1], c='r', linestyle='--')"
   ]
  },
  {
   "cell_type": "code",
   "execution_count": 208,
   "id": "fbd553df",
   "metadata": {},
   "outputs": [],
   "source": [
    "from sklearn.preprocessing import KBinsDiscretizer"
   ]
  },
  {
   "cell_type": "code",
   "execution_count": 209,
   "id": "53bc9797",
   "metadata": {},
   "outputs": [],
   "source": [
    "kdisc = KBinsDiscretizer(n_bins=7, encode='ordinal')"
   ]
  },
  {
   "cell_type": "code",
   "execution_count": 210,
   "id": "756fad49",
   "metadata": {},
   "outputs": [],
   "source": [
    "df['age_bin'] = kdisc.fit_transform(df[['age']])"
   ]
  },
  {
   "cell_type": "code",
   "execution_count": 211,
   "id": "a76acb7a",
   "metadata": {},
   "outputs": [
    {
     "data": {
      "text/plain": [
       "0     2.00\n",
       "1     5.00\n",
       "2     2.00\n",
       "4     3.00\n",
       "5     4.00\n",
       "      ... \n",
       "382   3.00\n",
       "383   6.00\n",
       "384   5.00\n",
       "385   1.00\n",
       "386   4.00\n",
       "Name: age_bin, Length: 355, dtype: float64"
      ]
     },
     "execution_count": 211,
     "metadata": {},
     "output_type": "execute_result"
    }
   ],
   "source": [
    "df.age_bin"
   ]
  },
  {
   "cell_type": "code",
   "execution_count": 212,
   "id": "85ee0b0b",
   "metadata": {},
   "outputs": [],
   "source": [
    "X = df.drop(['Target','sex','age'],axis=1)\n",
    "y = df.Target"
   ]
  },
  {
   "cell_type": "code",
   "execution_count": 213,
   "id": "66299d77",
   "metadata": {},
   "outputs": [],
   "source": [
    "X_train, X_test, y_train, y_test = train_test_split(X,y,test_size = 0.2)"
   ]
  },
  {
   "cell_type": "code",
   "execution_count": 214,
   "id": "5541feed",
   "metadata": {},
   "outputs": [],
   "source": [
    "model = NuSVC(probability=True)"
   ]
  },
  {
   "cell_type": "code",
   "execution_count": 215,
   "id": "e7bd17a1",
   "metadata": {},
   "outputs": [
    {
     "data": {
      "text/plain": [
       "NuSVC(probability=True)"
      ]
     },
     "execution_count": 215,
     "metadata": {},
     "output_type": "execute_result"
    }
   ],
   "source": [
    "model.fit(X_train, y_train)"
   ]
  },
  {
   "cell_type": "code",
   "execution_count": 216,
   "id": "e9e879b6",
   "metadata": {},
   "outputs": [],
   "source": [
    "model_collection.append(('uncens rotated discretized age full batch',model.fit(X_train,y_train),\n",
    "                         model.score(X_train,y_train),model.score(X_test,y_test)\n",
    "                         ))"
   ]
  },
  {
   "cell_type": "code",
   "execution_count": 217,
   "id": "81167c92",
   "metadata": {},
   "outputs": [],
   "source": [
    "y_pred = model.predict(X_test)"
   ]
  },
  {
   "cell_type": "code",
   "execution_count": 218,
   "id": "a6c24891",
   "metadata": {},
   "outputs": [
    {
     "data": {
      "text/plain": [
       "0.9014084507042254"
      ]
     },
     "execution_count": 218,
     "metadata": {},
     "output_type": "execute_result"
    }
   ],
   "source": [
    "model.score(X_train,y_train)"
   ]
  },
  {
   "cell_type": "code",
   "execution_count": 219,
   "id": "4579426b",
   "metadata": {},
   "outputs": [
    {
     "data": {
      "text/plain": [
       "0.5070422535211268"
      ]
     },
     "execution_count": 219,
     "metadata": {},
     "output_type": "execute_result"
    }
   ],
   "source": [
    "model.score(X_test,y_test)"
   ]
  },
  {
   "cell_type": "code",
   "execution_count": 220,
   "id": "c82f77f9",
   "metadata": {},
   "outputs": [
    {
     "name": "stdout",
     "output_type": "stream",
     "text": [
      "[[22 14]\n",
      " [21 14]]\n"
     ]
    }
   ],
   "source": [
    "print((confusion_matrix(y_test,y_pred)))"
   ]
  },
  {
   "cell_type": "code",
   "execution_count": 221,
   "id": "54fdafb9",
   "metadata": {},
   "outputs": [
    {
     "name": "stdout",
     "output_type": "stream",
     "text": [
      "              precision    recall  f1-score   support\n",
      "\n",
      "           0       0.51      0.61      0.56        36\n",
      "           1       0.50      0.40      0.44        35\n",
      "\n",
      "    accuracy                           0.51        71\n",
      "   macro avg       0.51      0.51      0.50        71\n",
      "weighted avg       0.51      0.51      0.50        71\n",
      "\n"
     ]
    }
   ],
   "source": [
    "print(classification_report(y_test,y_pred))"
   ]
  },
  {
   "cell_type": "code",
   "execution_count": 222,
   "id": "db3f6aff",
   "metadata": {},
   "outputs": [
    {
     "data": {
      "text/plain": [
       "[<matplotlib.lines.Line2D at 0x7fb1326d1a00>]"
      ]
     },
     "execution_count": 222,
     "metadata": {},
     "output_type": "execute_result"
    },
    {
     "data": {
      "image/png": "[encoded data removed]",
      "text/plain": [
       "<Figure size 432x288 with 1 Axes>"
      ]
     },
     "metadata": {
      "needs_background": "light"
     },
     "output_type": "display_data"
    }
   ],
   "source": [
    "p = model.predict_proba(X_test)\n",
    "fpr, tpr, th = roc_curve(y_test, p[:,1])\n",
    "plt.plot(fpr, tpr)\n",
    "plt.plot([0,1],[0,1], c='r', linestyle='--')"
   ]
  },
  {
   "cell_type": "code",
   "execution_count": 223,
   "id": "fb0b7d43",
   "metadata": {},
   "outputs": [],
   "source": [
    "df = pd.read_csv('df_rotated_unCens_vgg19.csv')"
   ]
  },
  {
   "cell_type": "code",
   "execution_count": 224,
   "id": "13d978b2",
   "metadata": {},
   "outputs": [
    {
     "data": {
      "text/html": [
       "<div>\n",
       "<style scoped>\n",
       "    .dataframe tbody tr th:only-of-type {\n",
       "        vertical-align: middle;\n",
       "    }\n",
       "\n",
       "    .dataframe tbody tr th {\n",
       "        vertical-align: top;\n",
       "    }\n",
       "\n",
       "    .dataframe thead th {\n",
       "        text-align: right;\n",
       "    }\n",
       "</style>\n",
       "<table border=\"1\" class=\"dataframe\">\n",
       "  <thead>\n",
       "    <tr style=\"text-align: right;\">\n",
       "      <th></th>\n",
       "      <th>Unnamed: 0</th>\n",
       "      <th>0</th>\n",
       "      <th>1</th>\n",
       "      <th>2</th>\n",
       "      <th>3</th>\n",
       "      <th>4</th>\n",
       "      <th>5</th>\n",
       "      <th>6</th>\n",
       "      <th>7</th>\n",
       "      <th>8</th>\n",
       "      <th>...</th>\n",
       "      <th>993</th>\n",
       "      <th>994</th>\n",
       "      <th>995</th>\n",
       "      <th>996</th>\n",
       "      <th>997</th>\n",
       "      <th>998</th>\n",
       "      <th>999</th>\n",
       "      <th>1000</th>\n",
       "      <th>1001</th>\n",
       "      <th>Target</th>\n",
       "    </tr>\n",
       "  </thead>\n",
       "  <tbody>\n",
       "    <tr>\n",
       "      <th>0</th>\n",
       "      <td>0</td>\n",
       "      <td>0.00</td>\n",
       "      <td>0.00</td>\n",
       "      <td>0.00</td>\n",
       "      <td>0.00</td>\n",
       "      <td>0.00</td>\n",
       "      <td>0.00</td>\n",
       "      <td>0.00</td>\n",
       "      <td>0.00</td>\n",
       "      <td>0.00</td>\n",
       "      <td>...</td>\n",
       "      <td>0.00</td>\n",
       "      <td>0.00</td>\n",
       "      <td>0.00</td>\n",
       "      <td>0.00</td>\n",
       "      <td>0.00</td>\n",
       "      <td>0.00</td>\n",
       "      <td>0.00</td>\n",
       "      <td>42</td>\n",
       "      <td>F</td>\n",
       "      <td>0</td>\n",
       "    </tr>\n",
       "    <tr>\n",
       "      <th>1</th>\n",
       "      <td>1</td>\n",
       "      <td>0.00</td>\n",
       "      <td>0.00</td>\n",
       "      <td>0.00</td>\n",
       "      <td>0.00</td>\n",
       "      <td>0.00</td>\n",
       "      <td>0.00</td>\n",
       "      <td>0.00</td>\n",
       "      <td>0.00</td>\n",
       "      <td>0.00</td>\n",
       "      <td>...</td>\n",
       "      <td>0.00</td>\n",
       "      <td>0.00</td>\n",
       "      <td>0.00</td>\n",
       "      <td>0.00</td>\n",
       "      <td>0.00</td>\n",
       "      <td>0.00</td>\n",
       "      <td>0.00</td>\n",
       "      <td>62</td>\n",
       "      <td>M</td>\n",
       "      <td>0</td>\n",
       "    </tr>\n",
       "    <tr>\n",
       "      <th>2</th>\n",
       "      <td>2</td>\n",
       "      <td>0.00</td>\n",
       "      <td>0.00</td>\n",
       "      <td>0.00</td>\n",
       "      <td>0.00</td>\n",
       "      <td>0.00</td>\n",
       "      <td>0.00</td>\n",
       "      <td>0.00</td>\n",
       "      <td>0.00</td>\n",
       "      <td>0.00</td>\n",
       "      <td>...</td>\n",
       "      <td>0.00</td>\n",
       "      <td>0.00</td>\n",
       "      <td>0.00</td>\n",
       "      <td>0.00</td>\n",
       "      <td>0.00</td>\n",
       "      <td>0.00</td>\n",
       "      <td>0.00</td>\n",
       "      <td>41</td>\n",
       "      <td>M</td>\n",
       "      <td>0</td>\n",
       "    </tr>\n",
       "    <tr>\n",
       "      <th>3</th>\n",
       "      <td>3</td>\n",
       "      <td>0.00</td>\n",
       "      <td>0.00</td>\n",
       "      <td>0.00</td>\n",
       "      <td>0.00</td>\n",
       "      <td>0.00</td>\n",
       "      <td>0.00</td>\n",
       "      <td>0.00</td>\n",
       "      <td>0.00</td>\n",
       "      <td>0.00</td>\n",
       "      <td>...</td>\n",
       "      <td>0.00</td>\n",
       "      <td>0.00</td>\n",
       "      <td>0.00</td>\n",
       "      <td>0.00</td>\n",
       "      <td>0.00</td>\n",
       "      <td>0.00</td>\n",
       "      <td>0.00</td>\n",
       "      <td>999</td>\n",
       "      <td>U</td>\n",
       "      <td>0</td>\n",
       "    </tr>\n",
       "    <tr>\n",
       "      <th>4</th>\n",
       "      <td>4</td>\n",
       "      <td>0.00</td>\n",
       "      <td>0.00</td>\n",
       "      <td>0.00</td>\n",
       "      <td>0.00</td>\n",
       "      <td>0.00</td>\n",
       "      <td>0.00</td>\n",
       "      <td>0.00</td>\n",
       "      <td>0.00</td>\n",
       "      <td>0.00</td>\n",
       "      <td>...</td>\n",
       "      <td>0.00</td>\n",
       "      <td>0.00</td>\n",
       "      <td>0.00</td>\n",
       "      <td>0.00</td>\n",
       "      <td>0.00</td>\n",
       "      <td>0.00</td>\n",
       "      <td>0.00</td>\n",
       "      <td>49</td>\n",
       "      <td>F</td>\n",
       "      <td>0</td>\n",
       "    </tr>\n",
       "  </tbody>\n",
       "</table>\n",
       "<p>5 rows × 1004 columns</p>\n",
       "</div>"
      ],
      "text/plain": [
       "   Unnamed: 0    0    1    2    3    4    5    6    7    8  ...  993  994  \\\n",
       "0           0 0.00 0.00 0.00 0.00 0.00 0.00 0.00 0.00 0.00  ... 0.00 0.00   \n",
       "1           1 0.00 0.00 0.00 0.00 0.00 0.00 0.00 0.00 0.00  ... 0.00 0.00   \n",
       "2           2 0.00 0.00 0.00 0.00 0.00 0.00 0.00 0.00 0.00  ... 0.00 0.00   \n",
       "3           3 0.00 0.00 0.00 0.00 0.00 0.00 0.00 0.00 0.00  ... 0.00 0.00   \n",
       "4           4 0.00 0.00 0.00 0.00 0.00 0.00 0.00 0.00 0.00  ... 0.00 0.00   \n",
       "\n",
       "   995  996  997  998  999  1000  1001  Target  \n",
       "0 0.00 0.00 0.00 0.00 0.00    42     F       0  \n",
       "1 0.00 0.00 0.00 0.00 0.00    62     M       0  \n",
       "2 0.00 0.00 0.00 0.00 0.00    41     M       0  \n",
       "3 0.00 0.00 0.00 0.00 0.00   999     U       0  \n",
       "4 0.00 0.00 0.00 0.00 0.00    49     F       0  \n",
       "\n",
       "[5 rows x 1004 columns]"
      ]
     },
     "execution_count": 224,
     "metadata": {},
     "output_type": "execute_result"
    }
   ],
   "source": [
    "df.head()"
   ]
  },
  {
   "cell_type": "code",
   "execution_count": 225,
   "id": "ea27a877",
   "metadata": {},
   "outputs": [],
   "source": [
    "df.drop('Unnamed: 0',axis=1,inplace=True)\n",
    "df.rename(columns={'1000':'age', '1001':'sex'},inplace=True)"
   ]
  },
  {
   "cell_type": "code",
   "execution_count": 226,
   "id": "e516253d",
   "metadata": {},
   "outputs": [],
   "source": [
    "df_origin = df.copy()"
   ]
  },
  {
   "cell_type": "code",
   "execution_count": 227,
   "id": "7e2af5c7",
   "metadata": {},
   "outputs": [],
   "source": [
    "df.drop(df[(df['age'] == 999) | (df['sex'] == 'U')].index, axis=0,inplace=True)"
   ]
  },
  {
   "cell_type": "code",
   "execution_count": 228,
   "id": "ae82cb11",
   "metadata": {},
   "outputs": [],
   "source": [
    "encoder = ce.BinaryEncoder()"
   ]
  },
  {
   "cell_type": "code",
   "execution_count": 229,
   "id": "3e0e849c",
   "metadata": {},
   "outputs": [],
   "source": [
    "df['sex_0'] = encoder.fit_transform(df['sex'])['sex_0']"
   ]
  },
  {
   "cell_type": "code",
   "execution_count": 230,
   "id": "6bee04e5",
   "metadata": {},
   "outputs": [],
   "source": [
    "df['sex_1'] = encoder.fit_transform(df['sex'])['sex_1']"
   ]
  },
  {
   "cell_type": "code",
   "execution_count": 231,
   "id": "53bc9797",
   "metadata": {},
   "outputs": [],
   "source": [
    "kdisc = KBinsDiscretizer(n_bins=7, encode='ordinal')"
   ]
  },
  {
   "cell_type": "code",
   "execution_count": 232,
   "id": "756fad49",
   "metadata": {},
   "outputs": [],
   "source": [
    "df['age_bin'] = kdisc.fit_transform(df[['age']])"
   ]
  },
  {
   "cell_type": "code",
   "execution_count": 233,
   "id": "85ee0b0b",
   "metadata": {},
   "outputs": [],
   "source": [
    "X = df.drop(['Target','sex','age','age_bin','sex_0','sex_1'],axis=1)\n",
    "y = df.Target"
   ]
  },
  {
   "cell_type": "code",
   "execution_count": 234,
   "id": "66299d77",
   "metadata": {},
   "outputs": [],
   "source": [
    "X_train, X_test, y_train, y_test = train_test_split(X,y,test_size = 0.5,shuffle=True)"
   ]
  },
  {
   "cell_type": "code",
   "execution_count": 235,
   "id": "5541feed",
   "metadata": {},
   "outputs": [],
   "source": [
    "model = RandomForestClassifier(criterion='gini',n_estimators=200)"
   ]
  },
  {
   "cell_type": "code",
   "execution_count": 236,
   "id": "e7bd17a1",
   "metadata": {},
   "outputs": [
    {
     "data": {
      "text/plain": [
       "RandomForestClassifier(n_estimators=200)"
      ]
     },
     "execution_count": 236,
     "metadata": {},
     "output_type": "execute_result"
    }
   ],
   "source": [
    "model.fit(X_train, y_train)"
   ]
  },
  {
   "cell_type": "code",
   "execution_count": 237,
   "id": "7371949d",
   "metadata": {},
   "outputs": [
    {
     "data": {
      "application/javascript": [
       "\n",
       "        if (window._pyforest_update_imports_cell) { window._pyforest_update_imports_cell('import pickle'); }\n",
       "    "
      ],
      "text/plain": [
       "<IPython.core.display.Javascript object>"
      ]
     },
     "metadata": {},
     "output_type": "display_data"
    }
   ],
   "source": [
    "pickle.dump(model, file=open('../final_model.sav', 'wb'))"
   ]
  },
  {
   "cell_type": "code",
   "execution_count": 238,
   "id": "e9e879b6",
   "metadata": {},
   "outputs": [],
   "source": [
    "model_collection.append(('uncens rotated agesex vgg19',model.fit(X_train,y_train),\n",
    "                         model.score(X_train,y_train),model.score(X_test,y_test)\n",
    "                         ))"
   ]
  },
  {
   "cell_type": "code",
   "execution_count": 239,
   "id": "81167c92",
   "metadata": {},
   "outputs": [],
   "source": [
    "y_pred = model.predict(X_test)"
   ]
  },
  {
   "cell_type": "code",
   "execution_count": 240,
   "id": "a6c24891",
   "metadata": {},
   "outputs": [
    {
     "data": {
      "text/plain": [
       "1.0"
      ]
     },
     "execution_count": 240,
     "metadata": {},
     "output_type": "execute_result"
    }
   ],
   "source": [
    "model.score(X_train,y_train)"
   ]
  },
  {
   "cell_type": "code",
   "execution_count": 241,
   "id": "4579426b",
   "metadata": {},
   "outputs": [
    {
     "data": {
      "text/plain": [
       "0.9606741573033708"
      ]
     },
     "execution_count": 241,
     "metadata": {},
     "output_type": "execute_result"
    }
   ],
   "source": [
    "model.score(X_test,y_test)"
   ]
  },
  {
   "cell_type": "code",
   "execution_count": 242,
   "id": "f4e468db",
   "metadata": {},
   "outputs": [
    {
     "name": "stdout",
     "output_type": "stream",
     "text": [
      "1 1\n",
      "0 0\n",
      "0 0\n",
      "1 1\n",
      "0 0\n",
      "1 1\n",
      "1 1\n",
      "0 0\n",
      "0 0\n",
      "0 0\n",
      "1 1\n",
      "0 0\n",
      "1 1\n",
      "1 1\n",
      "0 0\n",
      "1 1\n",
      "0 0\n",
      "1 1\n",
      "0 0\n",
      "0 0\n",
      "1 1\n",
      "0 0\n",
      "0 0\n",
      "0 0\n",
      "0 0\n",
      "1 1\n",
      "0 0\n",
      "0 0\n",
      "0 0\n",
      "1 1\n",
      "1 1\n",
      "1 1\n",
      "1 1\n",
      "1 1\n",
      "1 1\n",
      "0 0\n",
      "0 0\n",
      "0 0\n",
      "0 0\n",
      "0 0\n",
      "0 0\n",
      "1 1\n",
      "0 0\n",
      "1 1\n",
      "1 1\n",
      "1 1\n",
      "1 1\n",
      "0 0\n",
      "0 0\n",
      "1 1\n",
      "0 0\n",
      "1 1\n",
      "1 0\n",
      "1 1\n",
      "1 1\n",
      "1 1\n",
      "0 0\n",
      "0 0\n",
      "1 1\n",
      "0 0\n",
      "1 1\n",
      "1 1\n",
      "1 1\n",
      "0 0\n",
      "1 1\n",
      "0 0\n",
      "1 1\n",
      "1 1\n",
      "1 1\n",
      "0 0\n",
      "1 1\n",
      "0 0\n",
      "0 0\n",
      "0 0\n",
      "1 1\n",
      "1 1\n",
      "0 1\n",
      "1 1\n",
      "1 1\n",
      "1 1\n",
      "1 1\n",
      "1 1\n",
      "0 0\n",
      "0 0\n",
      "0 0\n",
      "1 1\n",
      "0 0\n",
      "1 1\n",
      "0 0\n",
      "0 1\n",
      "1 1\n",
      "0 0\n",
      "0 0\n",
      "0 0\n",
      "1 1\n",
      "0 0\n",
      "1 0\n",
      "0 0\n",
      "0 0\n",
      "1 1\n",
      "0 0\n",
      "0 0\n",
      "0 0\n",
      "1 1\n",
      "1 1\n",
      "0 0\n",
      "0 0\n",
      "1 1\n",
      "0 0\n",
      "0 0\n",
      "1 1\n",
      "1 1\n",
      "1 1\n",
      "1 1\n",
      "0 0\n",
      "0 0\n",
      "1 1\n",
      "1 1\n",
      "0 0\n",
      "1 1\n",
      "0 0\n",
      "0 0\n",
      "1 1\n",
      "1 1\n",
      "1 1\n",
      "1 1\n",
      "0 0\n",
      "0 0\n",
      "1 1\n",
      "0 0\n",
      "0 0\n",
      "0 1\n",
      "0 0\n",
      "1 1\n",
      "1 1\n",
      "1 1\n",
      "1 1\n",
      "1 1\n",
      "1 1\n",
      "1 1\n",
      "1 1\n",
      "0 0\n",
      "0 0\n",
      "0 0\n",
      "1 0\n",
      "0 0\n",
      "1 1\n",
      "0 0\n",
      "1 1\n",
      "1 1\n",
      "1 1\n",
      "0 0\n",
      "0 0\n",
      "0 0\n",
      "1 1\n",
      "1 1\n",
      "1 1\n",
      "0 0\n",
      "0 0\n",
      "0 0\n",
      "0 0\n",
      "0 0\n",
      "0 0\n",
      "1 1\n",
      "1 1\n",
      "1 1\n",
      "0 0\n",
      "1 1\n",
      "1 1\n",
      "1 1\n",
      "1 1\n",
      "1 1\n",
      "1 1\n",
      "1 0\n",
      "1 1\n",
      "0 0\n",
      "0 0\n",
      "1 1\n"
     ]
    }
   ],
   "source": [
    "for i,j in zip(y_pred,y_test):\n",
    "    print(i,j)"
   ]
  },
  {
   "cell_type": "code",
   "execution_count": 243,
   "id": "c82f77f9",
   "metadata": {},
   "outputs": [
    {
     "name": "stdout",
     "output_type": "stream",
     "text": [
      "[[82  4]\n",
      " [ 3 89]]\n"
     ]
    }
   ],
   "source": [
    "print((confusion_matrix(y_test,y_pred)))"
   ]
  },
  {
   "cell_type": "code",
   "execution_count": 244,
   "id": "54fdafb9",
   "metadata": {},
   "outputs": [
    {
     "name": "stdout",
     "output_type": "stream",
     "text": [
      "              precision    recall  f1-score   support\n",
      "\n",
      "           0       0.96      0.95      0.96        86\n",
      "           1       0.96      0.97      0.96        92\n",
      "\n",
      "    accuracy                           0.96       178\n",
      "   macro avg       0.96      0.96      0.96       178\n",
      "weighted avg       0.96      0.96      0.96       178\n",
      "\n"
     ]
    }
   ],
   "source": [
    "print(classification_report(y_test,y_pred))"
   ]
  },
  {
   "cell_type": "code",
   "execution_count": 245,
   "id": "db3f6aff",
   "metadata": {
    "scrolled": true
   },
   "outputs": [
    {
     "data": {
      "image/png": "[encoded data removed]",
      "text/plain": [
       "<Figure size 432x288 with 1 Axes>"
      ]
     },
     "metadata": {
      "needs_background": "light"
     },
     "output_type": "display_data"
    }
   ],
   "source": [
    "p = model.predict_proba(X_test)\n",
    "fpr, tpr, th = roc_curve(y_test, p[:,1])\n",
    "plt.plot(fpr, tpr)\n",
    "plt.plot([0,1],[0,1], c='r', linestyle='--')\n",
    "plt.title(f'VGG19 ROC (RandomForestClassifier) auc: {round(auc(fpr, tpr),3)}')\n",
    "plt.savefig('ROC_randomforest_vgg19.png')"
   ]
  },
  {
   "cell_type": "code",
   "execution_count": 246,
   "id": "8c1a3038",
   "metadata": {},
   "outputs": [
    {
     "data": {
      "text/plain": [
       "0.9936172901921132"
      ]
     },
     "execution_count": 246,
     "metadata": {},
     "output_type": "execute_result"
    }
   ],
   "source": [
    "auc(fpr, tpr)"
   ]
  },
  {
   "cell_type": "markdown",
   "id": "7f29d80c",
   "metadata": {},
   "source": [
    "- Testing with new data"
   ]
  },
  {
   "cell_type": "code",
   "execution_count": 247,
   "id": "3c22b301",
   "metadata": {},
   "outputs": [
    {
     "data": {
      "application/javascript": [
       "\n",
       "        if (window._pyforest_update_imports_cell) { window._pyforest_update_imports_cell('import pickle'); }\n",
       "    "
      ],
      "text/plain": [
       "<IPython.core.display.Javascript object>"
      ]
     },
     "metadata": {},
     "output_type": "display_data"
    }
   ],
   "source": [
    "prueba_arr = pickle.load(open('/Users/cnieto/IronHack/Personal_projects/PR_Final_PeriapicalRadiography_Classification/Image_preprocessing/real_test.txt','rb'))"
   ]
  },
  {
   "cell_type": "code",
   "execution_count": 248,
   "id": "734cab11",
   "metadata": {},
   "outputs": [],
   "source": [
    "df_prueba = pd.DataFrame(\n",
    "    columns= range(0,len(prueba_arr[0][0])),\n",
    "    index= range(0,len(prueba_arr)))"
   ]
  },
  {
   "cell_type": "code",
   "execution_count": 249,
   "id": "0ff79eaf",
   "metadata": {},
   "outputs": [],
   "source": [
    "pos = -1\n",
    "for i in prueba_arr:\n",
    "    for j in i:\n",
    "        col = 0\n",
    "        pos += 1\n",
    "        for z in j:\n",
    "            df_prueba.iloc[pos,col] = z\n",
    "            col += 1 "
   ]
  },
  {
   "cell_type": "code",
   "execution_count": 250,
   "id": "36ba3534",
   "metadata": {},
   "outputs": [
    {
     "data": {
      "text/html": [
       "<div>\n",
       "<style scoped>\n",
       "    .dataframe tbody tr th:only-of-type {\n",
       "        vertical-align: middle;\n",
       "    }\n",
       "\n",
       "    .dataframe tbody tr th {\n",
       "        vertical-align: top;\n",
       "    }\n",
       "\n",
       "    .dataframe thead th {\n",
       "        text-align: right;\n",
       "    }\n",
       "</style>\n",
       "<table border=\"1\" class=\"dataframe\">\n",
       "  <thead>\n",
       "    <tr style=\"text-align: right;\">\n",
       "      <th></th>\n",
       "      <th>0</th>\n",
       "      <th>1</th>\n",
       "      <th>2</th>\n",
       "      <th>3</th>\n",
       "      <th>4</th>\n",
       "      <th>5</th>\n",
       "      <th>6</th>\n",
       "      <th>7</th>\n",
       "      <th>8</th>\n",
       "      <th>9</th>\n",
       "      <th>...</th>\n",
       "      <th>990</th>\n",
       "      <th>991</th>\n",
       "      <th>992</th>\n",
       "      <th>993</th>\n",
       "      <th>994</th>\n",
       "      <th>995</th>\n",
       "      <th>996</th>\n",
       "      <th>997</th>\n",
       "      <th>998</th>\n",
       "      <th>999</th>\n",
       "    </tr>\n",
       "  </thead>\n",
       "  <tbody>\n",
       "    <tr>\n",
       "      <th>0</th>\n",
       "      <td>0.00</td>\n",
       "      <td>0.00</td>\n",
       "      <td>0.00</td>\n",
       "      <td>0.00</td>\n",
       "      <td>0.00</td>\n",
       "      <td>0.00</td>\n",
       "      <td>0.00</td>\n",
       "      <td>0.00</td>\n",
       "      <td>0.00</td>\n",
       "      <td>0.00</td>\n",
       "      <td>...</td>\n",
       "      <td>0.00</td>\n",
       "      <td>0.00</td>\n",
       "      <td>0.00</td>\n",
       "      <td>0.00</td>\n",
       "      <td>0.00</td>\n",
       "      <td>0.00</td>\n",
       "      <td>0.00</td>\n",
       "      <td>0.00</td>\n",
       "      <td>0.00</td>\n",
       "      <td>0.00</td>\n",
       "    </tr>\n",
       "    <tr>\n",
       "      <th>1</th>\n",
       "      <td>0.00</td>\n",
       "      <td>0.00</td>\n",
       "      <td>0.00</td>\n",
       "      <td>0.00</td>\n",
       "      <td>0.00</td>\n",
       "      <td>0.00</td>\n",
       "      <td>0.00</td>\n",
       "      <td>0.00</td>\n",
       "      <td>0.00</td>\n",
       "      <td>0.00</td>\n",
       "      <td>...</td>\n",
       "      <td>0.00</td>\n",
       "      <td>0.00</td>\n",
       "      <td>0.00</td>\n",
       "      <td>0.00</td>\n",
       "      <td>0.00</td>\n",
       "      <td>0.00</td>\n",
       "      <td>0.00</td>\n",
       "      <td>0.00</td>\n",
       "      <td>0.00</td>\n",
       "      <td>0.00</td>\n",
       "    </tr>\n",
       "    <tr>\n",
       "      <th>2</th>\n",
       "      <td>0.00</td>\n",
       "      <td>0.00</td>\n",
       "      <td>0.00</td>\n",
       "      <td>0.00</td>\n",
       "      <td>0.00</td>\n",
       "      <td>0.00</td>\n",
       "      <td>0.00</td>\n",
       "      <td>0.00</td>\n",
       "      <td>0.00</td>\n",
       "      <td>0.00</td>\n",
       "      <td>...</td>\n",
       "      <td>0.00</td>\n",
       "      <td>0.00</td>\n",
       "      <td>0.00</td>\n",
       "      <td>0.00</td>\n",
       "      <td>0.00</td>\n",
       "      <td>0.00</td>\n",
       "      <td>0.00</td>\n",
       "      <td>0.00</td>\n",
       "      <td>0.00</td>\n",
       "      <td>0.03</td>\n",
       "    </tr>\n",
       "    <tr>\n",
       "      <th>3</th>\n",
       "      <td>0.00</td>\n",
       "      <td>0.00</td>\n",
       "      <td>0.00</td>\n",
       "      <td>0.00</td>\n",
       "      <td>0.00</td>\n",
       "      <td>0.00</td>\n",
       "      <td>0.00</td>\n",
       "      <td>0.00</td>\n",
       "      <td>0.00</td>\n",
       "      <td>0.00</td>\n",
       "      <td>...</td>\n",
       "      <td>0.00</td>\n",
       "      <td>0.00</td>\n",
       "      <td>0.00</td>\n",
       "      <td>0.00</td>\n",
       "      <td>0.00</td>\n",
       "      <td>0.00</td>\n",
       "      <td>0.00</td>\n",
       "      <td>0.00</td>\n",
       "      <td>0.00</td>\n",
       "      <td>0.00</td>\n",
       "    </tr>\n",
       "    <tr>\n",
       "      <th>4</th>\n",
       "      <td>0.00</td>\n",
       "      <td>0.00</td>\n",
       "      <td>0.00</td>\n",
       "      <td>0.00</td>\n",
       "      <td>0.00</td>\n",
       "      <td>0.00</td>\n",
       "      <td>0.00</td>\n",
       "      <td>0.00</td>\n",
       "      <td>0.00</td>\n",
       "      <td>0.00</td>\n",
       "      <td>...</td>\n",
       "      <td>0.00</td>\n",
       "      <td>0.00</td>\n",
       "      <td>0.00</td>\n",
       "      <td>0.00</td>\n",
       "      <td>0.00</td>\n",
       "      <td>0.00</td>\n",
       "      <td>0.00</td>\n",
       "      <td>0.00</td>\n",
       "      <td>0.00</td>\n",
       "      <td>0.10</td>\n",
       "    </tr>\n",
       "  </tbody>\n",
       "</table>\n",
       "<p>5 rows × 1000 columns</p>\n",
       "</div>"
      ],
      "text/plain": [
       "   0    1    2    3    4    5    6    7    8    9    ...  990  991  992  993  \\\n",
       "0 0.00 0.00 0.00 0.00 0.00 0.00 0.00 0.00 0.00 0.00  ... 0.00 0.00 0.00 0.00   \n",
       "1 0.00 0.00 0.00 0.00 0.00 0.00 0.00 0.00 0.00 0.00  ... 0.00 0.00 0.00 0.00   \n",
       "2 0.00 0.00 0.00 0.00 0.00 0.00 0.00 0.00 0.00 0.00  ... 0.00 0.00 0.00 0.00   \n",
       "3 0.00 0.00 0.00 0.00 0.00 0.00 0.00 0.00 0.00 0.00  ... 0.00 0.00 0.00 0.00   \n",
       "4 0.00 0.00 0.00 0.00 0.00 0.00 0.00 0.00 0.00 0.00  ... 0.00 0.00 0.00 0.00   \n",
       "\n",
       "   994  995  996  997  998  999  \n",
       "0 0.00 0.00 0.00 0.00 0.00 0.00  \n",
       "1 0.00 0.00 0.00 0.00 0.00 0.00  \n",
       "2 0.00 0.00 0.00 0.00 0.00 0.03  \n",
       "3 0.00 0.00 0.00 0.00 0.00 0.00  \n",
       "4 0.00 0.00 0.00 0.00 0.00 0.10  \n",
       "\n",
       "[5 rows x 1000 columns]"
      ]
     },
     "execution_count": 250,
     "metadata": {},
     "output_type": "execute_result"
    }
   ],
   "source": [
    "df_prueba.head()"
   ]
  },
  {
   "cell_type": "code",
   "execution_count": 251,
   "id": "6743d4c7",
   "metadata": {},
   "outputs": [
    {
     "data": {
      "text/plain": [
       "5.0581457e-06"
      ]
     },
     "execution_count": 251,
     "metadata": {},
     "output_type": "execute_result"
    }
   ],
   "source": [
    "df_prueba.loc[0,500]"
   ]
  },
  {
   "cell_type": "code",
   "execution_count": 252,
   "id": "8b1ca824",
   "metadata": {},
   "outputs": [
    {
     "data": {
      "text/plain": [
       "array([0, 0, 0, 0, 0, 0])"
      ]
     },
     "execution_count": 252,
     "metadata": {},
     "output_type": "execute_result"
    }
   ],
   "source": [
    "model.predict(df_prueba)"
   ]
  },
  {
   "cell_type": "markdown",
   "id": "b15b5ff5",
   "metadata": {},
   "source": [
    "- Preselected images with vgg19"
   ]
  },
  {
   "cell_type": "code",
   "execution_count": 253,
   "id": "fb0b7d43",
   "metadata": {},
   "outputs": [],
   "source": [
    "df = pd.read_csv('dataset_selected.csv')"
   ]
  },
  {
   "cell_type": "code",
   "execution_count": 254,
   "id": "13d978b2",
   "metadata": {},
   "outputs": [
    {
     "data": {
      "text/html": [
       "<div>\n",
       "<style scoped>\n",
       "    .dataframe tbody tr th:only-of-type {\n",
       "        vertical-align: middle;\n",
       "    }\n",
       "\n",
       "    .dataframe tbody tr th {\n",
       "        vertical-align: top;\n",
       "    }\n",
       "\n",
       "    .dataframe thead th {\n",
       "        text-align: right;\n",
       "    }\n",
       "</style>\n",
       "<table border=\"1\" class=\"dataframe\">\n",
       "  <thead>\n",
       "    <tr style=\"text-align: right;\">\n",
       "      <th></th>\n",
       "      <th>Unnamed: 0</th>\n",
       "      <th>0</th>\n",
       "      <th>1</th>\n",
       "      <th>2</th>\n",
       "      <th>3</th>\n",
       "      <th>4</th>\n",
       "      <th>5</th>\n",
       "      <th>6</th>\n",
       "      <th>7</th>\n",
       "      <th>8</th>\n",
       "      <th>...</th>\n",
       "      <th>991</th>\n",
       "      <th>992</th>\n",
       "      <th>993</th>\n",
       "      <th>994</th>\n",
       "      <th>995</th>\n",
       "      <th>996</th>\n",
       "      <th>997</th>\n",
       "      <th>998</th>\n",
       "      <th>999</th>\n",
       "      <th>Target</th>\n",
       "    </tr>\n",
       "  </thead>\n",
       "  <tbody>\n",
       "    <tr>\n",
       "      <th>0</th>\n",
       "      <td>0</td>\n",
       "      <td>0.00</td>\n",
       "      <td>0.00</td>\n",
       "      <td>0.00</td>\n",
       "      <td>0.00</td>\n",
       "      <td>0.00</td>\n",
       "      <td>0.00</td>\n",
       "      <td>0.00</td>\n",
       "      <td>0.00</td>\n",
       "      <td>0.00</td>\n",
       "      <td>...</td>\n",
       "      <td>0.00</td>\n",
       "      <td>0.00</td>\n",
       "      <td>0.00</td>\n",
       "      <td>0.00</td>\n",
       "      <td>0.00</td>\n",
       "      <td>0.00</td>\n",
       "      <td>0.00</td>\n",
       "      <td>0.00</td>\n",
       "      <td>0.00</td>\n",
       "      <td>0</td>\n",
       "    </tr>\n",
       "    <tr>\n",
       "      <th>1</th>\n",
       "      <td>1</td>\n",
       "      <td>0.00</td>\n",
       "      <td>0.00</td>\n",
       "      <td>0.00</td>\n",
       "      <td>0.00</td>\n",
       "      <td>0.00</td>\n",
       "      <td>0.00</td>\n",
       "      <td>0.00</td>\n",
       "      <td>0.00</td>\n",
       "      <td>0.00</td>\n",
       "      <td>...</td>\n",
       "      <td>0.00</td>\n",
       "      <td>0.00</td>\n",
       "      <td>0.00</td>\n",
       "      <td>0.00</td>\n",
       "      <td>0.00</td>\n",
       "      <td>0.00</td>\n",
       "      <td>0.00</td>\n",
       "      <td>0.00</td>\n",
       "      <td>0.00</td>\n",
       "      <td>0</td>\n",
       "    </tr>\n",
       "    <tr>\n",
       "      <th>2</th>\n",
       "      <td>2</td>\n",
       "      <td>0.00</td>\n",
       "      <td>0.00</td>\n",
       "      <td>0.00</td>\n",
       "      <td>0.00</td>\n",
       "      <td>0.00</td>\n",
       "      <td>0.00</td>\n",
       "      <td>0.00</td>\n",
       "      <td>0.00</td>\n",
       "      <td>0.00</td>\n",
       "      <td>...</td>\n",
       "      <td>0.00</td>\n",
       "      <td>0.00</td>\n",
       "      <td>0.00</td>\n",
       "      <td>0.00</td>\n",
       "      <td>0.00</td>\n",
       "      <td>0.00</td>\n",
       "      <td>0.00</td>\n",
       "      <td>0.00</td>\n",
       "      <td>0.00</td>\n",
       "      <td>0</td>\n",
       "    </tr>\n",
       "    <tr>\n",
       "      <th>3</th>\n",
       "      <td>3</td>\n",
       "      <td>0.00</td>\n",
       "      <td>0.00</td>\n",
       "      <td>0.00</td>\n",
       "      <td>0.00</td>\n",
       "      <td>0.00</td>\n",
       "      <td>0.00</td>\n",
       "      <td>0.00</td>\n",
       "      <td>0.00</td>\n",
       "      <td>0.00</td>\n",
       "      <td>...</td>\n",
       "      <td>0.00</td>\n",
       "      <td>0.00</td>\n",
       "      <td>0.00</td>\n",
       "      <td>0.00</td>\n",
       "      <td>0.00</td>\n",
       "      <td>0.00</td>\n",
       "      <td>0.00</td>\n",
       "      <td>0.00</td>\n",
       "      <td>0.04</td>\n",
       "      <td>0</td>\n",
       "    </tr>\n",
       "    <tr>\n",
       "      <th>4</th>\n",
       "      <td>4</td>\n",
       "      <td>0.00</td>\n",
       "      <td>0.00</td>\n",
       "      <td>0.00</td>\n",
       "      <td>0.00</td>\n",
       "      <td>0.00</td>\n",
       "      <td>0.00</td>\n",
       "      <td>0.00</td>\n",
       "      <td>0.00</td>\n",
       "      <td>0.00</td>\n",
       "      <td>...</td>\n",
       "      <td>0.00</td>\n",
       "      <td>0.00</td>\n",
       "      <td>0.00</td>\n",
       "      <td>0.00</td>\n",
       "      <td>0.00</td>\n",
       "      <td>0.00</td>\n",
       "      <td>0.00</td>\n",
       "      <td>0.00</td>\n",
       "      <td>0.00</td>\n",
       "      <td>0</td>\n",
       "    </tr>\n",
       "  </tbody>\n",
       "</table>\n",
       "<p>5 rows × 1002 columns</p>\n",
       "</div>"
      ],
      "text/plain": [
       "   Unnamed: 0    0    1    2    3    4    5    6    7    8  ...  991  992  \\\n",
       "0           0 0.00 0.00 0.00 0.00 0.00 0.00 0.00 0.00 0.00  ... 0.00 0.00   \n",
       "1           1 0.00 0.00 0.00 0.00 0.00 0.00 0.00 0.00 0.00  ... 0.00 0.00   \n",
       "2           2 0.00 0.00 0.00 0.00 0.00 0.00 0.00 0.00 0.00  ... 0.00 0.00   \n",
       "3           3 0.00 0.00 0.00 0.00 0.00 0.00 0.00 0.00 0.00  ... 0.00 0.00   \n",
       "4           4 0.00 0.00 0.00 0.00 0.00 0.00 0.00 0.00 0.00  ... 0.00 0.00   \n",
       "\n",
       "   993  994  995  996  997  998  999  Target  \n",
       "0 0.00 0.00 0.00 0.00 0.00 0.00 0.00       0  \n",
       "1 0.00 0.00 0.00 0.00 0.00 0.00 0.00       0  \n",
       "2 0.00 0.00 0.00 0.00 0.00 0.00 0.00       0  \n",
       "3 0.00 0.00 0.00 0.00 0.00 0.00 0.04       0  \n",
       "4 0.00 0.00 0.00 0.00 0.00 0.00 0.00       0  \n",
       "\n",
       "[5 rows x 1002 columns]"
      ]
     },
     "execution_count": 254,
     "metadata": {},
     "output_type": "execute_result"
    }
   ],
   "source": [
    "df.head()"
   ]
  },
  {
   "cell_type": "code",
   "execution_count": 255,
   "id": "ea27a877",
   "metadata": {},
   "outputs": [],
   "source": [
    "df.drop('Unnamed: 0',axis=1,inplace=True)"
   ]
  },
  {
   "cell_type": "code",
   "execution_count": 256,
   "id": "85ee0b0b",
   "metadata": {},
   "outputs": [],
   "source": [
    "X = df.drop(['Target'],axis=1)\n",
    "y = df.Target"
   ]
  },
  {
   "cell_type": "code",
   "execution_count": 257,
   "id": "66299d77",
   "metadata": {},
   "outputs": [],
   "source": [
    "X_train, X_test, y_train, y_test = train_test_split(X,y,test_size = 0.15,shuffle=True)"
   ]
  },
  {
   "cell_type": "code",
   "execution_count": 258,
   "id": "5541feed",
   "metadata": {},
   "outputs": [],
   "source": [
    "model = RandomForestClassifier(n_estimators=200)"
   ]
  },
  {
   "cell_type": "code",
   "execution_count": 259,
   "id": "e7bd17a1",
   "metadata": {},
   "outputs": [
    {
     "data": {
      "text/plain": [
       "RandomForestClassifier(n_estimators=200)"
      ]
     },
     "execution_count": 259,
     "metadata": {},
     "output_type": "execute_result"
    }
   ],
   "source": [
    "model.fit(X_train, y_train)"
   ]
  },
  {
   "cell_type": "code",
   "execution_count": 260,
   "id": "7371949d",
   "metadata": {},
   "outputs": [
    {
     "data": {
      "application/javascript": [
       "\n",
       "        if (window._pyforest_update_imports_cell) { window._pyforest_update_imports_cell('import pickle'); }\n",
       "    "
      ],
      "text/plain": [
       "<IPython.core.display.Javascript object>"
      ]
     },
     "metadata": {},
     "output_type": "display_data"
    }
   ],
   "source": [
    "pickle.dump(model, file=open('../selected_model.sav', 'wb'))"
   ]
  },
  {
   "cell_type": "code",
   "execution_count": 261,
   "id": "e9e879b6",
   "metadata": {},
   "outputs": [],
   "source": [
    "model_collection.append(('selected vgg19',model.fit(X_train,y_train),\n",
    "                         model.score(X_train,y_train),model.score(X_test,y_test)\n",
    "                         ))"
   ]
  },
  {
   "cell_type": "code",
   "execution_count": 262,
   "id": "81167c92",
   "metadata": {},
   "outputs": [],
   "source": [
    "y_pred = model.predict(X_test)"
   ]
  },
  {
   "cell_type": "code",
   "execution_count": 263,
   "id": "a6c24891",
   "metadata": {},
   "outputs": [
    {
     "data": {
      "text/plain": [
       "1.0"
      ]
     },
     "execution_count": 263,
     "metadata": {},
     "output_type": "execute_result"
    }
   ],
   "source": [
    "model.score(X_train,y_train)"
   ]
  },
  {
   "cell_type": "code",
   "execution_count": 264,
   "id": "4579426b",
   "metadata": {},
   "outputs": [
    {
     "data": {
      "text/plain": [
       "0.5476190476190477"
      ]
     },
     "execution_count": 264,
     "metadata": {},
     "output_type": "execute_result"
    }
   ],
   "source": [
    "model.score(X_test,y_test)"
   ]
  },
  {
   "cell_type": "code",
   "execution_count": 265,
   "id": "c82f77f9",
   "metadata": {},
   "outputs": [
    {
     "name": "stdout",
     "output_type": "stream",
     "text": [
      "[[17  4]\n",
      " [15  6]]\n"
     ]
    }
   ],
   "source": [
    "print((confusion_matrix(y_test,y_pred)))"
   ]
  },
  {
   "cell_type": "code",
   "execution_count": 266,
   "id": "54fdafb9",
   "metadata": {},
   "outputs": [
    {
     "name": "stdout",
     "output_type": "stream",
     "text": [
      "              precision    recall  f1-score   support\n",
      "\n",
      "           0       0.53      0.81      0.64        21\n",
      "           1       0.60      0.29      0.39        21\n",
      "\n",
      "    accuracy                           0.55        42\n",
      "   macro avg       0.57      0.55      0.51        42\n",
      "weighted avg       0.57      0.55      0.51        42\n",
      "\n"
     ]
    }
   ],
   "source": [
    "print(classification_report(y_test,y_pred))"
   ]
  },
  {
   "cell_type": "code",
   "execution_count": 267,
   "id": "db3f6aff",
   "metadata": {
    "scrolled": true
   },
   "outputs": [
    {
     "data": {
      "image/png": "[encoded data removed]",
      "text/plain": [
       "<Figure size 432x288 with 1 Axes>"
      ]
     },
     "metadata": {
      "needs_background": "light"
     },
     "output_type": "display_data"
    }
   ],
   "source": [
    "p = model.predict_proba(X_test)\n",
    "fpr, tpr, th = roc_curve(y_test, p[:,1])\n",
    "plt.plot(fpr, tpr)\n",
    "plt.plot([0,1],[0,1], c='r', linestyle='--')\n",
    "plt.title(f'VGG19 ROC (RandomForestClassifier) auc: {round(auc(fpr, tpr),3)}')\n",
    "plt.savefig('ROC_randomforest_vgg19.png')"
   ]
  },
  {
   "cell_type": "code",
   "execution_count": 268,
   "id": "8c1a3038",
   "metadata": {},
   "outputs": [
    {
     "data": {
      "text/plain": [
       "0.562358276643991"
      ]
     },
     "execution_count": 268,
     "metadata": {},
     "output_type": "execute_result"
    }
   ],
   "source": [
    "auc(fpr, tpr)"
   ]
  },
  {
   "cell_type": "code",
   "execution_count": 269,
   "id": "b581cac8",
   "metadata": {},
   "outputs": [
    {
     "data": {
      "text/plain": [
       "array([0, 0, 0, 0, 0, 0])"
      ]
     },
     "execution_count": 269,
     "metadata": {},
     "output_type": "execute_result"
    }
   ],
   "source": [
    "model.predict(df_prueba)"
   ]
  },
  {
   "cell_type": "code",
   "execution_count": 270,
   "id": "2a8088b4",
   "metadata": {},
   "outputs": [],
   "source": [
    "models_df = pd.DataFrame(\n",
    "    columns= ['name','model','train score','test score'],\n",
    "    index= range(0,len(model_collection)))"
   ]
  },
  {
   "cell_type": "code",
   "execution_count": 271,
   "id": "5d6d9afc",
   "metadata": {},
   "outputs": [],
   "source": [
    "pos = 0\n",
    "for i in model_collection:\n",
    "    models_df.loc[pos,'name'] = i[0]\n",
    "    models_df.loc[pos,'model'] = i[1]\n",
    "    models_df.loc[pos,'train score'] = i[2]\n",
    "    models_df.loc[pos,'test score'] = i[3]\n",
    "    pos += 1"
   ]
  },
  {
   "cell_type": "markdown",
   "id": "06c13a6d",
   "metadata": {},
   "source": [
    "- preselected VGG19 age and sex"
   ]
  },
  {
   "cell_type": "code",
   "execution_count": 272,
   "id": "fb0b7d43",
   "metadata": {},
   "outputs": [],
   "source": [
    "df = pd.read_csv('dataset_selected_as.csv')"
   ]
  },
  {
   "cell_type": "code",
   "execution_count": 273,
   "id": "13d978b2",
   "metadata": {},
   "outputs": [
    {
     "data": {
      "text/html": [
       "<div>\n",
       "<style scoped>\n",
       "    .dataframe tbody tr th:only-of-type {\n",
       "        vertical-align: middle;\n",
       "    }\n",
       "\n",
       "    .dataframe tbody tr th {\n",
       "        vertical-align: top;\n",
       "    }\n",
       "\n",
       "    .dataframe thead th {\n",
       "        text-align: right;\n",
       "    }\n",
       "</style>\n",
       "<table border=\"1\" class=\"dataframe\">\n",
       "  <thead>\n",
       "    <tr style=\"text-align: right;\">\n",
       "      <th></th>\n",
       "      <th>Unnamed: 0</th>\n",
       "      <th>0</th>\n",
       "      <th>1</th>\n",
       "      <th>2</th>\n",
       "      <th>3</th>\n",
       "      <th>4</th>\n",
       "      <th>5</th>\n",
       "      <th>6</th>\n",
       "      <th>7</th>\n",
       "      <th>8</th>\n",
       "      <th>...</th>\n",
       "      <th>993</th>\n",
       "      <th>994</th>\n",
       "      <th>995</th>\n",
       "      <th>996</th>\n",
       "      <th>997</th>\n",
       "      <th>998</th>\n",
       "      <th>999</th>\n",
       "      <th>1000</th>\n",
       "      <th>1001</th>\n",
       "      <th>Target</th>\n",
       "    </tr>\n",
       "  </thead>\n",
       "  <tbody>\n",
       "    <tr>\n",
       "      <th>0</th>\n",
       "      <td>0</td>\n",
       "      <td>0.00</td>\n",
       "      <td>0.00</td>\n",
       "      <td>0.00</td>\n",
       "      <td>0.00</td>\n",
       "      <td>0.00</td>\n",
       "      <td>0.00</td>\n",
       "      <td>0.00</td>\n",
       "      <td>0.00</td>\n",
       "      <td>0.00</td>\n",
       "      <td>...</td>\n",
       "      <td>0.00</td>\n",
       "      <td>0.00</td>\n",
       "      <td>0.00</td>\n",
       "      <td>0.00</td>\n",
       "      <td>0.00</td>\n",
       "      <td>0.00</td>\n",
       "      <td>0.00</td>\n",
       "      <td>62</td>\n",
       "      <td>M</td>\n",
       "      <td>0</td>\n",
       "    </tr>\n",
       "    <tr>\n",
       "      <th>1</th>\n",
       "      <td>1</td>\n",
       "      <td>0.00</td>\n",
       "      <td>0.00</td>\n",
       "      <td>0.00</td>\n",
       "      <td>0.00</td>\n",
       "      <td>0.00</td>\n",
       "      <td>0.00</td>\n",
       "      <td>0.00</td>\n",
       "      <td>0.00</td>\n",
       "      <td>0.00</td>\n",
       "      <td>...</td>\n",
       "      <td>0.00</td>\n",
       "      <td>0.00</td>\n",
       "      <td>0.00</td>\n",
       "      <td>0.00</td>\n",
       "      <td>0.00</td>\n",
       "      <td>0.00</td>\n",
       "      <td>0.00</td>\n",
       "      <td>41</td>\n",
       "      <td>M</td>\n",
       "      <td>0</td>\n",
       "    </tr>\n",
       "    <tr>\n",
       "      <th>2</th>\n",
       "      <td>2</td>\n",
       "      <td>0.00</td>\n",
       "      <td>0.00</td>\n",
       "      <td>0.00</td>\n",
       "      <td>0.00</td>\n",
       "      <td>0.00</td>\n",
       "      <td>0.00</td>\n",
       "      <td>0.00</td>\n",
       "      <td>0.00</td>\n",
       "      <td>0.00</td>\n",
       "      <td>...</td>\n",
       "      <td>0.00</td>\n",
       "      <td>0.00</td>\n",
       "      <td>0.00</td>\n",
       "      <td>0.00</td>\n",
       "      <td>0.00</td>\n",
       "      <td>0.00</td>\n",
       "      <td>0.00</td>\n",
       "      <td>49</td>\n",
       "      <td>F</td>\n",
       "      <td>0</td>\n",
       "    </tr>\n",
       "    <tr>\n",
       "      <th>3</th>\n",
       "      <td>3</td>\n",
       "      <td>0.00</td>\n",
       "      <td>0.00</td>\n",
       "      <td>0.00</td>\n",
       "      <td>0.00</td>\n",
       "      <td>0.00</td>\n",
       "      <td>0.00</td>\n",
       "      <td>0.00</td>\n",
       "      <td>0.00</td>\n",
       "      <td>0.00</td>\n",
       "      <td>...</td>\n",
       "      <td>0.00</td>\n",
       "      <td>0.00</td>\n",
       "      <td>0.00</td>\n",
       "      <td>0.00</td>\n",
       "      <td>0.00</td>\n",
       "      <td>0.00</td>\n",
       "      <td>0.04</td>\n",
       "      <td>52</td>\n",
       "      <td>M</td>\n",
       "      <td>0</td>\n",
       "    </tr>\n",
       "    <tr>\n",
       "      <th>4</th>\n",
       "      <td>4</td>\n",
       "      <td>0.00</td>\n",
       "      <td>0.00</td>\n",
       "      <td>0.00</td>\n",
       "      <td>0.00</td>\n",
       "      <td>0.00</td>\n",
       "      <td>0.00</td>\n",
       "      <td>0.00</td>\n",
       "      <td>0.00</td>\n",
       "      <td>0.00</td>\n",
       "      <td>...</td>\n",
       "      <td>0.00</td>\n",
       "      <td>0.00</td>\n",
       "      <td>0.00</td>\n",
       "      <td>0.00</td>\n",
       "      <td>0.00</td>\n",
       "      <td>0.00</td>\n",
       "      <td>0.00</td>\n",
       "      <td>16</td>\n",
       "      <td>F</td>\n",
       "      <td>0</td>\n",
       "    </tr>\n",
       "  </tbody>\n",
       "</table>\n",
       "<p>5 rows × 1004 columns</p>\n",
       "</div>"
      ],
      "text/plain": [
       "   Unnamed: 0    0    1    2    3    4    5    6    7    8  ...  993  994  \\\n",
       "0           0 0.00 0.00 0.00 0.00 0.00 0.00 0.00 0.00 0.00  ... 0.00 0.00   \n",
       "1           1 0.00 0.00 0.00 0.00 0.00 0.00 0.00 0.00 0.00  ... 0.00 0.00   \n",
       "2           2 0.00 0.00 0.00 0.00 0.00 0.00 0.00 0.00 0.00  ... 0.00 0.00   \n",
       "3           3 0.00 0.00 0.00 0.00 0.00 0.00 0.00 0.00 0.00  ... 0.00 0.00   \n",
       "4           4 0.00 0.00 0.00 0.00 0.00 0.00 0.00 0.00 0.00  ... 0.00 0.00   \n",
       "\n",
       "   995  996  997  998  999  1000  1001  Target  \n",
       "0 0.00 0.00 0.00 0.00 0.00    62     M       0  \n",
       "1 0.00 0.00 0.00 0.00 0.00    41     M       0  \n",
       "2 0.00 0.00 0.00 0.00 0.00    49     F       0  \n",
       "3 0.00 0.00 0.00 0.00 0.04    52     M       0  \n",
       "4 0.00 0.00 0.00 0.00 0.00    16     F       0  \n",
       "\n",
       "[5 rows x 1004 columns]"
      ]
     },
     "execution_count": 273,
     "metadata": {},
     "output_type": "execute_result"
    }
   ],
   "source": [
    "df.head()"
   ]
  },
  {
   "cell_type": "code",
   "execution_count": 274,
   "id": "ea27a877",
   "metadata": {},
   "outputs": [],
   "source": [
    "df.drop('Unnamed: 0',axis=1,inplace=True)\n",
    "df.rename(columns={'1000':'age', '1001':'sex'},inplace=True)"
   ]
  },
  {
   "cell_type": "code",
   "execution_count": 275,
   "id": "7e2af5c7",
   "metadata": {},
   "outputs": [],
   "source": [
    "df.drop(df[(df['age'] == 999) | (df['sex'] == 'U')].index, axis=0,inplace=True)"
   ]
  },
  {
   "cell_type": "code",
   "execution_count": 276,
   "id": "ae82cb11",
   "metadata": {},
   "outputs": [],
   "source": [
    "encoder = ce.BinaryEncoder()"
   ]
  },
  {
   "cell_type": "code",
   "execution_count": 277,
   "id": "3e0e849c",
   "metadata": {},
   "outputs": [],
   "source": [
    "df['sex_0'] = encoder.fit_transform(df['sex'])['sex_0']"
   ]
  },
  {
   "cell_type": "code",
   "execution_count": 278,
   "id": "6bee04e5",
   "metadata": {},
   "outputs": [],
   "source": [
    "df['sex_1'] = encoder.fit_transform(df['sex'])['sex_1']"
   ]
  },
  {
   "cell_type": "code",
   "execution_count": 279,
   "id": "53bc9797",
   "metadata": {},
   "outputs": [],
   "source": [
    "kdisc = KBinsDiscretizer(n_bins=5, encode='ordinal')"
   ]
  },
  {
   "cell_type": "code",
   "execution_count": 280,
   "id": "756fad49",
   "metadata": {},
   "outputs": [],
   "source": [
    "df['age_bin'] = kdisc.fit_transform(df[['age']])"
   ]
  },
  {
   "cell_type": "code",
   "execution_count": 281,
   "id": "85ee0b0b",
   "metadata": {},
   "outputs": [],
   "source": [
    "X = df.drop(['Target','sex','age'],axis=1)\n",
    "y = df.Target"
   ]
  },
  {
   "cell_type": "code",
   "execution_count": 282,
   "id": "66299d77",
   "metadata": {},
   "outputs": [],
   "source": [
    "X_train, X_test, y_train, y_test = train_test_split(X,y,test_size = 0.15,shuffle=True)"
   ]
  },
  {
   "cell_type": "code",
   "execution_count": 283,
   "id": "5541feed",
   "metadata": {},
   "outputs": [],
   "source": [
    "model = RandomForestClassifier(criterion='gini',n_estimators=200)"
   ]
  },
  {
   "cell_type": "code",
   "execution_count": 284,
   "id": "e7bd17a1",
   "metadata": {},
   "outputs": [
    {
     "data": {
      "text/plain": [
       "RandomForestClassifier(n_estimators=200)"
      ]
     },
     "execution_count": 284,
     "metadata": {},
     "output_type": "execute_result"
    }
   ],
   "source": [
    "model.fit(X_train, y_train)"
   ]
  },
  {
   "cell_type": "code",
   "execution_count": 285,
   "id": "a3fa2356",
   "metadata": {},
   "outputs": [
    {
     "data": {
      "text/plain": [
       "1.0"
      ]
     },
     "execution_count": 285,
     "metadata": {},
     "output_type": "execute_result"
    }
   ],
   "source": [
    "model.score(X_train,y_train)"
   ]
  },
  {
   "cell_type": "code",
   "execution_count": 286,
   "id": "dc59eb80",
   "metadata": {},
   "outputs": [
    {
     "data": {
      "text/plain": [
       "0.5384615384615384"
      ]
     },
     "execution_count": 286,
     "metadata": {},
     "output_type": "execute_result"
    }
   ],
   "source": [
    "model.score(X_test,y_test)"
   ]
  },
  {
   "cell_type": "code",
   "execution_count": 287,
   "id": "52356bb5",
   "metadata": {},
   "outputs": [],
   "source": [
    "y_pred = model.predict(X_test)"
   ]
  },
  {
   "cell_type": "code",
   "execution_count": 288,
   "id": "c82f77f9",
   "metadata": {},
   "outputs": [
    {
     "name": "stdout",
     "output_type": "stream",
     "text": [
      "[[17  9]\n",
      " [ 9  4]]\n"
     ]
    }
   ],
   "source": [
    "print((confusion_matrix(y_test,y_pred)))"
   ]
  },
  {
   "cell_type": "code",
   "execution_count": 289,
   "id": "54fdafb9",
   "metadata": {},
   "outputs": [
    {
     "name": "stdout",
     "output_type": "stream",
     "text": [
      "              precision    recall  f1-score   support\n",
      "\n",
      "           0       0.65      0.65      0.65        26\n",
      "           1       0.31      0.31      0.31        13\n",
      "\n",
      "    accuracy                           0.54        39\n",
      "   macro avg       0.48      0.48      0.48        39\n",
      "weighted avg       0.54      0.54      0.54        39\n",
      "\n"
     ]
    }
   ],
   "source": [
    "print(classification_report(y_test,y_pred))"
   ]
  },
  {
   "cell_type": "code",
   "execution_count": 290,
   "id": "db3f6aff",
   "metadata": {
    "scrolled": true
   },
   "outputs": [
    {
     "data": {
      "image/png": "[encoded data removed]",
      "text/plain": [
       "<Figure size 432x288 with 1 Axes>"
      ]
     },
     "metadata": {
      "needs_background": "light"
     },
     "output_type": "display_data"
    }
   ],
   "source": [
    "p = model.predict_proba(X_test)\n",
    "fpr, tpr, th = roc_curve(y_test, p[:,1])\n",
    "plt.plot(fpr, tpr)\n",
    "plt.plot([0,1],[0,1], c='r', linestyle='--')\n",
    "plt.title(f'VGG19 selected_as ROC (RandomForestClassifier) auc: {round(auc(fpr, tpr),3)}')\n",
    "plt.savefig('ROC_randomforest_vgg19_selected_as.png')"
   ]
  },
  {
   "cell_type": "code",
   "execution_count": 291,
   "id": "3a5db856",
   "metadata": {},
   "outputs": [
    {
     "data": {
      "application/javascript": [
       "\n",
       "        if (window._pyforest_update_imports_cell) { window._pyforest_update_imports_cell('import pickle'); }\n",
       "    "
      ],
      "text/plain": [
       "<IPython.core.display.Javascript object>"
      ]
     },
     "metadata": {},
     "output_type": "display_data"
    }
   ],
   "source": [
    "prueba_arr = pickle.load(open('/Users/cnieto/IronHack/Personal_projects/PR_Final_PeriapicalRadiography_Classification/Image_preprocessing/real_test_as.txt','rb'))"
   ]
  },
  {
   "cell_type": "code",
   "execution_count": 292,
   "id": "cb7ea745",
   "metadata": {},
   "outputs": [],
   "source": [
    "df_prueba = pd.DataFrame(\n",
    "    columns= range(0,len(prueba_arr[0])),\n",
    "    index= range(0,len(prueba_arr)))"
   ]
  },
  {
   "cell_type": "code",
   "execution_count": 293,
   "id": "23595709",
   "metadata": {},
   "outputs": [],
   "source": [
    "pos = -1\n",
    "for i in prueba_arr:\n",
    "    pos += 1\n",
    "    col = 0\n",
    "    for j in i:\n",
    "        df_prueba.iloc[pos,col] = j\n",
    "        col += 1 "
   ]
  },
  {
   "cell_type": "code",
   "execution_count": 294,
   "id": "01cceef1",
   "metadata": {},
   "outputs": [],
   "source": [
    "df_prueba.rename(columns={1000:'age', 1001:'sex'},inplace=True)"
   ]
  },
  {
   "cell_type": "code",
   "execution_count": 295,
   "id": "3e0e849c",
   "metadata": {},
   "outputs": [],
   "source": [
    "df_prueba['sex_0'] = encoder.fit_transform(df_prueba['sex'])['sex_0']"
   ]
  },
  {
   "cell_type": "code",
   "execution_count": 296,
   "id": "6bee04e5",
   "metadata": {},
   "outputs": [],
   "source": [
    "df_prueba['sex_1'] = encoder.fit_transform(df_prueba['sex'])['sex_1']"
   ]
  },
  {
   "cell_type": "code",
   "execution_count": 297,
   "id": "53bc9797",
   "metadata": {},
   "outputs": [],
   "source": [
    "kdisc = KBinsDiscretizer(n_bins=5, encode='ordinal')"
   ]
  },
  {
   "cell_type": "code",
   "execution_count": 298,
   "id": "756fad49",
   "metadata": {},
   "outputs": [],
   "source": [
    "df_prueba['age_bin'] = kdisc.fit_transform(df_prueba[['age']])"
   ]
  },
  {
   "cell_type": "code",
   "execution_count": 299,
   "id": "482aa68c",
   "metadata": {},
   "outputs": [
    {
     "data": {
      "text/html": [
       "<div>\n",
       "<style scoped>\n",
       "    .dataframe tbody tr th:only-of-type {\n",
       "        vertical-align: middle;\n",
       "    }\n",
       "\n",
       "    .dataframe tbody tr th {\n",
       "        vertical-align: top;\n",
       "    }\n",
       "\n",
       "    .dataframe thead th {\n",
       "        text-align: right;\n",
       "    }\n",
       "</style>\n",
       "<table border=\"1\" class=\"dataframe\">\n",
       "  <thead>\n",
       "    <tr style=\"text-align: right;\">\n",
       "      <th></th>\n",
       "      <th>0</th>\n",
       "      <th>1</th>\n",
       "      <th>2</th>\n",
       "      <th>3</th>\n",
       "      <th>4</th>\n",
       "      <th>5</th>\n",
       "      <th>6</th>\n",
       "      <th>7</th>\n",
       "      <th>8</th>\n",
       "      <th>9</th>\n",
       "      <th>...</th>\n",
       "      <th>995</th>\n",
       "      <th>996</th>\n",
       "      <th>997</th>\n",
       "      <th>998</th>\n",
       "      <th>999</th>\n",
       "      <th>age</th>\n",
       "      <th>sex</th>\n",
       "      <th>sex_0</th>\n",
       "      <th>sex_1</th>\n",
       "      <th>age_bin</th>\n",
       "    </tr>\n",
       "  </thead>\n",
       "  <tbody>\n",
       "    <tr>\n",
       "      <th>0</th>\n",
       "      <td>1.2879717e-05</td>\n",
       "      <td>6.426821e-05</td>\n",
       "      <td>0.00027629806</td>\n",
       "      <td>0.00029183418</td>\n",
       "      <td>0.00026865868</td>\n",
       "      <td>6.950337e-05</td>\n",
       "      <td>5.8473448e-05</td>\n",
       "      <td>3.188092e-05</td>\n",
       "      <td>5.464804e-06</td>\n",
       "      <td>5.97443e-05</td>\n",
       "      <td>...</td>\n",
       "      <td>7.443195e-05</td>\n",
       "      <td>9.8862045e-05</td>\n",
       "      <td>1.95752e-05</td>\n",
       "      <td>0.00016579687</td>\n",
       "      <td>0.0010350418</td>\n",
       "      <td>58</td>\n",
       "      <td>M</td>\n",
       "      <td>0</td>\n",
       "      <td>1</td>\n",
       "      <td>3.00</td>\n",
       "    </tr>\n",
       "  </tbody>\n",
       "</table>\n",
       "<p>1 rows × 1005 columns</p>\n",
       "</div>"
      ],
      "text/plain": [
       "               0             1              2              3              4  \\\n",
       "0  1.2879717e-05  6.426821e-05  0.00027629806  0.00029183418  0.00026865868   \n",
       "\n",
       "              5              6             7             8            9  ...  \\\n",
       "0  6.950337e-05  5.8473448e-05  3.188092e-05  5.464804e-06  5.97443e-05  ...   \n",
       "\n",
       "            995            996          997            998           999 age  \\\n",
       "0  7.443195e-05  9.8862045e-05  1.95752e-05  0.00016579687  0.0010350418  58   \n",
       "\n",
       "  sex sex_0 sex_1 age_bin  \n",
       "0   M     0     1    3.00  \n",
       "\n",
       "[1 rows x 1005 columns]"
      ]
     },
     "execution_count": 299,
     "metadata": {},
     "output_type": "execute_result"
    }
   ],
   "source": [
    "df_prueba.head(1)"
   ]
  },
  {
   "cell_type": "code",
   "execution_count": 300,
   "id": "913ce9e1",
   "metadata": {},
   "outputs": [
    {
     "data": {
      "text/plain": [
       "array([0, 0, 0, 1, 1, 0])"
      ]
     },
     "execution_count": 300,
     "metadata": {},
     "output_type": "execute_result"
    }
   ],
   "source": [
    "model.predict(df_prueba.drop(['sex','age'],axis=1))"
   ]
  },
  {
   "cell_type": "markdown",
   "id": "cefe9d25",
   "metadata": {},
   "source": [
    "- preselected VGG19 only sex"
   ]
  },
  {
   "cell_type": "code",
   "execution_count": 301,
   "id": "85ee0b0b",
   "metadata": {},
   "outputs": [],
   "source": [
    "X = df.drop(['Target','sex','age','age_bin'],axis=1)\n",
    "y = df.Target"
   ]
  },
  {
   "cell_type": "code",
   "execution_count": 302,
   "id": "66299d77",
   "metadata": {},
   "outputs": [],
   "source": [
    "X_train, X_test, y_train, y_test = train_test_split(X,y,test_size = 0.15,shuffle=True)"
   ]
  },
  {
   "cell_type": "code",
   "execution_count": 303,
   "id": "5541feed",
   "metadata": {},
   "outputs": [],
   "source": [
    "model = RandomForestClassifier(criterion='gini',n_estimators=250)"
   ]
  },
  {
   "cell_type": "code",
   "execution_count": 304,
   "id": "e7bd17a1",
   "metadata": {},
   "outputs": [
    {
     "data": {
      "text/plain": [
       "RandomForestClassifier(n_estimators=250)"
      ]
     },
     "execution_count": 304,
     "metadata": {},
     "output_type": "execute_result"
    }
   ],
   "source": [
    "model.fit(X_train, y_train)"
   ]
  },
  {
   "cell_type": "code",
   "execution_count": 305,
   "id": "496bb86a",
   "metadata": {},
   "outputs": [
    {
     "data": {
      "text/plain": [
       "1.0"
      ]
     },
     "execution_count": 305,
     "metadata": {},
     "output_type": "execute_result"
    }
   ],
   "source": [
    "model.score(X_train,y_train)"
   ]
  },
  {
   "cell_type": "code",
   "execution_count": 306,
   "id": "9f57e8e7",
   "metadata": {},
   "outputs": [
    {
     "data": {
      "text/plain": [
       "0.48717948717948717"
      ]
     },
     "execution_count": 306,
     "metadata": {},
     "output_type": "execute_result"
    }
   ],
   "source": [
    "model.score(X_test,y_test)"
   ]
  },
  {
   "cell_type": "code",
   "execution_count": 307,
   "id": "451aefed",
   "metadata": {},
   "outputs": [],
   "source": [
    "y_pred = model.predict(X_test)"
   ]
  },
  {
   "cell_type": "code",
   "execution_count": 308,
   "id": "c82f77f9",
   "metadata": {},
   "outputs": [
    {
     "name": "stdout",
     "output_type": "stream",
     "text": [
      "[[10  9]\n",
      " [11  9]]\n"
     ]
    }
   ],
   "source": [
    "print((confusion_matrix(y_test,y_pred)))"
   ]
  },
  {
   "cell_type": "code",
   "execution_count": 309,
   "id": "54fdafb9",
   "metadata": {},
   "outputs": [
    {
     "name": "stdout",
     "output_type": "stream",
     "text": [
      "              precision    recall  f1-score   support\n",
      "\n",
      "           0       0.48      0.53      0.50        19\n",
      "           1       0.50      0.45      0.47        20\n",
      "\n",
      "    accuracy                           0.49        39\n",
      "   macro avg       0.49      0.49      0.49        39\n",
      "weighted avg       0.49      0.49      0.49        39\n",
      "\n"
     ]
    }
   ],
   "source": [
    "print(classification_report(y_test,y_pred))"
   ]
  },
  {
   "cell_type": "code",
   "execution_count": 310,
   "id": "db3f6aff",
   "metadata": {
    "scrolled": true
   },
   "outputs": [
    {
     "data": {
      "text/plain": [
       "Text(0.5, 1.0, 'VGG19 selected_as ROC (RandomForestClassifier) auc: 0.501')"
      ]
     },
     "execution_count": 310,
     "metadata": {},
     "output_type": "execute_result"
    },
    {
     "data": {
      "image/png": "[encoded data removed]",
      "text/plain": [
       "<Figure size 432x288 with 1 Axes>"
      ]
     },
     "metadata": {
      "needs_background": "light"
     },
     "output_type": "display_data"
    }
   ],
   "source": [
    "p = model.predict_proba(X_test)\n",
    "fpr, tpr, th = roc_curve(y_test, p[:,1])\n",
    "plt.plot(fpr, tpr)\n",
    "plt.plot([0,1],[0,1], c='r', linestyle='--')\n",
    "plt.title(f'VGG19 selected_as ROC (RandomForestClassifier) auc: {round(auc(fpr, tpr),3)}')\n",
    "#plt.savefig('ROC_randomforest_vgg19_selected_as.png')"
   ]
  },
  {
   "cell_type": "code",
   "execution_count": 311,
   "id": "a4015b71",
   "metadata": {},
   "outputs": [
    {
     "data": {
      "text/plain": [
       "array([1, 0, 0, 0, 1, 0])"
      ]
     },
     "execution_count": 311,
     "metadata": {},
     "output_type": "execute_result"
    }
   ],
   "source": [
    "model.predict(df_prueba.drop(['sex','age','age_bin'],axis=1))"
   ]
  },
  {
   "cell_type": "markdown",
   "id": "4bd239e2",
   "metadata": {},
   "source": [
    "- VGG19 selected separated by sex"
   ]
  },
  {
   "cell_type": "code",
   "execution_count": 312,
   "id": "d1679170",
   "metadata": {},
   "outputs": [],
   "source": [
    "df_m = df[df.sex == 'M']"
   ]
  },
  {
   "cell_type": "code",
   "execution_count": 313,
   "id": "85ee0b0b",
   "metadata": {},
   "outputs": [],
   "source": [
    "X = df_m.drop(['Target','sex','age','sex_0','sex_1'],axis=1)\n",
    "y = df_m.Target"
   ]
  },
  {
   "cell_type": "code",
   "execution_count": 314,
   "id": "66299d77",
   "metadata": {},
   "outputs": [],
   "source": [
    "X_train, X_test, y_train, y_test = train_test_split(X,y,test_size = 0.2,shuffle=True)"
   ]
  },
  {
   "cell_type": "code",
   "execution_count": 315,
   "id": "5541feed",
   "metadata": {},
   "outputs": [],
   "source": [
    "model = RandomForestClassifier(criterion='gini',n_estimators=300)"
   ]
  },
  {
   "cell_type": "code",
   "execution_count": 316,
   "id": "e7bd17a1",
   "metadata": {},
   "outputs": [
    {
     "data": {
      "text/plain": [
       "RandomForestClassifier(n_estimators=300)"
      ]
     },
     "execution_count": 316,
     "metadata": {},
     "output_type": "execute_result"
    }
   ],
   "source": [
    "model.fit(X_train, y_train)"
   ]
  },
  {
   "cell_type": "code",
   "execution_count": 317,
   "id": "9844c6e3",
   "metadata": {},
   "outputs": [
    {
     "data": {
      "text/plain": [
       "1.0"
      ]
     },
     "execution_count": 317,
     "metadata": {},
     "output_type": "execute_result"
    }
   ],
   "source": [
    "model.score(X_train,y_train)"
   ]
  },
  {
   "cell_type": "code",
   "execution_count": 318,
   "id": "55b22448",
   "metadata": {},
   "outputs": [
    {
     "data": {
      "text/plain": [
       "0.6"
      ]
     },
     "execution_count": 318,
     "metadata": {},
     "output_type": "execute_result"
    }
   ],
   "source": [
    "model.score(X_test,y_test)"
   ]
  },
  {
   "cell_type": "code",
   "execution_count": 319,
   "id": "629e9009",
   "metadata": {},
   "outputs": [],
   "source": [
    "y_pred = model.predict(X_test)"
   ]
  },
  {
   "cell_type": "code",
   "execution_count": 320,
   "id": "c82f77f9",
   "metadata": {},
   "outputs": [
    {
     "name": "stdout",
     "output_type": "stream",
     "text": [
      "[[14  3]\n",
      " [ 7  1]]\n"
     ]
    }
   ],
   "source": [
    "print((confusion_matrix(y_test,y_pred)))"
   ]
  },
  {
   "cell_type": "code",
   "execution_count": 321,
   "id": "54fdafb9",
   "metadata": {},
   "outputs": [
    {
     "name": "stdout",
     "output_type": "stream",
     "text": [
      "              precision    recall  f1-score   support\n",
      "\n",
      "           0       0.67      0.82      0.74        17\n",
      "           1       0.25      0.12      0.17         8\n",
      "\n",
      "    accuracy                           0.60        25\n",
      "   macro avg       0.46      0.47      0.45        25\n",
      "weighted avg       0.53      0.60      0.55        25\n",
      "\n"
     ]
    }
   ],
   "source": [
    "print(classification_report(y_test,y_pred))"
   ]
  },
  {
   "cell_type": "code",
   "execution_count": 322,
   "id": "db3f6aff",
   "metadata": {
    "scrolled": true
   },
   "outputs": [
    {
     "data": {
      "text/plain": [
       "Text(0.5, 1.0, 'VGG19 selected_as ROC (RandomForestClassifier) auc: 0.434')"
      ]
     },
     "execution_count": 322,
     "metadata": {},
     "output_type": "execute_result"
    },
    {
     "data": {
      "image/png": "[encoded data removed]",
      "text/plain": [
       "<Figure size 432x288 with 1 Axes>"
      ]
     },
     "metadata": {
      "needs_background": "light"
     },
     "output_type": "display_data"
    }
   ],
   "source": [
    "p = model.predict_proba(X_test)\n",
    "fpr, tpr, th = roc_curve(y_test, p[:,1])\n",
    "plt.plot(fpr, tpr)\n",
    "plt.plot([0,1],[0,1], c='r', linestyle='--')\n",
    "plt.title(f'VGG19 selected_as ROC (RandomForestClassifier) auc: {round(auc(fpr, tpr),3)}')\n",
    "#plt.savefig('ROC_randomforest_vgg19_selected_as.png')"
   ]
  },
  {
   "cell_type": "code",
   "execution_count": 323,
   "id": "5997342d",
   "metadata": {},
   "outputs": [],
   "source": [
    "df_m_prueba = df_prueba[df_prueba.sex =='M']"
   ]
  },
  {
   "cell_type": "code",
   "execution_count": 324,
   "id": "aa9e86cd",
   "metadata": {},
   "outputs": [
    {
     "data": {
      "text/plain": [
       "array([0, 0])"
      ]
     },
     "execution_count": 324,
     "metadata": {},
     "output_type": "execute_result"
    }
   ],
   "source": [
    "model.predict(df_m_prueba.drop(['sex','age','sex_0','sex_1'],axis=1))"
   ]
  },
  {
   "cell_type": "code",
   "execution_count": 325,
   "id": "3c185984",
   "metadata": {},
   "outputs": [],
   "source": [
    "df_f = df[df.sex == 'F']"
   ]
  },
  {
   "cell_type": "code",
   "execution_count": 326,
   "id": "85ee0b0b",
   "metadata": {},
   "outputs": [],
   "source": [
    "X = df_f.drop(['Target','sex','age','sex_0','sex_1'],axis=1)\n",
    "y = df_f.Target"
   ]
  },
  {
   "cell_type": "code",
   "execution_count": 327,
   "id": "66299d77",
   "metadata": {},
   "outputs": [],
   "source": [
    "X_train, X_test, y_train, y_test = train_test_split(X,y,test_size = 0.15,shuffle=True)"
   ]
  },
  {
   "cell_type": "code",
   "execution_count": 328,
   "id": "5541feed",
   "metadata": {},
   "outputs": [],
   "source": [
    "model = RandomForestClassifier(criterion='gini',n_estimators=300)"
   ]
  },
  {
   "cell_type": "code",
   "execution_count": 329,
   "id": "e7bd17a1",
   "metadata": {},
   "outputs": [
    {
     "data": {
      "text/plain": [
       "RandomForestClassifier(n_estimators=300)"
      ]
     },
     "execution_count": 329,
     "metadata": {},
     "output_type": "execute_result"
    }
   ],
   "source": [
    "model.fit(X_train, y_train)"
   ]
  },
  {
   "cell_type": "code",
   "execution_count": 330,
   "id": "c1bcc01e",
   "metadata": {},
   "outputs": [
    {
     "data": {
      "text/plain": [
       "1.0"
      ]
     },
     "execution_count": 330,
     "metadata": {},
     "output_type": "execute_result"
    }
   ],
   "source": [
    "model.score(X_train,y_train)"
   ]
  },
  {
   "cell_type": "code",
   "execution_count": 331,
   "id": "dbb0013c",
   "metadata": {},
   "outputs": [
    {
     "data": {
      "text/plain": [
       "0.55"
      ]
     },
     "execution_count": 331,
     "metadata": {},
     "output_type": "execute_result"
    }
   ],
   "source": [
    "model.score(X_test,y_test)"
   ]
  },
  {
   "cell_type": "code",
   "execution_count": 332,
   "id": "9f797c96",
   "metadata": {},
   "outputs": [],
   "source": [
    "y_pred = model.predict(X_test)"
   ]
  },
  {
   "cell_type": "code",
   "execution_count": 333,
   "id": "c82f77f9",
   "metadata": {},
   "outputs": [
    {
     "name": "stdout",
     "output_type": "stream",
     "text": [
      "[[7 3]\n",
      " [6 4]]\n"
     ]
    }
   ],
   "source": [
    "print((confusion_matrix(y_test,y_pred)))"
   ]
  },
  {
   "cell_type": "code",
   "execution_count": 334,
   "id": "54fdafb9",
   "metadata": {},
   "outputs": [
    {
     "name": "stdout",
     "output_type": "stream",
     "text": [
      "              precision    recall  f1-score   support\n",
      "\n",
      "           0       0.54      0.70      0.61        10\n",
      "           1       0.57      0.40      0.47        10\n",
      "\n",
      "    accuracy                           0.55        20\n",
      "   macro avg       0.55      0.55      0.54        20\n",
      "weighted avg       0.55      0.55      0.54        20\n",
      "\n"
     ]
    }
   ],
   "source": [
    "print(classification_report(y_test,y_pred))"
   ]
  },
  {
   "cell_type": "code",
   "execution_count": 335,
   "id": "db3f6aff",
   "metadata": {
    "scrolled": true
   },
   "outputs": [
    {
     "data": {
      "text/plain": [
       "Text(0.5, 1.0, 'VGG19 selected_as ROC (RandomForestClassifier) auc: 0.74')"
      ]
     },
     "execution_count": 335,
     "metadata": {},
     "output_type": "execute_result"
    },
    {
     "data": {
      "image/png": "[encoded data removed]",
      "text/plain": [
       "<Figure size 432x288 with 1 Axes>"
      ]
     },
     "metadata": {
      "needs_background": "light"
     },
     "output_type": "display_data"
    }
   ],
   "source": [
    "p = model.predict_proba(X_test)\n",
    "fpr, tpr, th = roc_curve(y_test, p[:,1])\n",
    "plt.plot(fpr, tpr)\n",
    "plt.plot([0,1],[0,1], c='r', linestyle='--')\n",
    "plt.title(f'VGG19 selected_as ROC (RandomForestClassifier) auc: {round(auc(fpr, tpr),3)}')\n",
    "#plt.savefig('ROC_randomforest_vgg19_selected_as.png')"
   ]
  },
  {
   "cell_type": "code",
   "execution_count": 336,
   "id": "9480a802",
   "metadata": {},
   "outputs": [],
   "source": [
    "df_m_prueba = df_prueba[df_prueba.sex =='F']"
   ]
  },
  {
   "cell_type": "code",
   "execution_count": 337,
   "id": "d559a8d2",
   "metadata": {},
   "outputs": [
    {
     "data": {
      "text/plain": [
       "array([0, 0, 1, 0])"
      ]
     },
     "execution_count": 337,
     "metadata": {},
     "output_type": "execute_result"
    }
   ],
   "source": [
    "model.predict(df_m_prueba.drop(['sex','age','sex_0','sex_1'],axis=1))"
   ]
  },
  {
   "cell_type": "markdown",
   "id": "bda9fa74",
   "metadata": {},
   "source": [
    "- Xgboost df_m"
   ]
  },
  {
   "cell_type": "code",
   "execution_count": 338,
   "id": "0369ec71",
   "metadata": {},
   "outputs": [
    {
     "name": "stdout",
     "output_type": "stream",
     "text": [
      "xgboost no funciona en este notebook\n"
     ]
    }
   ],
   "source": [
    "print('xgboost no funciona en este notebook')"
   ]
  },
  {
   "cell_type": "code",
   "execution_count": null,
   "id": "ef0b2313",
   "metadata": {},
   "outputs": [],
   "source": []
  },
  {
   "cell_type": "code",
   "execution_count": 339,
   "id": "d7dd9c60",
   "metadata": {
    "scrolled": true
   },
   "outputs": [
    {
     "data": {
      "text/html": [
       "<div>\n",
       "<style scoped>\n",
       "    .dataframe tbody tr th:only-of-type {\n",
       "        vertical-align: middle;\n",
       "    }\n",
       "\n",
       "    .dataframe tbody tr th {\n",
       "        vertical-align: top;\n",
       "    }\n",
       "\n",
       "    .dataframe thead th {\n",
       "        text-align: right;\n",
       "    }\n",
       "</style>\n",
       "<table border=\"1\" class=\"dataframe\">\n",
       "  <thead>\n",
       "    <tr style=\"text-align: right;\">\n",
       "      <th></th>\n",
       "      <th>name</th>\n",
       "      <th>model</th>\n",
       "      <th>train score</th>\n",
       "      <th>test score</th>\n",
       "    </tr>\n",
       "  </thead>\n",
       "  <tbody>\n",
       "    <tr>\n",
       "      <th>0</th>\n",
       "      <td>original batch</td>\n",
       "      <td>LogisticRegression()</td>\n",
       "      <td>0.60</td>\n",
       "      <td>0.40</td>\n",
       "    </tr>\n",
       "    <tr>\n",
       "      <th>1</th>\n",
       "      <td>original batch NuSVC</td>\n",
       "      <td>NuSVC(probability=True)</td>\n",
       "      <td>0.99</td>\n",
       "      <td>0.66</td>\n",
       "    </tr>\n",
       "    <tr>\n",
       "      <th>2</th>\n",
       "      <td>rotated batch</td>\n",
       "      <td>NuSVC(probability=True)</td>\n",
       "      <td>0.98</td>\n",
       "      <td>0.58</td>\n",
       "    </tr>\n",
       "    <tr>\n",
       "      <th>3</th>\n",
       "      <td>sex-age original batch</td>\n",
       "      <td>NuSVC(probability=True)</td>\n",
       "      <td>0.55</td>\n",
       "      <td>0.57</td>\n",
       "    </tr>\n",
       "    <tr>\n",
       "      <th>4</th>\n",
       "      <td>cropped original batch</td>\n",
       "      <td>NuSVC(probability=True)</td>\n",
       "      <td>0.55</td>\n",
       "      <td>0.40</td>\n",
       "    </tr>\n",
       "    <tr>\n",
       "      <th>5</th>\n",
       "      <td>cropped no sex-age original batch</td>\n",
       "      <td>NuSVC(probability=True)</td>\n",
       "      <td>0.97</td>\n",
       "      <td>0.51</td>\n",
       "    </tr>\n",
       "    <tr>\n",
       "      <th>6</th>\n",
       "      <td>cropped NO age-sex full row original batch</td>\n",
       "      <td>NuSVC(probability=True)</td>\n",
       "      <td>0.97</td>\n",
       "      <td>0.45</td>\n",
       "    </tr>\n",
       "    <tr>\n",
       "      <th>7</th>\n",
       "      <td>cropped new batch</td>\n",
       "      <td>NuSVC(probability=True)</td>\n",
       "      <td>0.93</td>\n",
       "      <td>0.42</td>\n",
       "    </tr>\n",
       "    <tr>\n",
       "      <th>8</th>\n",
       "      <td>cropped NO age-sex new batch</td>\n",
       "      <td>NuSVC(probability=True)</td>\n",
       "      <td>0.97</td>\n",
       "      <td>0.58</td>\n",
       "    </tr>\n",
       "    <tr>\n",
       "      <th>9</th>\n",
       "      <td>cropped NO age-sex full rows new batch</td>\n",
       "      <td>NuSVC(probability=True)</td>\n",
       "      <td>0.97</td>\n",
       "      <td>0.54</td>\n",
       "    </tr>\n",
       "    <tr>\n",
       "      <th>10</th>\n",
       "      <td>female dataframe new batch</td>\n",
       "      <td>NuSVC(probability=True)</td>\n",
       "      <td>0.98</td>\n",
       "      <td>0.68</td>\n",
       "    </tr>\n",
       "    <tr>\n",
       "      <th>11</th>\n",
       "      <td>male dataframe new batch</td>\n",
       "      <td>NuSVC(probability=True)</td>\n",
       "      <td>0.96</td>\n",
       "      <td>0.36</td>\n",
       "    </tr>\n",
       "    <tr>\n",
       "      <th>12</th>\n",
       "      <td>female dataframe age new batch</td>\n",
       "      <td>NuSVC(probability=True)</td>\n",
       "      <td>0.97</td>\n",
       "      <td>0.46</td>\n",
       "    </tr>\n",
       "    <tr>\n",
       "      <th>13</th>\n",
       "      <td>male dataframe age new batch</td>\n",
       "      <td>NuSVC(probability=True)</td>\n",
       "      <td>0.97</td>\n",
       "      <td>0.65</td>\n",
       "    </tr>\n",
       "    <tr>\n",
       "      <th>14</th>\n",
       "      <td>uncens agesex full batch</td>\n",
       "      <td>(DecisionTreeClassifier(max_features='auto', r...</td>\n",
       "      <td>1.00</td>\n",
       "      <td>0.48</td>\n",
       "    </tr>\n",
       "    <tr>\n",
       "      <th>15</th>\n",
       "      <td>uncens rotated agesex full batch</td>\n",
       "      <td>NuSVC(probability=True)</td>\n",
       "      <td>0.55</td>\n",
       "      <td>0.55</td>\n",
       "    </tr>\n",
       "    <tr>\n",
       "      <th>16</th>\n",
       "      <td>uncens rotated discretized age full batch</td>\n",
       "      <td>NuSVC(probability=True)</td>\n",
       "      <td>0.90</td>\n",
       "      <td>0.51</td>\n",
       "    </tr>\n",
       "    <tr>\n",
       "      <th>17</th>\n",
       "      <td>uncens rotated agesex vgg19</td>\n",
       "      <td>(DecisionTreeClassifier(max_features='auto', r...</td>\n",
       "      <td>1.00</td>\n",
       "      <td>0.96</td>\n",
       "    </tr>\n",
       "    <tr>\n",
       "      <th>18</th>\n",
       "      <td>selected vgg19</td>\n",
       "      <td>(DecisionTreeClassifier(max_features='auto', r...</td>\n",
       "      <td>1.00</td>\n",
       "      <td>0.55</td>\n",
       "    </tr>\n",
       "  </tbody>\n",
       "</table>\n",
       "</div>"
      ],
      "text/plain": [
       "                                          name  \\\n",
       "0                               original batch   \n",
       "1                         original batch NuSVC   \n",
       "2                                rotated batch   \n",
       "3                       sex-age original batch   \n",
       "4                       cropped original batch   \n",
       "5            cropped no sex-age original batch   \n",
       "6   cropped NO age-sex full row original batch   \n",
       "7                            cropped new batch   \n",
       "8                 cropped NO age-sex new batch   \n",
       "9       cropped NO age-sex full rows new batch   \n",
       "10                  female dataframe new batch   \n",
       "11                    male dataframe new batch   \n",
       "12              female dataframe age new batch   \n",
       "13                male dataframe age new batch   \n",
       "14                    uncens agesex full batch   \n",
       "15            uncens rotated agesex full batch   \n",
       "16   uncens rotated discretized age full batch   \n",
       "17                 uncens rotated agesex vgg19   \n",
       "18                              selected vgg19   \n",
       "\n",
       "                                                model train score test score  \n",
       "0                                LogisticRegression()        0.60       0.40  \n",
       "1                             NuSVC(probability=True)        0.99       0.66  \n",
       "2                             NuSVC(probability=True)        0.98       0.58  \n",
       "3                             NuSVC(probability=True)        0.55       0.57  \n",
       "4                             NuSVC(probability=True)        0.55       0.40  \n",
       "5                             NuSVC(probability=True)        0.97       0.51  \n",
       "6                             NuSVC(probability=True)        0.97       0.45  \n",
       "7                             NuSVC(probability=True)        0.93       0.42  \n",
       "8                             NuSVC(probability=True)        0.97       0.58  \n",
       "9                             NuSVC(probability=True)        0.97       0.54  \n",
       "10                            NuSVC(probability=True)        0.98       0.68  \n",
       "11                            NuSVC(probability=True)        0.96       0.36  \n",
       "12                            NuSVC(probability=True)        0.97       0.46  \n",
       "13                            NuSVC(probability=True)        0.97       0.65  \n",
       "14  (DecisionTreeClassifier(max_features='auto', r...        1.00       0.48  \n",
       "15                            NuSVC(probability=True)        0.55       0.55  \n",
       "16                            NuSVC(probability=True)        0.90       0.51  \n",
       "17  (DecisionTreeClassifier(max_features='auto', r...        1.00       0.96  \n",
       "18  (DecisionTreeClassifier(max_features='auto', r...        1.00       0.55  "
      ]
     },
     "execution_count": 339,
     "metadata": {},
     "output_type": "execute_result"
    }
   ],
   "source": [
    "models_df"
   ]
  },
  {
   "cell_type": "code",
   "execution_count": 340,
   "id": "f4f6e07c",
   "metadata": {},
   "outputs": [],
   "source": [
    "import dataframe_image as dfi"
   ]
  },
  {
   "cell_type": "code",
   "execution_count": 341,
   "id": "161d3320",
   "metadata": {},
   "outputs": [],
   "source": [
    "df_styled = models_df.style.background_gradient()"
   ]
  },
  {
   "cell_type": "code",
   "execution_count": 342,
   "id": "d9fd0d1a",
   "metadata": {},
   "outputs": [
    {
     "name": "stderr",
     "output_type": "stream",
     "text": [
      "[0316/011943.774694:INFO:headless_shell.cc(659)] Written to file /var/folders/34/shcpc0k13hndsp05mm2j01th0000gn/T/tmph62i7th7/temp.png.\n"
     ]
    }
   ],
   "source": [
    "dfi.export(df_styled,\"Models_table.png\")"
   ]
  },
  {
   "cell_type": "code",
   "execution_count": null,
   "id": "c7314ece",
   "metadata": {},
   "outputs": [],
   "source": []
  },
  {
   "cell_type": "code",
   "execution_count": null,
   "id": "e4ccc46e",
   "metadata": {},
   "outputs": [],
   "source": []
  }
 ],
 "metadata": {
  "kernelspec": {
   "display_name": "Python 3 (ipykernel)",
   "language": "python",
   "name": "python3"
  },
  "language_info": {
   "codemirror_mode": {
    "name": "ipython",
    "version": 3
   },
   "file_extension": ".py",
   "mimetype": "text/x-python",
   "name": "python",
   "nbconvert_exporter": "python",
   "pygments_lexer": "ipython3",
   "version": "3.9.7"
  }
 },
 "nbformat": 4,
 "nbformat_minor": 5
}
