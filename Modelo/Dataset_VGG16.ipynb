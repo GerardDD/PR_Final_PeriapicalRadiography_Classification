{
 "cells": [
  {
   "cell_type": "code",
   "execution_count": 1,
   "id": "46af70d7",
   "metadata": {},
   "outputs": [],
   "source": [
    "import pickle\n",
    "import pandas as pd\n",
    "import numpy as np"
   ]
  },
  {
   "cell_type": "markdown",
   "id": "ca193a2f",
   "metadata": {},
   "source": [
    "- Loading the serialized pretrained array with pickle"
   ]
  },
  {
   "cell_type": "code",
   "execution_count": 2,
   "id": "ce94e395",
   "metadata": {},
   "outputs": [],
   "source": [
    "sin_imagen_arr = pickle.load(open('../Image_preprocessing/sin_imagen_pickle.txt','rb'))"
   ]
  },
  {
   "cell_type": "code",
   "execution_count": 3,
   "id": "16ca82ee",
   "metadata": {},
   "outputs": [
    {
     "data": {
      "text/plain": [
       "list"
      ]
     },
     "execution_count": 3,
     "metadata": {},
     "output_type": "execute_result"
    }
   ],
   "source": [
    "type(sin_imagen_arr)"
   ]
  },
  {
   "cell_type": "code",
   "execution_count": 4,
   "id": "f9096205",
   "metadata": {},
   "outputs": [
    {
     "data": {
      "text/plain": [
       "1000"
      ]
     },
     "execution_count": 4,
     "metadata": {},
     "output_type": "execute_result"
    }
   ],
   "source": [
    "len(sin_imagen_arr[0][0])"
   ]
  },
  {
   "cell_type": "code",
   "execution_count": 5,
   "id": "9fce9910",
   "metadata": {},
   "outputs": [
    {
     "data": {
      "text/plain": [
       "137"
      ]
     },
     "execution_count": 5,
     "metadata": {},
     "output_type": "execute_result"
    }
   ],
   "source": [
    "len(sin_imagen_arr)"
   ]
  },
  {
   "cell_type": "markdown",
   "id": "ad603bad",
   "metadata": {},
   "source": [
    "- Create an empty dataframe with the right shape"
   ]
  },
  {
   "cell_type": "code",
   "execution_count": 6,
   "id": "404bf694",
   "metadata": {},
   "outputs": [],
   "source": [
    "df = pd.DataFrame(\n",
    "    columns= range(0,len(sin_imagen_arr[0][0])),\n",
    "    index= range(0,len(sin_imagen_arr)))"
   ]
  },
  {
   "cell_type": "markdown",
   "id": "85ff223d",
   "metadata": {},
   "source": [
    "- Fill it with the correspondant values "
   ]
  },
  {
   "cell_type": "code",
   "execution_count": 7,
   "id": "d99f2242",
   "metadata": {},
   "outputs": [],
   "source": [
    "pos = -1\n",
    "for i in sin_imagen_arr:\n",
    "    for j in i:\n",
    "        col = 0\n",
    "        pos += 1\n",
    "        for z in j:\n",
    "            df.iloc[pos,col] = z\n",
    "            col += 1 "
   ]
  },
  {
   "cell_type": "code",
   "execution_count": 8,
   "id": "ca50039c",
   "metadata": {},
   "outputs": [
    {
     "data": {
      "text/html": [
       "<div>\n",
       "<style scoped>\n",
       "    .dataframe tbody tr th:only-of-type {\n",
       "        vertical-align: middle;\n",
       "    }\n",
       "\n",
       "    .dataframe tbody tr th {\n",
       "        vertical-align: top;\n",
       "    }\n",
       "\n",
       "    .dataframe thead th {\n",
       "        text-align: right;\n",
       "    }\n",
       "</style>\n",
       "<table border=\"1\" class=\"dataframe\">\n",
       "  <thead>\n",
       "    <tr style=\"text-align: right;\">\n",
       "      <th></th>\n",
       "      <th>0</th>\n",
       "      <th>1</th>\n",
       "      <th>2</th>\n",
       "      <th>3</th>\n",
       "      <th>4</th>\n",
       "      <th>5</th>\n",
       "      <th>6</th>\n",
       "      <th>7</th>\n",
       "      <th>8</th>\n",
       "      <th>9</th>\n",
       "      <th>...</th>\n",
       "      <th>990</th>\n",
       "      <th>991</th>\n",
       "      <th>992</th>\n",
       "      <th>993</th>\n",
       "      <th>994</th>\n",
       "      <th>995</th>\n",
       "      <th>996</th>\n",
       "      <th>997</th>\n",
       "      <th>998</th>\n",
       "      <th>999</th>\n",
       "    </tr>\n",
       "  </thead>\n",
       "  <tbody>\n",
       "    <tr>\n",
       "      <th>0</th>\n",
       "      <td>5.21612e-06</td>\n",
       "      <td>5.5616e-05</td>\n",
       "      <td>5.13163e-05</td>\n",
       "      <td>0.000106778</td>\n",
       "      <td>0.00033851</td>\n",
       "      <td>9.21381e-05</td>\n",
       "      <td>2.47498e-05</td>\n",
       "      <td>4.62157e-05</td>\n",
       "      <td>1.07998e-05</td>\n",
       "      <td>1.67318e-05</td>\n",
       "      <td>...</td>\n",
       "      <td>3.21503e-05</td>\n",
       "      <td>1.52135e-05</td>\n",
       "      <td>8.07754e-06</td>\n",
       "      <td>1.181e-05</td>\n",
       "      <td>1.97294e-06</td>\n",
       "      <td>5.45893e-05</td>\n",
       "      <td>2.95028e-05</td>\n",
       "      <td>1.39682e-05</td>\n",
       "      <td>0.000395542</td>\n",
       "      <td>0.0107763</td>\n",
       "    </tr>\n",
       "    <tr>\n",
       "      <th>1</th>\n",
       "      <td>6.78434e-06</td>\n",
       "      <td>2.11155e-05</td>\n",
       "      <td>6.96461e-05</td>\n",
       "      <td>0.000201055</td>\n",
       "      <td>0.000741593</td>\n",
       "      <td>7.10006e-05</td>\n",
       "      <td>0.000119771</td>\n",
       "      <td>0.000111658</td>\n",
       "      <td>3.56032e-05</td>\n",
       "      <td>1.31816e-05</td>\n",
       "      <td>...</td>\n",
       "      <td>2.00961e-05</td>\n",
       "      <td>0.000614378</td>\n",
       "      <td>8.87311e-05</td>\n",
       "      <td>5.9641e-05</td>\n",
       "      <td>7.28244e-05</td>\n",
       "      <td>0.000196805</td>\n",
       "      <td>6.24673e-05</td>\n",
       "      <td>6.46736e-05</td>\n",
       "      <td>0.000149598</td>\n",
       "      <td>0.00315782</td>\n",
       "    </tr>\n",
       "    <tr>\n",
       "      <th>2</th>\n",
       "      <td>1.73021e-05</td>\n",
       "      <td>0.000121513</td>\n",
       "      <td>3.61271e-05</td>\n",
       "      <td>9.4391e-05</td>\n",
       "      <td>0.000193746</td>\n",
       "      <td>7.08242e-05</td>\n",
       "      <td>5.4855e-05</td>\n",
       "      <td>0.000481973</td>\n",
       "      <td>0.000299967</td>\n",
       "      <td>0.00189477</td>\n",
       "      <td>...</td>\n",
       "      <td>3.29604e-05</td>\n",
       "      <td>0.0275038</td>\n",
       "      <td>0.000884962</td>\n",
       "      <td>0.00030415</td>\n",
       "      <td>0.000297611</td>\n",
       "      <td>0.000545041</td>\n",
       "      <td>0.00106298</td>\n",
       "      <td>0.00024612</td>\n",
       "      <td>0.000490358</td>\n",
       "      <td>0.000588147</td>\n",
       "    </tr>\n",
       "    <tr>\n",
       "      <th>3</th>\n",
       "      <td>2.54632e-06</td>\n",
       "      <td>6.31434e-05</td>\n",
       "      <td>3.25397e-05</td>\n",
       "      <td>3.92534e-05</td>\n",
       "      <td>0.000341961</td>\n",
       "      <td>0.000420573</td>\n",
       "      <td>0.000118226</td>\n",
       "      <td>1.78912e-05</td>\n",
       "      <td>2.11123e-05</td>\n",
       "      <td>7.40714e-06</td>\n",
       "      <td>...</td>\n",
       "      <td>0.000667942</td>\n",
       "      <td>2.03194e-05</td>\n",
       "      <td>7.4962e-06</td>\n",
       "      <td>4.89307e-05</td>\n",
       "      <td>7.55809e-06</td>\n",
       "      <td>0.000242957</td>\n",
       "      <td>2.57846e-05</td>\n",
       "      <td>2.43151e-05</td>\n",
       "      <td>2.72454e-05</td>\n",
       "      <td>0.0253018</td>\n",
       "    </tr>\n",
       "    <tr>\n",
       "      <th>4</th>\n",
       "      <td>5.85079e-06</td>\n",
       "      <td>5.38774e-05</td>\n",
       "      <td>0.000785242</td>\n",
       "      <td>0.000653794</td>\n",
       "      <td>0.00273956</td>\n",
       "      <td>0.000185287</td>\n",
       "      <td>0.000221492</td>\n",
       "      <td>0.000112695</td>\n",
       "      <td>1.93885e-05</td>\n",
       "      <td>1.14381e-05</td>\n",
       "      <td>...</td>\n",
       "      <td>2.21886e-05</td>\n",
       "      <td>7.27766e-05</td>\n",
       "      <td>4.04538e-05</td>\n",
       "      <td>5.45377e-05</td>\n",
       "      <td>4.05303e-06</td>\n",
       "      <td>7.13863e-05</td>\n",
       "      <td>0.000155562</td>\n",
       "      <td>6.47245e-05</td>\n",
       "      <td>0.000150048</td>\n",
       "      <td>0.00355717</td>\n",
       "    </tr>\n",
       "  </tbody>\n",
       "</table>\n",
       "<p>5 rows × 1000 columns</p>\n",
       "</div>"
      ],
      "text/plain": [
       "           0            1            2            3            4    \\\n",
       "0  5.21612e-06   5.5616e-05  5.13163e-05  0.000106778   0.00033851   \n",
       "1  6.78434e-06  2.11155e-05  6.96461e-05  0.000201055  0.000741593   \n",
       "2  1.73021e-05  0.000121513  3.61271e-05   9.4391e-05  0.000193746   \n",
       "3  2.54632e-06  6.31434e-05  3.25397e-05  3.92534e-05  0.000341961   \n",
       "4  5.85079e-06  5.38774e-05  0.000785242  0.000653794   0.00273956   \n",
       "\n",
       "           5            6            7            8            9    ...  \\\n",
       "0  9.21381e-05  2.47498e-05  4.62157e-05  1.07998e-05  1.67318e-05  ...   \n",
       "1  7.10006e-05  0.000119771  0.000111658  3.56032e-05  1.31816e-05  ...   \n",
       "2  7.08242e-05   5.4855e-05  0.000481973  0.000299967   0.00189477  ...   \n",
       "3  0.000420573  0.000118226  1.78912e-05  2.11123e-05  7.40714e-06  ...   \n",
       "4  0.000185287  0.000221492  0.000112695  1.93885e-05  1.14381e-05  ...   \n",
       "\n",
       "           990          991          992          993          994  \\\n",
       "0  3.21503e-05  1.52135e-05  8.07754e-06    1.181e-05  1.97294e-06   \n",
       "1  2.00961e-05  0.000614378  8.87311e-05   5.9641e-05  7.28244e-05   \n",
       "2  3.29604e-05    0.0275038  0.000884962   0.00030415  0.000297611   \n",
       "3  0.000667942  2.03194e-05   7.4962e-06  4.89307e-05  7.55809e-06   \n",
       "4  2.21886e-05  7.27766e-05  4.04538e-05  5.45377e-05  4.05303e-06   \n",
       "\n",
       "           995          996          997          998          999  \n",
       "0  5.45893e-05  2.95028e-05  1.39682e-05  0.000395542    0.0107763  \n",
       "1  0.000196805  6.24673e-05  6.46736e-05  0.000149598   0.00315782  \n",
       "2  0.000545041   0.00106298   0.00024612  0.000490358  0.000588147  \n",
       "3  0.000242957  2.57846e-05  2.43151e-05  2.72454e-05    0.0253018  \n",
       "4  7.13863e-05  0.000155562  6.47245e-05  0.000150048   0.00355717  \n",
       "\n",
       "[5 rows x 1000 columns]"
      ]
     },
     "execution_count": 8,
     "metadata": {},
     "output_type": "execute_result"
    }
   ],
   "source": [
    "df.head()"
   ]
  },
  {
   "cell_type": "code",
   "execution_count": 9,
   "id": "a7ac3a7e",
   "metadata": {},
   "outputs": [
    {
     "data": {
      "text/html": [
       "<div>\n",
       "<style scoped>\n",
       "    .dataframe tbody tr th:only-of-type {\n",
       "        vertical-align: middle;\n",
       "    }\n",
       "\n",
       "    .dataframe tbody tr th {\n",
       "        vertical-align: top;\n",
       "    }\n",
       "\n",
       "    .dataframe thead th {\n",
       "        text-align: right;\n",
       "    }\n",
       "</style>\n",
       "<table border=\"1\" class=\"dataframe\">\n",
       "  <thead>\n",
       "    <tr style=\"text-align: right;\">\n",
       "      <th></th>\n",
       "      <th>0</th>\n",
       "      <th>1</th>\n",
       "      <th>2</th>\n",
       "      <th>3</th>\n",
       "      <th>4</th>\n",
       "      <th>5</th>\n",
       "      <th>6</th>\n",
       "      <th>7</th>\n",
       "      <th>8</th>\n",
       "      <th>9</th>\n",
       "      <th>...</th>\n",
       "      <th>990</th>\n",
       "      <th>991</th>\n",
       "      <th>992</th>\n",
       "      <th>993</th>\n",
       "      <th>994</th>\n",
       "      <th>995</th>\n",
       "      <th>996</th>\n",
       "      <th>997</th>\n",
       "      <th>998</th>\n",
       "      <th>999</th>\n",
       "    </tr>\n",
       "  </thead>\n",
       "  <tbody>\n",
       "    <tr>\n",
       "      <th>132</th>\n",
       "      <td>2.22749e-06</td>\n",
       "      <td>9.23475e-06</td>\n",
       "      <td>3.03104e-06</td>\n",
       "      <td>3.51329e-06</td>\n",
       "      <td>7.04486e-05</td>\n",
       "      <td>6.70935e-06</td>\n",
       "      <td>1.64664e-06</td>\n",
       "      <td>9.74887e-06</td>\n",
       "      <td>4.69414e-06</td>\n",
       "      <td>2.724e-06</td>\n",
       "      <td>...</td>\n",
       "      <td>9.23232e-05</td>\n",
       "      <td>3.54687e-05</td>\n",
       "      <td>2.61628e-05</td>\n",
       "      <td>2.55689e-05</td>\n",
       "      <td>2.33466e-06</td>\n",
       "      <td>1.34557e-05</td>\n",
       "      <td>3.75104e-05</td>\n",
       "      <td>6.82913e-05</td>\n",
       "      <td>0.000152048</td>\n",
       "      <td>0.00423992</td>\n",
       "    </tr>\n",
       "    <tr>\n",
       "      <th>133</th>\n",
       "      <td>1.57043e-06</td>\n",
       "      <td>6.12419e-06</td>\n",
       "      <td>5.04084e-05</td>\n",
       "      <td>6.74646e-05</td>\n",
       "      <td>0.000184612</td>\n",
       "      <td>4.36904e-05</td>\n",
       "      <td>4.03727e-05</td>\n",
       "      <td>6.82969e-06</td>\n",
       "      <td>1.85772e-06</td>\n",
       "      <td>3.07638e-06</td>\n",
       "      <td>...</td>\n",
       "      <td>5.94528e-05</td>\n",
       "      <td>1.05382e-05</td>\n",
       "      <td>8.1238e-07</td>\n",
       "      <td>3.19288e-06</td>\n",
       "      <td>5.86627e-07</td>\n",
       "      <td>4.4224e-05</td>\n",
       "      <td>1.45065e-05</td>\n",
       "      <td>1.72947e-06</td>\n",
       "      <td>8.02672e-05</td>\n",
       "      <td>0.0153109</td>\n",
       "    </tr>\n",
       "    <tr>\n",
       "      <th>134</th>\n",
       "      <td>7.85128e-06</td>\n",
       "      <td>2.19827e-05</td>\n",
       "      <td>0.00010525</td>\n",
       "      <td>9.96328e-05</td>\n",
       "      <td>0.00031406</td>\n",
       "      <td>2.55351e-05</td>\n",
       "      <td>1.34386e-05</td>\n",
       "      <td>1.62882e-05</td>\n",
       "      <td>3.88615e-06</td>\n",
       "      <td>4.66133e-06</td>\n",
       "      <td>...</td>\n",
       "      <td>4.07781e-05</td>\n",
       "      <td>2.66251e-05</td>\n",
       "      <td>4.84803e-06</td>\n",
       "      <td>2.75066e-06</td>\n",
       "      <td>8.70553e-06</td>\n",
       "      <td>9.00733e-05</td>\n",
       "      <td>3.16406e-05</td>\n",
       "      <td>3.50219e-06</td>\n",
       "      <td>0.000139648</td>\n",
       "      <td>0.110339</td>\n",
       "    </tr>\n",
       "    <tr>\n",
       "      <th>135</th>\n",
       "      <td>7.00627e-06</td>\n",
       "      <td>3.99964e-05</td>\n",
       "      <td>9.4061e-05</td>\n",
       "      <td>8.96223e-05</td>\n",
       "      <td>0.000488085</td>\n",
       "      <td>6.51018e-05</td>\n",
       "      <td>3.9315e-05</td>\n",
       "      <td>9.98564e-05</td>\n",
       "      <td>2.56053e-05</td>\n",
       "      <td>3.39159e-05</td>\n",
       "      <td>...</td>\n",
       "      <td>2.12055e-05</td>\n",
       "      <td>0.000803646</td>\n",
       "      <td>6.54e-05</td>\n",
       "      <td>7.08151e-05</td>\n",
       "      <td>1.9545e-05</td>\n",
       "      <td>0.000124708</td>\n",
       "      <td>7.70214e-05</td>\n",
       "      <td>2.48256e-05</td>\n",
       "      <td>0.000611012</td>\n",
       "      <td>0.00167322</td>\n",
       "    </tr>\n",
       "    <tr>\n",
       "      <th>136</th>\n",
       "      <td>3.44514e-06</td>\n",
       "      <td>2.42358e-05</td>\n",
       "      <td>2.11264e-06</td>\n",
       "      <td>3.80529e-06</td>\n",
       "      <td>2.17266e-05</td>\n",
       "      <td>1.55879e-05</td>\n",
       "      <td>2.5726e-05</td>\n",
       "      <td>8.29498e-06</td>\n",
       "      <td>8.09476e-06</td>\n",
       "      <td>4.62476e-06</td>\n",
       "      <td>...</td>\n",
       "      <td>0.000700162</td>\n",
       "      <td>5.56676e-06</td>\n",
       "      <td>1.63588e-05</td>\n",
       "      <td>5.85391e-06</td>\n",
       "      <td>2.51435e-06</td>\n",
       "      <td>1.28169e-05</td>\n",
       "      <td>5.96037e-06</td>\n",
       "      <td>1.85783e-05</td>\n",
       "      <td>5.25219e-05</td>\n",
       "      <td>0.0657565</td>\n",
       "    </tr>\n",
       "  </tbody>\n",
       "</table>\n",
       "<p>5 rows × 1000 columns</p>\n",
       "</div>"
      ],
      "text/plain": [
       "             0            1            2            3            4    \\\n",
       "132  2.22749e-06  9.23475e-06  3.03104e-06  3.51329e-06  7.04486e-05   \n",
       "133  1.57043e-06  6.12419e-06  5.04084e-05  6.74646e-05  0.000184612   \n",
       "134  7.85128e-06  2.19827e-05   0.00010525  9.96328e-05   0.00031406   \n",
       "135  7.00627e-06  3.99964e-05   9.4061e-05  8.96223e-05  0.000488085   \n",
       "136  3.44514e-06  2.42358e-05  2.11264e-06  3.80529e-06  2.17266e-05   \n",
       "\n",
       "             5            6            7            8            9    ...  \\\n",
       "132  6.70935e-06  1.64664e-06  9.74887e-06  4.69414e-06    2.724e-06  ...   \n",
       "133  4.36904e-05  4.03727e-05  6.82969e-06  1.85772e-06  3.07638e-06  ...   \n",
       "134  2.55351e-05  1.34386e-05  1.62882e-05  3.88615e-06  4.66133e-06  ...   \n",
       "135  6.51018e-05   3.9315e-05  9.98564e-05  2.56053e-05  3.39159e-05  ...   \n",
       "136  1.55879e-05   2.5726e-05  8.29498e-06  8.09476e-06  4.62476e-06  ...   \n",
       "\n",
       "             990          991          992          993          994  \\\n",
       "132  9.23232e-05  3.54687e-05  2.61628e-05  2.55689e-05  2.33466e-06   \n",
       "133  5.94528e-05  1.05382e-05   8.1238e-07  3.19288e-06  5.86627e-07   \n",
       "134  4.07781e-05  2.66251e-05  4.84803e-06  2.75066e-06  8.70553e-06   \n",
       "135  2.12055e-05  0.000803646     6.54e-05  7.08151e-05   1.9545e-05   \n",
       "136  0.000700162  5.56676e-06  1.63588e-05  5.85391e-06  2.51435e-06   \n",
       "\n",
       "             995          996          997          998         999  \n",
       "132  1.34557e-05  3.75104e-05  6.82913e-05  0.000152048  0.00423992  \n",
       "133   4.4224e-05  1.45065e-05  1.72947e-06  8.02672e-05   0.0153109  \n",
       "134  9.00733e-05  3.16406e-05  3.50219e-06  0.000139648    0.110339  \n",
       "135  0.000124708  7.70214e-05  2.48256e-05  0.000611012  0.00167322  \n",
       "136  1.28169e-05  5.96037e-06  1.85783e-05  5.25219e-05   0.0657565  \n",
       "\n",
       "[5 rows x 1000 columns]"
      ]
     },
     "execution_count": 9,
     "metadata": {},
     "output_type": "execute_result"
    }
   ],
   "source": [
    "df.tail()"
   ]
  },
  {
   "cell_type": "markdown",
   "id": "fd899f06",
   "metadata": {},
   "source": [
    "- Add new column with target "
   ]
  },
  {
   "cell_type": "code",
   "execution_count": 15,
   "id": "e9727960",
   "metadata": {},
   "outputs": [],
   "source": [
    "df['Target'] = 0"
   ]
  },
  {
   "cell_type": "markdown",
   "id": "76dc9334",
   "metadata": {},
   "source": [
    "- Repeat process for con_imagen"
   ]
  },
  {
   "cell_type": "code",
   "execution_count": 10,
   "id": "855b7fdf",
   "metadata": {},
   "outputs": [],
   "source": [
    "con_imagen_arr = pickle.load(open('../Image_preprocessing/con_imagen_pickle.txt','rb'))"
   ]
  },
  {
   "cell_type": "code",
   "execution_count": 11,
   "id": "a4c41117",
   "metadata": {},
   "outputs": [],
   "source": [
    "df_c = pd.DataFrame(\n",
    "    columns= range(0,len(con_imagen_arr[0][0])),\n",
    "    index= range(0,len(con_imagen_arr)))"
   ]
  },
  {
   "cell_type": "markdown",
   "id": "80d5808a",
   "metadata": {},
   "source": [
    "- Fill it with the correspondant values "
   ]
  },
  {
   "cell_type": "code",
   "execution_count": 12,
   "id": "038f521f",
   "metadata": {},
   "outputs": [],
   "source": [
    "pos = -1\n",
    "for i in con_imagen_arr:\n",
    "    for j in i:\n",
    "        col = 0\n",
    "        pos += 1\n",
    "        for z in j:\n",
    "            df_c.iloc[pos,col] = z\n",
    "            col += 1 "
   ]
  },
  {
   "cell_type": "code",
   "execution_count": 21,
   "id": "7ec18426",
   "metadata": {},
   "outputs": [],
   "source": [
    "df_c['Target'] = 1"
   ]
  },
  {
   "cell_type": "code",
   "execution_count": 22,
   "id": "92336a48",
   "metadata": {},
   "outputs": [
    {
     "data": {
      "text/html": [
       "<div>\n",
       "<style scoped>\n",
       "    .dataframe tbody tr th:only-of-type {\n",
       "        vertical-align: middle;\n",
       "    }\n",
       "\n",
       "    .dataframe tbody tr th {\n",
       "        vertical-align: top;\n",
       "    }\n",
       "\n",
       "    .dataframe thead th {\n",
       "        text-align: right;\n",
       "    }\n",
       "</style>\n",
       "<table border=\"1\" class=\"dataframe\">\n",
       "  <thead>\n",
       "    <tr style=\"text-align: right;\">\n",
       "      <th></th>\n",
       "      <th>0</th>\n",
       "      <th>1</th>\n",
       "      <th>2</th>\n",
       "      <th>3</th>\n",
       "      <th>4</th>\n",
       "      <th>5</th>\n",
       "      <th>6</th>\n",
       "      <th>7</th>\n",
       "      <th>8</th>\n",
       "      <th>9</th>\n",
       "      <th>...</th>\n",
       "      <th>991</th>\n",
       "      <th>992</th>\n",
       "      <th>993</th>\n",
       "      <th>994</th>\n",
       "      <th>995</th>\n",
       "      <th>996</th>\n",
       "      <th>997</th>\n",
       "      <th>998</th>\n",
       "      <th>999</th>\n",
       "      <th>Target</th>\n",
       "    </tr>\n",
       "  </thead>\n",
       "  <tbody>\n",
       "    <tr>\n",
       "      <th>0</th>\n",
       "      <td>6.61204e-06</td>\n",
       "      <td>0.000186584</td>\n",
       "      <td>0.000343228</td>\n",
       "      <td>0.000273419</td>\n",
       "      <td>0.00128753</td>\n",
       "      <td>0.000144976</td>\n",
       "      <td>0.000409225</td>\n",
       "      <td>0.000134611</td>\n",
       "      <td>4.93582e-05</td>\n",
       "      <td>0.000362512</td>\n",
       "      <td>...</td>\n",
       "      <td>4.52239e-05</td>\n",
       "      <td>3.6106e-05</td>\n",
       "      <td>1.01116e-05</td>\n",
       "      <td>6.14231e-06</td>\n",
       "      <td>0.000123355</td>\n",
       "      <td>1.23277e-05</td>\n",
       "      <td>4.83253e-05</td>\n",
       "      <td>6.84383e-05</td>\n",
       "      <td>0.00338959</td>\n",
       "      <td>1</td>\n",
       "    </tr>\n",
       "    <tr>\n",
       "      <th>1</th>\n",
       "      <td>6.3842e-07</td>\n",
       "      <td>3.82466e-06</td>\n",
       "      <td>2.93764e-06</td>\n",
       "      <td>1.81616e-06</td>\n",
       "      <td>5.72181e-05</td>\n",
       "      <td>2.14152e-05</td>\n",
       "      <td>3.52111e-06</td>\n",
       "      <td>3.96514e-06</td>\n",
       "      <td>7.01432e-06</td>\n",
       "      <td>1.80318e-06</td>\n",
       "      <td>...</td>\n",
       "      <td>0.000117748</td>\n",
       "      <td>7.38166e-06</td>\n",
       "      <td>0.000114018</td>\n",
       "      <td>4.37692e-06</td>\n",
       "      <td>6.1932e-05</td>\n",
       "      <td>2.765e-05</td>\n",
       "      <td>1.24601e-05</td>\n",
       "      <td>0.000190322</td>\n",
       "      <td>0.0063805</td>\n",
       "      <td>1</td>\n",
       "    </tr>\n",
       "    <tr>\n",
       "      <th>2</th>\n",
       "      <td>9.04953e-07</td>\n",
       "      <td>6.05445e-06</td>\n",
       "      <td>1.70737e-05</td>\n",
       "      <td>0.000126857</td>\n",
       "      <td>0.000180766</td>\n",
       "      <td>1.62541e-05</td>\n",
       "      <td>1.74823e-05</td>\n",
       "      <td>3.11235e-05</td>\n",
       "      <td>3.27664e-06</td>\n",
       "      <td>4.74077e-05</td>\n",
       "      <td>...</td>\n",
       "      <td>4.90444e-05</td>\n",
       "      <td>4.00367e-06</td>\n",
       "      <td>4.64713e-06</td>\n",
       "      <td>5.67284e-06</td>\n",
       "      <td>2.26157e-05</td>\n",
       "      <td>1.89272e-05</td>\n",
       "      <td>4.45414e-06</td>\n",
       "      <td>1.11614e-05</td>\n",
       "      <td>0.0131471</td>\n",
       "      <td>1</td>\n",
       "    </tr>\n",
       "    <tr>\n",
       "      <th>3</th>\n",
       "      <td>5.10615e-06</td>\n",
       "      <td>8.73167e-06</td>\n",
       "      <td>9.2625e-06</td>\n",
       "      <td>1.06298e-05</td>\n",
       "      <td>0.000317049</td>\n",
       "      <td>3.54284e-05</td>\n",
       "      <td>2.21778e-05</td>\n",
       "      <td>1.04696e-05</td>\n",
       "      <td>2.97047e-06</td>\n",
       "      <td>3.57565e-06</td>\n",
       "      <td>...</td>\n",
       "      <td>6.39073e-05</td>\n",
       "      <td>9.04302e-06</td>\n",
       "      <td>9.75835e-05</td>\n",
       "      <td>1.68754e-06</td>\n",
       "      <td>1.15975e-05</td>\n",
       "      <td>1.40454e-05</td>\n",
       "      <td>1.31109e-05</td>\n",
       "      <td>6.61035e-05</td>\n",
       "      <td>0.00804585</td>\n",
       "      <td>1</td>\n",
       "    </tr>\n",
       "    <tr>\n",
       "      <th>4</th>\n",
       "      <td>5.42759e-06</td>\n",
       "      <td>5.1892e-05</td>\n",
       "      <td>0.000415365</td>\n",
       "      <td>0.0010591</td>\n",
       "      <td>0.00244073</td>\n",
       "      <td>0.000151652</td>\n",
       "      <td>0.000226629</td>\n",
       "      <td>0.000429704</td>\n",
       "      <td>6.41831e-05</td>\n",
       "      <td>0.00204042</td>\n",
       "      <td>...</td>\n",
       "      <td>0.00303964</td>\n",
       "      <td>0.00051934</td>\n",
       "      <td>0.000141347</td>\n",
       "      <td>0.000182757</td>\n",
       "      <td>0.00256769</td>\n",
       "      <td>0.000379726</td>\n",
       "      <td>0.000155582</td>\n",
       "      <td>0.00031346</td>\n",
       "      <td>0.000898698</td>\n",
       "      <td>1</td>\n",
       "    </tr>\n",
       "  </tbody>\n",
       "</table>\n",
       "<p>5 rows × 1001 columns</p>\n",
       "</div>"
      ],
      "text/plain": [
       "             0            1            2            3            4  \\\n",
       "0  6.61204e-06  0.000186584  0.000343228  0.000273419   0.00128753   \n",
       "1   6.3842e-07  3.82466e-06  2.93764e-06  1.81616e-06  5.72181e-05   \n",
       "2  9.04953e-07  6.05445e-06  1.70737e-05  0.000126857  0.000180766   \n",
       "3  5.10615e-06  8.73167e-06   9.2625e-06  1.06298e-05  0.000317049   \n",
       "4  5.42759e-06   5.1892e-05  0.000415365    0.0010591   0.00244073   \n",
       "\n",
       "             5            6            7            8            9  ...  \\\n",
       "0  0.000144976  0.000409225  0.000134611  4.93582e-05  0.000362512  ...   \n",
       "1  2.14152e-05  3.52111e-06  3.96514e-06  7.01432e-06  1.80318e-06  ...   \n",
       "2  1.62541e-05  1.74823e-05  3.11235e-05  3.27664e-06  4.74077e-05  ...   \n",
       "3  3.54284e-05  2.21778e-05  1.04696e-05  2.97047e-06  3.57565e-06  ...   \n",
       "4  0.000151652  0.000226629  0.000429704  6.41831e-05   0.00204042  ...   \n",
       "\n",
       "           991          992          993          994          995  \\\n",
       "0  4.52239e-05   3.6106e-05  1.01116e-05  6.14231e-06  0.000123355   \n",
       "1  0.000117748  7.38166e-06  0.000114018  4.37692e-06   6.1932e-05   \n",
       "2  4.90444e-05  4.00367e-06  4.64713e-06  5.67284e-06  2.26157e-05   \n",
       "3  6.39073e-05  9.04302e-06  9.75835e-05  1.68754e-06  1.15975e-05   \n",
       "4   0.00303964   0.00051934  0.000141347  0.000182757   0.00256769   \n",
       "\n",
       "           996          997          998          999 Target  \n",
       "0  1.23277e-05  4.83253e-05  6.84383e-05   0.00338959      1  \n",
       "1    2.765e-05  1.24601e-05  0.000190322    0.0063805      1  \n",
       "2  1.89272e-05  4.45414e-06  1.11614e-05    0.0131471      1  \n",
       "3  1.40454e-05  1.31109e-05  6.61035e-05   0.00804585      1  \n",
       "4  0.000379726  0.000155582   0.00031346  0.000898698      1  \n",
       "\n",
       "[5 rows x 1001 columns]"
      ]
     },
     "execution_count": 22,
     "metadata": {},
     "output_type": "execute_result"
    }
   ],
   "source": [
    "df_c.head()"
   ]
  },
  {
   "cell_type": "code",
   "execution_count": 18,
   "id": "9f2d168c",
   "metadata": {},
   "outputs": [
    {
     "data": {
      "text/html": [
       "<div>\n",
       "<style scoped>\n",
       "    .dataframe tbody tr th:only-of-type {\n",
       "        vertical-align: middle;\n",
       "    }\n",
       "\n",
       "    .dataframe tbody tr th {\n",
       "        vertical-align: top;\n",
       "    }\n",
       "\n",
       "    .dataframe thead th {\n",
       "        text-align: right;\n",
       "    }\n",
       "</style>\n",
       "<table border=\"1\" class=\"dataframe\">\n",
       "  <thead>\n",
       "    <tr style=\"text-align: right;\">\n",
       "      <th></th>\n",
       "      <th>0</th>\n",
       "      <th>1</th>\n",
       "      <th>2</th>\n",
       "      <th>3</th>\n",
       "      <th>4</th>\n",
       "      <th>5</th>\n",
       "      <th>6</th>\n",
       "      <th>7</th>\n",
       "      <th>8</th>\n",
       "      <th>9</th>\n",
       "      <th>...</th>\n",
       "      <th>991</th>\n",
       "      <th>992</th>\n",
       "      <th>993</th>\n",
       "      <th>994</th>\n",
       "      <th>995</th>\n",
       "      <th>996</th>\n",
       "      <th>997</th>\n",
       "      <th>998</th>\n",
       "      <th>999</th>\n",
       "      <th>Target</th>\n",
       "    </tr>\n",
       "  </thead>\n",
       "  <tbody>\n",
       "    <tr>\n",
       "      <th>121</th>\n",
       "      <td>2.88934e-06</td>\n",
       "      <td>1.14149e-05</td>\n",
       "      <td>6.08287e-05</td>\n",
       "      <td>1.70584e-05</td>\n",
       "      <td>0.000507813</td>\n",
       "      <td>3.88769e-05</td>\n",
       "      <td>4.82486e-05</td>\n",
       "      <td>4.35254e-05</td>\n",
       "      <td>1.08863e-05</td>\n",
       "      <td>6.04125e-06</td>\n",
       "      <td>...</td>\n",
       "      <td>3.56136e-06</td>\n",
       "      <td>1.52369e-06</td>\n",
       "      <td>1.68484e-06</td>\n",
       "      <td>2.15187e-07</td>\n",
       "      <td>4.63025e-06</td>\n",
       "      <td>4.3214e-06</td>\n",
       "      <td>1.53262e-06</td>\n",
       "      <td>6.37535e-05</td>\n",
       "      <td>0.0262039</td>\n",
       "      <td>0</td>\n",
       "    </tr>\n",
       "    <tr>\n",
       "      <th>122</th>\n",
       "      <td>2.52736e-06</td>\n",
       "      <td>4.1087e-05</td>\n",
       "      <td>0.000540727</td>\n",
       "      <td>0.000488852</td>\n",
       "      <td>0.000618754</td>\n",
       "      <td>0.000392957</td>\n",
       "      <td>0.000237884</td>\n",
       "      <td>8.72934e-05</td>\n",
       "      <td>1.82372e-05</td>\n",
       "      <td>1.45735e-05</td>\n",
       "      <td>...</td>\n",
       "      <td>5.74974e-06</td>\n",
       "      <td>1.13751e-05</td>\n",
       "      <td>1.41265e-06</td>\n",
       "      <td>1.37772e-06</td>\n",
       "      <td>2.18459e-05</td>\n",
       "      <td>9.3087e-06</td>\n",
       "      <td>2.65948e-06</td>\n",
       "      <td>6.45259e-06</td>\n",
       "      <td>0.00661882</td>\n",
       "      <td>0</td>\n",
       "    </tr>\n",
       "    <tr>\n",
       "      <th>123</th>\n",
       "      <td>5.52036e-06</td>\n",
       "      <td>7.3466e-05</td>\n",
       "      <td>7.69802e-06</td>\n",
       "      <td>1.39845e-05</td>\n",
       "      <td>0.000236997</td>\n",
       "      <td>7.60033e-05</td>\n",
       "      <td>3.8094e-05</td>\n",
       "      <td>3.76965e-06</td>\n",
       "      <td>8.76032e-06</td>\n",
       "      <td>3.41868e-06</td>\n",
       "      <td>...</td>\n",
       "      <td>1.16512e-05</td>\n",
       "      <td>8.76203e-06</td>\n",
       "      <td>3.16532e-05</td>\n",
       "      <td>3.47448e-06</td>\n",
       "      <td>6.31745e-05</td>\n",
       "      <td>1.40267e-05</td>\n",
       "      <td>2.02061e-05</td>\n",
       "      <td>3.68842e-05</td>\n",
       "      <td>0.0117259</td>\n",
       "      <td>0</td>\n",
       "    </tr>\n",
       "    <tr>\n",
       "      <th>124</th>\n",
       "      <td>2.37288e-07</td>\n",
       "      <td>5.1561e-05</td>\n",
       "      <td>3.11887e-05</td>\n",
       "      <td>3.60724e-05</td>\n",
       "      <td>0.000206771</td>\n",
       "      <td>4.61806e-05</td>\n",
       "      <td>2.62678e-05</td>\n",
       "      <td>0.000173528</td>\n",
       "      <td>3.07617e-05</td>\n",
       "      <td>0.000132562</td>\n",
       "      <td>...</td>\n",
       "      <td>0.000243219</td>\n",
       "      <td>9.30066e-05</td>\n",
       "      <td>4.79905e-05</td>\n",
       "      <td>7.247e-06</td>\n",
       "      <td>0.000197183</td>\n",
       "      <td>0.000142055</td>\n",
       "      <td>4.22494e-05</td>\n",
       "      <td>7.85079e-05</td>\n",
       "      <td>0.031021</td>\n",
       "      <td>0</td>\n",
       "    </tr>\n",
       "    <tr>\n",
       "      <th>125</th>\n",
       "      <td>2.09838e-05</td>\n",
       "      <td>7.89432e-05</td>\n",
       "      <td>0.000261756</td>\n",
       "      <td>0.000507082</td>\n",
       "      <td>0.00237883</td>\n",
       "      <td>0.000245509</td>\n",
       "      <td>8.88914e-05</td>\n",
       "      <td>6.44767e-06</td>\n",
       "      <td>1.78339e-06</td>\n",
       "      <td>5.08242e-06</td>\n",
       "      <td>...</td>\n",
       "      <td>3.94473e-06</td>\n",
       "      <td>1.97276e-05</td>\n",
       "      <td>2.9082e-05</td>\n",
       "      <td>2.90392e-06</td>\n",
       "      <td>0.000119704</td>\n",
       "      <td>2.85144e-05</td>\n",
       "      <td>2.65546e-05</td>\n",
       "      <td>6.43399e-06</td>\n",
       "      <td>0.000915152</td>\n",
       "      <td>0</td>\n",
       "    </tr>\n",
       "  </tbody>\n",
       "</table>\n",
       "<p>5 rows × 1001 columns</p>\n",
       "</div>"
      ],
      "text/plain": [
       "               0            1            2            3            4  \\\n",
       "121  2.88934e-06  1.14149e-05  6.08287e-05  1.70584e-05  0.000507813   \n",
       "122  2.52736e-06   4.1087e-05  0.000540727  0.000488852  0.000618754   \n",
       "123  5.52036e-06   7.3466e-05  7.69802e-06  1.39845e-05  0.000236997   \n",
       "124  2.37288e-07   5.1561e-05  3.11887e-05  3.60724e-05  0.000206771   \n",
       "125  2.09838e-05  7.89432e-05  0.000261756  0.000507082   0.00237883   \n",
       "\n",
       "               5            6            7            8            9  ...  \\\n",
       "121  3.88769e-05  4.82486e-05  4.35254e-05  1.08863e-05  6.04125e-06  ...   \n",
       "122  0.000392957  0.000237884  8.72934e-05  1.82372e-05  1.45735e-05  ...   \n",
       "123  7.60033e-05   3.8094e-05  3.76965e-06  8.76032e-06  3.41868e-06  ...   \n",
       "124  4.61806e-05  2.62678e-05  0.000173528  3.07617e-05  0.000132562  ...   \n",
       "125  0.000245509  8.88914e-05  6.44767e-06  1.78339e-06  5.08242e-06  ...   \n",
       "\n",
       "             991          992          993          994          995  \\\n",
       "121  3.56136e-06  1.52369e-06  1.68484e-06  2.15187e-07  4.63025e-06   \n",
       "122  5.74974e-06  1.13751e-05  1.41265e-06  1.37772e-06  2.18459e-05   \n",
       "123  1.16512e-05  8.76203e-06  3.16532e-05  3.47448e-06  6.31745e-05   \n",
       "124  0.000243219  9.30066e-05  4.79905e-05    7.247e-06  0.000197183   \n",
       "125  3.94473e-06  1.97276e-05   2.9082e-05  2.90392e-06  0.000119704   \n",
       "\n",
       "             996          997          998          999 Target  \n",
       "121   4.3214e-06  1.53262e-06  6.37535e-05    0.0262039      0  \n",
       "122   9.3087e-06  2.65948e-06  6.45259e-06   0.00661882      0  \n",
       "123  1.40267e-05  2.02061e-05  3.68842e-05    0.0117259      0  \n",
       "124  0.000142055  4.22494e-05  7.85079e-05     0.031021      0  \n",
       "125  2.85144e-05  2.65546e-05  6.43399e-06  0.000915152      0  \n",
       "\n",
       "[5 rows x 1001 columns]"
      ]
     },
     "execution_count": 18,
     "metadata": {},
     "output_type": "execute_result"
    }
   ],
   "source": [
    "df_c.tail()"
   ]
  },
  {
   "cell_type": "markdown",
   "id": "30d93f0c",
   "metadata": {},
   "source": [
    "- stack both dataframes"
   ]
  },
  {
   "cell_type": "code",
   "execution_count": 24,
   "id": "ed466d90",
   "metadata": {},
   "outputs": [],
   "source": [
    "df_final = pd.concat([df,df_c])"
   ]
  },
  {
   "cell_type": "code",
   "execution_count": 25,
   "id": "5a8adbd6",
   "metadata": {},
   "outputs": [],
   "source": [
    "df_final.to_csv('dataset_final.csv')"
   ]
  },
  {
   "cell_type": "markdown",
   "id": "e9f5c345",
   "metadata": {},
   "source": [
    "- We repeat the same with manually rotated images"
   ]
  },
  {
   "cell_type": "code",
   "execution_count": 1,
   "id": "bd590c7d",
   "metadata": {},
   "outputs": [
    {
     "data": {
      "application/javascript": [
       "\n",
       "        if (window._pyforest_update_imports_cell) { window._pyforest_update_imports_cell('import pickle'); }\n",
       "    "
      ],
      "text/plain": [
       "<IPython.core.display.Javascript object>"
      ]
     },
     "metadata": {},
     "output_type": "display_data"
    }
   ],
   "source": [
    "sin_imagen_arr = pickle.load(open('../Image_preprocessing/sin_imagen_pickle_rotated.txt','rb'))"
   ]
  },
  {
   "cell_type": "code",
   "execution_count": 2,
   "id": "8e8bc19e",
   "metadata": {},
   "outputs": [
    {
     "data": {
      "application/javascript": [
       "\n",
       "        if (window._pyforest_update_imports_cell) { window._pyforest_update_imports_cell('import pandas as pd\\nimport pickle'); }\n",
       "    "
      ],
      "text/plain": [
       "<IPython.core.display.Javascript object>"
      ]
     },
     "metadata": {},
     "output_type": "display_data"
    }
   ],
   "source": [
    "df = pd.DataFrame(\n",
    "    columns= range(0,len(sin_imagen_arr[0][0])),\n",
    "    index= range(0,len(sin_imagen_arr)))"
   ]
  },
  {
   "cell_type": "code",
   "execution_count": 3,
   "id": "2b2334ad",
   "metadata": {},
   "outputs": [],
   "source": [
    "pos = -1\n",
    "for i in sin_imagen_arr:\n",
    "    for j in i:\n",
    "        col = 0\n",
    "        pos += 1\n",
    "        for z in j:\n",
    "            df.iloc[pos,col] = z\n",
    "            col += 1 "
   ]
  },
  {
   "cell_type": "code",
   "execution_count": 4,
   "id": "8bee2311",
   "metadata": {},
   "outputs": [],
   "source": [
    "df['Target'] = 0"
   ]
  },
  {
   "cell_type": "code",
   "execution_count": 5,
   "id": "97c0c54d",
   "metadata": {},
   "outputs": [
    {
     "data": {
      "application/javascript": [
       "\n",
       "        if (window._pyforest_update_imports_cell) { window._pyforest_update_imports_cell('import pandas as pd\\nimport pickle'); }\n",
       "    "
      ],
      "text/plain": [
       "<IPython.core.display.Javascript object>"
      ]
     },
     "metadata": {},
     "output_type": "display_data"
    }
   ],
   "source": [
    "con_imagen_arr = pickle.load(open('../Image_preprocessing/con_imagen_pickle_rotated.txt','rb'))"
   ]
  },
  {
   "cell_type": "code",
   "execution_count": 6,
   "id": "20f018b4",
   "metadata": {},
   "outputs": [
    {
     "data": {
      "application/javascript": [
       "\n",
       "        if (window._pyforest_update_imports_cell) { window._pyforest_update_imports_cell('import pandas as pd\\nimport pickle'); }\n",
       "    "
      ],
      "text/plain": [
       "<IPython.core.display.Javascript object>"
      ]
     },
     "metadata": {},
     "output_type": "display_data"
    }
   ],
   "source": [
    "df_c = pd.DataFrame(\n",
    "    columns= range(0,len(con_imagen_arr[0][0])),\n",
    "    index= range(0,len(con_imagen_arr)))"
   ]
  },
  {
   "cell_type": "code",
   "execution_count": 7,
   "id": "e76ec250",
   "metadata": {},
   "outputs": [],
   "source": [
    "pos = -1\n",
    "for i in con_imagen_arr:\n",
    "    for j in i:\n",
    "        col = 0\n",
    "        pos += 1\n",
    "        for z in j:\n",
    "            df_c.iloc[pos,col] = z\n",
    "            col += 1 "
   ]
  },
  {
   "cell_type": "code",
   "execution_count": 8,
   "id": "d7ee901b",
   "metadata": {},
   "outputs": [],
   "source": [
    "df_c['Target'] = 1"
   ]
  },
  {
   "cell_type": "code",
   "execution_count": 9,
   "id": "5e841aa8",
   "metadata": {},
   "outputs": [
    {
     "data": {
      "application/javascript": [
       "\n",
       "        if (window._pyforest_update_imports_cell) { window._pyforest_update_imports_cell('import pandas as pd\\nimport pickle'); }\n",
       "    "
      ],
      "text/plain": [
       "<IPython.core.display.Javascript object>"
      ]
     },
     "metadata": {},
     "output_type": "display_data"
    }
   ],
   "source": [
    "df_final = pd.concat([df,df_c])"
   ]
  },
  {
   "cell_type": "code",
   "execution_count": 10,
   "id": "313de67f",
   "metadata": {},
   "outputs": [],
   "source": [
    "df_final.to_csv('dataset_final_rotated.csv')"
   ]
  },
  {
   "cell_type": "markdown",
   "id": "7253b2b6",
   "metadata": {},
   "source": [
    "- Loading the pickle with age and sex information"
   ]
  },
  {
   "cell_type": "code",
   "execution_count": 41,
   "id": "a26592c6",
   "metadata": {},
   "outputs": [
    {
     "data": {
      "application/javascript": [
       "\n",
       "        if (window._pyforest_update_imports_cell) { window._pyforest_update_imports_cell('import pandas as pd\\nimport pickle'); }\n",
       "    "
      ],
      "text/plain": [
       "<IPython.core.display.Javascript object>"
      ]
     },
     "metadata": {},
     "output_type": "display_data"
    }
   ],
   "source": [
    "sin_imagen_arr = pickle.load(open('../Image_preprocessing/sin_imagen_agesex_pickle.txt','rb'))"
   ]
  },
  {
   "cell_type": "code",
   "execution_count": 42,
   "id": "4290178b",
   "metadata": {},
   "outputs": [
    {
     "data": {
      "text/plain": [
       "[array(['5.2161226e-06', '5.5615965e-05', '5.1316267e-05', ...,\n",
       "        '0.010776271', '56', 'F'], dtype='<U32'),\n",
       " array(['6.784337e-06', '2.111547e-05', '6.964614e-05', ...,\n",
       "        '0.0031578247', '36', 'M'], dtype='<U32'),\n",
       " array(['1.7302054e-05', '0.00012151321', '3.612715e-05', ...,\n",
       "        '0.0005881467', '51', 'M'], dtype='<U32'),\n",
       " array(['2.546318e-06', '6.314336e-05', '3.2539654e-05', ...,\n",
       "        '0.025301784', '62', 'F'], dtype='<U32'),\n",
       " array(['5.850795e-06', '5.387736e-05', '0.0007852424', ..., '0.003557167',\n",
       "        '41', 'M'], dtype='<U32'),\n",
       " array(['6.7766987e-06', '6.4940425e-05', '6.567206e-05', ...,\n",
       "        '0.011114331', '56', 'F'], dtype='<U32'),\n",
       " array(['1.2885088e-05', '1.2175251e-05', '4.298492e-05', ...,\n",
       "        '0.017231436', '49', 'M'], dtype='<U32'),\n",
       " array(['2.9994828e-07', '9.486531e-05', '2.9863038e-06', ...,\n",
       "        '0.02189403', '46', 'M'], dtype='<U32'),\n",
       " array(['1.4166131e-05', '1.8705929e-05', '0.00031711708', ...,\n",
       "        '0.012411356', '66', 'M'], dtype='<U32'),\n",
       " array(['2.6309121e-06', '0.00019578445', '0.00026031616', ...,\n",
       "        '0.011927706', '61', 'F'], dtype='<U32'),\n",
       " array(['1.1931003e-06', '4.414556e-05', '9.223228e-06', ..., '0.07785017',\n",
       "        '67', 'F'], dtype='<U32'),\n",
       " array(['9.747163e-06', '1.2458575e-05', '5.5050128e-05', ...,\n",
       "        '0.0032864395', '39', 'F'], dtype='<U32'),\n",
       " array(['1.0331095e-07', '8.85057e-06', '1.0846304e-05', ...,\n",
       "        '0.00039842536', '75', 'M'], dtype='<U32'),\n",
       " array(['1.0577295e-05', '0.00012680981', '0.0011657272', ...,\n",
       "        '0.006727809', '72', 'F'], dtype='<U32'),\n",
       " array(['2.3037863e-05', '2.4193097e-05', '9.554462e-06', ...,\n",
       "        '0.0014938192', '999', 'U'], dtype='<U32'),\n",
       " array(['1.4955319e-06', '5.804326e-05', '0.00015264138', ...,\n",
       "        '0.0066757025', '47', 'M'], dtype='<U32'),\n",
       " array(['3.9910115e-06', '0.00015695771', '7.4037955e-05', ...,\n",
       "        '0.006396477', '46', 'M'], dtype='<U32'),\n",
       " array(['2.9315966e-05', '9.559719e-05', '3.943954e-05', ...,\n",
       "        '0.0061693997', '999', 'F'], dtype='<U32'),\n",
       " array(['7.1793957e-06', '3.538655e-05', '3.4077355e-05', ...,\n",
       "        '0.0047582355', '41', 'F'], dtype='<U32'),\n",
       " array(['1.236523e-06', '2.2832315e-05', '6.62657e-05', ..., '0.002540305',\n",
       "        '999', 'U'], dtype='<U32'),\n",
       " array(['1.8422415e-06', '1.0953643e-05', '7.145936e-05', ...,\n",
       "        '0.002521609', '55', 'F'], dtype='<U32'),\n",
       " array(['3.862139e-06', '4.755208e-06', '5.873194e-05', ...,\n",
       "        '0.0102626765', '51', 'M'], dtype='<U32'),\n",
       " array(['4.489154e-06', '3.4219756e-05', '0.00017744614', ...,\n",
       "        '0.004605075', '54', 'F'], dtype='<U32'),\n",
       " array(['2.5811536e-07', '4.120255e-06', '9.1768266e-07', ...,\n",
       "        '0.001355763', '61', 'M'], dtype='<U32'),\n",
       " array(['5.1705056e-06', '7.011373e-05', '0.000107410975', ...,\n",
       "        '0.013148589', '38', 'F'], dtype='<U32'),\n",
       " array(['4.053368e-06', '2.569065e-05', '1.7767421e-05', ...,\n",
       "        '0.0026227199', '49', 'M'], dtype='<U32'),\n",
       " array(['7.416849e-05', '6.8951565e-05', '0.00012013273', ...,\n",
       "        '0.027663132', '49', 'M'], dtype='<U32'),\n",
       " array(['3.1812124e-05', '0.00029701958', '0.00033677535', ...,\n",
       "        '0.0048282677', '30', 'F'], dtype='<U32'),\n",
       " array(['8.002559e-06', '3.9904797e-05', '0.00016501179', ...,\n",
       "        '0.016383903', '55', 'F'], dtype='<U32'),\n",
       " array(['1.5654356e-05', '9.396255e-06', '0.0006550879', ...,\n",
       "        '0.0004946306', '61', 'F'], dtype='<U32'),\n",
       " array(['2.6153473e-06', '0.00020639026', '0.00010874825', ...,\n",
       "        '0.071323544', '73', 'M'], dtype='<U32'),\n",
       " array(['9.07913e-06', '6.3731095e-05', '6.819499e-05', ..., '0.041411538',\n",
       "        '64', 'F'], dtype='<U32'),\n",
       " array(['9.862675e-06', '2.7651851e-05', '3.3521697e-05', ...,\n",
       "        '0.004796244', '28', 'F'], dtype='<U32'),\n",
       " array(['4.4997532e-06', '1.680216e-05', '8.0823615e-05', ...,\n",
       "        '0.011291028', '57', 'F'], dtype='<U32'),\n",
       " array(['1.5867262e-06', '1.6986314e-05', '7.685796e-05', ...,\n",
       "        '0.00048990804', '48', 'M'], dtype='<U32'),\n",
       " array(['8.628097e-06', '4.1515937e-05', '6.0553855e-05', ...,\n",
       "        '0.0015485918', '32', 'F'], dtype='<U32'),\n",
       " array(['8.950985e-06', '2.893191e-05', '0.00013898518', ...,\n",
       "        '0.049042445', '66', 'F'], dtype='<U32'),\n",
       " array(['1.8021382e-06', '4.482287e-06', '6.8481377e-06', ...,\n",
       "        '0.0015423895', '30', 'M'], dtype='<U32'),\n",
       " array(['2.9199784e-06', '3.381491e-05', '7.050241e-05', ...,\n",
       "        '0.00016958435', '56', 'M'], dtype='<U32'),\n",
       " array(['3.413322e-05', '7.4368894e-05', '0.0008420508', ...,\n",
       "        '0.00017000003', '72', 'F'], dtype='<U32'),\n",
       " array(['1.3703156e-07', '2.612302e-06', '1.2969423e-05', ...,\n",
       "        '0.0041361293', '999', 'F'], dtype='<U32'),\n",
       " array(['2.4424317e-06', '1.0938038e-05', '0.00014233644', ...,\n",
       "        '0.057471924', '45', 'M'], dtype='<U32'),\n",
       " array(['1.5529683e-06', '2.1489977e-05', '2.1852973e-05', ...,\n",
       "        '0.06837866', '54', 'M'], dtype='<U32'),\n",
       " array(['3.1399844e-07', '3.008895e-06', '1.56142e-06', ...,\n",
       "        '0.0012917595', '46', 'M'], dtype='<U32'),\n",
       " array(['2.0279452e-07', '1.9855774e-05', '2.038686e-05', ...,\n",
       "        '0.018713666', '56', 'M'], dtype='<U32'),\n",
       " array(['1.994713e-06', '3.0039282e-05', '0.00020261582', ...,\n",
       "        '0.001604813', '61', 'M'], dtype='<U32'),\n",
       " array(['6.623177e-06', '1.7430453e-05', '1.6761393e-05', ...,\n",
       "        '0.00025058072', '40', 'F'], dtype='<U32'),\n",
       " array(['3.6757792e-05', '0.00011839388', '0.00026415926', ...,\n",
       "        '0.012411301', '999', 'M'], dtype='<U32'),\n",
       " array(['9.3622024e-05', '8.5675245e-05', '0.000107018095', ...,\n",
       "        '0.0020579116', '62', 'F'], dtype='<U32'),\n",
       " array(['2.5177733e-06', '4.97521e-05', '4.1266678e-05', ..., '0.20261048',\n",
       "        '40', 'F'], dtype='<U32'),\n",
       " array(['8.058307e-07', '2.4489798e-06', '5.3708595e-06', ...,\n",
       "        '0.0014607109', '32', 'F'], dtype='<U32'),\n",
       " array(['5.78782e-06', '3.4046978e-05', '0.00010544692', ...,\n",
       "        '0.011116616', '40', 'M'], dtype='<U32'),\n",
       " array(['2.8665497e-06', '5.8919286e-05', '0.00016681368', ...,\n",
       "        '0.003306265', '65', 'F'], dtype='<U32'),\n",
       " array(['4.8131997e-06', '1.1816809e-05', '2.0503197e-05', ...,\n",
       "        '0.00089814083', '50', 'F'], dtype='<U32'),\n",
       " array(['7.892945e-07', '1.2152052e-05', '4.1284593e-06', ...,\n",
       "        '0.24362944', '54', 'M'], dtype='<U32'),\n",
       " array(['3.2539177e-05', '5.7836747e-05', '0.00096684234', ...,\n",
       "        '0.0026314543', '999', 'U'], dtype='<U32'),\n",
       " array(['2.1568518e-05', '7.215449e-05', '4.6487206e-05', ...,\n",
       "        '0.0049384767', '62', 'F'], dtype='<U32'),\n",
       " array(['4.11993e-06', '7.951126e-06', '9.469714e-05', ..., '0.0026862777',\n",
       "        '66', 'M'], dtype='<U32'),\n",
       " array(['2.338248e-07', '1.2772697e-05', '8.864669e-06', ...,\n",
       "        '0.010426994', '35', 'M'], dtype='<U32'),\n",
       " array(['3.5344e-06', '1.514549e-05', '3.1600773e-06', ..., '0.008865226',\n",
       "        '42', 'M'], dtype='<U32'),\n",
       " array(['9.017782e-07', '9.566315e-05', '1.6489128e-05', ...,\n",
       "        '0.00048534476', '999', 'U'], dtype='<U32'),\n",
       " array(['8.910722e-06', '4.4333843e-05', '8.593029e-05', ...,\n",
       "        '0.035581775', '52', 'M'], dtype='<U32'),\n",
       " array(['2.8248409e-05', '4.5435037e-05', '5.655428e-06', ...,\n",
       "        '0.00029480355', '40', 'M'], dtype='<U32'),\n",
       " array(['3.4615643e-06', '2.1745984e-05', '2.391408e-05', ...,\n",
       "        '0.0005073941', '41', 'F'], dtype='<U32'),\n",
       " array(['1.3426065e-05', '7.068881e-06', '0.000115634284', ...,\n",
       "        '0.0059733335', '66', 'M'], dtype='<U32'),\n",
       " array(['8.441251e-06', '2.9286768e-05', '0.00011644384', ...,\n",
       "        '0.00086405606', '55', 'M'], dtype='<U32'),\n",
       " array(['6.712589e-07', '4.6060713e-06', '5.077567e-06', ...,\n",
       "        '0.016313193', '35', 'M'], dtype='<U32'),\n",
       " array(['1.3189235e-05', '4.2323063e-05', '0.00033960267', ...,\n",
       "        '0.003702766', '34', 'F'], dtype='<U32'),\n",
       " array(['1.0723715e-05', '4.0317136e-05', '2.0375377e-05', ...,\n",
       "        '0.0022022699', '46', 'M'], dtype='<U32'),\n",
       " array(['7.5347825e-06', '1.0309587e-05', '1.6922668e-05', ...,\n",
       "        '0.004442969', '57', 'F'], dtype='<U32'),\n",
       " array(['5.691011e-06', '8.373015e-05', '0.0006262955', ...,\n",
       "        '0.00096975954', '64', 'F'], dtype='<U32'),\n",
       " array(['3.5388962e-06', '1.0852521e-05', '2.6496339e-06', ...,\n",
       "        '0.008355066', '41', 'F'], dtype='<U32'),\n",
       " array(['1.7207898e-07', '1.6434273e-05', '6.952444e-05', ...,\n",
       "        '0.28954366', '39', 'F'], dtype='<U32'),\n",
       " array(['4.369242e-05', '6.4224805e-05', '0.00094196113', ...,\n",
       "        '0.011272949', '64', 'F'], dtype='<U32'),\n",
       " array(['1.5071595e-05', '2.966917e-05', '0.00094289874', ...,\n",
       "        '0.015235498', '69', 'F'], dtype='<U32'),\n",
       " array(['4.220803e-06', '5.8544047e-05', '1.25969045e-05', ...,\n",
       "        '0.01527687', '46', 'F'], dtype='<U32'),\n",
       " array(['9.3233746e-07', '8.227775e-06', '8.502864e-06', ...,\n",
       "        '0.002920149', '69', 'F'], dtype='<U32'),\n",
       " array(['8.214711e-07', '7.505958e-06', '0.00019698158', ...,\n",
       "        '0.0010053474', '33', 'F'], dtype='<U32'),\n",
       " array(['8.156129e-06', '2.0690153e-05', '2.9650914e-06', ...,\n",
       "        '0.013463347', '36', 'F'], dtype='<U32'),\n",
       " array(['4.5108038e-07', '2.4399984e-05', '7.824643e-06', ...,\n",
       "        '0.005478396', '66', 'F'], dtype='<U32'),\n",
       " array(['1.5800882e-06', '2.9443725e-05', '7.5653625e-05', ...,\n",
       "        '0.00021048915', '56', 'M'], dtype='<U32'),\n",
       " array(['6.0825096e-06', '2.813719e-05', '9.2139904e-05', ...,\n",
       "        '0.0023493199', '41', 'M'], dtype='<U32'),\n",
       " array(['1.0840086e-05', '0.00016885664', '0.00038806442', ...,\n",
       "        '0.013888623', '49', 'M'], dtype='<U32'),\n",
       " array(['1.0711068e-05', '7.7756355e-05', '7.589862e-05', ...,\n",
       "        '0.032593742', '64', 'F'], dtype='<U32'),\n",
       " array(['1.8783812e-05', '1.0118302e-05', '6.331737e-05', ...,\n",
       "        '0.0031898469', '52', 'F'], dtype='<U32'),\n",
       " array(['4.5643374e-05', '0.00022763552', '0.0001459259', ...,\n",
       "        '0.01363743', '56', 'M'], dtype='<U32'),\n",
       " array(['7.2843886e-06', '6.4092754e-05', '0.00023764897', ...,\n",
       "        '0.070944995', '53', 'M'], dtype='<U32'),\n",
       " array(['0.00012764268', '0.00027274256', '0.002758526', ...,\n",
       "        '0.0019990082', '62', 'M'], dtype='<U32'),\n",
       " array(['2.2238569e-06', '2.1876418e-05', '4.8544818e-05', ...,\n",
       "        '0.08948783', '50', 'F'], dtype='<U32'),\n",
       " array(['1.1804897e-06', '4.5195495e-05', '1.2556933e-05', ...,\n",
       "        '0.08320454', '46', 'F'], dtype='<U32'),\n",
       " array(['1.00651105e-05', '0.00027636287', '0.0005579604', ...,\n",
       "        '0.09003243', '60', 'F'], dtype='<U32'),\n",
       " array(['9.569883e-06', '5.5390326e-05', '6.7580215e-05', ...,\n",
       "        '0.051669117', '52', 'M'], dtype='<U32'),\n",
       " array(['2.8381116e-06', '1.3075662e-05', '5.4419374e-06', ...,\n",
       "        '0.007355148', '999', 'M'], dtype='<U32'),\n",
       " array(['1.13001215e-05', '0.00011676034', '0.00012278186', ...,\n",
       "        '0.047262583', '12', 'F'], dtype='<U32'),\n",
       " array(['2.787539e-06', '3.109385e-05', '3.0291263e-05', ...,\n",
       "        '0.018161166', '60', 'F'], dtype='<U32'),\n",
       " array(['3.1760092e-06', '5.628108e-05', '8.1852915e-05', ...,\n",
       "        '0.004290605', '42', 'F'], dtype='<U32'),\n",
       " array(['3.458406e-06', '1.7271575e-05', '0.0058019287', ...,\n",
       "        '0.0010669498', '999', 'U'], dtype='<U32'),\n",
       " array(['4.5195816e-06', '2.0868696e-05', '0.00010540288', ...,\n",
       "        '0.006373729', '47', 'M'], dtype='<U32'),\n",
       " array(['6.0152506e-06', '2.5534318e-05', '0.000119535005', ...,\n",
       "        '0.00059890345', '32', 'M'], dtype='<U32'),\n",
       " array(['1.8336848e-06', '7.4598174e-05', '0.00010490829', ...,\n",
       "        '0.03402397', '55', 'F'], dtype='<U32'),\n",
       " array(['3.0885286e-07', '3.326389e-06', '1.4488618e-06', ...,\n",
       "        '0.033626918', '999', 'F'], dtype='<U32'),\n",
       " array(['1.4923929e-06', '4.3228385e-05', '0.00018855202', ...,\n",
       "        '0.00096830225', '31', 'M'], dtype='<U32'),\n",
       " array(['6.2758704e-06', '2.4906794e-05', '0.00039352052', ...,\n",
       "        '0.0166953', '37', 'M'], dtype='<U32'),\n",
       " array(['7.91164e-07', '5.2194795e-05', '6.2287904e-07', ...,\n",
       "        '0.00024085135', '59', 'F'], dtype='<U32'),\n",
       " array(['4.6579575e-05', '9.1643065e-05', '0.00027514127', ...,\n",
       "        '0.074534215', '54', 'F'], dtype='<U32'),\n",
       " array(['3.6773788e-06', '4.960787e-06', '5.1115934e-05', ...,\n",
       "        '0.08394673', '999', 'U'], dtype='<U32'),\n",
       " array(['5.756429e-07', '3.2348298e-06', '5.0654044e-06', ...,\n",
       "        '0.06252232', '61', 'F'], dtype='<U32'),\n",
       " array(['4.145379e-07', '8.47235e-06', '2.0785776e-05', ..., '0.009501396',\n",
       "        '53', 'F'], dtype='<U32'),\n",
       " array(['7.97691e-06', '5.996786e-05', '0.0013096725', ..., '0.01915527',\n",
       "        '33', 'F'], dtype='<U32'),\n",
       " array(['3.4340471e-06', '1.1640665e-05', '1.1160292e-06', ...,\n",
       "        '0.01673033', '45', 'M'], dtype='<U32'),\n",
       " array(['1.9935142e-06', '1.7345896e-05', '0.00021839625', ...,\n",
       "        '0.017030338', '60', 'F'], dtype='<U32'),\n",
       " array(['1.532305e-06', '3.5959478e-05', '0.00021817423', ...,\n",
       "        '0.00083142344', '33', 'F'], dtype='<U32'),\n",
       " array(['4.17045e-06', '5.502677e-05', '2.1561065e-05', ..., '0.01636432',\n",
       "        '43', 'F'], dtype='<U32'),\n",
       " array(['4.024563e-06', '4.9059614e-05', '1.5825097e-05', ...,\n",
       "        '0.009190287', '46', 'F'], dtype='<U32'),\n",
       " array(['1.2016262e-06', '3.3042345e-06', '2.3085375e-05', ...,\n",
       "        '0.005888874', '53', 'F'], dtype='<U32'),\n",
       " array(['6.035649e-06', '0.00019686414', '0.0003076805', ...,\n",
       "        '0.0032199374', '58', 'F'], dtype='<U32'),\n",
       " array(['1.0233059e-05', '6.109922e-05', '9.51115e-05', ..., '0.00777547',\n",
       "        '54', 'M'], dtype='<U32'),\n",
       " array(['1.1023473e-06', '1.0292067e-05', '6.5938357e-06', ...,\n",
       "        '0.025217514', '70', 'M'], dtype='<U32'),\n",
       " array(['7.2389885e-05', '7.768197e-05', '0.00013772775', ...,\n",
       "        '0.03678747', '49', 'M'], dtype='<U32'),\n",
       " array(['1.1485997e-06', '0.000101017526', '0.00083771115', ...,\n",
       "        '0.0041328724', '999', 'U'], dtype='<U32'),\n",
       " array(['8.0512257e-07', '7.989512e-06', '0.00056376046', ...,\n",
       "        '0.013092132', '22', 'M'], dtype='<U32'),\n",
       " array(['1.0983952e-05', '9.307032e-05', '0.0003156458', ...,\n",
       "        '0.0076429257', '58', 'F'], dtype='<U32'),\n",
       " array(['4.1450174e-05', '5.9721187e-05', '1.056331e-05', ...,\n",
       "        '0.0070245927', '40', 'M'], dtype='<U32'),\n",
       " array(['2.2768108e-06', '1.4043602e-05', '0.00029663992', ...,\n",
       "        '0.00054065156', '31', 'M'], dtype='<U32'),\n",
       " array(['6.547808e-06', '3.673947e-06', '5.159706e-06', ...,\n",
       "        '0.0040289857', '70', 'M'], dtype='<U32'),\n",
       " array(['1.4222198e-06', '6.6201996e-05', '0.00013861449', ...,\n",
       "        '0.046001047', '51', 'M'], dtype='<U32'),\n",
       " array(['5.6501967e-06', '3.1325642e-05', '0.0004832584', ...,\n",
       "        '0.0063328985', '29', 'M'], dtype='<U32'),\n",
       " array(['9.325523e-06', '0.00015553764', '0.0005776194', ...,\n",
       "        '0.012456986', '44', 'F'], dtype='<U32'),\n",
       " array(['5.047392e-05', '2.1893748e-05', '0.0014031564', ...,\n",
       "        '0.0050862418', '64', 'F'], dtype='<U32'),\n",
       " array(['1.7496322e-06', '3.8033526e-05', '6.6658744e-05', ...,\n",
       "        '0.4440413', '73', 'M'], dtype='<U32'),\n",
       " array(['1.0588394e-06', '0.00017214383', '3.689404e-05', ...,\n",
       "        '0.010111364', '999', 'U'], dtype='<U32'),\n",
       " array(['2.0397533e-06', '3.120084e-05', '3.567325e-05', ...,\n",
       "        '0.0029737265', '57', 'M'], dtype='<U32'),\n",
       " array(['2.227487e-06', '9.234754e-06', '3.0310434e-06', ...,\n",
       "        '0.0042399224', '36', 'F'], dtype='<U32'),\n",
       " array(['1.5704298e-06', '6.1241894e-06', '5.0408387e-05', ...,\n",
       "        '0.015310942', '45', 'M'], dtype='<U32'),\n",
       " array(['7.851282e-06', '2.1982683e-05', '0.00010525046', ...,\n",
       "        '0.110339105', '999', 'U'], dtype='<U32'),\n",
       " array(['7.006265e-06', '3.9996405e-05', '9.406101e-05', ...,\n",
       "        '0.0016732166', '34', 'M'], dtype='<U32'),\n",
       " array(['3.4451373e-06', '2.4235813e-05', '2.1126386e-06', ...,\n",
       "        '0.06575649', '999', 'M'], dtype='<U32')]"
      ]
     },
     "execution_count": 42,
     "metadata": {},
     "output_type": "execute_result"
    }
   ],
   "source": [
    "sin_imagen_arr"
   ]
  },
  {
   "cell_type": "code",
   "execution_count": 43,
   "id": "a3250a83",
   "metadata": {},
   "outputs": [
    {
     "data": {
      "text/plain": [
       "array(['5.2161226e-06', '5.5615965e-05', '5.1316267e-05', ...,\n",
       "       '0.010776271', '56', 'F'], dtype='<U32')"
      ]
     },
     "execution_count": 43,
     "metadata": {},
     "output_type": "execute_result"
    }
   ],
   "source": [
    "sin_imagen_arr[0]"
   ]
  },
  {
   "cell_type": "code",
   "execution_count": 44,
   "id": "2795f6ed",
   "metadata": {},
   "outputs": [
    {
     "data": {
      "application/javascript": [
       "\n",
       "        if (window._pyforest_update_imports_cell) { window._pyforest_update_imports_cell('import pandas as pd\\nimport pickle'); }\n",
       "    "
      ],
      "text/plain": [
       "<IPython.core.display.Javascript object>"
      ]
     },
     "metadata": {},
     "output_type": "display_data"
    }
   ],
   "source": [
    "df = pd.DataFrame(\n",
    "    columns= range(0,len(sin_imagen_arr[0])),\n",
    "    index= range(0,len(sin_imagen_arr)))"
   ]
  },
  {
   "cell_type": "code",
   "execution_count": 45,
   "id": "115367ac",
   "metadata": {},
   "outputs": [
    {
     "data": {
      "text/plain": [
       "(137, 1002)"
      ]
     },
     "execution_count": 45,
     "metadata": {},
     "output_type": "execute_result"
    }
   ],
   "source": [
    "df.shape"
   ]
  },
  {
   "cell_type": "code",
   "execution_count": 46,
   "id": "31c35113",
   "metadata": {},
   "outputs": [],
   "source": [
    "pos = -1\n",
    "for i in sin_imagen_arr:\n",
    "    pos += 1\n",
    "    col = 0\n",
    "    for j in i:\n",
    "        df.iloc[pos,col] = j\n",
    "        col += 1 \n",
    "    "
   ]
  },
  {
   "cell_type": "code",
   "execution_count": 47,
   "id": "4ed8beb1",
   "metadata": {},
   "outputs": [
    {
     "data": {
      "text/html": [
       "<div>\n",
       "<style scoped>\n",
       "    .dataframe tbody tr th:only-of-type {\n",
       "        vertical-align: middle;\n",
       "    }\n",
       "\n",
       "    .dataframe tbody tr th {\n",
       "        vertical-align: top;\n",
       "    }\n",
       "\n",
       "    .dataframe thead th {\n",
       "        text-align: right;\n",
       "    }\n",
       "</style>\n",
       "<table border=\"1\" class=\"dataframe\">\n",
       "  <thead>\n",
       "    <tr style=\"text-align: right;\">\n",
       "      <th></th>\n",
       "      <th>0</th>\n",
       "      <th>1</th>\n",
       "      <th>2</th>\n",
       "      <th>3</th>\n",
       "      <th>4</th>\n",
       "      <th>5</th>\n",
       "      <th>6</th>\n",
       "      <th>7</th>\n",
       "      <th>8</th>\n",
       "      <th>9</th>\n",
       "      <th>...</th>\n",
       "      <th>992</th>\n",
       "      <th>993</th>\n",
       "      <th>994</th>\n",
       "      <th>995</th>\n",
       "      <th>996</th>\n",
       "      <th>997</th>\n",
       "      <th>998</th>\n",
       "      <th>999</th>\n",
       "      <th>1000</th>\n",
       "      <th>1001</th>\n",
       "    </tr>\n",
       "  </thead>\n",
       "  <tbody>\n",
       "    <tr>\n",
       "      <th>0</th>\n",
       "      <td>5.2161226e-06</td>\n",
       "      <td>5.5615965e-05</td>\n",
       "      <td>5.1316267e-05</td>\n",
       "      <td>0.00010677811</td>\n",
       "      <td>0.00033850962</td>\n",
       "      <td>9.213807e-05</td>\n",
       "      <td>2.4749837e-05</td>\n",
       "      <td>4.6215704e-05</td>\n",
       "      <td>1.0799774e-05</td>\n",
       "      <td>1.6731834e-05</td>\n",
       "      <td>...</td>\n",
       "      <td>8.077541e-06</td>\n",
       "      <td>1.1810009e-05</td>\n",
       "      <td>1.9729391e-06</td>\n",
       "      <td>5.4589273e-05</td>\n",
       "      <td>2.950279e-05</td>\n",
       "      <td>1.3968243e-05</td>\n",
       "      <td>0.00039554163</td>\n",
       "      <td>0.010776271</td>\n",
       "      <td>56</td>\n",
       "      <td>F</td>\n",
       "    </tr>\n",
       "    <tr>\n",
       "      <th>1</th>\n",
       "      <td>6.784337e-06</td>\n",
       "      <td>2.111547e-05</td>\n",
       "      <td>6.964614e-05</td>\n",
       "      <td>0.00020105518</td>\n",
       "      <td>0.00074159255</td>\n",
       "      <td>7.100062e-05</td>\n",
       "      <td>0.00011977106</td>\n",
       "      <td>0.00011165759</td>\n",
       "      <td>3.5603232e-05</td>\n",
       "      <td>1.318159e-05</td>\n",
       "      <td>...</td>\n",
       "      <td>8.873106e-05</td>\n",
       "      <td>5.9640963e-05</td>\n",
       "      <td>7.282444e-05</td>\n",
       "      <td>0.00019680458</td>\n",
       "      <td>6.246732e-05</td>\n",
       "      <td>6.4673564e-05</td>\n",
       "      <td>0.00014959837</td>\n",
       "      <td>0.0031578247</td>\n",
       "      <td>36</td>\n",
       "      <td>M</td>\n",
       "    </tr>\n",
       "    <tr>\n",
       "      <th>2</th>\n",
       "      <td>1.7302054e-05</td>\n",
       "      <td>0.00012151321</td>\n",
       "      <td>3.612715e-05</td>\n",
       "      <td>9.4390954e-05</td>\n",
       "      <td>0.000193746</td>\n",
       "      <td>7.0824244e-05</td>\n",
       "      <td>5.4854976e-05</td>\n",
       "      <td>0.0004819731</td>\n",
       "      <td>0.0002999667</td>\n",
       "      <td>0.0018947723</td>\n",
       "      <td>...</td>\n",
       "      <td>0.0008849616</td>\n",
       "      <td>0.0003041503</td>\n",
       "      <td>0.00029761103</td>\n",
       "      <td>0.0005450411</td>\n",
       "      <td>0.0010629784</td>\n",
       "      <td>0.00024612047</td>\n",
       "      <td>0.0004903581</td>\n",
       "      <td>0.0005881467</td>\n",
       "      <td>51</td>\n",
       "      <td>M</td>\n",
       "    </tr>\n",
       "    <tr>\n",
       "      <th>3</th>\n",
       "      <td>2.546318e-06</td>\n",
       "      <td>6.314336e-05</td>\n",
       "      <td>3.2539654e-05</td>\n",
       "      <td>3.9253442e-05</td>\n",
       "      <td>0.00034196133</td>\n",
       "      <td>0.00042057308</td>\n",
       "      <td>0.00011822607</td>\n",
       "      <td>1.7891247e-05</td>\n",
       "      <td>2.1112326e-05</td>\n",
       "      <td>7.407138e-06</td>\n",
       "      <td>...</td>\n",
       "      <td>7.4961954e-06</td>\n",
       "      <td>4.8930728e-05</td>\n",
       "      <td>7.5580874e-06</td>\n",
       "      <td>0.00024295747</td>\n",
       "      <td>2.5784606e-05</td>\n",
       "      <td>2.4315137e-05</td>\n",
       "      <td>2.7245378e-05</td>\n",
       "      <td>0.025301784</td>\n",
       "      <td>62</td>\n",
       "      <td>F</td>\n",
       "    </tr>\n",
       "    <tr>\n",
       "      <th>4</th>\n",
       "      <td>5.850795e-06</td>\n",
       "      <td>5.387736e-05</td>\n",
       "      <td>0.0007852424</td>\n",
       "      <td>0.00065379357</td>\n",
       "      <td>0.0027395634</td>\n",
       "      <td>0.00018528657</td>\n",
       "      <td>0.00022149172</td>\n",
       "      <td>0.000112694725</td>\n",
       "      <td>1.9388452e-05</td>\n",
       "      <td>1.1438064e-05</td>\n",
       "      <td>...</td>\n",
       "      <td>4.0453808e-05</td>\n",
       "      <td>5.453772e-05</td>\n",
       "      <td>4.0530326e-06</td>\n",
       "      <td>7.1386254e-05</td>\n",
       "      <td>0.0001555624</td>\n",
       "      <td>6.472452e-05</td>\n",
       "      <td>0.00015004798</td>\n",
       "      <td>0.003557167</td>\n",
       "      <td>41</td>\n",
       "      <td>M</td>\n",
       "    </tr>\n",
       "  </tbody>\n",
       "</table>\n",
       "<p>5 rows × 1002 columns</p>\n",
       "</div>"
      ],
      "text/plain": [
       "            0              1              2              3              4     \\\n",
       "0  5.2161226e-06  5.5615965e-05  5.1316267e-05  0.00010677811  0.00033850962   \n",
       "1   6.784337e-06   2.111547e-05   6.964614e-05  0.00020105518  0.00074159255   \n",
       "2  1.7302054e-05  0.00012151321   3.612715e-05  9.4390954e-05    0.000193746   \n",
       "3   2.546318e-06   6.314336e-05  3.2539654e-05  3.9253442e-05  0.00034196133   \n",
       "4   5.850795e-06   5.387736e-05   0.0007852424  0.00065379357   0.0027395634   \n",
       "\n",
       "            5              6               7              8              9     \\\n",
       "0   9.213807e-05  2.4749837e-05   4.6215704e-05  1.0799774e-05  1.6731834e-05   \n",
       "1   7.100062e-05  0.00011977106   0.00011165759  3.5603232e-05   1.318159e-05   \n",
       "2  7.0824244e-05  5.4854976e-05    0.0004819731   0.0002999667   0.0018947723   \n",
       "3  0.00042057308  0.00011822607   1.7891247e-05  2.1112326e-05   7.407138e-06   \n",
       "4  0.00018528657  0.00022149172  0.000112694725  1.9388452e-05  1.1438064e-05   \n",
       "\n",
       "   ...           992            993            994            995   \\\n",
       "0  ...   8.077541e-06  1.1810009e-05  1.9729391e-06  5.4589273e-05   \n",
       "1  ...   8.873106e-05  5.9640963e-05   7.282444e-05  0.00019680458   \n",
       "2  ...   0.0008849616   0.0003041503  0.00029761103   0.0005450411   \n",
       "3  ...  7.4961954e-06  4.8930728e-05  7.5580874e-06  0.00024295747   \n",
       "4  ...  4.0453808e-05   5.453772e-05  4.0530326e-06  7.1386254e-05   \n",
       "\n",
       "            996            997            998           999  1000 1001  \n",
       "0   2.950279e-05  1.3968243e-05  0.00039554163   0.010776271   56    F  \n",
       "1   6.246732e-05  6.4673564e-05  0.00014959837  0.0031578247   36    M  \n",
       "2   0.0010629784  0.00024612047   0.0004903581  0.0005881467   51    M  \n",
       "3  2.5784606e-05  2.4315137e-05  2.7245378e-05   0.025301784   62    F  \n",
       "4   0.0001555624   6.472452e-05  0.00015004798   0.003557167   41    M  \n",
       "\n",
       "[5 rows x 1002 columns]"
      ]
     },
     "execution_count": 47,
     "metadata": {},
     "output_type": "execute_result"
    }
   ],
   "source": [
    "df.head()"
   ]
  },
  {
   "cell_type": "code",
   "execution_count": 48,
   "id": "ddb09f79",
   "metadata": {},
   "outputs": [],
   "source": [
    "df['Target'] = 0"
   ]
  },
  {
   "cell_type": "code",
   "execution_count": 49,
   "id": "5203534f",
   "metadata": {},
   "outputs": [
    {
     "data": {
      "application/javascript": [
       "\n",
       "        if (window._pyforest_update_imports_cell) { window._pyforest_update_imports_cell('import pandas as pd\\nimport pickle'); }\n",
       "    "
      ],
      "text/plain": [
       "<IPython.core.display.Javascript object>"
      ]
     },
     "metadata": {},
     "output_type": "display_data"
    }
   ],
   "source": [
    "con_imagen_arr = pickle.load(open('../Image_preprocessing/con_imagen_agesex_pickle.txt','rb'))"
   ]
  },
  {
   "cell_type": "code",
   "execution_count": 50,
   "id": "0709c841",
   "metadata": {},
   "outputs": [
    {
     "data": {
      "application/javascript": [
       "\n",
       "        if (window._pyforest_update_imports_cell) { window._pyforest_update_imports_cell('import pandas as pd\\nimport pickle'); }\n",
       "    "
      ],
      "text/plain": [
       "<IPython.core.display.Javascript object>"
      ]
     },
     "metadata": {},
     "output_type": "display_data"
    }
   ],
   "source": [
    "df_c = pd.DataFrame(\n",
    "    columns= range(0,len(con_imagen_arr[0])),\n",
    "    index= range(0,len(con_imagen_arr)))"
   ]
  },
  {
   "cell_type": "code",
   "execution_count": 51,
   "id": "4a687123",
   "metadata": {},
   "outputs": [],
   "source": [
    "pos = -1\n",
    "for i in con_imagen_arr:\n",
    "    pos += 1\n",
    "    col = 0\n",
    "    for j in i:\n",
    "        df_c.iloc[pos,col] = j\n",
    "        col += 1 \n",
    "    "
   ]
  },
  {
   "cell_type": "code",
   "execution_count": 54,
   "id": "c94b36da",
   "metadata": {},
   "outputs": [],
   "source": [
    "df_c['Target'] = 1"
   ]
  },
  {
   "cell_type": "code",
   "execution_count": 55,
   "id": "2ced8844",
   "metadata": {},
   "outputs": [
    {
     "data": {
      "application/javascript": [
       "\n",
       "        if (window._pyforest_update_imports_cell) { window._pyforest_update_imports_cell('import pandas as pd\\nimport pickle'); }\n",
       "    "
      ],
      "text/plain": [
       "<IPython.core.display.Javascript object>"
      ]
     },
     "metadata": {},
     "output_type": "display_data"
    }
   ],
   "source": [
    "df_final = pd.concat([df,df_c])"
   ]
  },
  {
   "cell_type": "code",
   "execution_count": 56,
   "id": "1679d2b2",
   "metadata": {},
   "outputs": [],
   "source": [
    "df_final.to_csv('df_agesex.csv')"
   ]
  },
  {
   "cell_type": "markdown",
   "id": "b7dcc944",
   "metadata": {},
   "source": [
    "- Load cropped images pickles"
   ]
  },
  {
   "cell_type": "code",
   "execution_count": 1,
   "id": "69bd0c30",
   "metadata": {},
   "outputs": [
    {
     "data": {
      "application/javascript": [
       "\n",
       "        if (window._pyforest_update_imports_cell) { window._pyforest_update_imports_cell('import pickle'); }\n",
       "    "
      ],
      "text/plain": [
       "<IPython.core.display.Javascript object>"
      ]
     },
     "metadata": {},
     "output_type": "display_data"
    }
   ],
   "source": [
    "sin_imagen_arr = pickle.load(open('../Image_preprocessing/sin_imagen_crop.txt','rb'))"
   ]
  },
  {
   "cell_type": "code",
   "execution_count": 4,
   "id": "9d1cd933",
   "metadata": {},
   "outputs": [
    {
     "data": {
      "text/plain": [
       "[array(['4.6243176e-06', '2.728406e-05', '2.2152886e-05', ...,\n",
       "        '0.21083711', '64', 'F'], dtype='<U32'),\n",
       " array(['1.1804056e-05', '6.9318653e-06', '0.0012185735', ...,\n",
       "        '0.0034113699', '69', 'F'], dtype='<U32'),\n",
       " array(['5.2238393e-06', '5.9313003e-05', '0.00015699267', ...,\n",
       "        '0.36264473', '40', 'M'], dtype='<U32'),\n",
       " array(['2.5803154e-05', '2.2469936e-05', '0.0016302693', ..., '0.0192123',\n",
       "        '66', 'M'], dtype='<U32'),\n",
       " array(['0.00028466576', '0.00011817063', '0.0031475963', ...,\n",
       "        '0.004761422', '999', 'U'], dtype='<U32'),\n",
       " array(['1.1259976e-05', '5.4947366e-05', '0.00066101766', ...,\n",
       "        '0.0307188', '35', 'M'], dtype='<U32'),\n",
       " array(['2.0400175e-05', '7.079271e-06', '0.000111341935', ...,\n",
       "        '0.0016940831', '52', 'F'], dtype='<U32'),\n",
       " array(['1.1502644e-05', '1.1574247e-05', '0.000515589', ...,\n",
       "        '0.028542886', '39', 'F'], dtype='<U32'),\n",
       " array(['3.5636456e-06', '1.4139661e-05', '3.0958527e-05', ...,\n",
       "        '0.48834366', '45', 'M'], dtype='<U32'),\n",
       " array(['1.9812745e-05', '4.5532433e-05', '0.00015321038', ...,\n",
       "        '0.021895083', '46', 'M'], dtype='<U32'),\n",
       " array(['1.2671547e-05', '7.551593e-05', '4.1636937e-05', ..., '0.1327842',\n",
       "        '36', 'F'], dtype='<U32'),\n",
       " array(['6.850499e-06', '8.386974e-06', '0.00085634633', ..., '0.05329174',\n",
       "        '51', 'M'], dtype='<U32'),\n",
       " array(['5.6760273e-06', '1.627788e-05', '0.00019786246', ...,\n",
       "        '0.033434413', '47', 'M'], dtype='<U32'),\n",
       " array(['1.9486215e-06', '4.0298555e-06', '8.520366e-05', ...,\n",
       "        '0.006842289', '28', 'F'], dtype='<U32'),\n",
       " array(['9.5654366e-05', '3.4623517e-05', '0.0004046404', ...,\n",
       "        '0.032290462', '41', 'M'], dtype='<U32'),\n",
       " array(['9.364459e-05', '3.8276426e-05', '0.013247169', ..., '0.035677165',\n",
       "        '41', 'M'], dtype='<U32'),\n",
       " array(['3.6647853e-06', '2.651657e-05', '0.00013009971', ..., '0.259438',\n",
       "        '66', 'F'], dtype='<U32'),\n",
       " array(['7.746869e-07', '1.4915025e-05', '4.2912484e-06', ...,\n",
       "        '0.013765994', '59', 'F'], dtype='<U32'),\n",
       " array(['9.651316e-05', '6.973049e-05', '0.0019409051', ...,\n",
       "        '0.0038935167', '73', 'M'], dtype='<U32'),\n",
       " array(['4.3818623e-06', '7.513349e-06', '6.0500362e-05', ...,\n",
       "        '0.009241783', '999', 'U'], dtype='<U32'),\n",
       " array(['7.655794e-06', '3.1627853e-05', '0.0028339373', ..., '0.25423294',\n",
       "        '53', 'F'], dtype='<U32'),\n",
       " array(['3.9486e-06', '8.695246e-06', '3.7965874e-05', ..., '0.0023969202',\n",
       "        '61', 'M'], dtype='<U32'),\n",
       " array(['2.0261243e-06', '0.00010601463', '0.00084979093', ...,\n",
       "        '0.036319625', '999', 'U'], dtype='<U32'),\n",
       " array(['2.5387752e-05', '4.668017e-05', '0.0014676723', ..., '0.09048714',\n",
       "        '58', 'F'], dtype='<U32'),\n",
       " array(['7.0840426e-05', '3.6477977e-05', '0.0068753846', ...,\n",
       "        '0.005097846', '32', 'M'], dtype='<U32'),\n",
       " array(['4.0823717e-05', '3.405513e-05', '0.0015972885', ...,\n",
       "        '0.045572326', '52', 'M'], dtype='<U32'),\n",
       " array(['5.622929e-06', '2.879751e-05', '2.7161877e-05', ..., '0.20886737',\n",
       "        '64', 'F'], dtype='<U32'),\n",
       " array(['9.701552e-07', '3.357582e-05', '0.0005328536', ..., '0.07588173',\n",
       "        '22', 'M'], dtype='<U32'),\n",
       " array(['2.3573484e-05', '2.2691704e-05', '0.0007027236', ...,\n",
       "        '0.04212138', '36', 'F'], dtype='<U32'),\n",
       " array(['1.0233135e-06', '6.586296e-06', '0.00011633223', ...,\n",
       "        '0.0069615096', '47', 'M'], dtype='<U32'),\n",
       " array(['4.6470728e-07', '8.20812e-06', '5.0786366e-05', ..., '0.56010914',\n",
       "        '67', 'F'], dtype='<U32'),\n",
       " array(['1.0110832e-05', '1.2554246e-05', '0.002122455', ...,\n",
       "        '0.033256497', '56', 'F'], dtype='<U32'),\n",
       " array(['1.0000701e-06', '1.0949022e-05', '3.104109e-05', ...,\n",
       "        '0.28920186', '38', 'F'], dtype='<U32'),\n",
       " array(['2.6446263e-05', '1.7835726e-05', '0.00077573676', ...,\n",
       "        '0.031975564', '999', 'F'], dtype='<U32'),\n",
       " array(['5.4279535e-06', '6.490833e-05', '3.432087e-05', ...,\n",
       "        '0.019552872', '57', 'F'], dtype='<U32'),\n",
       " array(['4.8334336e-06', '2.2234028e-05', '0.00023031', ..., '0.023463432',\n",
       "        '999', 'U'], dtype='<U32'),\n",
       " array(['0.00016934768', '6.2538325e-05', '0.007267269', ..., '0.00320873',\n",
       "        '999', 'M'], dtype='<U32'),\n",
       " array(['4.8833e-06', '6.972639e-06', '0.00048714623', ..., '0.007955091',\n",
       "        '56', 'M'], dtype='<U32'),\n",
       " array(['2.5797654e-06', '6.1438673e-06', '0.00029558432', ...,\n",
       "        '0.010912081', '56', 'M'], dtype='<U32'),\n",
       " array(['2.63592e-06', '8.151084e-06', '3.252499e-05', ..., '0.35140443',\n",
       "        '12', 'F'], dtype='<U32'),\n",
       " array(['2.5123072e-06', '3.396572e-06', '0.00011129015', ...,\n",
       "        '0.0035376137', '44', 'F'], dtype='<U32'),\n",
       " array(['7.742151e-05', '0.0002878251', '0.005450991', ..., '0.014005828',\n",
       "        '999', 'U'], dtype='<U32'),\n",
       " array(['0.00010469307', '3.6741858e-05', '0.03367373', ...,\n",
       "        '0.0032519347', '62', 'F'], dtype='<U32'),\n",
       " array(['5.2319334e-05', '0.00014755517', '0.004139126', ...,\n",
       "        '0.023252195', '55', 'F'], dtype='<U32'),\n",
       " array(['4.3967975e-06', '1.9377669e-05', '0.00031006904', ...,\n",
       "        '0.15581745', '46', 'F'], dtype='<U32'),\n",
       " array(['1.8366714e-05', '7.533053e-05', '0.0020165883', ...,\n",
       "        '0.012235371', '55', 'F'], dtype='<U32'),\n",
       " array(['9.372735e-07', '1.0492307e-05', '0.000107049804', ...,\n",
       "        '0.12958395', '39', 'F'], dtype='<U32'),\n",
       " array(['7.725506e-07', '1.1159731e-06', '8.9608675e-06', ...,\n",
       "        '0.05913928', '32', 'F'], dtype='<U32'),\n",
       " array(['2.637009e-06', '2.3570126e-06', '0.00026621026', ...,\n",
       "        '0.21647316', '61', 'F'], dtype='<U32'),\n",
       " array(['5.2401097e-05', '1.814691e-05', '0.0010673313', ...,\n",
       "        '0.0072698314', '54', 'M'], dtype='<U32'),\n",
       " array(['8.716917e-07', '1.8649236e-05', '0.00017009351', ...,\n",
       "        '0.004958629', '66', 'F'], dtype='<U32'),\n",
       " array(['1.9350358e-05', '1.903474e-05', '0.00017523496', ...,\n",
       "        '0.02021749', '69', 'F'], dtype='<U32'),\n",
       " array(['9.1281e-06', '0.00018674367', '0.0009262272', ..., '0.020352315',\n",
       "        '35', 'M'], dtype='<U32'),\n",
       " array(['4.047042e-06', '2.2759934e-05', '0.00035946065', ...,\n",
       "        '0.010039928', '41', 'F'], dtype='<U32'),\n",
       " array(['3.7282738e-05', '0.00042600767', '0.0012978965', ...,\n",
       "        '0.008473443', '66', 'M'], dtype='<U32'),\n",
       " array(['8.867841e-06', '1.2491369e-05', '0.0015676476', ...,\n",
       "        '0.039597556', '56', 'F'], dtype='<U32'),\n",
       " array(['1.6125374e-05', '8.355779e-05', '0.0006105327', ...,\n",
       "        '0.0017350826', '32', 'F'], dtype='<U32'),\n",
       " array(['1.9583222e-05', '2.167179e-05', '0.0020513532', ..., '0.12496645',\n",
       "        '52', 'M'], dtype='<U32'),\n",
       " array(['3.8546772e-05', '6.3545212e-06', '0.0014748056', ...,\n",
       "        '0.36221048', '49', 'M'], dtype='<U32'),\n",
       " array(['3.233571e-05', '4.914533e-05', '0.007383187', ..., '0.006942238',\n",
       "        '72', 'F'], dtype='<U32'),\n",
       " array(['9.443787e-05', '8.300675e-05', '0.017133415', ..., '0.21069749',\n",
       "        '53', 'M'], dtype='<U32'),\n",
       " array(['2.9509374e-06', '9.999452e-06', '7.7486184e-05', ...,\n",
       "        '0.021971688', '65', 'F'], dtype='<U32'),\n",
       " array(['6.931887e-06', '5.6600944e-05', '0.0001793531', ...,\n",
       "        '0.009960137', '66', 'M'], dtype='<U32'),\n",
       " array(['1.2275391e-06', '4.0993623e-08', '4.5604743e-06', ...,\n",
       "        '1.9832329e-05', '50', 'F'], dtype='<U32'),\n",
       " array(['3.0791085e-07', '4.6065907e-06', '2.8200655e-05', ...,\n",
       "        '0.0021751581', '54', 'M'], dtype='<U32'),\n",
       " array(['9.26718e-06', '8.841583e-05', '0.0021610742', ..., '0.0104665635',\n",
       "        '62', 'F'], dtype='<U32'),\n",
       " array(['0.00019923216', '5.6129276e-05', '0.017148545', ...,\n",
       "        '0.022852726', '57', 'F'], dtype='<U32'),\n",
       " array(['4.113452e-06', '7.453996e-07', '2.4527304e-05', ..., '0.076941',\n",
       "        '30', 'M'], dtype='<U32'),\n",
       " array(['3.2294374e-06', '5.518084e-06', '4.578583e-05', ..., '0.19468148',\n",
       "        '999', 'M'], dtype='<U32'),\n",
       " array(['1.3981844e-05', '3.2566277e-06', '0.0006791338', ...,\n",
       "        '0.00066919584', '61', 'F'], dtype='<U32'),\n",
       " array(['2.2646561e-06', '1.817082e-06', '0.004646647', ...,\n",
       "        '0.00063008524', '62', 'M'], dtype='<U32'),\n",
       " array(['1.049341e-05', '0.00010225135', '0.00024798326', ..., '0.3023029',\n",
       "        '56', 'M'], dtype='<U32'),\n",
       " array(['1.9394267e-06', '3.5281377e-05', '6.3416664e-05', ...,\n",
       "        '0.024442252', '55', 'M'], dtype='<U32'),\n",
       " array(['6.7495166e-05', '9.918735e-05', '0.0012439067', ..., '0.03000817',\n",
       "        '58', 'F'], dtype='<U32'),\n",
       " array(['7.062757e-07', '1.4001523e-05', '0.0002919816', ..., '0.31162575',\n",
       "        '46', 'F'], dtype='<U32'),\n",
       " array(['8.986675e-06', '2.8591698e-05', '0.00046345018', ...,\n",
       "        '0.0052614566', '75', 'M'], dtype='<U32'),\n",
       " array(['1.6632754e-05', '3.0105593e-05', '0.0015377686', ...,\n",
       "        '0.004621414', '999', 'U'], dtype='<U32'),\n",
       " array(['4.473795e-05', '1.5489859e-05', '0.0005228008', ..., '0.18718155',\n",
       "        '49', 'M'], dtype='<U32'),\n",
       " array(['1.8719116e-05', '9.461436e-05', '0.0021738918', ...,\n",
       "        '0.090126775', '50', 'F'], dtype='<U32'),\n",
       " array(['9.55458e-08', '1.4164866e-06', '4.8573856e-06', ...,\n",
       "        '0.0016708138', '60', 'F'], dtype='<U32'),\n",
       " array(['4.384972e-08', '5.9673255e-07', '1.4169592e-06', ...,\n",
       "        '0.60871977', '43', 'F'], dtype='<U32'),\n",
       " array(['9.818592e-06', '2.0081836e-05', '0.00029446243', ...,\n",
       "        '0.009429486', '57', 'M'], dtype='<U32'),\n",
       " array(['3.0773601e-06', '2.7914824e-05', '0.00047057978', ...,\n",
       "        '0.18057956', '42', 'F'], dtype='<U32'),\n",
       " array(['1.479662e-07', '2.9347615e-07', '2.534377e-06', ..., '0.3146268',\n",
       "        '999', 'F'], dtype='<U32'),\n",
       " array(['2.1548201e-05', '3.586052e-06', '0.00038752766', ...,\n",
       "        '0.08128461', '31', 'M'], dtype='<U32'),\n",
       " array(['1.8616192e-05', '3.3483353e-05', '0.00012302634', ...,\n",
       "        '0.004058501', '33', 'F'], dtype='<U32'),\n",
       " array(['3.0517152e-05', '2.0411933e-05', '0.0008415307', ...,\n",
       "        '0.20617653', '41', 'F'], dtype='<U32'),\n",
       " array(['3.1405948e-06', '1.4762459e-05', '0.00021370684', ...,\n",
       "        '0.18296903', '46', 'F'], dtype='<U32'),\n",
       " array(['1.1457207e-05', '2.4495854e-05', '0.000112433605', ...,\n",
       "        '0.039285854', '999', 'M'], dtype='<U32'),\n",
       " array(['2.6009604e-06', '1.2479956e-05', '1.754342e-05', ...,\n",
       "        '0.25122052', '56', 'M'], dtype='<U32'),\n",
       " array(['4.9286455e-06', '2.8956129e-05', '0.0002261654', ...,\n",
       "        '0.31404975', '33', 'F'], dtype='<U32'),\n",
       " array(['2.4164713e-06', '7.68306e-06', '0.0002148671', ..., '0.12055839',\n",
       "        '34', 'M'], dtype='<U32'),\n",
       " array(['3.9763163e-06', '1.339364e-05', '0.00010429634', ...,\n",
       "        '0.022997359', '40', 'F'], dtype='<U32'),\n",
       " array(['9.178075e-06', '1.5212305e-05', '0.00028579452', ...,\n",
       "        '0.04762395', '999', 'F'], dtype='<U32'),\n",
       " array(['4.7902417e-06', '5.5561522e-06', '0.0013818328', ...,\n",
       "        '0.0025886009', '48', 'M'], dtype='<U32'),\n",
       " array(['4.3501936e-06', '3.8337545e-05', '0.00073299586', ...,\n",
       "        '0.14827865', '999', 'U'], dtype='<U32'),\n",
       " array(['1.7309992e-05', '4.9662467e-05', '0.000273808', ..., '0.06829271',\n",
       "        '40', 'M'], dtype='<U32'),\n",
       " array(['4.428161e-06', '9.538393e-06', '0.0001980163', ..., '0.012303535',\n",
       "        '41', 'F'], dtype='<U32'),\n",
       " array(['2.734527e-05', '1.9312793e-05', '0.0005772147', ...,\n",
       "        '0.025799712', '62', 'F'], dtype='<U32'),\n",
       " array(['1.6019663e-05', '3.0480523e-06', '0.0018411075', ..., '0.1414011',\n",
       "        '31', 'M'], dtype='<U32'),\n",
       " array(['2.168406e-05', '9.790274e-06', '0.0008821442', ..., '0.17572233',\n",
       "        '54', 'F'], dtype='<U32'),\n",
       " array(['5.051426e-06', '1.24490025e-05', '7.613164e-05', ...,\n",
       "        '0.07153028', '70', 'M'], dtype='<U32'),\n",
       " array(['4.3175887e-06', '1.1948448e-05', '7.27696e-05', ...,\n",
       "        '0.019022567', '54', 'M'], dtype='<U32'),\n",
       " array(['1.2432055e-05', '3.4057546e-05', '0.00017559032', ...,\n",
       "        '0.21373448', '49', 'M'], dtype='<U32'),\n",
       " array(['1.534554e-05', '3.292195e-05', '0.00079072797', ..., '0.06905731',\n",
       "        '29', 'M'], dtype='<U32'),\n",
       " array(['8.154373e-06', '0.00025414187', '0.00022353299', ...,\n",
       "        '0.0115838945', '72', 'F'], dtype='<U32'),\n",
       " array(['6.1281767e-06', '2.9197501e-05', '0.0003674442', ...,\n",
       "        '0.0025445744', '64', 'F'], dtype='<U32'),\n",
       " array(['4.9583373e-06', '2.7599921e-05', '2.0134174e-05', ...,\n",
       "        '0.043508407', '45', 'M'], dtype='<U32'),\n",
       " array(['2.9474279e-05', '2.5550538e-05', '0.0007822761', ...,\n",
       "        '0.015533683', '999', 'U'], dtype='<U32'),\n",
       " array(['1.9366362e-05', '4.4678645e-06', '0.00085335644', ...,\n",
       "        '0.41637832', '49', 'M'], dtype='<U32'),\n",
       " array(['1.16300425e-05', '2.4336883e-05', '0.00018107235', ...,\n",
       "        '0.09217695', '61', 'M'], dtype='<U32'),\n",
       " array(['1.0728776e-06', '5.4268717e-06', '0.00010436077', ...,\n",
       "        '0.042394124', '55', 'F'], dtype='<U32'),\n",
       " array(['9.562904e-07', '2.3164453e-06', '0.00013106171', ...,\n",
       "        '0.04132221', '64', 'F'], dtype='<U32'),\n",
       " array(['1.706986e-05', '3.142036e-05', '0.006530359', ..., '0.016557606',\n",
       "        '37', 'M'], dtype='<U32'),\n",
       " array(['7.565298e-05', '9.796508e-05', '0.0005979496', ..., '0.01202901',\n",
       "        '54', 'F'], dtype='<U32'),\n",
       " array(['9.129964e-06', '7.29941e-06', '4.449201e-05', ..., '0.037216507',\n",
       "        '60', 'F'], dtype='<U32'),\n",
       " array(['7.8336634e-05', '3.4270473e-05', '0.0008327471', ...,\n",
       "        '0.05497497', '45', 'M'], dtype='<U32'),\n",
       " array(['4.518388e-05', '0.0001516417', '0.009078956', ..., '0.021518456',\n",
       "        '64', 'F'], dtype='<U32'),\n",
       " array(['2.868563e-05', '1.03747925e-05', '0.00029124043', ...,\n",
       "        '0.049052432', '42', 'M'], dtype='<U32'),\n",
       " array(['3.7015166e-06', '4.5347e-05', '8.8996414e-05', ..., '0.024541024',\n",
       "        '46', 'M'], dtype='<U32'),\n",
       " array(['1.1728356e-05', '2.973936e-05', '0.000483299', ..., '0.11492662',\n",
       "        '73', 'M'], dtype='<U32'),\n",
       " array(['1.7061453e-06', '2.7969789e-05', '0.00055999256', ...,\n",
       "        '0.0019144494', '46', 'M'], dtype='<U32'),\n",
       " array(['6.955804e-06', '9.9662475e-06', '0.00044928447', ...,\n",
       "        '0.08195066', '49', 'M'], dtype='<U32'),\n",
       " array(['8.361826e-06', '2.1702924e-06', '4.4899974e-05', ...,\n",
       "        '0.0028209314', '34', 'F'], dtype='<U32'),\n",
       " array(['6.734191e-05', '7.202426e-06', '0.0010198863', ..., '0.120792456',\n",
       "        '999', 'U'], dtype='<U32'),\n",
       " array(['1.0921374e-06', '3.187432e-05', '8.998443e-05', ...,\n",
       "        '0.0041796337', '70', 'M'], dtype='<U32'),\n",
       " array(['1.9407556e-05', '0.00029817637', '5.9365997e-05', ...,\n",
       "        '0.006644189', '40', 'M'], dtype='<U32'),\n",
       " array(['7.2882867e-06', '1.674339e-06', '0.0004936113', ...,\n",
       "        '0.023233011', '36', 'M'], dtype='<U32'),\n",
       " array(['1.8220553e-06', '2.0680773e-05', '0.00022112147', ...,\n",
       "        '0.0206012', '60', 'F'], dtype='<U32'),\n",
       " array(['1.2858122e-05', '7.020812e-06', '0.0004262454', ..., '0.10541811',\n",
       "        '53', 'F'], dtype='<U32'),\n",
       " array(['4.921796e-06', '1.1977411e-05', '0.00031368388', ...,\n",
       "        '0.010407923', '51', 'M'], dtype='<U32'),\n",
       " array(['7.5057806e-06', '8.2383e-06', '9.149757e-05', ..., '0.053691324',\n",
       "        '40', 'F'], dtype='<U32'),\n",
       " array(['4.4997345e-05', '3.4476947e-05', '0.00018924591', ...,\n",
       "        '0.007133122', '51', 'M'], dtype='<U32'),\n",
       " array(['0.00015063812', '0.00013303243', '0.0025602523', ...,\n",
       "        '0.01985671', '30', 'F'], dtype='<U32'),\n",
       " array(['3.4411617e-06', '1.0554245e-05', '9.4847084e-05', ...,\n",
       "        '0.0001432334', '33', 'F'], dtype='<U32'),\n",
       " array(['3.3476338e-06', '6.0471048e-06', '0.0011145801', ...,\n",
       "        '0.21943742', '61', 'F'], dtype='<U32'),\n",
       " array(['9.969842e-06', '3.7593294e-05', '0.00020857934', ...,\n",
       "        '0.017727265', '46', 'M'], dtype='<U32')]"
      ]
     },
     "execution_count": 4,
     "metadata": {},
     "output_type": "execute_result"
    }
   ],
   "source": [
    "sin_imagen_arr"
   ]
  },
  {
   "cell_type": "code",
   "execution_count": 6,
   "id": "d52aa240",
   "metadata": {},
   "outputs": [
    {
     "data": {
      "application/javascript": [
       "\n",
       "        if (window._pyforest_update_imports_cell) { window._pyforest_update_imports_cell('import pandas as pd\\nimport pickle'); }\n",
       "    "
      ],
      "text/plain": [
       "<IPython.core.display.Javascript object>"
      ]
     },
     "metadata": {},
     "output_type": "display_data"
    }
   ],
   "source": [
    "df = pd.DataFrame(\n",
    "    columns= range(0,len(sin_imagen_arr[0])),\n",
    "    index= range(0,len(sin_imagen_arr)))"
   ]
  },
  {
   "cell_type": "code",
   "execution_count": 7,
   "id": "26fff585",
   "metadata": {},
   "outputs": [],
   "source": [
    "pos = -1\n",
    "for i in sin_imagen_arr:\n",
    "    pos += 1\n",
    "    col = 0\n",
    "    for j in i:\n",
    "        df.iloc[pos,col] = j\n",
    "        col += 1"
   ]
  },
  {
   "cell_type": "code",
   "execution_count": 8,
   "id": "a7a7eebd",
   "metadata": {},
   "outputs": [],
   "source": [
    "df['Target'] = 0"
   ]
  },
  {
   "cell_type": "code",
   "execution_count": 9,
   "id": "a48b8933",
   "metadata": {},
   "outputs": [
    {
     "data": {
      "application/javascript": [
       "\n",
       "        if (window._pyforest_update_imports_cell) { window._pyforest_update_imports_cell('import pandas as pd\\nimport pickle'); }\n",
       "    "
      ],
      "text/plain": [
       "<IPython.core.display.Javascript object>"
      ]
     },
     "metadata": {},
     "output_type": "display_data"
    }
   ],
   "source": [
    "con_imagen_arr = pickle.load(open('../Image_preprocessing/con_imagen_crop.txt','rb'))"
   ]
  },
  {
   "cell_type": "code",
   "execution_count": 11,
   "id": "13c5aa2e",
   "metadata": {},
   "outputs": [
    {
     "data": {
      "application/javascript": [
       "\n",
       "        if (window._pyforest_update_imports_cell) { window._pyforest_update_imports_cell('import pandas as pd\\nimport pickle'); }\n",
       "    "
      ],
      "text/plain": [
       "<IPython.core.display.Javascript object>"
      ]
     },
     "metadata": {},
     "output_type": "display_data"
    }
   ],
   "source": [
    "df_c = pd.DataFrame(\n",
    "    columns= range(0,len(con_imagen_arr[0])),\n",
    "    index= range(0,len(con_imagen_arr)))"
   ]
  },
  {
   "cell_type": "code",
   "execution_count": 12,
   "id": "74688fa1",
   "metadata": {},
   "outputs": [],
   "source": [
    "pos = -1\n",
    "for i in con_imagen_arr:\n",
    "    pos += 1\n",
    "    col = 0\n",
    "    for j in i:\n",
    "        df_c.iloc[pos,col] = j\n",
    "        col += 1 "
   ]
  },
  {
   "cell_type": "code",
   "execution_count": 13,
   "id": "80cf22b4",
   "metadata": {},
   "outputs": [],
   "source": [
    "df_c['Target'] = 1"
   ]
  },
  {
   "cell_type": "code",
   "execution_count": 14,
   "id": "c14909d4",
   "metadata": {},
   "outputs": [
    {
     "data": {
      "application/javascript": [
       "\n",
       "        if (window._pyforest_update_imports_cell) { window._pyforest_update_imports_cell('import pandas as pd\\nimport pickle'); }\n",
       "    "
      ],
      "text/plain": [
       "<IPython.core.display.Javascript object>"
      ]
     },
     "metadata": {},
     "output_type": "display_data"
    }
   ],
   "source": [
    "df_final = pd.concat([df,df_c])"
   ]
  },
  {
   "cell_type": "code",
   "execution_count": 15,
   "id": "8336a6f2",
   "metadata": {},
   "outputs": [],
   "source": [
    "df_final.to_csv('df_cropped.csv')"
   ]
  },
  {
   "cell_type": "code",
   "execution_count": null,
   "id": "63c9e10e",
   "metadata": {},
   "outputs": [],
   "source": []
  }
 ],
 "metadata": {
  "kernelspec": {
   "display_name": "Python 3 (ipykernel)",
   "language": "python",
   "name": "python3"
  },
  "language_info": {
   "codemirror_mode": {
    "name": "ipython",
    "version": 3
   },
   "file_extension": ".py",
   "mimetype": "text/x-python",
   "name": "python",
   "nbconvert_exporter": "python",
   "pygments_lexer": "ipython3",
   "version": "3.9.7"
  }
 },
 "nbformat": 4,
 "nbformat_minor": 5
}
